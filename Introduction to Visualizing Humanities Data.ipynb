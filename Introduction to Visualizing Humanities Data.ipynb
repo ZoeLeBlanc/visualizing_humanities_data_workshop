{
 "cells": [
  {
   "cell_type": "markdown",
   "id": "3fbff75b",
   "metadata": {},
   "source": [
    "## Introduction to Visualizing Humanities Data"
   ]
  },
  {
   "cell_type": "markdown",
   "id": "09050d5b",
   "metadata": {},
   "source": [
    "Welcome to our first notebook 🥳✨! \n",
    "\n",
    "In this notebook, we'll be working through the basics of Altair, a declarative visualization library in Python, and also doing a brief refresher on Pandas for data manipulation."
   ]
  },
  {
   "cell_type": "markdown",
   "id": "ff4062c2",
   "metadata": {},
   "source": [
    "### Let's make a chart!"
   ]
  },
  {
   "cell_type": "markdown",
   "id": "7fa2a1b0",
   "metadata": {},
   "source": [
    "What's the first step in any notebook or Python script? Import your modules! Today we'll be using three libraries, [Pandas](https://pandas.pydata.org/), [Altair](https://altair-viz.github.io/index.html), and [Vega Datasets](https://github.com/vega/vega-datasets)"
   ]
  },
  {
   "cell_type": "code",
   "execution_count": 43,
   "id": "c9282c47",
   "metadata": {},
   "outputs": [],
   "source": [
    "import pandas as pd\n",
    "import altair as alt\n",
    "from vega_datasets import data as vega_data"
   ]
  },
  {
   "cell_type": "markdown",
   "id": "5994418b",
   "metadata": {},
   "source": [
    "We're going to jump in quickly but if you ever get a bit lost please don't hesistate to speak up in the chat or refer back to Melanie Walsh's Pandas workshop from last week [https://github.com/melaniewalsh/Data-Analysis-with-Pandas](https://github.com/melaniewalsh/Data-Analysis-with-Pandas)\n",
    "\n",
    "To build from Melanie's workshop we're going to start by recreating one of her graphs into Altair."
   ]
  },
  {
   "cell_type": "code",
   "execution_count": 67,
   "id": "a5c59e01",
   "metadata": {},
   "outputs": [],
   "source": [
    "# Let's load in the Seattle Circulation data from Melanie's workshop\n",
    "seattle_df = pd.read_csv('Seattle-Library_2015-2021.csv', delimiter=\",\", encoding=\"utf-8\")"
   ]
  },
  {
   "cell_type": "markdown",
   "id": "ad62e16b",
   "metadata": {},
   "source": [
    "** QUICK QUESTION** how can we see what is inside this dataset?"
   ]
  },
  {
   "cell_type": "code",
   "execution_count": 68,
   "id": "a7917b6d",
   "metadata": {},
   "outputs": [],
   "source": [
    "### CODE FOR INSPECTING DATA GOES HERE *hint* think of heads and tails 😅\n",
    "seattle_df.head()"
   ]
  },
  {
   "cell_type": "code",
   "execution_count": 69,
   "id": "502f5051",
   "metadata": {},
   "outputs": [
    {
     "data": {
      "text/plain": [
       "<AxesSubplot:>"
      ]
     },
     "execution_count": 69,
     "metadata": {},
     "output_type": "execute_result"
    },
    {
     "data": {
      "image/png": "[encoded data removed]",
      "text/plain": [
       "<Figure size 432x288 with 1 Axes>"
      ]
     },
     "metadata": {
      "needs_background": "light"
     },
     "output_type": "display_data"
    }
   ],
   "source": [
    "# Let's remake this graph\n",
    "seattle_df['MaterialType'].value_counts().plot(kind='bar')"
   ]
  },
  {
   "cell_type": "markdown",
   "id": "3d7cea78",
   "metadata": {},
   "source": [
    "Worth noting that this is a perfectly great graph and it doesn't use Altair. You can read more about how Pandas creates plots here ([https://pandas.pydata.org/pandas-docs/stable/reference/api/pandas.DataFrame.plot.html](https://pandas.pydata.org/pandas-docs/stable/reference/api/pandas.DataFrame.plot.html) and for reference Pandas uses Matplotlib - remember spectrum of tools!) but let's also think what we want to visualize that is missing in this graph."
   ]
  },
  {
   "cell_type": "markdown",
   "id": "93073d44",
   "metadata": {},
   "source": [
    "So first thing is identify the type of chart (helpfully included with `kind='bar'`) and then look at how Altair creates bar charts. If you go to Altair's example gallery [https://altair-viz.github.io/gallery/index.html](https://altair-viz.github.io/gallery/index.html), you'll see that the first example is a simple bar chart [https://altair-viz.github.io/gallery/simple_bar_chart.html](https://altair-viz.github.io/gallery/simple_bar_chart.html) and I've copied the code below. "
   ]
  },
  {
   "cell_type": "code",
   "execution_count": 70,
   "id": "10aaedac",
   "metadata": {},
   "outputs": [
    {
     "data": {
      "text/html": [
       "\n",
       "<div id=\"altair-viz-12f75b4349b0488888d240570463ea80\"></div>\n",
       "<script type=\"text/javascript\">\n",
       "  (function(spec, embedOpt){\n",
       "    let outputDiv = document.currentScript.previousElementSibling;\n",
       "    if (outputDiv.id !== \"altair-viz-12f75b4349b0488888d240570463ea80\") {\n",
       "      outputDiv = document.getElementById(\"altair-viz-12f75b4349b0488888d240570463ea80\");\n",
       "    }\n",
       "    const paths = {\n",
       "      \"vega\": \"https://cdn.jsdelivr.net/npm//vega@5?noext\",\n",
       "      \"vega-lib\": \"https://cdn.jsdelivr.net/npm//vega-lib?noext\",\n",
       "      \"vega-lite\": \"https://cdn.jsdelivr.net/npm//vega-lite@4.8.1?noext\",\n",
       "      \"vega-embed\": \"https://cdn.jsdelivr.net/npm//vega-embed@6?noext\",\n",
       "    };\n",
       "\n",
       "    function loadScript(lib) {\n",
       "      return new Promise(function(resolve, reject) {\n",
       "        var s = document.createElement('script');\n",
       "        s.src = paths[lib];\n",
       "        s.async = true;\n",
       "        s.onload = () => resolve(paths[lib]);\n",
       "        s.onerror = () => reject(`Error loading script: ${paths[lib]}`);\n",
       "        document.getElementsByTagName(\"head\")[0].appendChild(s);\n",
       "      });\n",
       "    }\n",
       "\n",
       "    function showError(err) {\n",
       "      outputDiv.innerHTML = `<div class=\"error\" style=\"color:red;\">${err}</div>`;\n",
       "      throw err;\n",
       "    }\n",
       "\n",
       "    function displayChart(vegaEmbed) {\n",
       "      vegaEmbed(outputDiv, spec, embedOpt)\n",
       "        .catch(err => showError(`Javascript Error: ${err.message}<br>This usually means there's a typo in your chart specification. See the javascript console for the full traceback.`));\n",
       "    }\n",
       "\n",
       "    if(typeof define === \"function\" && define.amd) {\n",
       "      requirejs.config({paths});\n",
       "      require([\"vega-embed\"], displayChart, err => showError(`Error loading script: ${err.message}`));\n",
       "    } else if (typeof vegaEmbed === \"function\") {\n",
       "      displayChart(vegaEmbed);\n",
       "    } else {\n",
       "      loadScript(\"vega\")\n",
       "        .then(() => loadScript(\"vega-lite\"))\n",
       "        .then(() => loadScript(\"vega-embed\"))\n",
       "        .catch(showError)\n",
       "        .then(() => displayChart(vegaEmbed));\n",
       "    }\n",
       "  })({\"config\": {\"view\": {\"continuousWidth\": 400, \"continuousHeight\": 300}}, \"data\": {\"name\": \"data-c2a3e89ba9d5d1687d5e8c28d630a033\"}, \"mark\": \"bar\", \"encoding\": {\"x\": {\"type\": \"nominal\", \"field\": \"a\"}, \"y\": {\"type\": \"quantitative\", \"field\": \"b\"}}, \"$schema\": \"https://vega.github.io/schema/vega-lite/v4.8.1.json\", \"datasets\": {\"data-c2a3e89ba9d5d1687d5e8c28d630a033\": [{\"a\": \"A\", \"b\": 28}, {\"a\": \"B\", \"b\": 55}, {\"a\": \"C\", \"b\": 43}, {\"a\": \"D\", \"b\": 91}, {\"a\": \"E\", \"b\": 81}, {\"a\": \"F\", \"b\": 53}, {\"a\": \"G\", \"b\": 19}, {\"a\": \"H\", \"b\": 87}, {\"a\": \"I\", \"b\": 52}]}}, {\"mode\": \"vega-lite\"});\n",
       "</script>"
      ],
      "text/plain": [
       "alt.Chart(...)"
      ]
     },
     "execution_count": 70,
     "metadata": {},
     "output_type": "execute_result"
    }
   ],
   "source": [
    "source = pd.DataFrame({\n",
    "    'a': ['A', 'B', 'C', 'D', 'E', 'F', 'G', 'H', 'I'],\n",
    "    'b': [28, 55, 43, 91, 81, 53, 19, 87, 52]\n",
    "})\n",
    "\n",
    "alt.Chart(source).mark_bar().encode(\n",
    "    x='a',\n",
    "    y='b'\n",
    ")"
   ]
  },
  {
   "cell_type": "markdown",
   "id": "5c7e9a0b",
   "metadata": {},
   "source": [
    "You should now see the following graph:\n",
    "![bar_chart](images/bar_chart.png)"
   ]
  },
  {
   "cell_type": "markdown",
   "id": "44a6cab4",
   "metadata": {},
   "source": [
    "If you don't you might either need to enable altair to work in your notebook (follow instructions here [https://altair-viz.github.io/user_guide/display_frontends.html#displaying-in-the-jupyter-notebook](https://altair-viz.github.io/user_guide/display_frontends.html#displaying-in-the-jupyter-notebook)) or set the kernel of your notebook if you are running locally [https://stackoverflow.com/questions/28831854/how-do-i-add-python3-kernel-to-jupyter-ipython](https://stackoverflow.com/questions/28831854/how-do-i-add-python3-kernel-to-jupyter-ipython) or set the vega extension with following:\n",
    "\n",
    "```sh\n",
    "jupyter nbextension install --sys-prefix --py vega\n",
    "```\n",
    "I know this seems like a lot of troubleshooting but fingers crossed, hopefully none of us need it!"
   ]
  },
  {
   "cell_type": "markdown",
   "id": "bd383871",
   "metadata": {},
   "source": [
    "*So let's breakdown what we're doing here*\n",
    "\n",
    "First we are specifying a new `Chart` class. In Altair, there are a number of Chart types that we'll delve into later but it essentially is the basic class we'll be working with.\n",
    "![chart_types](images/chart_types.png)\n",
    "\n",
    "We pass our data to the `Chart` and then specify the type of `mark` we are using (in our case we are using `mark_bar()` to make bars). In Altair, we can use all types of marks to represent our data [https://altair-viz.github.io/user_guide/marks.html](https://altair-viz.github.io/user_guide/marks.html). \n",
    "\n",
    "![marks](https://res.cloudinary.com/dyd911kmh/image/upload/f_auto,q_auto:best/v1587438135/mark_properties_qyymyh.png)\n",
    "\n",
    "Finally we are using something called encoding to tell Altair what variables we want to represent on the `x` and `y` axis. Altair has many fields for encoding [https://altair-viz.github.io/user_guide/encoding.html](https://altair-viz.github.io/user_guide/encoding.html) that we'll explore over this week (as well what we even mean by encoding)"
   ]
  },
  {
   "cell_type": "markdown",
   "id": "2cf459a1",
   "metadata": {},
   "source": [
    "So first we need to figure out what exactly Melanie graphed, how would you describe what's in her bar chart? What is on the `x` and `y` axis? Is she specifying color? (here it is again for refresher 👇🏽)"
   ]
  },
  {
   "cell_type": "code",
   "execution_count": 82,
   "id": "99ad2ee3",
   "metadata": {},
   "outputs": [
    {
     "data": {
      "text/plain": [
       "<AxesSubplot:>"
      ]
     },
     "execution_count": 82,
     "metadata": {},
     "output_type": "execute_result"
    },
    {
     "data": {
      "image/png": "[encoded data removed]",
      "text/plain": [
       "<Figure size 432x288 with 1 Axes>"
      ]
     },
     "metadata": {
      "needs_background": "light"
     },
     "output_type": "display_data"
    }
   ],
   "source": [
    "seattle_df['MaterialType'].value_counts().plot(kind='bar')"
   ]
  },
  {
   "cell_type": "markdown",
   "id": "4d50934a",
   "metadata": {},
   "source": [
    "To put it in plain language, it seems like she's selecting the column `MaterialType`, which contains a list of categories, and then graphing their values. If we understand what's being graphed, then the next step is to look at how the data is formatted, so let's explore the output of `value_counts` (for reference here is the documentation in the Pandas API [https://pandas.pydata.org/pandas-docs/stable/reference/api/pandas.Series.value_counts.html](https://pandas.pydata.org/pandas-docs/stable/reference/api/pandas.Series.value_counts.html))."
   ]
  },
  {
   "cell_type": "code",
   "execution_count": 80,
   "id": "fd7b824c",
   "metadata": {},
   "outputs": [
    {
     "data": {
      "text/plain": [
       "BOOK                    102076\n",
       "VIDEODISC                74473\n",
       "EBOOK                    57299\n",
       "AUDIOBOOK                34542\n",
       "SOUNDDISC                 6593\n",
       "MAGAZINE                  4197\n",
       "SONG                       975\n",
       "MOVIE                      596\n",
       "REGPRINT                   447\n",
       "MUSIC                      382\n",
       "MIXED                      195\n",
       "CR                         112\n",
       "SOUNDDISC, VIDEODISC        89\n",
       "COMIC                       83\n",
       "SOUNDREC                    82\n",
       "TELEVISION                  39\n",
       "ER                          34\n",
       "VISUAL                      31\n",
       "LARGEPRINT                  19\n",
       "ER, SOUNDDISC               10\n",
       "ER, VIDEODISC                9\n",
       "VIDEOREC                     2\n",
       "UNSPECIFIED                  2\n",
       "Name: MaterialType, dtype: int64"
      ]
     },
     "execution_count": 80,
     "metadata": {},
     "output_type": "execute_result"
    }
   ],
   "source": [
    "seattle_df['MaterialType'].value_counts()"
   ]
  },
  {
   "cell_type": "markdown",
   "id": "1650f193",
   "metadata": {},
   "source": [
    "Seems like `value_counts` is literally doing what it says - counting values of each type. How else might we do this in Pandas?? And can we pass this data to Altair's `Chart` class?"
   ]
  },
  {
   "cell_type": "code",
   "execution_count": 84,
   "id": "2c5b21a3",
   "metadata": {},
   "outputs": [],
   "source": [
    "### Place for us try and experiment with some alternates to value_counts\n",
    "alt.Chart(seattle_df['MaterialType'].value_counts()).mark_bar()"
   ]
  },
  {
   "cell_type": "markdown",
   "id": "f8fb3674",
   "metadata": {},
   "source": [
    "Let's try passing in value_counts to Altair like so:\n",
    "```\n",
    "alt.Chart(seattle_df['MaterialType'].value_counts())\n",
    "```\n",
    "But what is missing from this code? (scroll above to think it through)"
   ]
  },
  {
   "cell_type": "markdown",
   "id": "05fc5365",
   "metadata": {},
   "source": [
    "Cue Jeopardy Music to give us time to work through this problem without seeing the solution 😂\n",
    "![](https://www.liveabout.com/thmb/-1IkuMGHyqL3eNeZ04ep70HVCPo=/1920x1080/filters:fill(auto,1)/jeop_logo_large-58bacf375f9b58af5cb69e2f.jpg)"
   ]
  },
  {
   "cell_type": "markdown",
   "id": "ea1a888b",
   "metadata": {},
   "source": [
    "Ok hopefully we've figured out there's a few things missing. First we need to tell Altair what type of mark we want in this case `mark_bar` and `value_counts` only returns a Series, whereas Altair expects a dataframe (it does accept lots of other data types, which you can read about here [https://altair-viz.github.io/user_guide/data.html](https://altair-viz.github.io/user_guide/data.html). "
   ]
  },
  {
   "cell_type": "code",
   "execution_count": 90,
   "id": "a842fc53",
   "metadata": {},
   "outputs": [
    {
     "data": {
      "text/plain": [
       "pandas.core.series.Series"
      ]
     },
     "execution_count": 90,
     "metadata": {},
     "output_type": "execute_result"
    }
   ],
   "source": [
    "type(seattle_df['MaterialType'].value_counts())"
   ]
  },
  {
   "cell_type": "markdown",
   "id": "548d8e0c",
   "metadata": {},
   "source": [
    "So how can we turn `value_counts` into a dataframe again? Let's look below!"
   ]
  },
  {
   "cell_type": "code",
   "execution_count": 91,
   "id": "bcd8a940",
   "metadata": {},
   "outputs": [
    {
     "data": {
      "text/html": [
       "<div>\n",
       "<style scoped>\n",
       "    .dataframe tbody tr th:only-of-type {\n",
       "        vertical-align: middle;\n",
       "    }\n",
       "\n",
       "    .dataframe tbody tr th {\n",
       "        vertical-align: top;\n",
       "    }\n",
       "\n",
       "    .dataframe thead th {\n",
       "        text-align: right;\n",
       "    }\n",
       "</style>\n",
       "<table border=\"1\" class=\"dataframe\">\n",
       "  <thead>\n",
       "    <tr style=\"text-align: right;\">\n",
       "      <th></th>\n",
       "      <th>MaterialType</th>\n",
       "      <th>counts</th>\n",
       "    </tr>\n",
       "  </thead>\n",
       "  <tbody>\n",
       "    <tr>\n",
       "      <th>0</th>\n",
       "      <td>BOOK</td>\n",
       "      <td>102076</td>\n",
       "    </tr>\n",
       "    <tr>\n",
       "      <th>1</th>\n",
       "      <td>VIDEODISC</td>\n",
       "      <td>74473</td>\n",
       "    </tr>\n",
       "    <tr>\n",
       "      <th>2</th>\n",
       "      <td>EBOOK</td>\n",
       "      <td>57299</td>\n",
       "    </tr>\n",
       "    <tr>\n",
       "      <th>3</th>\n",
       "      <td>AUDIOBOOK</td>\n",
       "      <td>34542</td>\n",
       "    </tr>\n",
       "    <tr>\n",
       "      <th>4</th>\n",
       "      <td>SOUNDDISC</td>\n",
       "      <td>6593</td>\n",
       "    </tr>\n",
       "    <tr>\n",
       "      <th>5</th>\n",
       "      <td>MAGAZINE</td>\n",
       "      <td>4197</td>\n",
       "    </tr>\n",
       "    <tr>\n",
       "      <th>6</th>\n",
       "      <td>SONG</td>\n",
       "      <td>975</td>\n",
       "    </tr>\n",
       "    <tr>\n",
       "      <th>7</th>\n",
       "      <td>MOVIE</td>\n",
       "      <td>596</td>\n",
       "    </tr>\n",
       "    <tr>\n",
       "      <th>8</th>\n",
       "      <td>REGPRINT</td>\n",
       "      <td>447</td>\n",
       "    </tr>\n",
       "    <tr>\n",
       "      <th>9</th>\n",
       "      <td>MUSIC</td>\n",
       "      <td>382</td>\n",
       "    </tr>\n",
       "    <tr>\n",
       "      <th>10</th>\n",
       "      <td>MIXED</td>\n",
       "      <td>195</td>\n",
       "    </tr>\n",
       "    <tr>\n",
       "      <th>11</th>\n",
       "      <td>CR</td>\n",
       "      <td>112</td>\n",
       "    </tr>\n",
       "    <tr>\n",
       "      <th>12</th>\n",
       "      <td>SOUNDDISC, VIDEODISC</td>\n",
       "      <td>89</td>\n",
       "    </tr>\n",
       "    <tr>\n",
       "      <th>13</th>\n",
       "      <td>COMIC</td>\n",
       "      <td>83</td>\n",
       "    </tr>\n",
       "    <tr>\n",
       "      <th>14</th>\n",
       "      <td>SOUNDREC</td>\n",
       "      <td>82</td>\n",
       "    </tr>\n",
       "    <tr>\n",
       "      <th>15</th>\n",
       "      <td>TELEVISION</td>\n",
       "      <td>39</td>\n",
       "    </tr>\n",
       "    <tr>\n",
       "      <th>16</th>\n",
       "      <td>ER</td>\n",
       "      <td>34</td>\n",
       "    </tr>\n",
       "    <tr>\n",
       "      <th>17</th>\n",
       "      <td>VISUAL</td>\n",
       "      <td>31</td>\n",
       "    </tr>\n",
       "    <tr>\n",
       "      <th>18</th>\n",
       "      <td>LARGEPRINT</td>\n",
       "      <td>19</td>\n",
       "    </tr>\n",
       "    <tr>\n",
       "      <th>19</th>\n",
       "      <td>ER, SOUNDDISC</td>\n",
       "      <td>10</td>\n",
       "    </tr>\n",
       "    <tr>\n",
       "      <th>20</th>\n",
       "      <td>ER, VIDEODISC</td>\n",
       "      <td>9</td>\n",
       "    </tr>\n",
       "    <tr>\n",
       "      <th>21</th>\n",
       "      <td>VIDEOREC</td>\n",
       "      <td>2</td>\n",
       "    </tr>\n",
       "    <tr>\n",
       "      <th>22</th>\n",
       "      <td>UNSPECIFIED</td>\n",
       "      <td>2</td>\n",
       "    </tr>\n",
       "  </tbody>\n",
       "</table>\n",
       "</div>"
      ],
      "text/plain": [
       "            MaterialType  counts\n",
       "0                   BOOK  102076\n",
       "1              VIDEODISC   74473\n",
       "2                  EBOOK   57299\n",
       "3              AUDIOBOOK   34542\n",
       "4              SOUNDDISC    6593\n",
       "5               MAGAZINE    4197\n",
       "6                   SONG     975\n",
       "7                  MOVIE     596\n",
       "8               REGPRINT     447\n",
       "9                  MUSIC     382\n",
       "10                 MIXED     195\n",
       "11                    CR     112\n",
       "12  SOUNDDISC, VIDEODISC      89\n",
       "13                 COMIC      83\n",
       "14              SOUNDREC      82\n",
       "15            TELEVISION      39\n",
       "16                    ER      34\n",
       "17                VISUAL      31\n",
       "18            LARGEPRINT      19\n",
       "19         ER, SOUNDDISC      10\n",
       "20         ER, VIDEODISC       9\n",
       "21              VIDEOREC       2\n",
       "22           UNSPECIFIED       2"
      ]
     },
     "execution_count": 91,
     "metadata": {},
     "output_type": "execute_result"
    }
   ],
   "source": [
    "# ## https://stackoverflow.com/questions/47136436/python-pandas-convert-value-counts-output-to-dataframe/47136484\n",
    "seattle_df['MaterialType'].value_counts().rename_axis('MaterialType').reset_index(name='counts')"
   ]
  },
  {
   "cell_type": "markdown",
   "id": "ad976268",
   "metadata": {},
   "source": [
    "So we now have this data in a dataframe that can be passed to Altair so let's try it out!"
   ]
  },
  {
   "cell_type": "code",
   "execution_count": 166,
   "id": "e728a1f1",
   "metadata": {},
   "outputs": [
    {
     "data": {
      "text/html": [
       "\n",
       "<div id=\"altair-viz-c61d49aa2db34f0abbedfcb601f62b36\"></div>\n",
       "<script type=\"text/javascript\">\n",
       "  (function(spec, embedOpt){\n",
       "    let outputDiv = document.currentScript.previousElementSibling;\n",
       "    if (outputDiv.id !== \"altair-viz-c61d49aa2db34f0abbedfcb601f62b36\") {\n",
       "      outputDiv = document.getElementById(\"altair-viz-c61d49aa2db34f0abbedfcb601f62b36\");\n",
       "    }\n",
       "    const paths = {\n",
       "      \"vega\": \"https://cdn.jsdelivr.net/npm//vega@5?noext\",\n",
       "      \"vega-lib\": \"https://cdn.jsdelivr.net/npm//vega-lib?noext\",\n",
       "      \"vega-lite\": \"https://cdn.jsdelivr.net/npm//vega-lite@4.8.1?noext\",\n",
       "      \"vega-embed\": \"https://cdn.jsdelivr.net/npm//vega-embed@6?noext\",\n",
       "    };\n",
       "\n",
       "    function loadScript(lib) {\n",
       "      return new Promise(function(resolve, reject) {\n",
       "        var s = document.createElement('script');\n",
       "        s.src = paths[lib];\n",
       "        s.async = true;\n",
       "        s.onload = () => resolve(paths[lib]);\n",
       "        s.onerror = () => reject(`Error loading script: ${paths[lib]}`);\n",
       "        document.getElementsByTagName(\"head\")[0].appendChild(s);\n",
       "      });\n",
       "    }\n",
       "\n",
       "    function showError(err) {\n",
       "      outputDiv.innerHTML = `<div class=\"error\" style=\"color:red;\">${err}</div>`;\n",
       "      throw err;\n",
       "    }\n",
       "\n",
       "    function displayChart(vegaEmbed) {\n",
       "      vegaEmbed(outputDiv, spec, embedOpt)\n",
       "        .catch(err => showError(`Javascript Error: ${err.message}<br>This usually means there's a typo in your chart specification. See the javascript console for the full traceback.`));\n",
       "    }\n",
       "\n",
       "    if(typeof define === \"function\" && define.amd) {\n",
       "      requirejs.config({paths});\n",
       "      require([\"vega-embed\"], displayChart, err => showError(`Error loading script: ${err.message}`));\n",
       "    } else if (typeof vegaEmbed === \"function\") {\n",
       "      displayChart(vegaEmbed);\n",
       "    } else {\n",
       "      loadScript(\"vega\")\n",
       "        .then(() => loadScript(\"vega-lite\"))\n",
       "        .then(() => loadScript(\"vega-embed\"))\n",
       "        .catch(showError)\n",
       "        .then(() => displayChart(vegaEmbed));\n",
       "    }\n",
       "  })({\"config\": {\"view\": {\"continuousWidth\": 400, \"continuousHeight\": 300}}, \"data\": {\"name\": \"data-8ec1f3a711280f54042308e0652cbc61\"}, \"mark\": \"bar\", \"encoding\": {\"x\": {\"type\": \"nominal\", \"field\": \"MaterialType\"}, \"y\": {\"type\": \"quantitative\", \"field\": \"counts\"}}, \"$schema\": \"https://vega.github.io/schema/vega-lite/v4.8.1.json\", \"datasets\": {\"data-8ec1f3a711280f54042308e0652cbc61\": [{\"MaterialType\": \"BOOK\", \"counts\": 102076}, {\"MaterialType\": \"VIDEODISC\", \"counts\": 74473}, {\"MaterialType\": \"EBOOK\", \"counts\": 57299}, {\"MaterialType\": \"AUDIOBOOK\", \"counts\": 34542}, {\"MaterialType\": \"SOUNDDISC\", \"counts\": 6593}, {\"MaterialType\": \"MAGAZINE\", \"counts\": 4197}, {\"MaterialType\": \"SONG\", \"counts\": 975}, {\"MaterialType\": \"MOVIE\", \"counts\": 596}, {\"MaterialType\": \"REGPRINT\", \"counts\": 447}, {\"MaterialType\": \"MUSIC\", \"counts\": 382}, {\"MaterialType\": \"MIXED\", \"counts\": 195}, {\"MaterialType\": \"CR\", \"counts\": 112}, {\"MaterialType\": \"SOUNDDISC, VIDEODISC\", \"counts\": 89}, {\"MaterialType\": \"COMIC\", \"counts\": 83}, {\"MaterialType\": \"SOUNDREC\", \"counts\": 82}, {\"MaterialType\": \"TELEVISION\", \"counts\": 39}, {\"MaterialType\": \"ER\", \"counts\": 34}, {\"MaterialType\": \"VISUAL\", \"counts\": 31}, {\"MaterialType\": \"LARGEPRINT\", \"counts\": 19}, {\"MaterialType\": \"ER, SOUNDDISC\", \"counts\": 10}, {\"MaterialType\": \"ER, VIDEODISC\", \"counts\": 9}, {\"MaterialType\": \"VIDEOREC\", \"counts\": 2}, {\"MaterialType\": \"UNSPECIFIED\", \"counts\": 2}]}}, {\"mode\": \"vega-lite\"});\n",
       "</script>"
      ],
      "text/plain": [
       "alt.Chart(...)"
      ]
     },
     "execution_count": 166,
     "metadata": {},
     "output_type": "execute_result"
    }
   ],
   "source": [
    "### To be filled out together\n",
    "\n",
    "source = seattle_df['MaterialType'].value_counts().rename_axis('MaterialType').reset_index(name='counts')\n",
    "alt.Chart(source).mark_bar().encode(\n",
    "    x='MaterialType',\n",
    "    y='counts'\n",
    ")"
   ]
  },
  {
   "cell_type": "markdown",
   "id": "b8826840",
   "metadata": {},
   "source": [
    "So we've made a chart, tada 🎉! Easy peasy right?! Except it's only sort of identical to what we had before with Pandas `plot()` 🤔"
   ]
  },
  {
   "cell_type": "markdown",
   "id": "13547e9d",
   "metadata": {},
   "source": [
    "Well first let's make it actually identical by sorting the `x` axis (here's a helpful example [https://altair-viz.github.io/gallery/bar_chart_sorted.html](https://altair-viz.github.io/gallery/bar_chart_sorted.html) with the code posted below 👇🏽)"
   ]
  },
  {
   "cell_type": "code",
   "execution_count": 95,
   "id": "f877d819",
   "metadata": {},
   "outputs": [
    {
     "data": {
      "text/html": [
       "\n",
       "<div id=\"altair-viz-aadd2a5ac6944654aff44d1c3b80bca1\"></div>\n",
       "<script type=\"text/javascript\">\n",
       "  (function(spec, embedOpt){\n",
       "    let outputDiv = document.currentScript.previousElementSibling;\n",
       "    if (outputDiv.id !== \"altair-viz-aadd2a5ac6944654aff44d1c3b80bca1\") {\n",
       "      outputDiv = document.getElementById(\"altair-viz-aadd2a5ac6944654aff44d1c3b80bca1\");\n",
       "    }\n",
       "    const paths = {\n",
       "      \"vega\": \"https://cdn.jsdelivr.net/npm//vega@5?noext\",\n",
       "      \"vega-lib\": \"https://cdn.jsdelivr.net/npm//vega-lib?noext\",\n",
       "      \"vega-lite\": \"https://cdn.jsdelivr.net/npm//vega-lite@4.8.1?noext\",\n",
       "      \"vega-embed\": \"https://cdn.jsdelivr.net/npm//vega-embed@6?noext\",\n",
       "    };\n",
       "\n",
       "    function loadScript(lib) {\n",
       "      return new Promise(function(resolve, reject) {\n",
       "        var s = document.createElement('script');\n",
       "        s.src = paths[lib];\n",
       "        s.async = true;\n",
       "        s.onload = () => resolve(paths[lib]);\n",
       "        s.onerror = () => reject(`Error loading script: ${paths[lib]}`);\n",
       "        document.getElementsByTagName(\"head\")[0].appendChild(s);\n",
       "      });\n",
       "    }\n",
       "\n",
       "    function showError(err) {\n",
       "      outputDiv.innerHTML = `<div class=\"error\" style=\"color:red;\">${err}</div>`;\n",
       "      throw err;\n",
       "    }\n",
       "\n",
       "    function displayChart(vegaEmbed) {\n",
       "      vegaEmbed(outputDiv, spec, embedOpt)\n",
       "        .catch(err => showError(`Javascript Error: ${err.message}<br>This usually means there's a typo in your chart specification. See the javascript console for the full traceback.`));\n",
       "    }\n",
       "\n",
       "    if(typeof define === \"function\" && define.amd) {\n",
       "      requirejs.config({paths});\n",
       "      require([\"vega-embed\"], displayChart, err => showError(`Error loading script: ${err.message}`));\n",
       "    } else if (typeof vegaEmbed === \"function\") {\n",
       "      displayChart(vegaEmbed);\n",
       "    } else {\n",
       "      loadScript(\"vega\")\n",
       "        .then(() => loadScript(\"vega-lite\"))\n",
       "        .then(() => loadScript(\"vega-embed\"))\n",
       "        .catch(showError)\n",
       "        .then(() => displayChart(vegaEmbed));\n",
       "    }\n",
       "  })({\"config\": {\"view\": {\"continuousWidth\": 400, \"continuousHeight\": 300}}, \"data\": {\"name\": \"data-093ece8c35bb2d41094cfb6138ec810b\"}, \"mark\": \"bar\", \"encoding\": {\"x\": {\"type\": \"quantitative\", \"aggregate\": \"sum\", \"field\": \"yield\"}, \"y\": {\"type\": \"nominal\", \"field\": \"site\", \"sort\": \"-x\"}}, \"$schema\": \"https://vega.github.io/schema/vega-lite/v4.8.1.json\", \"datasets\": {\"data-093ece8c35bb2d41094cfb6138ec810b\": [{\"yield\": 27.0, \"variety\": \"Manchuria\", \"year\": 1931, \"site\": \"University Farm\"}, {\"yield\": 48.86667, \"variety\": \"Manchuria\", \"year\": 1931, \"site\": \"Waseca\"}, {\"yield\": 27.43334, \"variety\": \"Manchuria\", \"year\": 1931, \"site\": \"Morris\"}, {\"yield\": 39.93333, \"variety\": \"Manchuria\", \"year\": 1931, \"site\": \"Crookston\"}, {\"yield\": 32.96667, \"variety\": \"Manchuria\", \"year\": 1931, \"site\": \"Grand Rapids\"}, {\"yield\": 28.96667, \"variety\": \"Manchuria\", \"year\": 1931, \"site\": \"Duluth\"}, {\"yield\": 43.06666, \"variety\": \"Glabron\", \"year\": 1931, \"site\": \"University Farm\"}, {\"yield\": 55.2, \"variety\": \"Glabron\", \"year\": 1931, \"site\": \"Waseca\"}, {\"yield\": 28.76667, \"variety\": \"Glabron\", \"year\": 1931, \"site\": \"Morris\"}, {\"yield\": 38.13333, \"variety\": \"Glabron\", \"year\": 1931, \"site\": \"Crookston\"}, {\"yield\": 29.13333, \"variety\": \"Glabron\", \"year\": 1931, \"site\": \"Grand Rapids\"}, {\"yield\": 29.66667, \"variety\": \"Glabron\", \"year\": 1931, \"site\": \"Duluth\"}, {\"yield\": 35.13333, \"variety\": \"Svansota\", \"year\": 1931, \"site\": \"University Farm\"}, {\"yield\": 47.33333, \"variety\": \"Svansota\", \"year\": 1931, \"site\": \"Waseca\"}, {\"yield\": 25.76667, \"variety\": \"Svansota\", \"year\": 1931, \"site\": \"Morris\"}, {\"yield\": 40.46667, \"variety\": \"Svansota\", \"year\": 1931, \"site\": \"Crookston\"}, {\"yield\": 29.66667, \"variety\": \"Svansota\", \"year\": 1931, \"site\": \"Grand Rapids\"}, {\"yield\": 25.7, \"variety\": \"Svansota\", \"year\": 1931, \"site\": \"Duluth\"}, {\"yield\": 39.9, \"variety\": \"Velvet\", \"year\": 1931, \"site\": \"University Farm\"}, {\"yield\": 50.23333, \"variety\": \"Velvet\", \"year\": 1931, \"site\": \"Waseca\"}, {\"yield\": 26.13333, \"variety\": \"Velvet\", \"year\": 1931, \"site\": \"Morris\"}, {\"yield\": 41.33333, \"variety\": \"Velvet\", \"year\": 1931, \"site\": \"Crookston\"}, {\"yield\": 23.03333, \"variety\": \"Velvet\", \"year\": 1931, \"site\": \"Grand Rapids\"}, {\"yield\": 26.3, \"variety\": \"Velvet\", \"year\": 1931, \"site\": \"Duluth\"}, {\"yield\": 36.56666, \"variety\": \"Trebi\", \"year\": 1931, \"site\": \"University Farm\"}, {\"yield\": 63.8333, \"variety\": \"Trebi\", \"year\": 1931, \"site\": \"Waseca\"}, {\"yield\": 43.76667, \"variety\": \"Trebi\", \"year\": 1931, \"site\": \"Morris\"}, {\"yield\": 46.93333, \"variety\": \"Trebi\", \"year\": 1931, \"site\": \"Crookston\"}, {\"yield\": 29.76667, \"variety\": \"Trebi\", \"year\": 1931, \"site\": \"Grand Rapids\"}, {\"yield\": 33.93333, \"variety\": \"Trebi\", \"year\": 1931, \"site\": \"Duluth\"}, {\"yield\": 43.26667, \"variety\": \"No. 457\", \"year\": 1931, \"site\": \"University Farm\"}, {\"yield\": 58.1, \"variety\": \"No. 457\", \"year\": 1931, \"site\": \"Waseca\"}, {\"yield\": 28.7, \"variety\": \"No. 457\", \"year\": 1931, \"site\": \"Morris\"}, {\"yield\": 45.66667, \"variety\": \"No. 457\", \"year\": 1931, \"site\": \"Crookston\"}, {\"yield\": 32.16667, \"variety\": \"No. 457\", \"year\": 1931, \"site\": \"Grand Rapids\"}, {\"yield\": 33.6, \"variety\": \"No. 457\", \"year\": 1931, \"site\": \"Duluth\"}, {\"yield\": 36.6, \"variety\": \"No. 462\", \"year\": 1931, \"site\": \"University Farm\"}, {\"yield\": 65.7667, \"variety\": \"No. 462\", \"year\": 1931, \"site\": \"Waseca\"}, {\"yield\": 30.36667, \"variety\": \"No. 462\", \"year\": 1931, \"site\": \"Morris\"}, {\"yield\": 48.56666, \"variety\": \"No. 462\", \"year\": 1931, \"site\": \"Crookston\"}, {\"yield\": 24.93334, \"variety\": \"No. 462\", \"year\": 1931, \"site\": \"Grand Rapids\"}, {\"yield\": 28.1, \"variety\": \"No. 462\", \"year\": 1931, \"site\": \"Duluth\"}, {\"yield\": 32.76667, \"variety\": \"Peatland\", \"year\": 1931, \"site\": \"University Farm\"}, {\"yield\": 48.56666, \"variety\": \"Peatland\", \"year\": 1931, \"site\": \"Waseca\"}, {\"yield\": 29.86667, \"variety\": \"Peatland\", \"year\": 1931, \"site\": \"Morris\"}, {\"yield\": 41.6, \"variety\": \"Peatland\", \"year\": 1931, \"site\": \"Crookston\"}, {\"yield\": 34.7, \"variety\": \"Peatland\", \"year\": 1931, \"site\": \"Grand Rapids\"}, {\"yield\": 32.0, \"variety\": \"Peatland\", \"year\": 1931, \"site\": \"Duluth\"}, {\"yield\": 24.66667, \"variety\": \"No. 475\", \"year\": 1931, \"site\": \"University Farm\"}, {\"yield\": 46.76667, \"variety\": \"No. 475\", \"year\": 1931, \"site\": \"Waseca\"}, {\"yield\": 22.6, \"variety\": \"No. 475\", \"year\": 1931, \"site\": \"Morris\"}, {\"yield\": 44.1, \"variety\": \"No. 475\", \"year\": 1931, \"site\": \"Crookston\"}, {\"yield\": 19.7, \"variety\": \"No. 475\", \"year\": 1931, \"site\": \"Grand Rapids\"}, {\"yield\": 33.06666, \"variety\": \"No. 475\", \"year\": 1931, \"site\": \"Duluth\"}, {\"yield\": 39.3, \"variety\": \"Wisconsin No. 38\", \"year\": 1931, \"site\": \"University Farm\"}, {\"yield\": 58.8, \"variety\": \"Wisconsin No. 38\", \"year\": 1931, \"site\": \"Waseca\"}, {\"yield\": 29.46667, \"variety\": \"Wisconsin No. 38\", \"year\": 1931, \"site\": \"Morris\"}, {\"yield\": 49.86667, \"variety\": \"Wisconsin No. 38\", \"year\": 1931, \"site\": \"Crookston\"}, {\"yield\": 34.46667, \"variety\": \"Wisconsin No. 38\", \"year\": 1931, \"site\": \"Grand Rapids\"}, {\"yield\": 31.6, \"variety\": \"Wisconsin No. 38\", \"year\": 1931, \"site\": \"Duluth\"}, {\"yield\": 26.9, \"variety\": \"Manchuria\", \"year\": 1932, \"site\": \"University Farm\"}, {\"yield\": 33.46667, \"variety\": \"Manchuria\", \"year\": 1932, \"site\": \"Waseca\"}, {\"yield\": 34.36666, \"variety\": \"Manchuria\", \"year\": 1932, \"site\": \"Morris\"}, {\"yield\": 32.96667, \"variety\": \"Manchuria\", \"year\": 1932, \"site\": \"Crookston\"}, {\"yield\": 22.13333, \"variety\": \"Manchuria\", \"year\": 1932, \"site\": \"Grand Rapids\"}, {\"yield\": 22.56667, \"variety\": \"Manchuria\", \"year\": 1932, \"site\": \"Duluth\"}, {\"yield\": 36.8, \"variety\": \"Glabron\", \"year\": 1932, \"site\": \"University Farm\"}, {\"yield\": 37.73333, \"variety\": \"Glabron\", \"year\": 1932, \"site\": \"Waseca\"}, {\"yield\": 35.13333, \"variety\": \"Glabron\", \"year\": 1932, \"site\": \"Morris\"}, {\"yield\": 26.16667, \"variety\": \"Glabron\", \"year\": 1932, \"site\": \"Crookston\"}, {\"yield\": 14.43333, \"variety\": \"Glabron\", \"year\": 1932, \"site\": \"Grand Rapids\"}, {\"yield\": 25.86667, \"variety\": \"Glabron\", \"year\": 1932, \"site\": \"Duluth\"}, {\"yield\": 27.43334, \"variety\": \"Svansota\", \"year\": 1932, \"site\": \"University Farm\"}, {\"yield\": 38.5, \"variety\": \"Svansota\", \"year\": 1932, \"site\": \"Waseca\"}, {\"yield\": 35.03333, \"variety\": \"Svansota\", \"year\": 1932, \"site\": \"Morris\"}, {\"yield\": 20.63333, \"variety\": \"Svansota\", \"year\": 1932, \"site\": \"Crookston\"}, {\"yield\": 16.63333, \"variety\": \"Svansota\", \"year\": 1932, \"site\": \"Grand Rapids\"}, {\"yield\": 22.23333, \"variety\": \"Svansota\", \"year\": 1932, \"site\": \"Duluth\"}, {\"yield\": 26.8, \"variety\": \"Velvet\", \"year\": 1932, \"site\": \"University Farm\"}, {\"yield\": 37.4, \"variety\": \"Velvet\", \"year\": 1932, \"site\": \"Waseca\"}, {\"yield\": 38.83333, \"variety\": \"Velvet\", \"year\": 1932, \"site\": \"Morris\"}, {\"yield\": 32.06666, \"variety\": \"Velvet\", \"year\": 1932, \"site\": \"Crookston\"}, {\"yield\": 32.23333, \"variety\": \"Velvet\", \"year\": 1932, \"site\": \"Grand Rapids\"}, {\"yield\": 22.46667, \"variety\": \"Velvet\", \"year\": 1932, \"site\": \"Duluth\"}, {\"yield\": 29.06667, \"variety\": \"Trebi\", \"year\": 1932, \"site\": \"University Farm\"}, {\"yield\": 49.2333, \"variety\": \"Trebi\", \"year\": 1932, \"site\": \"Waseca\"}, {\"yield\": 46.63333, \"variety\": \"Trebi\", \"year\": 1932, \"site\": \"Morris\"}, {\"yield\": 41.83333, \"variety\": \"Trebi\", \"year\": 1932, \"site\": \"Crookston\"}, {\"yield\": 20.63333, \"variety\": \"Trebi\", \"year\": 1932, \"site\": \"Grand Rapids\"}, {\"yield\": 30.6, \"variety\": \"Trebi\", \"year\": 1932, \"site\": \"Duluth\"}, {\"yield\": 26.43334, \"variety\": \"No. 457\", \"year\": 1932, \"site\": \"University Farm\"}, {\"yield\": 42.2, \"variety\": \"No. 457\", \"year\": 1932, \"site\": \"Waseca\"}, {\"yield\": 43.53334, \"variety\": \"No. 457\", \"year\": 1932, \"site\": \"Morris\"}, {\"yield\": 34.33333, \"variety\": \"No. 457\", \"year\": 1932, \"site\": \"Crookston\"}, {\"yield\": 19.46667, \"variety\": \"No. 457\", \"year\": 1932, \"site\": \"Grand Rapids\"}, {\"yield\": 22.7, \"variety\": \"No. 457\", \"year\": 1932, \"site\": \"Duluth\"}, {\"yield\": 25.56667, \"variety\": \"No. 462\", \"year\": 1932, \"site\": \"University Farm\"}, {\"yield\": 44.7, \"variety\": \"No. 462\", \"year\": 1932, \"site\": \"Waseca\"}, {\"yield\": 47.0, \"variety\": \"No. 462\", \"year\": 1932, \"site\": \"Morris\"}, {\"yield\": 30.53333, \"variety\": \"No. 462\", \"year\": 1932, \"site\": \"Crookston\"}, {\"yield\": 19.9, \"variety\": \"No. 462\", \"year\": 1932, \"site\": \"Grand Rapids\"}, {\"yield\": 22.5, \"variety\": \"No. 462\", \"year\": 1932, \"site\": \"Duluth\"}, {\"yield\": 28.06667, \"variety\": \"Peatland\", \"year\": 1932, \"site\": \"University Farm\"}, {\"yield\": 36.03333, \"variety\": \"Peatland\", \"year\": 1932, \"site\": \"Waseca\"}, {\"yield\": 43.2, \"variety\": \"Peatland\", \"year\": 1932, \"site\": \"Morris\"}, {\"yield\": 25.23333, \"variety\": \"Peatland\", \"year\": 1932, \"site\": \"Crookston\"}, {\"yield\": 26.76667, \"variety\": \"Peatland\", \"year\": 1932, \"site\": \"Grand Rapids\"}, {\"yield\": 31.36667, \"variety\": \"Peatland\", \"year\": 1932, \"site\": \"Duluth\"}, {\"yield\": 30.0, \"variety\": \"No. 475\", \"year\": 1932, \"site\": \"University Farm\"}, {\"yield\": 41.26667, \"variety\": \"No. 475\", \"year\": 1932, \"site\": \"Waseca\"}, {\"yield\": 44.23333, \"variety\": \"No. 475\", \"year\": 1932, \"site\": \"Morris\"}, {\"yield\": 32.13333, \"variety\": \"No. 475\", \"year\": 1932, \"site\": \"Crookston\"}, {\"yield\": 15.23333, \"variety\": \"No. 475\", \"year\": 1932, \"site\": \"Grand Rapids\"}, {\"yield\": 27.36667, \"variety\": \"No. 475\", \"year\": 1932, \"site\": \"Duluth\"}, {\"yield\": 38.0, \"variety\": \"Wisconsin No. 38\", \"year\": 1932, \"site\": \"University Farm\"}, {\"yield\": 58.16667, \"variety\": \"Wisconsin No. 38\", \"year\": 1932, \"site\": \"Waseca\"}, {\"yield\": 47.16667, \"variety\": \"Wisconsin No. 38\", \"year\": 1932, \"site\": \"Morris\"}, {\"yield\": 35.9, \"variety\": \"Wisconsin No. 38\", \"year\": 1932, \"site\": \"Crookston\"}, {\"yield\": 20.66667, \"variety\": \"Wisconsin No. 38\", \"year\": 1932, \"site\": \"Grand Rapids\"}, {\"yield\": 29.33333, \"variety\": \"Wisconsin No. 38\", \"year\": 1932, \"site\": \"Duluth\"}]}}, {\"mode\": \"vega-lite\"});\n",
       "</script>"
      ],
      "text/plain": [
       "alt.Chart(...)"
      ]
     },
     "execution_count": 95,
     "metadata": {},
     "output_type": "execute_result"
    }
   ],
   "source": [
    "source = vega_data.barley()\n",
    "alt.Chart(source).mark_bar().encode(\n",
    "    x='sum(yield):Q',\n",
    "    y=alt.Y('site:N', sort='-x')\n",
    ")"
   ]
  },
  {
   "cell_type": "code",
   "execution_count": 160,
   "id": "cb945bc5",
   "metadata": {},
   "outputs": [],
   "source": [
    "### PLACEHOLDER FOR OUR SORTED CHART!\n",
    "source = seattle_df['MaterialType'].value_counts().rename_axis('MaterialType').reset_index(name='counts')\n",
    "alt.Chart(source).mark_bar().encode(\n",
    "    x=alt.X('MaterialType', sort='-y'),\n",
    "    y='counts'\n",
    ")"
   ]
  },
  {
   "cell_type": "markdown",
   "id": "8d8fa7a2",
   "metadata": {},
   "source": [
    "`sort` seems like some fancy footwork, so let's go into Altair's documentation to understand what is actually happening here [https://altair-viz.github.io/user_guide/encoding.html?highlight=sort](https://altair-viz.github.io/user_guide/encoding.html?highlight=sort) (which I've also copied below 👇🏽)\n",
    "\n",
    "![sort_altair](images/sort_altair.png)"
   ]
  },
  {
   "cell_type": "markdown",
   "id": "2a8e0155",
   "metadata": {},
   "source": [
    "So this documentation is telling us that sort (which is actually another Altair class [https://altair-viz.github.io/user_guide/generated/core/altair.Sort.html#altair.Sort](https://altair-viz.github.io/user_guide/generated/core/altair.Sort.html#altair.Sort)) can be used on any encoded field. So what's an encoded field? \n",
    "\n",
    "Well Altair has the following documentation https://altair-viz.github.io/user_guide/encoding.html\n",
    "![encodings](images/encodings.png)"
   ]
  },
  {
   "cell_type": "code",
   "execution_count": 161,
   "id": "4febb410",
   "metadata": {},
   "outputs": [
    {
     "data": {
      "text/html": [
       "\n",
       "<div id=\"altair-viz-3704305196984c52bb78f931bc7681ca\"></div>\n",
       "<script type=\"text/javascript\">\n",
       "  (function(spec, embedOpt){\n",
       "    let outputDiv = document.currentScript.previousElementSibling;\n",
       "    if (outputDiv.id !== \"altair-viz-3704305196984c52bb78f931bc7681ca\") {\n",
       "      outputDiv = document.getElementById(\"altair-viz-3704305196984c52bb78f931bc7681ca\");\n",
       "    }\n",
       "    const paths = {\n",
       "      \"vega\": \"https://cdn.jsdelivr.net/npm//vega@5?noext\",\n",
       "      \"vega-lib\": \"https://cdn.jsdelivr.net/npm//vega-lib?noext\",\n",
       "      \"vega-lite\": \"https://cdn.jsdelivr.net/npm//vega-lite@4.8.1?noext\",\n",
       "      \"vega-embed\": \"https://cdn.jsdelivr.net/npm//vega-embed@6?noext\",\n",
       "    };\n",
       "\n",
       "    function loadScript(lib) {\n",
       "      return new Promise(function(resolve, reject) {\n",
       "        var s = document.createElement('script');\n",
       "        s.src = paths[lib];\n",
       "        s.async = true;\n",
       "        s.onload = () => resolve(paths[lib]);\n",
       "        s.onerror = () => reject(`Error loading script: ${paths[lib]}`);\n",
       "        document.getElementsByTagName(\"head\")[0].appendChild(s);\n",
       "      });\n",
       "    }\n",
       "\n",
       "    function showError(err) {\n",
       "      outputDiv.innerHTML = `<div class=\"error\" style=\"color:red;\">${err}</div>`;\n",
       "      throw err;\n",
       "    }\n",
       "\n",
       "    function displayChart(vegaEmbed) {\n",
       "      vegaEmbed(outputDiv, spec, embedOpt)\n",
       "        .catch(err => showError(`Javascript Error: ${err.message}<br>This usually means there's a typo in your chart specification. See the javascript console for the full traceback.`));\n",
       "    }\n",
       "\n",
       "    if(typeof define === \"function\" && define.amd) {\n",
       "      requirejs.config({paths});\n",
       "      require([\"vega-embed\"], displayChart, err => showError(`Error loading script: ${err.message}`));\n",
       "    } else if (typeof vegaEmbed === \"function\") {\n",
       "      displayChart(vegaEmbed);\n",
       "    } else {\n",
       "      loadScript(\"vega\")\n",
       "        .then(() => loadScript(\"vega-lite\"))\n",
       "        .then(() => loadScript(\"vega-embed\"))\n",
       "        .catch(showError)\n",
       "        .then(() => displayChart(vegaEmbed));\n",
       "    }\n",
       "  })({\"config\": {\"view\": {\"continuousWidth\": 400, \"continuousHeight\": 300}}, \"data\": {\"name\": \"data-f02450ab61490a1363517a0190416235\"}, \"mark\": \"point\", \"encoding\": {\"color\": {\"type\": \"nominal\", \"field\": \"Origin\"}, \"shape\": {\"type\": \"nominal\", \"field\": \"Origin\"}, \"x\": {\"type\": \"quantitative\", \"field\": \"Horsepower\"}, \"y\": {\"type\": \"quantitative\", \"field\": \"Miles_per_Gallon\"}}, \"$schema\": \"https://vega.github.io/schema/vega-lite/v4.8.1.json\", \"datasets\": {\"data-f02450ab61490a1363517a0190416235\": [{\"Name\": \"chevrolet chevelle malibu\", \"Miles_per_Gallon\": 18.0, \"Cylinders\": 8, \"Displacement\": 307.0, \"Horsepower\": 130.0, \"Weight_in_lbs\": 3504, \"Acceleration\": 12.0, \"Year\": \"1970-01-01T00:00:00\", \"Origin\": \"USA\"}, {\"Name\": \"buick skylark 320\", \"Miles_per_Gallon\": 15.0, \"Cylinders\": 8, \"Displacement\": 350.0, \"Horsepower\": 165.0, \"Weight_in_lbs\": 3693, \"Acceleration\": 11.5, \"Year\": \"1970-01-01T00:00:00\", \"Origin\": \"USA\"}, {\"Name\": \"plymouth satellite\", \"Miles_per_Gallon\": 18.0, \"Cylinders\": 8, \"Displacement\": 318.0, \"Horsepower\": 150.0, \"Weight_in_lbs\": 3436, \"Acceleration\": 11.0, \"Year\": \"1970-01-01T00:00:00\", \"Origin\": \"USA\"}, {\"Name\": \"amc rebel sst\", \"Miles_per_Gallon\": 16.0, \"Cylinders\": 8, \"Displacement\": 304.0, \"Horsepower\": 150.0, \"Weight_in_lbs\": 3433, \"Acceleration\": 12.0, \"Year\": \"1970-01-01T00:00:00\", \"Origin\": \"USA\"}, {\"Name\": \"ford torino\", \"Miles_per_Gallon\": 17.0, \"Cylinders\": 8, \"Displacement\": 302.0, \"Horsepower\": 140.0, \"Weight_in_lbs\": 3449, \"Acceleration\": 10.5, \"Year\": \"1970-01-01T00:00:00\", \"Origin\": \"USA\"}, {\"Name\": \"ford galaxie 500\", \"Miles_per_Gallon\": 15.0, \"Cylinders\": 8, \"Displacement\": 429.0, \"Horsepower\": 198.0, \"Weight_in_lbs\": 4341, \"Acceleration\": 10.0, \"Year\": \"1970-01-01T00:00:00\", \"Origin\": \"USA\"}, {\"Name\": \"chevrolet impala\", \"Miles_per_Gallon\": 14.0, \"Cylinders\": 8, \"Displacement\": 454.0, \"Horsepower\": 220.0, \"Weight_in_lbs\": 4354, \"Acceleration\": 9.0, \"Year\": \"1970-01-01T00:00:00\", \"Origin\": \"USA\"}, {\"Name\": \"plymouth fury iii\", \"Miles_per_Gallon\": 14.0, \"Cylinders\": 8, \"Displacement\": 440.0, \"Horsepower\": 215.0, \"Weight_in_lbs\": 4312, \"Acceleration\": 8.5, \"Year\": \"1970-01-01T00:00:00\", \"Origin\": \"USA\"}, {\"Name\": \"pontiac catalina\", \"Miles_per_Gallon\": 14.0, \"Cylinders\": 8, \"Displacement\": 455.0, \"Horsepower\": 225.0, \"Weight_in_lbs\": 4425, \"Acceleration\": 10.0, \"Year\": \"1970-01-01T00:00:00\", \"Origin\": \"USA\"}, {\"Name\": \"amc ambassador dpl\", \"Miles_per_Gallon\": 15.0, \"Cylinders\": 8, \"Displacement\": 390.0, \"Horsepower\": 190.0, \"Weight_in_lbs\": 3850, \"Acceleration\": 8.5, \"Year\": \"1970-01-01T00:00:00\", \"Origin\": \"USA\"}, {\"Name\": \"citroen ds-21 pallas\", \"Miles_per_Gallon\": null, \"Cylinders\": 4, \"Displacement\": 133.0, \"Horsepower\": 115.0, \"Weight_in_lbs\": 3090, \"Acceleration\": 17.5, \"Year\": \"1970-01-01T00:00:00\", \"Origin\": \"Europe\"}, {\"Name\": \"chevrolet chevelle concours (sw)\", \"Miles_per_Gallon\": null, \"Cylinders\": 8, \"Displacement\": 350.0, \"Horsepower\": 165.0, \"Weight_in_lbs\": 4142, \"Acceleration\": 11.5, \"Year\": \"1970-01-01T00:00:00\", \"Origin\": \"USA\"}, {\"Name\": \"ford torino (sw)\", \"Miles_per_Gallon\": null, \"Cylinders\": 8, \"Displacement\": 351.0, \"Horsepower\": 153.0, \"Weight_in_lbs\": 4034, \"Acceleration\": 11.0, \"Year\": \"1970-01-01T00:00:00\", \"Origin\": \"USA\"}, {\"Name\": \"plymouth satellite (sw)\", \"Miles_per_Gallon\": null, \"Cylinders\": 8, \"Displacement\": 383.0, \"Horsepower\": 175.0, \"Weight_in_lbs\": 4166, \"Acceleration\": 10.5, \"Year\": \"1970-01-01T00:00:00\", \"Origin\": \"USA\"}, {\"Name\": \"amc rebel sst (sw)\", \"Miles_per_Gallon\": null, \"Cylinders\": 8, \"Displacement\": 360.0, \"Horsepower\": 175.0, \"Weight_in_lbs\": 3850, \"Acceleration\": 11.0, \"Year\": \"1970-01-01T00:00:00\", \"Origin\": \"USA\"}, {\"Name\": \"dodge challenger se\", \"Miles_per_Gallon\": 15.0, \"Cylinders\": 8, \"Displacement\": 383.0, \"Horsepower\": 170.0, \"Weight_in_lbs\": 3563, \"Acceleration\": 10.0, \"Year\": \"1970-01-01T00:00:00\", \"Origin\": \"USA\"}, {\"Name\": \"plymouth 'cuda 340\", \"Miles_per_Gallon\": 14.0, \"Cylinders\": 8, \"Displacement\": 340.0, \"Horsepower\": 160.0, \"Weight_in_lbs\": 3609, \"Acceleration\": 8.0, \"Year\": \"1970-01-01T00:00:00\", \"Origin\": \"USA\"}, {\"Name\": \"ford mustang boss 302\", \"Miles_per_Gallon\": null, \"Cylinders\": 8, \"Displacement\": 302.0, \"Horsepower\": 140.0, \"Weight_in_lbs\": 3353, \"Acceleration\": 8.0, \"Year\": \"1970-01-01T00:00:00\", \"Origin\": \"USA\"}, {\"Name\": \"chevrolet monte carlo\", \"Miles_per_Gallon\": 15.0, \"Cylinders\": 8, \"Displacement\": 400.0, \"Horsepower\": 150.0, \"Weight_in_lbs\": 3761, \"Acceleration\": 9.5, \"Year\": \"1970-01-01T00:00:00\", \"Origin\": \"USA\"}, {\"Name\": \"buick estate wagon (sw)\", \"Miles_per_Gallon\": 14.0, \"Cylinders\": 8, \"Displacement\": 455.0, \"Horsepower\": 225.0, \"Weight_in_lbs\": 3086, \"Acceleration\": 10.0, \"Year\": \"1970-01-01T00:00:00\", \"Origin\": \"USA\"}, {\"Name\": \"toyota corona mark ii\", \"Miles_per_Gallon\": 24.0, \"Cylinders\": 4, \"Displacement\": 113.0, \"Horsepower\": 95.0, \"Weight_in_lbs\": 2372, \"Acceleration\": 15.0, \"Year\": \"1970-01-01T00:00:00\", \"Origin\": \"Japan\"}, {\"Name\": \"plymouth duster\", \"Miles_per_Gallon\": 22.0, \"Cylinders\": 6, \"Displacement\": 198.0, \"Horsepower\": 95.0, \"Weight_in_lbs\": 2833, \"Acceleration\": 15.5, \"Year\": \"1970-01-01T00:00:00\", \"Origin\": \"USA\"}, {\"Name\": \"amc hornet\", \"Miles_per_Gallon\": 18.0, \"Cylinders\": 6, \"Displacement\": 199.0, \"Horsepower\": 97.0, \"Weight_in_lbs\": 2774, \"Acceleration\": 15.5, \"Year\": \"1970-01-01T00:00:00\", \"Origin\": \"USA\"}, {\"Name\": \"ford maverick\", \"Miles_per_Gallon\": 21.0, \"Cylinders\": 6, \"Displacement\": 200.0, \"Horsepower\": 85.0, \"Weight_in_lbs\": 2587, \"Acceleration\": 16.0, \"Year\": \"1970-01-01T00:00:00\", \"Origin\": \"USA\"}, {\"Name\": \"datsun pl510\", \"Miles_per_Gallon\": 27.0, \"Cylinders\": 4, \"Displacement\": 97.0, \"Horsepower\": 88.0, \"Weight_in_lbs\": 2130, \"Acceleration\": 14.5, \"Year\": \"1970-01-01T00:00:00\", \"Origin\": \"Japan\"}, {\"Name\": \"volkswagen 1131 deluxe sedan\", \"Miles_per_Gallon\": 26.0, \"Cylinders\": 4, \"Displacement\": 97.0, \"Horsepower\": 46.0, \"Weight_in_lbs\": 1835, \"Acceleration\": 20.5, \"Year\": \"1970-01-01T00:00:00\", \"Origin\": \"Europe\"}, {\"Name\": \"peugeot 504\", \"Miles_per_Gallon\": 25.0, \"Cylinders\": 4, \"Displacement\": 110.0, \"Horsepower\": 87.0, \"Weight_in_lbs\": 2672, \"Acceleration\": 17.5, \"Year\": \"1970-01-01T00:00:00\", \"Origin\": \"Europe\"}, {\"Name\": \"audi 100 ls\", \"Miles_per_Gallon\": 24.0, \"Cylinders\": 4, \"Displacement\": 107.0, \"Horsepower\": 90.0, \"Weight_in_lbs\": 2430, \"Acceleration\": 14.5, \"Year\": \"1970-01-01T00:00:00\", \"Origin\": \"Europe\"}, {\"Name\": \"saab 99e\", \"Miles_per_Gallon\": 25.0, \"Cylinders\": 4, \"Displacement\": 104.0, \"Horsepower\": 95.0, \"Weight_in_lbs\": 2375, \"Acceleration\": 17.5, \"Year\": \"1970-01-01T00:00:00\", \"Origin\": \"Europe\"}, {\"Name\": \"bmw 2002\", \"Miles_per_Gallon\": 26.0, \"Cylinders\": 4, \"Displacement\": 121.0, \"Horsepower\": 113.0, \"Weight_in_lbs\": 2234, \"Acceleration\": 12.5, \"Year\": \"1970-01-01T00:00:00\", \"Origin\": \"Europe\"}, {\"Name\": \"amc gremlin\", \"Miles_per_Gallon\": 21.0, \"Cylinders\": 6, \"Displacement\": 199.0, \"Horsepower\": 90.0, \"Weight_in_lbs\": 2648, \"Acceleration\": 15.0, \"Year\": \"1970-01-01T00:00:00\", \"Origin\": \"USA\"}, {\"Name\": \"ford f250\", \"Miles_per_Gallon\": 10.0, \"Cylinders\": 8, \"Displacement\": 360.0, \"Horsepower\": 215.0, \"Weight_in_lbs\": 4615, \"Acceleration\": 14.0, \"Year\": \"1970-01-01T00:00:00\", \"Origin\": \"USA\"}, {\"Name\": \"chevy c20\", \"Miles_per_Gallon\": 10.0, \"Cylinders\": 8, \"Displacement\": 307.0, \"Horsepower\": 200.0, \"Weight_in_lbs\": 4376, \"Acceleration\": 15.0, \"Year\": \"1970-01-01T00:00:00\", \"Origin\": \"USA\"}, {\"Name\": \"dodge d200\", \"Miles_per_Gallon\": 11.0, \"Cylinders\": 8, \"Displacement\": 318.0, \"Horsepower\": 210.0, \"Weight_in_lbs\": 4382, \"Acceleration\": 13.5, \"Year\": \"1970-01-01T00:00:00\", \"Origin\": \"USA\"}, {\"Name\": \"hi 1200d\", \"Miles_per_Gallon\": 9.0, \"Cylinders\": 8, \"Displacement\": 304.0, \"Horsepower\": 193.0, \"Weight_in_lbs\": 4732, \"Acceleration\": 18.5, \"Year\": \"1970-01-01T00:00:00\", \"Origin\": \"USA\"}, {\"Name\": \"datsun pl510\", \"Miles_per_Gallon\": 27.0, \"Cylinders\": 4, \"Displacement\": 97.0, \"Horsepower\": 88.0, \"Weight_in_lbs\": 2130, \"Acceleration\": 14.5, \"Year\": \"1971-01-01T00:00:00\", \"Origin\": \"Japan\"}, {\"Name\": \"chevrolet vega 2300\", \"Miles_per_Gallon\": 28.0, \"Cylinders\": 4, \"Displacement\": 140.0, \"Horsepower\": 90.0, \"Weight_in_lbs\": 2264, \"Acceleration\": 15.5, \"Year\": \"1971-01-01T00:00:00\", \"Origin\": \"USA\"}, {\"Name\": \"toyota corona\", \"Miles_per_Gallon\": 25.0, \"Cylinders\": 4, \"Displacement\": 113.0, \"Horsepower\": 95.0, \"Weight_in_lbs\": 2228, \"Acceleration\": 14.0, \"Year\": \"1971-01-01T00:00:00\", \"Origin\": \"Japan\"}, {\"Name\": \"ford pinto\", \"Miles_per_Gallon\": 25.0, \"Cylinders\": 4, \"Displacement\": 98.0, \"Horsepower\": null, \"Weight_in_lbs\": 2046, \"Acceleration\": 19.0, \"Year\": \"1971-01-01T00:00:00\", \"Origin\": \"USA\"}, {\"Name\": \"volkswagen super beetle 117\", \"Miles_per_Gallon\": null, \"Cylinders\": 4, \"Displacement\": 97.0, \"Horsepower\": 48.0, \"Weight_in_lbs\": 1978, \"Acceleration\": 20.0, \"Year\": \"1971-01-01T00:00:00\", \"Origin\": \"Europe\"}, {\"Name\": \"amc gremlin\", \"Miles_per_Gallon\": 19.0, \"Cylinders\": 6, \"Displacement\": 232.0, \"Horsepower\": 100.0, \"Weight_in_lbs\": 2634, \"Acceleration\": 13.0, \"Year\": \"1971-01-01T00:00:00\", \"Origin\": \"USA\"}, {\"Name\": \"plymouth satellite custom\", \"Miles_per_Gallon\": 16.0, \"Cylinders\": 6, \"Displacement\": 225.0, \"Horsepower\": 105.0, \"Weight_in_lbs\": 3439, \"Acceleration\": 15.5, \"Year\": \"1971-01-01T00:00:00\", \"Origin\": \"USA\"}, {\"Name\": \"chevrolet chevelle malibu\", \"Miles_per_Gallon\": 17.0, \"Cylinders\": 6, \"Displacement\": 250.0, \"Horsepower\": 100.0, \"Weight_in_lbs\": 3329, \"Acceleration\": 15.5, \"Year\": \"1971-01-01T00:00:00\", \"Origin\": \"USA\"}, {\"Name\": \"ford torino 500\", \"Miles_per_Gallon\": 19.0, \"Cylinders\": 6, \"Displacement\": 250.0, \"Horsepower\": 88.0, \"Weight_in_lbs\": 3302, \"Acceleration\": 15.5, \"Year\": \"1971-01-01T00:00:00\", \"Origin\": \"USA\"}, {\"Name\": \"amc matador\", \"Miles_per_Gallon\": 18.0, \"Cylinders\": 6, \"Displacement\": 232.0, \"Horsepower\": 100.0, \"Weight_in_lbs\": 3288, \"Acceleration\": 15.5, \"Year\": \"1971-01-01T00:00:00\", \"Origin\": \"USA\"}, {\"Name\": \"chevrolet impala\", \"Miles_per_Gallon\": 14.0, \"Cylinders\": 8, \"Displacement\": 350.0, \"Horsepower\": 165.0, \"Weight_in_lbs\": 4209, \"Acceleration\": 12.0, \"Year\": \"1971-01-01T00:00:00\", \"Origin\": \"USA\"}, {\"Name\": \"pontiac catalina brougham\", \"Miles_per_Gallon\": 14.0, \"Cylinders\": 8, \"Displacement\": 400.0, \"Horsepower\": 175.0, \"Weight_in_lbs\": 4464, \"Acceleration\": 11.5, \"Year\": \"1971-01-01T00:00:00\", \"Origin\": \"USA\"}, {\"Name\": \"ford galaxie 500\", \"Miles_per_Gallon\": 14.0, \"Cylinders\": 8, \"Displacement\": 351.0, \"Horsepower\": 153.0, \"Weight_in_lbs\": 4154, \"Acceleration\": 13.5, \"Year\": \"1971-01-01T00:00:00\", \"Origin\": \"USA\"}, {\"Name\": \"plymouth fury iii\", \"Miles_per_Gallon\": 14.0, \"Cylinders\": 8, \"Displacement\": 318.0, \"Horsepower\": 150.0, \"Weight_in_lbs\": 4096, \"Acceleration\": 13.0, \"Year\": \"1971-01-01T00:00:00\", \"Origin\": \"USA\"}, {\"Name\": \"dodge monaco (sw)\", \"Miles_per_Gallon\": 12.0, \"Cylinders\": 8, \"Displacement\": 383.0, \"Horsepower\": 180.0, \"Weight_in_lbs\": 4955, \"Acceleration\": 11.5, \"Year\": \"1971-01-01T00:00:00\", \"Origin\": \"USA\"}, {\"Name\": \"ford country squire (sw)\", \"Miles_per_Gallon\": 13.0, \"Cylinders\": 8, \"Displacement\": 400.0, \"Horsepower\": 170.0, \"Weight_in_lbs\": 4746, \"Acceleration\": 12.0, \"Year\": \"1971-01-01T00:00:00\", \"Origin\": \"USA\"}, {\"Name\": \"pontiac safari (sw)\", \"Miles_per_Gallon\": 13.0, \"Cylinders\": 8, \"Displacement\": 400.0, \"Horsepower\": 175.0, \"Weight_in_lbs\": 5140, \"Acceleration\": 12.0, \"Year\": \"1971-01-01T00:00:00\", \"Origin\": \"USA\"}, {\"Name\": \"amc hornet sportabout (sw)\", \"Miles_per_Gallon\": 18.0, \"Cylinders\": 6, \"Displacement\": 258.0, \"Horsepower\": 110.0, \"Weight_in_lbs\": 2962, \"Acceleration\": 13.5, \"Year\": \"1971-01-01T00:00:00\", \"Origin\": \"USA\"}, {\"Name\": \"chevrolet vega (sw)\", \"Miles_per_Gallon\": 22.0, \"Cylinders\": 4, \"Displacement\": 140.0, \"Horsepower\": 72.0, \"Weight_in_lbs\": 2408, \"Acceleration\": 19.0, \"Year\": \"1971-01-01T00:00:00\", \"Origin\": \"USA\"}, {\"Name\": \"pontiac firebird\", \"Miles_per_Gallon\": 19.0, \"Cylinders\": 6, \"Displacement\": 250.0, \"Horsepower\": 100.0, \"Weight_in_lbs\": 3282, \"Acceleration\": 15.0, \"Year\": \"1971-01-01T00:00:00\", \"Origin\": \"USA\"}, {\"Name\": \"ford mustang\", \"Miles_per_Gallon\": 18.0, \"Cylinders\": 6, \"Displacement\": 250.0, \"Horsepower\": 88.0, \"Weight_in_lbs\": 3139, \"Acceleration\": 14.5, \"Year\": \"1971-01-01T00:00:00\", \"Origin\": \"USA\"}, {\"Name\": \"mercury capri 2000\", \"Miles_per_Gallon\": 23.0, \"Cylinders\": 4, \"Displacement\": 122.0, \"Horsepower\": 86.0, \"Weight_in_lbs\": 2220, \"Acceleration\": 14.0, \"Year\": \"1971-01-01T00:00:00\", \"Origin\": \"USA\"}, {\"Name\": \"opel 1900\", \"Miles_per_Gallon\": 28.0, \"Cylinders\": 4, \"Displacement\": 116.0, \"Horsepower\": 90.0, \"Weight_in_lbs\": 2123, \"Acceleration\": 14.0, \"Year\": \"1971-01-01T00:00:00\", \"Origin\": \"Europe\"}, {\"Name\": \"peugeot 304\", \"Miles_per_Gallon\": 30.0, \"Cylinders\": 4, \"Displacement\": 79.0, \"Horsepower\": 70.0, \"Weight_in_lbs\": 2074, \"Acceleration\": 19.5, \"Year\": \"1971-01-01T00:00:00\", \"Origin\": \"Europe\"}, {\"Name\": \"fiat 124b\", \"Miles_per_Gallon\": 30.0, \"Cylinders\": 4, \"Displacement\": 88.0, \"Horsepower\": 76.0, \"Weight_in_lbs\": 2065, \"Acceleration\": 14.5, \"Year\": \"1971-01-01T00:00:00\", \"Origin\": \"Europe\"}, {\"Name\": \"toyota corolla 1200\", \"Miles_per_Gallon\": 31.0, \"Cylinders\": 4, \"Displacement\": 71.0, \"Horsepower\": 65.0, \"Weight_in_lbs\": 1773, \"Acceleration\": 19.0, \"Year\": \"1971-01-01T00:00:00\", \"Origin\": \"Japan\"}, {\"Name\": \"datsun 1200\", \"Miles_per_Gallon\": 35.0, \"Cylinders\": 4, \"Displacement\": 72.0, \"Horsepower\": 69.0, \"Weight_in_lbs\": 1613, \"Acceleration\": 18.0, \"Year\": \"1971-01-01T00:00:00\", \"Origin\": \"Japan\"}, {\"Name\": \"volkswagen model 111\", \"Miles_per_Gallon\": 27.0, \"Cylinders\": 4, \"Displacement\": 97.0, \"Horsepower\": 60.0, \"Weight_in_lbs\": 1834, \"Acceleration\": 19.0, \"Year\": \"1971-01-01T00:00:00\", \"Origin\": \"Europe\"}, {\"Name\": \"plymouth cricket\", \"Miles_per_Gallon\": 26.0, \"Cylinders\": 4, \"Displacement\": 91.0, \"Horsepower\": 70.0, \"Weight_in_lbs\": 1955, \"Acceleration\": 20.5, \"Year\": \"1971-01-01T00:00:00\", \"Origin\": \"USA\"}, {\"Name\": \"toyota corona hardtop\", \"Miles_per_Gallon\": 24.0, \"Cylinders\": 4, \"Displacement\": 113.0, \"Horsepower\": 95.0, \"Weight_in_lbs\": 2278, \"Acceleration\": 15.5, \"Year\": \"1972-01-01T00:00:00\", \"Origin\": \"Japan\"}, {\"Name\": \"dodge colt hardtop\", \"Miles_per_Gallon\": 25.0, \"Cylinders\": 4, \"Displacement\": 97.5, \"Horsepower\": 80.0, \"Weight_in_lbs\": 2126, \"Acceleration\": 17.0, \"Year\": \"1972-01-01T00:00:00\", \"Origin\": \"USA\"}, {\"Name\": \"volkswagen type 3\", \"Miles_per_Gallon\": 23.0, \"Cylinders\": 4, \"Displacement\": 97.0, \"Horsepower\": 54.0, \"Weight_in_lbs\": 2254, \"Acceleration\": 23.5, \"Year\": \"1972-01-01T00:00:00\", \"Origin\": \"Europe\"}, {\"Name\": \"chevrolet vega\", \"Miles_per_Gallon\": 20.0, \"Cylinders\": 4, \"Displacement\": 140.0, \"Horsepower\": 90.0, \"Weight_in_lbs\": 2408, \"Acceleration\": 19.5, \"Year\": \"1972-01-01T00:00:00\", \"Origin\": \"USA\"}, {\"Name\": \"ford pinto runabout\", \"Miles_per_Gallon\": 21.0, \"Cylinders\": 4, \"Displacement\": 122.0, \"Horsepower\": 86.0, \"Weight_in_lbs\": 2226, \"Acceleration\": 16.5, \"Year\": \"1972-01-01T00:00:00\", \"Origin\": \"USA\"}, {\"Name\": \"chevrolet impala\", \"Miles_per_Gallon\": 13.0, \"Cylinders\": 8, \"Displacement\": 350.0, \"Horsepower\": 165.0, \"Weight_in_lbs\": 4274, \"Acceleration\": 12.0, \"Year\": \"1972-01-01T00:00:00\", \"Origin\": \"USA\"}, {\"Name\": \"pontiac catalina\", \"Miles_per_Gallon\": 14.0, \"Cylinders\": 8, \"Displacement\": 400.0, \"Horsepower\": 175.0, \"Weight_in_lbs\": 4385, \"Acceleration\": 12.0, \"Year\": \"1972-01-01T00:00:00\", \"Origin\": \"USA\"}, {\"Name\": \"plymouth fury iii\", \"Miles_per_Gallon\": 15.0, \"Cylinders\": 8, \"Displacement\": 318.0, \"Horsepower\": 150.0, \"Weight_in_lbs\": 4135, \"Acceleration\": 13.5, \"Year\": \"1972-01-01T00:00:00\", \"Origin\": \"USA\"}, {\"Name\": \"ford galaxie 500\", \"Miles_per_Gallon\": 14.0, \"Cylinders\": 8, \"Displacement\": 351.0, \"Horsepower\": 153.0, \"Weight_in_lbs\": 4129, \"Acceleration\": 13.0, \"Year\": \"1972-01-01T00:00:00\", \"Origin\": \"USA\"}, {\"Name\": \"amc ambassador sst\", \"Miles_per_Gallon\": 17.0, \"Cylinders\": 8, \"Displacement\": 304.0, \"Horsepower\": 150.0, \"Weight_in_lbs\": 3672, \"Acceleration\": 11.5, \"Year\": \"1972-01-01T00:00:00\", \"Origin\": \"USA\"}, {\"Name\": \"mercury marquis\", \"Miles_per_Gallon\": 11.0, \"Cylinders\": 8, \"Displacement\": 429.0, \"Horsepower\": 208.0, \"Weight_in_lbs\": 4633, \"Acceleration\": 11.0, \"Year\": \"1972-01-01T00:00:00\", \"Origin\": \"USA\"}, {\"Name\": \"buick lesabre custom\", \"Miles_per_Gallon\": 13.0, \"Cylinders\": 8, \"Displacement\": 350.0, \"Horsepower\": 155.0, \"Weight_in_lbs\": 4502, \"Acceleration\": 13.5, \"Year\": \"1972-01-01T00:00:00\", \"Origin\": \"USA\"}, {\"Name\": \"oldsmobile delta 88 royale\", \"Miles_per_Gallon\": 12.0, \"Cylinders\": 8, \"Displacement\": 350.0, \"Horsepower\": 160.0, \"Weight_in_lbs\": 4456, \"Acceleration\": 13.5, \"Year\": \"1972-01-01T00:00:00\", \"Origin\": \"USA\"}, {\"Name\": \"chrysler newport royal\", \"Miles_per_Gallon\": 13.0, \"Cylinders\": 8, \"Displacement\": 400.0, \"Horsepower\": 190.0, \"Weight_in_lbs\": 4422, \"Acceleration\": 12.5, \"Year\": \"1972-01-01T00:00:00\", \"Origin\": \"USA\"}, {\"Name\": \"mazda rx2 coupe\", \"Miles_per_Gallon\": 19.0, \"Cylinders\": 3, \"Displacement\": 70.0, \"Horsepower\": 97.0, \"Weight_in_lbs\": 2330, \"Acceleration\": 13.5, \"Year\": \"1972-01-01T00:00:00\", \"Origin\": \"Japan\"}, {\"Name\": \"amc matador (sw)\", \"Miles_per_Gallon\": 15.0, \"Cylinders\": 8, \"Displacement\": 304.0, \"Horsepower\": 150.0, \"Weight_in_lbs\": 3892, \"Acceleration\": 12.5, \"Year\": \"1972-01-01T00:00:00\", \"Origin\": \"USA\"}, {\"Name\": \"chevrolet chevelle concours (sw)\", \"Miles_per_Gallon\": 13.0, \"Cylinders\": 8, \"Displacement\": 307.0, \"Horsepower\": 130.0, \"Weight_in_lbs\": 4098, \"Acceleration\": 14.0, \"Year\": \"1972-01-01T00:00:00\", \"Origin\": \"USA\"}, {\"Name\": \"ford gran torino (sw)\", \"Miles_per_Gallon\": 13.0, \"Cylinders\": 8, \"Displacement\": 302.0, \"Horsepower\": 140.0, \"Weight_in_lbs\": 4294, \"Acceleration\": 16.0, \"Year\": \"1972-01-01T00:00:00\", \"Origin\": \"USA\"}, {\"Name\": \"plymouth satellite custom (sw)\", \"Miles_per_Gallon\": 14.0, \"Cylinders\": 8, \"Displacement\": 318.0, \"Horsepower\": 150.0, \"Weight_in_lbs\": 4077, \"Acceleration\": 14.0, \"Year\": \"1972-01-01T00:00:00\", \"Origin\": \"USA\"}, {\"Name\": \"volvo 145e (sw)\", \"Miles_per_Gallon\": 18.0, \"Cylinders\": 4, \"Displacement\": 121.0, \"Horsepower\": 112.0, \"Weight_in_lbs\": 2933, \"Acceleration\": 14.5, \"Year\": \"1972-01-01T00:00:00\", \"Origin\": \"Europe\"}, {\"Name\": \"volkswagen 411 (sw)\", \"Miles_per_Gallon\": 22.0, \"Cylinders\": 4, \"Displacement\": 121.0, \"Horsepower\": 76.0, \"Weight_in_lbs\": 2511, \"Acceleration\": 18.0, \"Year\": \"1972-01-01T00:00:00\", \"Origin\": \"Europe\"}, {\"Name\": \"peugeot 504 (sw)\", \"Miles_per_Gallon\": 21.0, \"Cylinders\": 4, \"Displacement\": 120.0, \"Horsepower\": 87.0, \"Weight_in_lbs\": 2979, \"Acceleration\": 19.5, \"Year\": \"1972-01-01T00:00:00\", \"Origin\": \"Europe\"}, {\"Name\": \"renault 12 (sw)\", \"Miles_per_Gallon\": 26.0, \"Cylinders\": 4, \"Displacement\": 96.0, \"Horsepower\": 69.0, \"Weight_in_lbs\": 2189, \"Acceleration\": 18.0, \"Year\": \"1972-01-01T00:00:00\", \"Origin\": \"Europe\"}, {\"Name\": \"ford pinto (sw)\", \"Miles_per_Gallon\": 22.0, \"Cylinders\": 4, \"Displacement\": 122.0, \"Horsepower\": 86.0, \"Weight_in_lbs\": 2395, \"Acceleration\": 16.0, \"Year\": \"1972-01-01T00:00:00\", \"Origin\": \"USA\"}, {\"Name\": \"datsun 510 (sw)\", \"Miles_per_Gallon\": 28.0, \"Cylinders\": 4, \"Displacement\": 97.0, \"Horsepower\": 92.0, \"Weight_in_lbs\": 2288, \"Acceleration\": 17.0, \"Year\": \"1972-01-01T00:00:00\", \"Origin\": \"Japan\"}, {\"Name\": \"toyouta corona mark ii (sw)\", \"Miles_per_Gallon\": 23.0, \"Cylinders\": 4, \"Displacement\": 120.0, \"Horsepower\": 97.0, \"Weight_in_lbs\": 2506, \"Acceleration\": 14.5, \"Year\": \"1972-01-01T00:00:00\", \"Origin\": \"Japan\"}, {\"Name\": \"dodge colt (sw)\", \"Miles_per_Gallon\": 28.0, \"Cylinders\": 4, \"Displacement\": 98.0, \"Horsepower\": 80.0, \"Weight_in_lbs\": 2164, \"Acceleration\": 15.0, \"Year\": \"1972-01-01T00:00:00\", \"Origin\": \"USA\"}, {\"Name\": \"toyota corolla 1600 (sw)\", \"Miles_per_Gallon\": 27.0, \"Cylinders\": 4, \"Displacement\": 97.0, \"Horsepower\": 88.0, \"Weight_in_lbs\": 2100, \"Acceleration\": 16.5, \"Year\": \"1972-01-01T00:00:00\", \"Origin\": \"Japan\"}, {\"Name\": \"buick century 350\", \"Miles_per_Gallon\": 13.0, \"Cylinders\": 8, \"Displacement\": 350.0, \"Horsepower\": 175.0, \"Weight_in_lbs\": 4100, \"Acceleration\": 13.0, \"Year\": \"1973-01-01T00:00:00\", \"Origin\": \"USA\"}, {\"Name\": \"amc matador\", \"Miles_per_Gallon\": 14.0, \"Cylinders\": 8, \"Displacement\": 304.0, \"Horsepower\": 150.0, \"Weight_in_lbs\": 3672, \"Acceleration\": 11.5, \"Year\": \"1973-01-01T00:00:00\", \"Origin\": \"USA\"}, {\"Name\": \"chevrolet malibu\", \"Miles_per_Gallon\": 13.0, \"Cylinders\": 8, \"Displacement\": 350.0, \"Horsepower\": 145.0, \"Weight_in_lbs\": 3988, \"Acceleration\": 13.0, \"Year\": \"1973-01-01T00:00:00\", \"Origin\": \"USA\"}, {\"Name\": \"ford gran torino\", \"Miles_per_Gallon\": 14.0, \"Cylinders\": 8, \"Displacement\": 302.0, \"Horsepower\": 137.0, \"Weight_in_lbs\": 4042, \"Acceleration\": 14.5, \"Year\": \"1973-01-01T00:00:00\", \"Origin\": \"USA\"}, {\"Name\": \"dodge coronet custom\", \"Miles_per_Gallon\": 15.0, \"Cylinders\": 8, \"Displacement\": 318.0, \"Horsepower\": 150.0, \"Weight_in_lbs\": 3777, \"Acceleration\": 12.5, \"Year\": \"1973-01-01T00:00:00\", \"Origin\": \"USA\"}, {\"Name\": \"mercury marquis brougham\", \"Miles_per_Gallon\": 12.0, \"Cylinders\": 8, \"Displacement\": 429.0, \"Horsepower\": 198.0, \"Weight_in_lbs\": 4952, \"Acceleration\": 11.5, \"Year\": \"1973-01-01T00:00:00\", \"Origin\": \"USA\"}, {\"Name\": \"chevrolet caprice classic\", \"Miles_per_Gallon\": 13.0, \"Cylinders\": 8, \"Displacement\": 400.0, \"Horsepower\": 150.0, \"Weight_in_lbs\": 4464, \"Acceleration\": 12.0, \"Year\": \"1973-01-01T00:00:00\", \"Origin\": \"USA\"}, {\"Name\": \"ford ltd\", \"Miles_per_Gallon\": 13.0, \"Cylinders\": 8, \"Displacement\": 351.0, \"Horsepower\": 158.0, \"Weight_in_lbs\": 4363, \"Acceleration\": 13.0, \"Year\": \"1973-01-01T00:00:00\", \"Origin\": \"USA\"}, {\"Name\": \"plymouth fury gran sedan\", \"Miles_per_Gallon\": 14.0, \"Cylinders\": 8, \"Displacement\": 318.0, \"Horsepower\": 150.0, \"Weight_in_lbs\": 4237, \"Acceleration\": 14.5, \"Year\": \"1973-01-01T00:00:00\", \"Origin\": \"USA\"}, {\"Name\": \"chrysler new yorker brougham\", \"Miles_per_Gallon\": 13.0, \"Cylinders\": 8, \"Displacement\": 440.0, \"Horsepower\": 215.0, \"Weight_in_lbs\": 4735, \"Acceleration\": 11.0, \"Year\": \"1973-01-01T00:00:00\", \"Origin\": \"USA\"}, {\"Name\": \"buick electra 225 custom\", \"Miles_per_Gallon\": 12.0, \"Cylinders\": 8, \"Displacement\": 455.0, \"Horsepower\": 225.0, \"Weight_in_lbs\": 4951, \"Acceleration\": 11.0, \"Year\": \"1973-01-01T00:00:00\", \"Origin\": \"USA\"}, {\"Name\": \"amc ambassador brougham\", \"Miles_per_Gallon\": 13.0, \"Cylinders\": 8, \"Displacement\": 360.0, \"Horsepower\": 175.0, \"Weight_in_lbs\": 3821, \"Acceleration\": 11.0, \"Year\": \"1973-01-01T00:00:00\", \"Origin\": \"USA\"}, {\"Name\": \"plymouth valiant\", \"Miles_per_Gallon\": 18.0, \"Cylinders\": 6, \"Displacement\": 225.0, \"Horsepower\": 105.0, \"Weight_in_lbs\": 3121, \"Acceleration\": 16.5, \"Year\": \"1973-01-01T00:00:00\", \"Origin\": \"USA\"}, {\"Name\": \"chevrolet nova custom\", \"Miles_per_Gallon\": 16.0, \"Cylinders\": 6, \"Displacement\": 250.0, \"Horsepower\": 100.0, \"Weight_in_lbs\": 3278, \"Acceleration\": 18.0, \"Year\": \"1973-01-01T00:00:00\", \"Origin\": \"USA\"}, {\"Name\": \"amc hornet\", \"Miles_per_Gallon\": 18.0, \"Cylinders\": 6, \"Displacement\": 232.0, \"Horsepower\": 100.0, \"Weight_in_lbs\": 2945, \"Acceleration\": 16.0, \"Year\": \"1973-01-01T00:00:00\", \"Origin\": \"USA\"}, {\"Name\": \"ford maverick\", \"Miles_per_Gallon\": 18.0, \"Cylinders\": 6, \"Displacement\": 250.0, \"Horsepower\": 88.0, \"Weight_in_lbs\": 3021, \"Acceleration\": 16.5, \"Year\": \"1973-01-01T00:00:00\", \"Origin\": \"USA\"}, {\"Name\": \"plymouth duster\", \"Miles_per_Gallon\": 23.0, \"Cylinders\": 6, \"Displacement\": 198.0, \"Horsepower\": 95.0, \"Weight_in_lbs\": 2904, \"Acceleration\": 16.0, \"Year\": \"1973-01-01T00:00:00\", \"Origin\": \"USA\"}, {\"Name\": \"volkswagen super beetle\", \"Miles_per_Gallon\": 26.0, \"Cylinders\": 4, \"Displacement\": 97.0, \"Horsepower\": 46.0, \"Weight_in_lbs\": 1950, \"Acceleration\": 21.0, \"Year\": \"1973-01-01T00:00:00\", \"Origin\": \"Europe\"}, {\"Name\": \"chevrolet impala\", \"Miles_per_Gallon\": 11.0, \"Cylinders\": 8, \"Displacement\": 400.0, \"Horsepower\": 150.0, \"Weight_in_lbs\": 4997, \"Acceleration\": 14.0, \"Year\": \"1973-01-01T00:00:00\", \"Origin\": \"USA\"}, {\"Name\": \"ford country\", \"Miles_per_Gallon\": 12.0, \"Cylinders\": 8, \"Displacement\": 400.0, \"Horsepower\": 167.0, \"Weight_in_lbs\": 4906, \"Acceleration\": 12.5, \"Year\": \"1973-01-01T00:00:00\", \"Origin\": \"USA\"}, {\"Name\": \"plymouth custom suburb\", \"Miles_per_Gallon\": 13.0, \"Cylinders\": 8, \"Displacement\": 360.0, \"Horsepower\": 170.0, \"Weight_in_lbs\": 4654, \"Acceleration\": 13.0, \"Year\": \"1973-01-01T00:00:00\", \"Origin\": \"USA\"}, {\"Name\": \"oldsmobile vista cruiser\", \"Miles_per_Gallon\": 12.0, \"Cylinders\": 8, \"Displacement\": 350.0, \"Horsepower\": 180.0, \"Weight_in_lbs\": 4499, \"Acceleration\": 12.5, \"Year\": \"1973-01-01T00:00:00\", \"Origin\": \"USA\"}, {\"Name\": \"amc gremlin\", \"Miles_per_Gallon\": 18.0, \"Cylinders\": 6, \"Displacement\": 232.0, \"Horsepower\": 100.0, \"Weight_in_lbs\": 2789, \"Acceleration\": 15.0, \"Year\": \"1973-01-01T00:00:00\", \"Origin\": \"USA\"}, {\"Name\": \"toyota carina\", \"Miles_per_Gallon\": 20.0, \"Cylinders\": 4, \"Displacement\": 97.0, \"Horsepower\": 88.0, \"Weight_in_lbs\": 2279, \"Acceleration\": 19.0, \"Year\": \"1973-01-01T00:00:00\", \"Origin\": \"Japan\"}, {\"Name\": \"chevrolet vega\", \"Miles_per_Gallon\": 21.0, \"Cylinders\": 4, \"Displacement\": 140.0, \"Horsepower\": 72.0, \"Weight_in_lbs\": 2401, \"Acceleration\": 19.5, \"Year\": \"1973-01-01T00:00:00\", \"Origin\": \"USA\"}, {\"Name\": \"datsun 610\", \"Miles_per_Gallon\": 22.0, \"Cylinders\": 4, \"Displacement\": 108.0, \"Horsepower\": 94.0, \"Weight_in_lbs\": 2379, \"Acceleration\": 16.5, \"Year\": \"1973-01-01T00:00:00\", \"Origin\": \"Japan\"}, {\"Name\": \"maxda rx3\", \"Miles_per_Gallon\": 18.0, \"Cylinders\": 3, \"Displacement\": 70.0, \"Horsepower\": 90.0, \"Weight_in_lbs\": 2124, \"Acceleration\": 13.5, \"Year\": \"1973-01-01T00:00:00\", \"Origin\": \"Japan\"}, {\"Name\": \"ford pinto\", \"Miles_per_Gallon\": 19.0, \"Cylinders\": 4, \"Displacement\": 122.0, \"Horsepower\": 85.0, \"Weight_in_lbs\": 2310, \"Acceleration\": 18.5, \"Year\": \"1973-01-01T00:00:00\", \"Origin\": \"USA\"}, {\"Name\": \"mercury capri v6\", \"Miles_per_Gallon\": 21.0, \"Cylinders\": 6, \"Displacement\": 155.0, \"Horsepower\": 107.0, \"Weight_in_lbs\": 2472, \"Acceleration\": 14.0, \"Year\": \"1973-01-01T00:00:00\", \"Origin\": \"USA\"}, {\"Name\": \"fiat 124 sport coupe\", \"Miles_per_Gallon\": 26.0, \"Cylinders\": 4, \"Displacement\": 98.0, \"Horsepower\": 90.0, \"Weight_in_lbs\": 2265, \"Acceleration\": 15.5, \"Year\": \"1973-01-01T00:00:00\", \"Origin\": \"Europe\"}, {\"Name\": \"chevrolet monte carlo s\", \"Miles_per_Gallon\": 15.0, \"Cylinders\": 8, \"Displacement\": 350.0, \"Horsepower\": 145.0, \"Weight_in_lbs\": 4082, \"Acceleration\": 13.0, \"Year\": \"1973-01-01T00:00:00\", \"Origin\": \"USA\"}, {\"Name\": \"pontiac grand prix\", \"Miles_per_Gallon\": 16.0, \"Cylinders\": 8, \"Displacement\": 400.0, \"Horsepower\": 230.0, \"Weight_in_lbs\": 4278, \"Acceleration\": 9.5, \"Year\": \"1973-01-01T00:00:00\", \"Origin\": \"USA\"}, {\"Name\": \"fiat 128\", \"Miles_per_Gallon\": 29.0, \"Cylinders\": 4, \"Displacement\": 68.0, \"Horsepower\": 49.0, \"Weight_in_lbs\": 1867, \"Acceleration\": 19.5, \"Year\": \"1973-01-01T00:00:00\", \"Origin\": \"Europe\"}, {\"Name\": \"opel manta\", \"Miles_per_Gallon\": 24.0, \"Cylinders\": 4, \"Displacement\": 116.0, \"Horsepower\": 75.0, \"Weight_in_lbs\": 2158, \"Acceleration\": 15.5, \"Year\": \"1973-01-01T00:00:00\", \"Origin\": \"Europe\"}, {\"Name\": \"audi 100ls\", \"Miles_per_Gallon\": 20.0, \"Cylinders\": 4, \"Displacement\": 114.0, \"Horsepower\": 91.0, \"Weight_in_lbs\": 2582, \"Acceleration\": 14.0, \"Year\": \"1973-01-01T00:00:00\", \"Origin\": \"Europe\"}, {\"Name\": \"volvo 144ea\", \"Miles_per_Gallon\": 19.0, \"Cylinders\": 4, \"Displacement\": 121.0, \"Horsepower\": 112.0, \"Weight_in_lbs\": 2868, \"Acceleration\": 15.5, \"Year\": \"1973-01-01T00:00:00\", \"Origin\": \"Europe\"}, {\"Name\": \"dodge dart custom\", \"Miles_per_Gallon\": 15.0, \"Cylinders\": 8, \"Displacement\": 318.0, \"Horsepower\": 150.0, \"Weight_in_lbs\": 3399, \"Acceleration\": 11.0, \"Year\": \"1973-01-01T00:00:00\", \"Origin\": \"USA\"}, {\"Name\": \"saab 99le\", \"Miles_per_Gallon\": 24.0, \"Cylinders\": 4, \"Displacement\": 121.0, \"Horsepower\": 110.0, \"Weight_in_lbs\": 2660, \"Acceleration\": 14.0, \"Year\": \"1973-01-01T00:00:00\", \"Origin\": \"Europe\"}, {\"Name\": \"toyota mark ii\", \"Miles_per_Gallon\": 20.0, \"Cylinders\": 6, \"Displacement\": 156.0, \"Horsepower\": 122.0, \"Weight_in_lbs\": 2807, \"Acceleration\": 13.5, \"Year\": \"1973-01-01T00:00:00\", \"Origin\": \"Japan\"}, {\"Name\": \"oldsmobile omega\", \"Miles_per_Gallon\": 11.0, \"Cylinders\": 8, \"Displacement\": 350.0, \"Horsepower\": 180.0, \"Weight_in_lbs\": 3664, \"Acceleration\": 11.0, \"Year\": \"1973-01-01T00:00:00\", \"Origin\": \"USA\"}, {\"Name\": \"plymouth duster\", \"Miles_per_Gallon\": 20.0, \"Cylinders\": 6, \"Displacement\": 198.0, \"Horsepower\": 95.0, \"Weight_in_lbs\": 3102, \"Acceleration\": 16.5, \"Year\": \"1974-01-01T00:00:00\", \"Origin\": \"USA\"}, {\"Name\": \"ford maverick\", \"Miles_per_Gallon\": 21.0, \"Cylinders\": 6, \"Displacement\": 200.0, \"Horsepower\": null, \"Weight_in_lbs\": 2875, \"Acceleration\": 17.0, \"Year\": \"1974-01-01T00:00:00\", \"Origin\": \"USA\"}, {\"Name\": \"amc hornet\", \"Miles_per_Gallon\": 19.0, \"Cylinders\": 6, \"Displacement\": 232.0, \"Horsepower\": 100.0, \"Weight_in_lbs\": 2901, \"Acceleration\": 16.0, \"Year\": \"1974-01-01T00:00:00\", \"Origin\": \"USA\"}, {\"Name\": \"chevrolet nova\", \"Miles_per_Gallon\": 15.0, \"Cylinders\": 6, \"Displacement\": 250.0, \"Horsepower\": 100.0, \"Weight_in_lbs\": 3336, \"Acceleration\": 17.0, \"Year\": \"1974-01-01T00:00:00\", \"Origin\": \"USA\"}, {\"Name\": \"datsun b210\", \"Miles_per_Gallon\": 31.0, \"Cylinders\": 4, \"Displacement\": 79.0, \"Horsepower\": 67.0, \"Weight_in_lbs\": 1950, \"Acceleration\": 19.0, \"Year\": \"1974-01-01T00:00:00\", \"Origin\": \"Japan\"}, {\"Name\": \"ford pinto\", \"Miles_per_Gallon\": 26.0, \"Cylinders\": 4, \"Displacement\": 122.0, \"Horsepower\": 80.0, \"Weight_in_lbs\": 2451, \"Acceleration\": 16.5, \"Year\": \"1974-01-01T00:00:00\", \"Origin\": \"USA\"}, {\"Name\": \"toyota corolla 1200\", \"Miles_per_Gallon\": 32.0, \"Cylinders\": 4, \"Displacement\": 71.0, \"Horsepower\": 65.0, \"Weight_in_lbs\": 1836, \"Acceleration\": 21.0, \"Year\": \"1974-01-01T00:00:00\", \"Origin\": \"Japan\"}, {\"Name\": \"chevrolet vega\", \"Miles_per_Gallon\": 25.0, \"Cylinders\": 4, \"Displacement\": 140.0, \"Horsepower\": 75.0, \"Weight_in_lbs\": 2542, \"Acceleration\": 17.0, \"Year\": \"1974-01-01T00:00:00\", \"Origin\": \"USA\"}, {\"Name\": \"chevrolet chevelle malibu classic\", \"Miles_per_Gallon\": 16.0, \"Cylinders\": 6, \"Displacement\": 250.0, \"Horsepower\": 100.0, \"Weight_in_lbs\": 3781, \"Acceleration\": 17.0, \"Year\": \"1974-01-01T00:00:00\", \"Origin\": \"USA\"}, {\"Name\": \"amc matador\", \"Miles_per_Gallon\": 16.0, \"Cylinders\": 6, \"Displacement\": 258.0, \"Horsepower\": 110.0, \"Weight_in_lbs\": 3632, \"Acceleration\": 18.0, \"Year\": \"1974-01-01T00:00:00\", \"Origin\": \"USA\"}, {\"Name\": \"plymouth satellite sebring\", \"Miles_per_Gallon\": 18.0, \"Cylinders\": 6, \"Displacement\": 225.0, \"Horsepower\": 105.0, \"Weight_in_lbs\": 3613, \"Acceleration\": 16.5, \"Year\": \"1974-01-01T00:00:00\", \"Origin\": \"USA\"}, {\"Name\": \"ford gran torino\", \"Miles_per_Gallon\": 16.0, \"Cylinders\": 8, \"Displacement\": 302.0, \"Horsepower\": 140.0, \"Weight_in_lbs\": 4141, \"Acceleration\": 14.0, \"Year\": \"1974-01-01T00:00:00\", \"Origin\": \"USA\"}, {\"Name\": \"buick century luxus (sw)\", \"Miles_per_Gallon\": 13.0, \"Cylinders\": 8, \"Displacement\": 350.0, \"Horsepower\": 150.0, \"Weight_in_lbs\": 4699, \"Acceleration\": 14.5, \"Year\": \"1974-01-01T00:00:00\", \"Origin\": \"USA\"}, {\"Name\": \"dodge coronet custom (sw)\", \"Miles_per_Gallon\": 14.0, \"Cylinders\": 8, \"Displacement\": 318.0, \"Horsepower\": 150.0, \"Weight_in_lbs\": 4457, \"Acceleration\": 13.5, \"Year\": \"1974-01-01T00:00:00\", \"Origin\": \"USA\"}, {\"Name\": \"ford gran torino (sw)\", \"Miles_per_Gallon\": 14.0, \"Cylinders\": 8, \"Displacement\": 302.0, \"Horsepower\": 140.0, \"Weight_in_lbs\": 4638, \"Acceleration\": 16.0, \"Year\": \"1974-01-01T00:00:00\", \"Origin\": \"USA\"}, {\"Name\": \"amc matador (sw)\", \"Miles_per_Gallon\": 14.0, \"Cylinders\": 8, \"Displacement\": 304.0, \"Horsepower\": 150.0, \"Weight_in_lbs\": 4257, \"Acceleration\": 15.5, \"Year\": \"1974-01-01T00:00:00\", \"Origin\": \"USA\"}, {\"Name\": \"audi fox\", \"Miles_per_Gallon\": 29.0, \"Cylinders\": 4, \"Displacement\": 98.0, \"Horsepower\": 83.0, \"Weight_in_lbs\": 2219, \"Acceleration\": 16.5, \"Year\": \"1974-01-01T00:00:00\", \"Origin\": \"Europe\"}, {\"Name\": \"volkswagen dasher\", \"Miles_per_Gallon\": 26.0, \"Cylinders\": 4, \"Displacement\": 79.0, \"Horsepower\": 67.0, \"Weight_in_lbs\": 1963, \"Acceleration\": 15.5, \"Year\": \"1974-01-01T00:00:00\", \"Origin\": \"Europe\"}, {\"Name\": \"opel manta\", \"Miles_per_Gallon\": 26.0, \"Cylinders\": 4, \"Displacement\": 97.0, \"Horsepower\": 78.0, \"Weight_in_lbs\": 2300, \"Acceleration\": 14.5, \"Year\": \"1974-01-01T00:00:00\", \"Origin\": \"Europe\"}, {\"Name\": \"toyota corona\", \"Miles_per_Gallon\": 31.0, \"Cylinders\": 4, \"Displacement\": 76.0, \"Horsepower\": 52.0, \"Weight_in_lbs\": 1649, \"Acceleration\": 16.5, \"Year\": \"1974-01-01T00:00:00\", \"Origin\": \"Japan\"}, {\"Name\": \"datsun 710\", \"Miles_per_Gallon\": 32.0, \"Cylinders\": 4, \"Displacement\": 83.0, \"Horsepower\": 61.0, \"Weight_in_lbs\": 2003, \"Acceleration\": 19.0, \"Year\": \"1974-01-01T00:00:00\", \"Origin\": \"Japan\"}, {\"Name\": \"dodge colt\", \"Miles_per_Gallon\": 28.0, \"Cylinders\": 4, \"Displacement\": 90.0, \"Horsepower\": 75.0, \"Weight_in_lbs\": 2125, \"Acceleration\": 14.5, \"Year\": \"1974-01-01T00:00:00\", \"Origin\": \"USA\"}, {\"Name\": \"fiat 128\", \"Miles_per_Gallon\": 24.0, \"Cylinders\": 4, \"Displacement\": 90.0, \"Horsepower\": 75.0, \"Weight_in_lbs\": 2108, \"Acceleration\": 15.5, \"Year\": \"1974-01-01T00:00:00\", \"Origin\": \"Europe\"}, {\"Name\": \"fiat 124 tc\", \"Miles_per_Gallon\": 26.0, \"Cylinders\": 4, \"Displacement\": 116.0, \"Horsepower\": 75.0, \"Weight_in_lbs\": 2246, \"Acceleration\": 14.0, \"Year\": \"1974-01-01T00:00:00\", \"Origin\": \"Europe\"}, {\"Name\": \"honda civic\", \"Miles_per_Gallon\": 24.0, \"Cylinders\": 4, \"Displacement\": 120.0, \"Horsepower\": 97.0, \"Weight_in_lbs\": 2489, \"Acceleration\": 15.0, \"Year\": \"1974-01-01T00:00:00\", \"Origin\": \"Japan\"}, {\"Name\": \"subaru\", \"Miles_per_Gallon\": 26.0, \"Cylinders\": 4, \"Displacement\": 108.0, \"Horsepower\": 93.0, \"Weight_in_lbs\": 2391, \"Acceleration\": 15.5, \"Year\": \"1974-01-01T00:00:00\", \"Origin\": \"Japan\"}, {\"Name\": \"fiat x1.9\", \"Miles_per_Gallon\": 31.0, \"Cylinders\": 4, \"Displacement\": 79.0, \"Horsepower\": 67.0, \"Weight_in_lbs\": 2000, \"Acceleration\": 16.0, \"Year\": \"1974-01-01T00:00:00\", \"Origin\": \"Europe\"}, {\"Name\": \"plymouth valiant custom\", \"Miles_per_Gallon\": 19.0, \"Cylinders\": 6, \"Displacement\": 225.0, \"Horsepower\": 95.0, \"Weight_in_lbs\": 3264, \"Acceleration\": 16.0, \"Year\": \"1975-01-01T00:00:00\", \"Origin\": \"USA\"}, {\"Name\": \"chevrolet nova\", \"Miles_per_Gallon\": 18.0, \"Cylinders\": 6, \"Displacement\": 250.0, \"Horsepower\": 105.0, \"Weight_in_lbs\": 3459, \"Acceleration\": 16.0, \"Year\": \"1975-01-01T00:00:00\", \"Origin\": \"USA\"}, {\"Name\": \"mercury monarch\", \"Miles_per_Gallon\": 15.0, \"Cylinders\": 6, \"Displacement\": 250.0, \"Horsepower\": 72.0, \"Weight_in_lbs\": 3432, \"Acceleration\": 21.0, \"Year\": \"1975-01-01T00:00:00\", \"Origin\": \"USA\"}, {\"Name\": \"ford maverick\", \"Miles_per_Gallon\": 15.0, \"Cylinders\": 6, \"Displacement\": 250.0, \"Horsepower\": 72.0, \"Weight_in_lbs\": 3158, \"Acceleration\": 19.5, \"Year\": \"1975-01-01T00:00:00\", \"Origin\": \"USA\"}, {\"Name\": \"pontiac catalina\", \"Miles_per_Gallon\": 16.0, \"Cylinders\": 8, \"Displacement\": 400.0, \"Horsepower\": 170.0, \"Weight_in_lbs\": 4668, \"Acceleration\": 11.5, \"Year\": \"1975-01-01T00:00:00\", \"Origin\": \"USA\"}, {\"Name\": \"chevrolet bel air\", \"Miles_per_Gallon\": 15.0, \"Cylinders\": 8, \"Displacement\": 350.0, \"Horsepower\": 145.0, \"Weight_in_lbs\": 4440, \"Acceleration\": 14.0, \"Year\": \"1975-01-01T00:00:00\", \"Origin\": \"USA\"}, {\"Name\": \"plymouth grand fury\", \"Miles_per_Gallon\": 16.0, \"Cylinders\": 8, \"Displacement\": 318.0, \"Horsepower\": 150.0, \"Weight_in_lbs\": 4498, \"Acceleration\": 14.5, \"Year\": \"1975-01-01T00:00:00\", \"Origin\": \"USA\"}, {\"Name\": \"ford ltd\", \"Miles_per_Gallon\": 14.0, \"Cylinders\": 8, \"Displacement\": 351.0, \"Horsepower\": 148.0, \"Weight_in_lbs\": 4657, \"Acceleration\": 13.5, \"Year\": \"1975-01-01T00:00:00\", \"Origin\": \"USA\"}, {\"Name\": \"buick century\", \"Miles_per_Gallon\": 17.0, \"Cylinders\": 6, \"Displacement\": 231.0, \"Horsepower\": 110.0, \"Weight_in_lbs\": 3907, \"Acceleration\": 21.0, \"Year\": \"1975-01-01T00:00:00\", \"Origin\": \"USA\"}, {\"Name\": \"chevroelt chevelle malibu\", \"Miles_per_Gallon\": 16.0, \"Cylinders\": 6, \"Displacement\": 250.0, \"Horsepower\": 105.0, \"Weight_in_lbs\": 3897, \"Acceleration\": 18.5, \"Year\": \"1975-01-01T00:00:00\", \"Origin\": \"USA\"}, {\"Name\": \"amc matador\", \"Miles_per_Gallon\": 15.0, \"Cylinders\": 6, \"Displacement\": 258.0, \"Horsepower\": 110.0, \"Weight_in_lbs\": 3730, \"Acceleration\": 19.0, \"Year\": \"1975-01-01T00:00:00\", \"Origin\": \"USA\"}, {\"Name\": \"plymouth fury\", \"Miles_per_Gallon\": 18.0, \"Cylinders\": 6, \"Displacement\": 225.0, \"Horsepower\": 95.0, \"Weight_in_lbs\": 3785, \"Acceleration\": 19.0, \"Year\": \"1975-01-01T00:00:00\", \"Origin\": \"USA\"}, {\"Name\": \"buick skyhawk\", \"Miles_per_Gallon\": 21.0, \"Cylinders\": 6, \"Displacement\": 231.0, \"Horsepower\": 110.0, \"Weight_in_lbs\": 3039, \"Acceleration\": 15.0, \"Year\": \"1975-01-01T00:00:00\", \"Origin\": \"USA\"}, {\"Name\": \"chevrolet monza 2+2\", \"Miles_per_Gallon\": 20.0, \"Cylinders\": 8, \"Displacement\": 262.0, \"Horsepower\": 110.0, \"Weight_in_lbs\": 3221, \"Acceleration\": 13.5, \"Year\": \"1975-01-01T00:00:00\", \"Origin\": \"USA\"}, {\"Name\": \"ford mustang ii\", \"Miles_per_Gallon\": 13.0, \"Cylinders\": 8, \"Displacement\": 302.0, \"Horsepower\": 129.0, \"Weight_in_lbs\": 3169, \"Acceleration\": 12.0, \"Year\": \"1975-01-01T00:00:00\", \"Origin\": \"USA\"}, {\"Name\": \"toyota corolla\", \"Miles_per_Gallon\": 29.0, \"Cylinders\": 4, \"Displacement\": 97.0, \"Horsepower\": 75.0, \"Weight_in_lbs\": 2171, \"Acceleration\": 16.0, \"Year\": \"1975-01-01T00:00:00\", \"Origin\": \"Japan\"}, {\"Name\": \"ford pinto\", \"Miles_per_Gallon\": 23.0, \"Cylinders\": 4, \"Displacement\": 140.0, \"Horsepower\": 83.0, \"Weight_in_lbs\": 2639, \"Acceleration\": 17.0, \"Year\": \"1975-01-01T00:00:00\", \"Origin\": \"USA\"}, {\"Name\": \"amc gremlin\", \"Miles_per_Gallon\": 20.0, \"Cylinders\": 6, \"Displacement\": 232.0, \"Horsepower\": 100.0, \"Weight_in_lbs\": 2914, \"Acceleration\": 16.0, \"Year\": \"1975-01-01T00:00:00\", \"Origin\": \"USA\"}, {\"Name\": \"pontiac astro\", \"Miles_per_Gallon\": 23.0, \"Cylinders\": 4, \"Displacement\": 140.0, \"Horsepower\": 78.0, \"Weight_in_lbs\": 2592, \"Acceleration\": 18.5, \"Year\": \"1975-01-01T00:00:00\", \"Origin\": \"USA\"}, {\"Name\": \"toyota corona\", \"Miles_per_Gallon\": 24.0, \"Cylinders\": 4, \"Displacement\": 134.0, \"Horsepower\": 96.0, \"Weight_in_lbs\": 2702, \"Acceleration\": 13.5, \"Year\": \"1975-01-01T00:00:00\", \"Origin\": \"Japan\"}, {\"Name\": \"volkswagen dasher\", \"Miles_per_Gallon\": 25.0, \"Cylinders\": 4, \"Displacement\": 90.0, \"Horsepower\": 71.0, \"Weight_in_lbs\": 2223, \"Acceleration\": 16.5, \"Year\": \"1975-01-01T00:00:00\", \"Origin\": \"Europe\"}, {\"Name\": \"datsun 710\", \"Miles_per_Gallon\": 24.0, \"Cylinders\": 4, \"Displacement\": 119.0, \"Horsepower\": 97.0, \"Weight_in_lbs\": 2545, \"Acceleration\": 17.0, \"Year\": \"1975-01-01T00:00:00\", \"Origin\": \"Japan\"}, {\"Name\": \"ford pinto\", \"Miles_per_Gallon\": 18.0, \"Cylinders\": 6, \"Displacement\": 171.0, \"Horsepower\": 97.0, \"Weight_in_lbs\": 2984, \"Acceleration\": 14.5, \"Year\": \"1975-01-01T00:00:00\", \"Origin\": \"USA\"}, {\"Name\": \"volkswagen rabbit\", \"Miles_per_Gallon\": 29.0, \"Cylinders\": 4, \"Displacement\": 90.0, \"Horsepower\": 70.0, \"Weight_in_lbs\": 1937, \"Acceleration\": 14.0, \"Year\": \"1975-01-01T00:00:00\", \"Origin\": \"Europe\"}, {\"Name\": \"amc pacer\", \"Miles_per_Gallon\": 19.0, \"Cylinders\": 6, \"Displacement\": 232.0, \"Horsepower\": 90.0, \"Weight_in_lbs\": 3211, \"Acceleration\": 17.0, \"Year\": \"1975-01-01T00:00:00\", \"Origin\": \"USA\"}, {\"Name\": \"audi 100ls\", \"Miles_per_Gallon\": 23.0, \"Cylinders\": 4, \"Displacement\": 115.0, \"Horsepower\": 95.0, \"Weight_in_lbs\": 2694, \"Acceleration\": 15.0, \"Year\": \"1975-01-01T00:00:00\", \"Origin\": \"Europe\"}, {\"Name\": \"peugeot 504\", \"Miles_per_Gallon\": 23.0, \"Cylinders\": 4, \"Displacement\": 120.0, \"Horsepower\": 88.0, \"Weight_in_lbs\": 2957, \"Acceleration\": 17.0, \"Year\": \"1975-01-01T00:00:00\", \"Origin\": \"Europe\"}, {\"Name\": \"volvo 244dl\", \"Miles_per_Gallon\": 22.0, \"Cylinders\": 4, \"Displacement\": 121.0, \"Horsepower\": 98.0, \"Weight_in_lbs\": 2945, \"Acceleration\": 14.5, \"Year\": \"1975-01-01T00:00:00\", \"Origin\": \"Europe\"}, {\"Name\": \"saab 99le\", \"Miles_per_Gallon\": 25.0, \"Cylinders\": 4, \"Displacement\": 121.0, \"Horsepower\": 115.0, \"Weight_in_lbs\": 2671, \"Acceleration\": 13.5, \"Year\": \"1975-01-01T00:00:00\", \"Origin\": \"Europe\"}, {\"Name\": \"honda civic cvcc\", \"Miles_per_Gallon\": 33.0, \"Cylinders\": 4, \"Displacement\": 91.0, \"Horsepower\": 53.0, \"Weight_in_lbs\": 1795, \"Acceleration\": 17.5, \"Year\": \"1975-01-01T00:00:00\", \"Origin\": \"Japan\"}, {\"Name\": \"fiat 131\", \"Miles_per_Gallon\": 28.0, \"Cylinders\": 4, \"Displacement\": 107.0, \"Horsepower\": 86.0, \"Weight_in_lbs\": 2464, \"Acceleration\": 15.5, \"Year\": \"1976-01-01T00:00:00\", \"Origin\": \"Europe\"}, {\"Name\": \"opel 1900\", \"Miles_per_Gallon\": 25.0, \"Cylinders\": 4, \"Displacement\": 116.0, \"Horsepower\": 81.0, \"Weight_in_lbs\": 2220, \"Acceleration\": 16.9, \"Year\": \"1976-01-01T00:00:00\", \"Origin\": \"Europe\"}, {\"Name\": \"capri ii\", \"Miles_per_Gallon\": 25.0, \"Cylinders\": 4, \"Displacement\": 140.0, \"Horsepower\": 92.0, \"Weight_in_lbs\": 2572, \"Acceleration\": 14.9, \"Year\": \"1976-01-01T00:00:00\", \"Origin\": \"USA\"}, {\"Name\": \"dodge colt\", \"Miles_per_Gallon\": 26.0, \"Cylinders\": 4, \"Displacement\": 98.0, \"Horsepower\": 79.0, \"Weight_in_lbs\": 2255, \"Acceleration\": 17.7, \"Year\": \"1976-01-01T00:00:00\", \"Origin\": \"USA\"}, {\"Name\": \"renault 12tl\", \"Miles_per_Gallon\": 27.0, \"Cylinders\": 4, \"Displacement\": 101.0, \"Horsepower\": 83.0, \"Weight_in_lbs\": 2202, \"Acceleration\": 15.3, \"Year\": \"1976-01-01T00:00:00\", \"Origin\": \"Europe\"}, {\"Name\": \"chevrolet chevelle malibu classic\", \"Miles_per_Gallon\": 17.5, \"Cylinders\": 8, \"Displacement\": 305.0, \"Horsepower\": 140.0, \"Weight_in_lbs\": 4215, \"Acceleration\": 13.0, \"Year\": \"1976-01-01T00:00:00\", \"Origin\": \"USA\"}, {\"Name\": \"dodge coronet brougham\", \"Miles_per_Gallon\": 16.0, \"Cylinders\": 8, \"Displacement\": 318.0, \"Horsepower\": 150.0, \"Weight_in_lbs\": 4190, \"Acceleration\": 13.0, \"Year\": \"1976-01-01T00:00:00\", \"Origin\": \"USA\"}, {\"Name\": \"amc matador\", \"Miles_per_Gallon\": 15.5, \"Cylinders\": 8, \"Displacement\": 304.0, \"Horsepower\": 120.0, \"Weight_in_lbs\": 3962, \"Acceleration\": 13.9, \"Year\": \"1976-01-01T00:00:00\", \"Origin\": \"USA\"}, {\"Name\": \"ford gran torino\", \"Miles_per_Gallon\": 14.5, \"Cylinders\": 8, \"Displacement\": 351.0, \"Horsepower\": 152.0, \"Weight_in_lbs\": 4215, \"Acceleration\": 12.8, \"Year\": \"1976-01-01T00:00:00\", \"Origin\": \"USA\"}, {\"Name\": \"plymouth valiant\", \"Miles_per_Gallon\": 22.0, \"Cylinders\": 6, \"Displacement\": 225.0, \"Horsepower\": 100.0, \"Weight_in_lbs\": 3233, \"Acceleration\": 15.4, \"Year\": \"1976-01-01T00:00:00\", \"Origin\": \"USA\"}, {\"Name\": \"chevrolet nova\", \"Miles_per_Gallon\": 22.0, \"Cylinders\": 6, \"Displacement\": 250.0, \"Horsepower\": 105.0, \"Weight_in_lbs\": 3353, \"Acceleration\": 14.5, \"Year\": \"1976-01-01T00:00:00\", \"Origin\": \"USA\"}, {\"Name\": \"ford maverick\", \"Miles_per_Gallon\": 24.0, \"Cylinders\": 6, \"Displacement\": 200.0, \"Horsepower\": 81.0, \"Weight_in_lbs\": 3012, \"Acceleration\": 17.6, \"Year\": \"1976-01-01T00:00:00\", \"Origin\": \"USA\"}, {\"Name\": \"amc hornet\", \"Miles_per_Gallon\": 22.5, \"Cylinders\": 6, \"Displacement\": 232.0, \"Horsepower\": 90.0, \"Weight_in_lbs\": 3085, \"Acceleration\": 17.6, \"Year\": \"1976-01-01T00:00:00\", \"Origin\": \"USA\"}, {\"Name\": \"chevrolet chevette\", \"Miles_per_Gallon\": 29.0, \"Cylinders\": 4, \"Displacement\": 85.0, \"Horsepower\": 52.0, \"Weight_in_lbs\": 2035, \"Acceleration\": 22.2, \"Year\": \"1976-01-01T00:00:00\", \"Origin\": \"USA\"}, {\"Name\": \"chevrolet woody\", \"Miles_per_Gallon\": 24.5, \"Cylinders\": 4, \"Displacement\": 98.0, \"Horsepower\": 60.0, \"Weight_in_lbs\": 2164, \"Acceleration\": 22.1, \"Year\": \"1976-01-01T00:00:00\", \"Origin\": \"USA\"}, {\"Name\": \"vw rabbit\", \"Miles_per_Gallon\": 29.0, \"Cylinders\": 4, \"Displacement\": 90.0, \"Horsepower\": 70.0, \"Weight_in_lbs\": 1937, \"Acceleration\": 14.2, \"Year\": \"1976-01-01T00:00:00\", \"Origin\": \"Europe\"}, {\"Name\": \"honda civic\", \"Miles_per_Gallon\": 33.0, \"Cylinders\": 4, \"Displacement\": 91.0, \"Horsepower\": 53.0, \"Weight_in_lbs\": 1795, \"Acceleration\": 17.4, \"Year\": \"1976-01-01T00:00:00\", \"Origin\": \"Japan\"}, {\"Name\": \"dodge aspen se\", \"Miles_per_Gallon\": 20.0, \"Cylinders\": 6, \"Displacement\": 225.0, \"Horsepower\": 100.0, \"Weight_in_lbs\": 3651, \"Acceleration\": 17.7, \"Year\": \"1976-01-01T00:00:00\", \"Origin\": \"USA\"}, {\"Name\": \"ford granada ghia\", \"Miles_per_Gallon\": 18.0, \"Cylinders\": 6, \"Displacement\": 250.0, \"Horsepower\": 78.0, \"Weight_in_lbs\": 3574, \"Acceleration\": 21.0, \"Year\": \"1976-01-01T00:00:00\", \"Origin\": \"USA\"}, {\"Name\": \"pontiac ventura sj\", \"Miles_per_Gallon\": 18.5, \"Cylinders\": 6, \"Displacement\": 250.0, \"Horsepower\": 110.0, \"Weight_in_lbs\": 3645, \"Acceleration\": 16.2, \"Year\": \"1976-01-01T00:00:00\", \"Origin\": \"USA\"}, {\"Name\": \"amc pacer d/l\", \"Miles_per_Gallon\": 17.5, \"Cylinders\": 6, \"Displacement\": 258.0, \"Horsepower\": 95.0, \"Weight_in_lbs\": 3193, \"Acceleration\": 17.8, \"Year\": \"1976-01-01T00:00:00\", \"Origin\": \"USA\"}, {\"Name\": \"volkswagen rabbit\", \"Miles_per_Gallon\": 29.5, \"Cylinders\": 4, \"Displacement\": 97.0, \"Horsepower\": 71.0, \"Weight_in_lbs\": 1825, \"Acceleration\": 12.2, \"Year\": \"1976-01-01T00:00:00\", \"Origin\": \"Europe\"}, {\"Name\": \"datsun b-210\", \"Miles_per_Gallon\": 32.0, \"Cylinders\": 4, \"Displacement\": 85.0, \"Horsepower\": 70.0, \"Weight_in_lbs\": 1990, \"Acceleration\": 17.0, \"Year\": \"1976-01-01T00:00:00\", \"Origin\": \"Japan\"}, {\"Name\": \"toyota corolla\", \"Miles_per_Gallon\": 28.0, \"Cylinders\": 4, \"Displacement\": 97.0, \"Horsepower\": 75.0, \"Weight_in_lbs\": 2155, \"Acceleration\": 16.4, \"Year\": \"1976-01-01T00:00:00\", \"Origin\": \"Japan\"}, {\"Name\": \"ford pinto\", \"Miles_per_Gallon\": 26.5, \"Cylinders\": 4, \"Displacement\": 140.0, \"Horsepower\": 72.0, \"Weight_in_lbs\": 2565, \"Acceleration\": 13.6, \"Year\": \"1976-01-01T00:00:00\", \"Origin\": \"USA\"}, {\"Name\": \"volvo 245\", \"Miles_per_Gallon\": 20.0, \"Cylinders\": 4, \"Displacement\": 130.0, \"Horsepower\": 102.0, \"Weight_in_lbs\": 3150, \"Acceleration\": 15.7, \"Year\": \"1976-01-01T00:00:00\", \"Origin\": \"Europe\"}, {\"Name\": \"plymouth volare premier v8\", \"Miles_per_Gallon\": 13.0, \"Cylinders\": 8, \"Displacement\": 318.0, \"Horsepower\": 150.0, \"Weight_in_lbs\": 3940, \"Acceleration\": 13.2, \"Year\": \"1976-01-01T00:00:00\", \"Origin\": \"USA\"}, {\"Name\": \"peugeot 504\", \"Miles_per_Gallon\": 19.0, \"Cylinders\": 4, \"Displacement\": 120.0, \"Horsepower\": 88.0, \"Weight_in_lbs\": 3270, \"Acceleration\": 21.9, \"Year\": \"1976-01-01T00:00:00\", \"Origin\": \"Europe\"}, {\"Name\": \"toyota mark ii\", \"Miles_per_Gallon\": 19.0, \"Cylinders\": 6, \"Displacement\": 156.0, \"Horsepower\": 108.0, \"Weight_in_lbs\": 2930, \"Acceleration\": 15.5, \"Year\": \"1976-01-01T00:00:00\", \"Origin\": \"Japan\"}, {\"Name\": \"mercedes-benz 280s\", \"Miles_per_Gallon\": 16.5, \"Cylinders\": 6, \"Displacement\": 168.0, \"Horsepower\": 120.0, \"Weight_in_lbs\": 3820, \"Acceleration\": 16.7, \"Year\": \"1976-01-01T00:00:00\", \"Origin\": \"Europe\"}, {\"Name\": \"cadillac seville\", \"Miles_per_Gallon\": 16.5, \"Cylinders\": 8, \"Displacement\": 350.0, \"Horsepower\": 180.0, \"Weight_in_lbs\": 4380, \"Acceleration\": 12.1, \"Year\": \"1976-01-01T00:00:00\", \"Origin\": \"USA\"}, {\"Name\": \"chevy c10\", \"Miles_per_Gallon\": 13.0, \"Cylinders\": 8, \"Displacement\": 350.0, \"Horsepower\": 145.0, \"Weight_in_lbs\": 4055, \"Acceleration\": 12.0, \"Year\": \"1976-01-01T00:00:00\", \"Origin\": \"USA\"}, {\"Name\": \"ford f108\", \"Miles_per_Gallon\": 13.0, \"Cylinders\": 8, \"Displacement\": 302.0, \"Horsepower\": 130.0, \"Weight_in_lbs\": 3870, \"Acceleration\": 15.0, \"Year\": \"1976-01-01T00:00:00\", \"Origin\": \"USA\"}, {\"Name\": \"dodge d100\", \"Miles_per_Gallon\": 13.0, \"Cylinders\": 8, \"Displacement\": 318.0, \"Horsepower\": 150.0, \"Weight_in_lbs\": 3755, \"Acceleration\": 14.0, \"Year\": \"1976-01-01T00:00:00\", \"Origin\": \"USA\"}, {\"Name\": \"honda Accelerationord cvcc\", \"Miles_per_Gallon\": 31.5, \"Cylinders\": 4, \"Displacement\": 98.0, \"Horsepower\": 68.0, \"Weight_in_lbs\": 2045, \"Acceleration\": 18.5, \"Year\": \"1977-01-01T00:00:00\", \"Origin\": \"Japan\"}, {\"Name\": \"buick opel isuzu deluxe\", \"Miles_per_Gallon\": 30.0, \"Cylinders\": 4, \"Displacement\": 111.0, \"Horsepower\": 80.0, \"Weight_in_lbs\": 2155, \"Acceleration\": 14.8, \"Year\": \"1977-01-01T00:00:00\", \"Origin\": \"USA\"}, {\"Name\": \"renault 5 gtl\", \"Miles_per_Gallon\": 36.0, \"Cylinders\": 4, \"Displacement\": 79.0, \"Horsepower\": 58.0, \"Weight_in_lbs\": 1825, \"Acceleration\": 18.6, \"Year\": \"1977-01-01T00:00:00\", \"Origin\": \"Europe\"}, {\"Name\": \"plymouth arrow gs\", \"Miles_per_Gallon\": 25.5, \"Cylinders\": 4, \"Displacement\": 122.0, \"Horsepower\": 96.0, \"Weight_in_lbs\": 2300, \"Acceleration\": 15.5, \"Year\": \"1977-01-01T00:00:00\", \"Origin\": \"USA\"}, {\"Name\": \"datsun f-10 hatchback\", \"Miles_per_Gallon\": 33.5, \"Cylinders\": 4, \"Displacement\": 85.0, \"Horsepower\": 70.0, \"Weight_in_lbs\": 1945, \"Acceleration\": 16.8, \"Year\": \"1977-01-01T00:00:00\", \"Origin\": \"Japan\"}, {\"Name\": \"chevrolet caprice classic\", \"Miles_per_Gallon\": 17.5, \"Cylinders\": 8, \"Displacement\": 305.0, \"Horsepower\": 145.0, \"Weight_in_lbs\": 3880, \"Acceleration\": 12.5, \"Year\": \"1977-01-01T00:00:00\", \"Origin\": \"USA\"}, {\"Name\": \"oldsmobile cutlass supreme\", \"Miles_per_Gallon\": 17.0, \"Cylinders\": 8, \"Displacement\": 260.0, \"Horsepower\": 110.0, \"Weight_in_lbs\": 4060, \"Acceleration\": 19.0, \"Year\": \"1977-01-01T00:00:00\", \"Origin\": \"USA\"}, {\"Name\": \"dodge monaco brougham\", \"Miles_per_Gallon\": 15.5, \"Cylinders\": 8, \"Displacement\": 318.0, \"Horsepower\": 145.0, \"Weight_in_lbs\": 4140, \"Acceleration\": 13.7, \"Year\": \"1977-01-01T00:00:00\", \"Origin\": \"USA\"}, {\"Name\": \"mercury cougar brougham\", \"Miles_per_Gallon\": 15.0, \"Cylinders\": 8, \"Displacement\": 302.0, \"Horsepower\": 130.0, \"Weight_in_lbs\": 4295, \"Acceleration\": 14.9, \"Year\": \"1977-01-01T00:00:00\", \"Origin\": \"USA\"}, {\"Name\": \"chevrolet concours\", \"Miles_per_Gallon\": 17.5, \"Cylinders\": 6, \"Displacement\": 250.0, \"Horsepower\": 110.0, \"Weight_in_lbs\": 3520, \"Acceleration\": 16.4, \"Year\": \"1977-01-01T00:00:00\", \"Origin\": \"USA\"}, {\"Name\": \"buick skylark\", \"Miles_per_Gallon\": 20.5, \"Cylinders\": 6, \"Displacement\": 231.0, \"Horsepower\": 105.0, \"Weight_in_lbs\": 3425, \"Acceleration\": 16.9, \"Year\": \"1977-01-01T00:00:00\", \"Origin\": \"USA\"}, {\"Name\": \"plymouth volare custom\", \"Miles_per_Gallon\": 19.0, \"Cylinders\": 6, \"Displacement\": 225.0, \"Horsepower\": 100.0, \"Weight_in_lbs\": 3630, \"Acceleration\": 17.7, \"Year\": \"1977-01-01T00:00:00\", \"Origin\": \"USA\"}, {\"Name\": \"ford granada\", \"Miles_per_Gallon\": 18.5, \"Cylinders\": 6, \"Displacement\": 250.0, \"Horsepower\": 98.0, \"Weight_in_lbs\": 3525, \"Acceleration\": 19.0, \"Year\": \"1977-01-01T00:00:00\", \"Origin\": \"USA\"}, {\"Name\": \"pontiac grand prix lj\", \"Miles_per_Gallon\": 16.0, \"Cylinders\": 8, \"Displacement\": 400.0, \"Horsepower\": 180.0, \"Weight_in_lbs\": 4220, \"Acceleration\": 11.1, \"Year\": \"1977-01-01T00:00:00\", \"Origin\": \"USA\"}, {\"Name\": \"chevrolet monte carlo landau\", \"Miles_per_Gallon\": 15.5, \"Cylinders\": 8, \"Displacement\": 350.0, \"Horsepower\": 170.0, \"Weight_in_lbs\": 4165, \"Acceleration\": 11.4, \"Year\": \"1977-01-01T00:00:00\", \"Origin\": \"USA\"}, {\"Name\": \"chrysler cordoba\", \"Miles_per_Gallon\": 15.5, \"Cylinders\": 8, \"Displacement\": 400.0, \"Horsepower\": 190.0, \"Weight_in_lbs\": 4325, \"Acceleration\": 12.2, \"Year\": \"1977-01-01T00:00:00\", \"Origin\": \"USA\"}, {\"Name\": \"ford thunderbird\", \"Miles_per_Gallon\": 16.0, \"Cylinders\": 8, \"Displacement\": 351.0, \"Horsepower\": 149.0, \"Weight_in_lbs\": 4335, \"Acceleration\": 14.5, \"Year\": \"1977-01-01T00:00:00\", \"Origin\": \"USA\"}, {\"Name\": \"volkswagen rabbit custom\", \"Miles_per_Gallon\": 29.0, \"Cylinders\": 4, \"Displacement\": 97.0, \"Horsepower\": 78.0, \"Weight_in_lbs\": 1940, \"Acceleration\": 14.5, \"Year\": \"1977-01-01T00:00:00\", \"Origin\": \"Europe\"}, {\"Name\": \"pontiac sunbird coupe\", \"Miles_per_Gallon\": 24.5, \"Cylinders\": 4, \"Displacement\": 151.0, \"Horsepower\": 88.0, \"Weight_in_lbs\": 2740, \"Acceleration\": 16.0, \"Year\": \"1977-01-01T00:00:00\", \"Origin\": \"USA\"}, {\"Name\": \"toyota corolla liftback\", \"Miles_per_Gallon\": 26.0, \"Cylinders\": 4, \"Displacement\": 97.0, \"Horsepower\": 75.0, \"Weight_in_lbs\": 2265, \"Acceleration\": 18.2, \"Year\": \"1977-01-01T00:00:00\", \"Origin\": \"Japan\"}, {\"Name\": \"ford mustang ii 2+2\", \"Miles_per_Gallon\": 25.5, \"Cylinders\": 4, \"Displacement\": 140.0, \"Horsepower\": 89.0, \"Weight_in_lbs\": 2755, \"Acceleration\": 15.8, \"Year\": \"1977-01-01T00:00:00\", \"Origin\": \"USA\"}, {\"Name\": \"chevrolet chevette\", \"Miles_per_Gallon\": 30.5, \"Cylinders\": 4, \"Displacement\": 98.0, \"Horsepower\": 63.0, \"Weight_in_lbs\": 2051, \"Acceleration\": 17.0, \"Year\": \"1977-01-01T00:00:00\", \"Origin\": \"USA\"}, {\"Name\": \"dodge colt m/m\", \"Miles_per_Gallon\": 33.5, \"Cylinders\": 4, \"Displacement\": 98.0, \"Horsepower\": 83.0, \"Weight_in_lbs\": 2075, \"Acceleration\": 15.9, \"Year\": \"1977-01-01T00:00:00\", \"Origin\": \"USA\"}, {\"Name\": \"subaru dl\", \"Miles_per_Gallon\": 30.0, \"Cylinders\": 4, \"Displacement\": 97.0, \"Horsepower\": 67.0, \"Weight_in_lbs\": 1985, \"Acceleration\": 16.4, \"Year\": \"1977-01-01T00:00:00\", \"Origin\": \"Japan\"}, {\"Name\": \"volkswagen dasher\", \"Miles_per_Gallon\": 30.5, \"Cylinders\": 4, \"Displacement\": 97.0, \"Horsepower\": 78.0, \"Weight_in_lbs\": 2190, \"Acceleration\": 14.1, \"Year\": \"1977-01-01T00:00:00\", \"Origin\": \"Europe\"}, {\"Name\": \"datsun 810\", \"Miles_per_Gallon\": 22.0, \"Cylinders\": 6, \"Displacement\": 146.0, \"Horsepower\": 97.0, \"Weight_in_lbs\": 2815, \"Acceleration\": 14.5, \"Year\": \"1977-01-01T00:00:00\", \"Origin\": \"Japan\"}, {\"Name\": \"bmw 320i\", \"Miles_per_Gallon\": 21.5, \"Cylinders\": 4, \"Displacement\": 121.0, \"Horsepower\": 110.0, \"Weight_in_lbs\": 2600, \"Acceleration\": 12.8, \"Year\": \"1977-01-01T00:00:00\", \"Origin\": \"Europe\"}, {\"Name\": \"mazda rx-4\", \"Miles_per_Gallon\": 21.5, \"Cylinders\": 3, \"Displacement\": 80.0, \"Horsepower\": 110.0, \"Weight_in_lbs\": 2720, \"Acceleration\": 13.5, \"Year\": \"1977-01-01T00:00:00\", \"Origin\": \"Japan\"}, {\"Name\": \"volkswagen rabbit custom diesel\", \"Miles_per_Gallon\": 43.1, \"Cylinders\": 4, \"Displacement\": 90.0, \"Horsepower\": 48.0, \"Weight_in_lbs\": 1985, \"Acceleration\": 21.5, \"Year\": \"1978-01-01T00:00:00\", \"Origin\": \"Europe\"}, {\"Name\": \"ford fiesta\", \"Miles_per_Gallon\": 36.1, \"Cylinders\": 4, \"Displacement\": 98.0, \"Horsepower\": 66.0, \"Weight_in_lbs\": 1800, \"Acceleration\": 14.4, \"Year\": \"1978-01-01T00:00:00\", \"Origin\": \"USA\"}, {\"Name\": \"mazda glc deluxe\", \"Miles_per_Gallon\": 32.8, \"Cylinders\": 4, \"Displacement\": 78.0, \"Horsepower\": 52.0, \"Weight_in_lbs\": 1985, \"Acceleration\": 19.4, \"Year\": \"1978-01-01T00:00:00\", \"Origin\": \"Japan\"}, {\"Name\": \"datsun b210 gx\", \"Miles_per_Gallon\": 39.4, \"Cylinders\": 4, \"Displacement\": 85.0, \"Horsepower\": 70.0, \"Weight_in_lbs\": 2070, \"Acceleration\": 18.6, \"Year\": \"1978-01-01T00:00:00\", \"Origin\": \"Japan\"}, {\"Name\": \"honda civic cvcc\", \"Miles_per_Gallon\": 36.1, \"Cylinders\": 4, \"Displacement\": 91.0, \"Horsepower\": 60.0, \"Weight_in_lbs\": 1800, \"Acceleration\": 16.4, \"Year\": \"1978-01-01T00:00:00\", \"Origin\": \"Japan\"}, {\"Name\": \"oldsmobile cutlass salon brougham\", \"Miles_per_Gallon\": 19.9, \"Cylinders\": 8, \"Displacement\": 260.0, \"Horsepower\": 110.0, \"Weight_in_lbs\": 3365, \"Acceleration\": 15.5, \"Year\": \"1978-01-01T00:00:00\", \"Origin\": \"USA\"}, {\"Name\": \"dodge diplomat\", \"Miles_per_Gallon\": 19.4, \"Cylinders\": 8, \"Displacement\": 318.0, \"Horsepower\": 140.0, \"Weight_in_lbs\": 3735, \"Acceleration\": 13.2, \"Year\": \"1978-01-01T00:00:00\", \"Origin\": \"USA\"}, {\"Name\": \"mercury monarch ghia\", \"Miles_per_Gallon\": 20.2, \"Cylinders\": 8, \"Displacement\": 302.0, \"Horsepower\": 139.0, \"Weight_in_lbs\": 3570, \"Acceleration\": 12.8, \"Year\": \"1978-01-01T00:00:00\", \"Origin\": \"USA\"}, {\"Name\": \"pontiac phoenix lj\", \"Miles_per_Gallon\": 19.2, \"Cylinders\": 6, \"Displacement\": 231.0, \"Horsepower\": 105.0, \"Weight_in_lbs\": 3535, \"Acceleration\": 19.2, \"Year\": \"1978-01-01T00:00:00\", \"Origin\": \"USA\"}, {\"Name\": \"chevrolet malibu\", \"Miles_per_Gallon\": 20.5, \"Cylinders\": 6, \"Displacement\": 200.0, \"Horsepower\": 95.0, \"Weight_in_lbs\": 3155, \"Acceleration\": 18.2, \"Year\": \"1978-01-01T00:00:00\", \"Origin\": \"USA\"}, {\"Name\": \"ford fairmont (auto)\", \"Miles_per_Gallon\": 20.2, \"Cylinders\": 6, \"Displacement\": 200.0, \"Horsepower\": 85.0, \"Weight_in_lbs\": 2965, \"Acceleration\": 15.8, \"Year\": \"1978-01-01T00:00:00\", \"Origin\": \"USA\"}, {\"Name\": \"ford fairmont (man)\", \"Miles_per_Gallon\": 25.1, \"Cylinders\": 4, \"Displacement\": 140.0, \"Horsepower\": 88.0, \"Weight_in_lbs\": 2720, \"Acceleration\": 15.4, \"Year\": \"1978-01-01T00:00:00\", \"Origin\": \"USA\"}, {\"Name\": \"plymouth volare\", \"Miles_per_Gallon\": 20.5, \"Cylinders\": 6, \"Displacement\": 225.0, \"Horsepower\": 100.0, \"Weight_in_lbs\": 3430, \"Acceleration\": 17.2, \"Year\": \"1978-01-01T00:00:00\", \"Origin\": \"USA\"}, {\"Name\": \"amc concord\", \"Miles_per_Gallon\": 19.4, \"Cylinders\": 6, \"Displacement\": 232.0, \"Horsepower\": 90.0, \"Weight_in_lbs\": 3210, \"Acceleration\": 17.2, \"Year\": \"1978-01-01T00:00:00\", \"Origin\": \"USA\"}, {\"Name\": \"buick century special\", \"Miles_per_Gallon\": 20.6, \"Cylinders\": 6, \"Displacement\": 231.0, \"Horsepower\": 105.0, \"Weight_in_lbs\": 3380, \"Acceleration\": 15.8, \"Year\": \"1978-01-01T00:00:00\", \"Origin\": \"USA\"}, {\"Name\": \"mercury zephyr\", \"Miles_per_Gallon\": 20.8, \"Cylinders\": 6, \"Displacement\": 200.0, \"Horsepower\": 85.0, \"Weight_in_lbs\": 3070, \"Acceleration\": 16.7, \"Year\": \"1978-01-01T00:00:00\", \"Origin\": \"USA\"}, {\"Name\": \"dodge aspen\", \"Miles_per_Gallon\": 18.6, \"Cylinders\": 6, \"Displacement\": 225.0, \"Horsepower\": 110.0, \"Weight_in_lbs\": 3620, \"Acceleration\": 18.7, \"Year\": \"1978-01-01T00:00:00\", \"Origin\": \"USA\"}, {\"Name\": \"amc concord d/l\", \"Miles_per_Gallon\": 18.1, \"Cylinders\": 6, \"Displacement\": 258.0, \"Horsepower\": 120.0, \"Weight_in_lbs\": 3410, \"Acceleration\": 15.1, \"Year\": \"1978-01-01T00:00:00\", \"Origin\": \"USA\"}, {\"Name\": \"chevrolet monte carlo landau\", \"Miles_per_Gallon\": 19.2, \"Cylinders\": 8, \"Displacement\": 305.0, \"Horsepower\": 145.0, \"Weight_in_lbs\": 3425, \"Acceleration\": 13.2, \"Year\": \"1978-01-01T00:00:00\", \"Origin\": \"USA\"}, {\"Name\": \"buick regal sport coupe (turbo)\", \"Miles_per_Gallon\": 17.7, \"Cylinders\": 6, \"Displacement\": 231.0, \"Horsepower\": 165.0, \"Weight_in_lbs\": 3445, \"Acceleration\": 13.4, \"Year\": \"1978-01-01T00:00:00\", \"Origin\": \"USA\"}, {\"Name\": \"ford futura\", \"Miles_per_Gallon\": 18.1, \"Cylinders\": 8, \"Displacement\": 302.0, \"Horsepower\": 139.0, \"Weight_in_lbs\": 3205, \"Acceleration\": 11.2, \"Year\": \"1978-01-01T00:00:00\", \"Origin\": \"USA\"}, {\"Name\": \"dodge magnum xe\", \"Miles_per_Gallon\": 17.5, \"Cylinders\": 8, \"Displacement\": 318.0, \"Horsepower\": 140.0, \"Weight_in_lbs\": 4080, \"Acceleration\": 13.7, \"Year\": \"1978-01-01T00:00:00\", \"Origin\": \"USA\"}, {\"Name\": \"chevrolet chevette\", \"Miles_per_Gallon\": 30.0, \"Cylinders\": 4, \"Displacement\": 98.0, \"Horsepower\": 68.0, \"Weight_in_lbs\": 2155, \"Acceleration\": 16.5, \"Year\": \"1978-01-01T00:00:00\", \"Origin\": \"USA\"}, {\"Name\": \"toyota corona\", \"Miles_per_Gallon\": 27.5, \"Cylinders\": 4, \"Displacement\": 134.0, \"Horsepower\": 95.0, \"Weight_in_lbs\": 2560, \"Acceleration\": 14.2, \"Year\": \"1978-01-01T00:00:00\", \"Origin\": \"Japan\"}, {\"Name\": \"datsun 510\", \"Miles_per_Gallon\": 27.2, \"Cylinders\": 4, \"Displacement\": 119.0, \"Horsepower\": 97.0, \"Weight_in_lbs\": 2300, \"Acceleration\": 14.7, \"Year\": \"1978-01-01T00:00:00\", \"Origin\": \"Japan\"}, {\"Name\": \"dodge omni\", \"Miles_per_Gallon\": 30.9, \"Cylinders\": 4, \"Displacement\": 105.0, \"Horsepower\": 75.0, \"Weight_in_lbs\": 2230, \"Acceleration\": 14.5, \"Year\": \"1978-01-01T00:00:00\", \"Origin\": \"USA\"}, {\"Name\": \"toyota celica gt liftback\", \"Miles_per_Gallon\": 21.1, \"Cylinders\": 4, \"Displacement\": 134.0, \"Horsepower\": 95.0, \"Weight_in_lbs\": 2515, \"Acceleration\": 14.8, \"Year\": \"1978-01-01T00:00:00\", \"Origin\": \"Japan\"}, {\"Name\": \"plymouth sapporo\", \"Miles_per_Gallon\": 23.2, \"Cylinders\": 4, \"Displacement\": 156.0, \"Horsepower\": 105.0, \"Weight_in_lbs\": 2745, \"Acceleration\": 16.7, \"Year\": \"1978-01-01T00:00:00\", \"Origin\": \"USA\"}, {\"Name\": \"oldsmobile starfire sx\", \"Miles_per_Gallon\": 23.8, \"Cylinders\": 4, \"Displacement\": 151.0, \"Horsepower\": 85.0, \"Weight_in_lbs\": 2855, \"Acceleration\": 17.6, \"Year\": \"1978-01-01T00:00:00\", \"Origin\": \"USA\"}, {\"Name\": \"datsun 200-sx\", \"Miles_per_Gallon\": 23.9, \"Cylinders\": 4, \"Displacement\": 119.0, \"Horsepower\": 97.0, \"Weight_in_lbs\": 2405, \"Acceleration\": 14.9, \"Year\": \"1978-01-01T00:00:00\", \"Origin\": \"Japan\"}, {\"Name\": \"audi 5000\", \"Miles_per_Gallon\": 20.3, \"Cylinders\": 5, \"Displacement\": 131.0, \"Horsepower\": 103.0, \"Weight_in_lbs\": 2830, \"Acceleration\": 15.9, \"Year\": \"1978-01-01T00:00:00\", \"Origin\": \"Europe\"}, {\"Name\": \"volvo 264gl\", \"Miles_per_Gallon\": 17.0, \"Cylinders\": 6, \"Displacement\": 163.0, \"Horsepower\": 125.0, \"Weight_in_lbs\": 3140, \"Acceleration\": 13.6, \"Year\": \"1978-01-01T00:00:00\", \"Origin\": \"Europe\"}, {\"Name\": \"saab 99gle\", \"Miles_per_Gallon\": 21.6, \"Cylinders\": 4, \"Displacement\": 121.0, \"Horsepower\": 115.0, \"Weight_in_lbs\": 2795, \"Acceleration\": 15.7, \"Year\": \"1978-01-01T00:00:00\", \"Origin\": \"Europe\"}, {\"Name\": \"peugeot 604sl\", \"Miles_per_Gallon\": 16.2, \"Cylinders\": 6, \"Displacement\": 163.0, \"Horsepower\": 133.0, \"Weight_in_lbs\": 3410, \"Acceleration\": 15.8, \"Year\": \"1978-01-01T00:00:00\", \"Origin\": \"Europe\"}, {\"Name\": \"volkswagen scirocco\", \"Miles_per_Gallon\": 31.5, \"Cylinders\": 4, \"Displacement\": 89.0, \"Horsepower\": 71.0, \"Weight_in_lbs\": 1990, \"Acceleration\": 14.9, \"Year\": \"1978-01-01T00:00:00\", \"Origin\": \"Europe\"}, {\"Name\": \"honda Accelerationord lx\", \"Miles_per_Gallon\": 29.5, \"Cylinders\": 4, \"Displacement\": 98.0, \"Horsepower\": 68.0, \"Weight_in_lbs\": 2135, \"Acceleration\": 16.6, \"Year\": \"1978-01-01T00:00:00\", \"Origin\": \"Japan\"}, {\"Name\": \"pontiac lemans v6\", \"Miles_per_Gallon\": 21.5, \"Cylinders\": 6, \"Displacement\": 231.0, \"Horsepower\": 115.0, \"Weight_in_lbs\": 3245, \"Acceleration\": 15.4, \"Year\": \"1979-01-01T00:00:00\", \"Origin\": \"USA\"}, {\"Name\": \"mercury zephyr 6\", \"Miles_per_Gallon\": 19.8, \"Cylinders\": 6, \"Displacement\": 200.0, \"Horsepower\": 85.0, \"Weight_in_lbs\": 2990, \"Acceleration\": 18.2, \"Year\": \"1979-01-01T00:00:00\", \"Origin\": \"USA\"}, {\"Name\": \"ford fairmont 4\", \"Miles_per_Gallon\": 22.3, \"Cylinders\": 4, \"Displacement\": 140.0, \"Horsepower\": 88.0, \"Weight_in_lbs\": 2890, \"Acceleration\": 17.3, \"Year\": \"1979-01-01T00:00:00\", \"Origin\": \"USA\"}, {\"Name\": \"amc concord dl 6\", \"Miles_per_Gallon\": 20.2, \"Cylinders\": 6, \"Displacement\": 232.0, \"Horsepower\": 90.0, \"Weight_in_lbs\": 3265, \"Acceleration\": 18.2, \"Year\": \"1979-01-01T00:00:00\", \"Origin\": \"USA\"}, {\"Name\": \"dodge aspen 6\", \"Miles_per_Gallon\": 20.6, \"Cylinders\": 6, \"Displacement\": 225.0, \"Horsepower\": 110.0, \"Weight_in_lbs\": 3360, \"Acceleration\": 16.6, \"Year\": \"1979-01-01T00:00:00\", \"Origin\": \"USA\"}, {\"Name\": \"chevrolet caprice classic\", \"Miles_per_Gallon\": 17.0, \"Cylinders\": 8, \"Displacement\": 305.0, \"Horsepower\": 130.0, \"Weight_in_lbs\": 3840, \"Acceleration\": 15.4, \"Year\": \"1979-01-01T00:00:00\", \"Origin\": \"USA\"}, {\"Name\": \"ford ltd landau\", \"Miles_per_Gallon\": 17.6, \"Cylinders\": 8, \"Displacement\": 302.0, \"Horsepower\": 129.0, \"Weight_in_lbs\": 3725, \"Acceleration\": 13.4, \"Year\": \"1979-01-01T00:00:00\", \"Origin\": \"USA\"}, {\"Name\": \"mercury grand marquis\", \"Miles_per_Gallon\": 16.5, \"Cylinders\": 8, \"Displacement\": 351.0, \"Horsepower\": 138.0, \"Weight_in_lbs\": 3955, \"Acceleration\": 13.2, \"Year\": \"1979-01-01T00:00:00\", \"Origin\": \"USA\"}, {\"Name\": \"dodge st. regis\", \"Miles_per_Gallon\": 18.2, \"Cylinders\": 8, \"Displacement\": 318.0, \"Horsepower\": 135.0, \"Weight_in_lbs\": 3830, \"Acceleration\": 15.2, \"Year\": \"1979-01-01T00:00:00\", \"Origin\": \"USA\"}, {\"Name\": \"buick estate wagon (sw)\", \"Miles_per_Gallon\": 16.9, \"Cylinders\": 8, \"Displacement\": 350.0, \"Horsepower\": 155.0, \"Weight_in_lbs\": 4360, \"Acceleration\": 14.9, \"Year\": \"1979-01-01T00:00:00\", \"Origin\": \"USA\"}, {\"Name\": \"ford country squire (sw)\", \"Miles_per_Gallon\": 15.5, \"Cylinders\": 8, \"Displacement\": 351.0, \"Horsepower\": 142.0, \"Weight_in_lbs\": 4054, \"Acceleration\": 14.3, \"Year\": \"1979-01-01T00:00:00\", \"Origin\": \"USA\"}, {\"Name\": \"chevrolet malibu classic (sw)\", \"Miles_per_Gallon\": 19.2, \"Cylinders\": 8, \"Displacement\": 267.0, \"Horsepower\": 125.0, \"Weight_in_lbs\": 3605, \"Acceleration\": 15.0, \"Year\": \"1979-01-01T00:00:00\", \"Origin\": \"USA\"}, {\"Name\": \"chrysler lebaron town @ country (sw)\", \"Miles_per_Gallon\": 18.5, \"Cylinders\": 8, \"Displacement\": 360.0, \"Horsepower\": 150.0, \"Weight_in_lbs\": 3940, \"Acceleration\": 13.0, \"Year\": \"1979-01-01T00:00:00\", \"Origin\": \"USA\"}, {\"Name\": \"vw rabbit custom\", \"Miles_per_Gallon\": 31.9, \"Cylinders\": 4, \"Displacement\": 89.0, \"Horsepower\": 71.0, \"Weight_in_lbs\": 1925, \"Acceleration\": 14.0, \"Year\": \"1979-01-01T00:00:00\", \"Origin\": \"Europe\"}, {\"Name\": \"maxda glc deluxe\", \"Miles_per_Gallon\": 34.1, \"Cylinders\": 4, \"Displacement\": 86.0, \"Horsepower\": 65.0, \"Weight_in_lbs\": 1975, \"Acceleration\": 15.2, \"Year\": \"1979-01-01T00:00:00\", \"Origin\": \"Japan\"}, {\"Name\": \"dodge colt hatchback custom\", \"Miles_per_Gallon\": 35.7, \"Cylinders\": 4, \"Displacement\": 98.0, \"Horsepower\": 80.0, \"Weight_in_lbs\": 1915, \"Acceleration\": 14.4, \"Year\": \"1979-01-01T00:00:00\", \"Origin\": \"USA\"}, {\"Name\": \"amc spirit dl\", \"Miles_per_Gallon\": 27.4, \"Cylinders\": 4, \"Displacement\": 121.0, \"Horsepower\": 80.0, \"Weight_in_lbs\": 2670, \"Acceleration\": 15.0, \"Year\": \"1979-01-01T00:00:00\", \"Origin\": \"USA\"}, {\"Name\": \"mercedes benz 300d\", \"Miles_per_Gallon\": 25.4, \"Cylinders\": 5, \"Displacement\": 183.0, \"Horsepower\": 77.0, \"Weight_in_lbs\": 3530, \"Acceleration\": 20.1, \"Year\": \"1979-01-01T00:00:00\", \"Origin\": \"Europe\"}, {\"Name\": \"cadillac eldorado\", \"Miles_per_Gallon\": 23.0, \"Cylinders\": 8, \"Displacement\": 350.0, \"Horsepower\": 125.0, \"Weight_in_lbs\": 3900, \"Acceleration\": 17.4, \"Year\": \"1979-01-01T00:00:00\", \"Origin\": \"USA\"}, {\"Name\": \"peugeot 504\", \"Miles_per_Gallon\": 27.2, \"Cylinders\": 4, \"Displacement\": 141.0, \"Horsepower\": 71.0, \"Weight_in_lbs\": 3190, \"Acceleration\": 24.8, \"Year\": \"1979-01-01T00:00:00\", \"Origin\": \"Europe\"}, {\"Name\": \"oldsmobile cutlass salon brougham\", \"Miles_per_Gallon\": 23.9, \"Cylinders\": 8, \"Displacement\": 260.0, \"Horsepower\": 90.0, \"Weight_in_lbs\": 3420, \"Acceleration\": 22.2, \"Year\": \"1979-01-01T00:00:00\", \"Origin\": \"USA\"}, {\"Name\": \"plymouth horizon\", \"Miles_per_Gallon\": 34.2, \"Cylinders\": 4, \"Displacement\": 105.0, \"Horsepower\": 70.0, \"Weight_in_lbs\": 2200, \"Acceleration\": 13.2, \"Year\": \"1979-01-01T00:00:00\", \"Origin\": \"USA\"}, {\"Name\": \"plymouth horizon tc3\", \"Miles_per_Gallon\": 34.5, \"Cylinders\": 4, \"Displacement\": 105.0, \"Horsepower\": 70.0, \"Weight_in_lbs\": 2150, \"Acceleration\": 14.9, \"Year\": \"1979-01-01T00:00:00\", \"Origin\": \"USA\"}, {\"Name\": \"datsun 210\", \"Miles_per_Gallon\": 31.8, \"Cylinders\": 4, \"Displacement\": 85.0, \"Horsepower\": 65.0, \"Weight_in_lbs\": 2020, \"Acceleration\": 19.2, \"Year\": \"1979-01-01T00:00:00\", \"Origin\": \"Japan\"}, {\"Name\": \"fiat strada custom\", \"Miles_per_Gallon\": 37.3, \"Cylinders\": 4, \"Displacement\": 91.0, \"Horsepower\": 69.0, \"Weight_in_lbs\": 2130, \"Acceleration\": 14.7, \"Year\": \"1979-01-01T00:00:00\", \"Origin\": \"Europe\"}, {\"Name\": \"buick skylark limited\", \"Miles_per_Gallon\": 28.4, \"Cylinders\": 4, \"Displacement\": 151.0, \"Horsepower\": 90.0, \"Weight_in_lbs\": 2670, \"Acceleration\": 16.0, \"Year\": \"1979-01-01T00:00:00\", \"Origin\": \"USA\"}, {\"Name\": \"chevrolet citation\", \"Miles_per_Gallon\": 28.8, \"Cylinders\": 6, \"Displacement\": 173.0, \"Horsepower\": 115.0, \"Weight_in_lbs\": 2595, \"Acceleration\": 11.3, \"Year\": \"1979-01-01T00:00:00\", \"Origin\": \"USA\"}, {\"Name\": \"oldsmobile omega brougham\", \"Miles_per_Gallon\": 26.8, \"Cylinders\": 6, \"Displacement\": 173.0, \"Horsepower\": 115.0, \"Weight_in_lbs\": 2700, \"Acceleration\": 12.9, \"Year\": \"1979-01-01T00:00:00\", \"Origin\": \"USA\"}, {\"Name\": \"pontiac phoenix\", \"Miles_per_Gallon\": 33.5, \"Cylinders\": 4, \"Displacement\": 151.0, \"Horsepower\": 90.0, \"Weight_in_lbs\": 2556, \"Acceleration\": 13.2, \"Year\": \"1979-01-01T00:00:00\", \"Origin\": \"USA\"}, {\"Name\": \"vw rabbit\", \"Miles_per_Gallon\": 41.5, \"Cylinders\": 4, \"Displacement\": 98.0, \"Horsepower\": 76.0, \"Weight_in_lbs\": 2144, \"Acceleration\": 14.7, \"Year\": \"1980-01-01T00:00:00\", \"Origin\": \"Europe\"}, {\"Name\": \"toyota corolla tercel\", \"Miles_per_Gallon\": 38.1, \"Cylinders\": 4, \"Displacement\": 89.0, \"Horsepower\": 60.0, \"Weight_in_lbs\": 1968, \"Acceleration\": 18.8, \"Year\": \"1980-01-01T00:00:00\", \"Origin\": \"Japan\"}, {\"Name\": \"chevrolet chevette\", \"Miles_per_Gallon\": 32.1, \"Cylinders\": 4, \"Displacement\": 98.0, \"Horsepower\": 70.0, \"Weight_in_lbs\": 2120, \"Acceleration\": 15.5, \"Year\": \"1980-01-01T00:00:00\", \"Origin\": \"USA\"}, {\"Name\": \"datsun 310\", \"Miles_per_Gallon\": 37.2, \"Cylinders\": 4, \"Displacement\": 86.0, \"Horsepower\": 65.0, \"Weight_in_lbs\": 2019, \"Acceleration\": 16.4, \"Year\": \"1980-01-01T00:00:00\", \"Origin\": \"Japan\"}, {\"Name\": \"chevrolet citation\", \"Miles_per_Gallon\": 28.0, \"Cylinders\": 4, \"Displacement\": 151.0, \"Horsepower\": 90.0, \"Weight_in_lbs\": 2678, \"Acceleration\": 16.5, \"Year\": \"1980-01-01T00:00:00\", \"Origin\": \"USA\"}, {\"Name\": \"ford fairmont\", \"Miles_per_Gallon\": 26.4, \"Cylinders\": 4, \"Displacement\": 140.0, \"Horsepower\": 88.0, \"Weight_in_lbs\": 2870, \"Acceleration\": 18.1, \"Year\": \"1980-01-01T00:00:00\", \"Origin\": \"USA\"}, {\"Name\": \"amc concord\", \"Miles_per_Gallon\": 24.3, \"Cylinders\": 4, \"Displacement\": 151.0, \"Horsepower\": 90.0, \"Weight_in_lbs\": 3003, \"Acceleration\": 20.1, \"Year\": \"1980-01-01T00:00:00\", \"Origin\": \"USA\"}, {\"Name\": \"dodge aspen\", \"Miles_per_Gallon\": 19.1, \"Cylinders\": 6, \"Displacement\": 225.0, \"Horsepower\": 90.0, \"Weight_in_lbs\": 3381, \"Acceleration\": 18.7, \"Year\": \"1980-01-01T00:00:00\", \"Origin\": \"USA\"}, {\"Name\": \"audi 4000\", \"Miles_per_Gallon\": 34.3, \"Cylinders\": 4, \"Displacement\": 97.0, \"Horsepower\": 78.0, \"Weight_in_lbs\": 2188, \"Acceleration\": 15.8, \"Year\": \"1980-01-01T00:00:00\", \"Origin\": \"Europe\"}, {\"Name\": \"toyota corona liftback\", \"Miles_per_Gallon\": 29.8, \"Cylinders\": 4, \"Displacement\": 134.0, \"Horsepower\": 90.0, \"Weight_in_lbs\": 2711, \"Acceleration\": 15.5, \"Year\": \"1980-01-01T00:00:00\", \"Origin\": \"Japan\"}, {\"Name\": \"mazda 626\", \"Miles_per_Gallon\": 31.3, \"Cylinders\": 4, \"Displacement\": 120.0, \"Horsepower\": 75.0, \"Weight_in_lbs\": 2542, \"Acceleration\": 17.5, \"Year\": \"1980-01-01T00:00:00\", \"Origin\": \"Japan\"}, {\"Name\": \"datsun 510 hatchback\", \"Miles_per_Gallon\": 37.0, \"Cylinders\": 4, \"Displacement\": 119.0, \"Horsepower\": 92.0, \"Weight_in_lbs\": 2434, \"Acceleration\": 15.0, \"Year\": \"1980-01-01T00:00:00\", \"Origin\": \"Japan\"}, {\"Name\": \"toyota corolla\", \"Miles_per_Gallon\": 32.2, \"Cylinders\": 4, \"Displacement\": 108.0, \"Horsepower\": 75.0, \"Weight_in_lbs\": 2265, \"Acceleration\": 15.2, \"Year\": \"1980-01-01T00:00:00\", \"Origin\": \"Japan\"}, {\"Name\": \"mazda glc\", \"Miles_per_Gallon\": 46.6, \"Cylinders\": 4, \"Displacement\": 86.0, \"Horsepower\": 65.0, \"Weight_in_lbs\": 2110, \"Acceleration\": 17.9, \"Year\": \"1980-01-01T00:00:00\", \"Origin\": \"Japan\"}, {\"Name\": \"dodge colt\", \"Miles_per_Gallon\": 27.9, \"Cylinders\": 4, \"Displacement\": 156.0, \"Horsepower\": 105.0, \"Weight_in_lbs\": 2800, \"Acceleration\": 14.4, \"Year\": \"1980-01-01T00:00:00\", \"Origin\": \"USA\"}, {\"Name\": \"datsun 210\", \"Miles_per_Gallon\": 40.8, \"Cylinders\": 4, \"Displacement\": 85.0, \"Horsepower\": 65.0, \"Weight_in_lbs\": 2110, \"Acceleration\": 19.2, \"Year\": \"1980-01-01T00:00:00\", \"Origin\": \"Japan\"}, {\"Name\": \"vw rabbit c (diesel)\", \"Miles_per_Gallon\": 44.3, \"Cylinders\": 4, \"Displacement\": 90.0, \"Horsepower\": 48.0, \"Weight_in_lbs\": 2085, \"Acceleration\": 21.7, \"Year\": \"1980-01-01T00:00:00\", \"Origin\": \"Europe\"}, {\"Name\": \"vw dasher (diesel)\", \"Miles_per_Gallon\": 43.4, \"Cylinders\": 4, \"Displacement\": 90.0, \"Horsepower\": 48.0, \"Weight_in_lbs\": 2335, \"Acceleration\": 23.7, \"Year\": \"1980-01-01T00:00:00\", \"Origin\": \"Europe\"}, {\"Name\": \"audi 5000s (diesel)\", \"Miles_per_Gallon\": 36.4, \"Cylinders\": 5, \"Displacement\": 121.0, \"Horsepower\": 67.0, \"Weight_in_lbs\": 2950, \"Acceleration\": 19.9, \"Year\": \"1980-01-01T00:00:00\", \"Origin\": \"Europe\"}, {\"Name\": \"mercedes-benz 240d\", \"Miles_per_Gallon\": 30.0, \"Cylinders\": 4, \"Displacement\": 146.0, \"Horsepower\": 67.0, \"Weight_in_lbs\": 3250, \"Acceleration\": 21.8, \"Year\": \"1980-01-01T00:00:00\", \"Origin\": \"Europe\"}, {\"Name\": \"honda civic 1500 gl\", \"Miles_per_Gallon\": 44.6, \"Cylinders\": 4, \"Displacement\": 91.0, \"Horsepower\": 67.0, \"Weight_in_lbs\": 1850, \"Acceleration\": 13.8, \"Year\": \"1980-01-01T00:00:00\", \"Origin\": \"Japan\"}, {\"Name\": \"renault lecar deluxe\", \"Miles_per_Gallon\": 40.9, \"Cylinders\": 4, \"Displacement\": 85.0, \"Horsepower\": null, \"Weight_in_lbs\": 1835, \"Acceleration\": 17.3, \"Year\": \"1980-01-01T00:00:00\", \"Origin\": \"Europe\"}, {\"Name\": \"subaru dl\", \"Miles_per_Gallon\": 33.8, \"Cylinders\": 4, \"Displacement\": 97.0, \"Horsepower\": 67.0, \"Weight_in_lbs\": 2145, \"Acceleration\": 18.0, \"Year\": \"1980-01-01T00:00:00\", \"Origin\": \"Japan\"}, {\"Name\": \"vokswagen rabbit\", \"Miles_per_Gallon\": 29.8, \"Cylinders\": 4, \"Displacement\": 89.0, \"Horsepower\": 62.0, \"Weight_in_lbs\": 1845, \"Acceleration\": 15.3, \"Year\": \"1980-01-01T00:00:00\", \"Origin\": \"Europe\"}, {\"Name\": \"datsun 280-zx\", \"Miles_per_Gallon\": 32.7, \"Cylinders\": 6, \"Displacement\": 168.0, \"Horsepower\": 132.0, \"Weight_in_lbs\": 2910, \"Acceleration\": 11.4, \"Year\": \"1980-01-01T00:00:00\", \"Origin\": \"Japan\"}, {\"Name\": \"mazda rx-7 gs\", \"Miles_per_Gallon\": 23.7, \"Cylinders\": 3, \"Displacement\": 70.0, \"Horsepower\": 100.0, \"Weight_in_lbs\": 2420, \"Acceleration\": 12.5, \"Year\": \"1980-01-01T00:00:00\", \"Origin\": \"Japan\"}, {\"Name\": \"triumph tr7 coupe\", \"Miles_per_Gallon\": 35.0, \"Cylinders\": 4, \"Displacement\": 122.0, \"Horsepower\": 88.0, \"Weight_in_lbs\": 2500, \"Acceleration\": 15.1, \"Year\": \"1980-01-01T00:00:00\", \"Origin\": \"Europe\"}, {\"Name\": \"ford mustang cobra\", \"Miles_per_Gallon\": 23.6, \"Cylinders\": 4, \"Displacement\": 140.0, \"Horsepower\": null, \"Weight_in_lbs\": 2905, \"Acceleration\": 14.3, \"Year\": \"1980-01-01T00:00:00\", \"Origin\": \"USA\"}, {\"Name\": \"honda Accelerationord\", \"Miles_per_Gallon\": 32.4, \"Cylinders\": 4, \"Displacement\": 107.0, \"Horsepower\": 72.0, \"Weight_in_lbs\": 2290, \"Acceleration\": 17.0, \"Year\": \"1980-01-01T00:00:00\", \"Origin\": \"Japan\"}, {\"Name\": \"plymouth reliant\", \"Miles_per_Gallon\": 27.2, \"Cylinders\": 4, \"Displacement\": 135.0, \"Horsepower\": 84.0, \"Weight_in_lbs\": 2490, \"Acceleration\": 15.7, \"Year\": \"1982-01-01T00:00:00\", \"Origin\": \"USA\"}, {\"Name\": \"buick skylark\", \"Miles_per_Gallon\": 26.6, \"Cylinders\": 4, \"Displacement\": 151.0, \"Horsepower\": 84.0, \"Weight_in_lbs\": 2635, \"Acceleration\": 16.4, \"Year\": \"1982-01-01T00:00:00\", \"Origin\": \"USA\"}, {\"Name\": \"dodge aries wagon (sw)\", \"Miles_per_Gallon\": 25.8, \"Cylinders\": 4, \"Displacement\": 156.0, \"Horsepower\": 92.0, \"Weight_in_lbs\": 2620, \"Acceleration\": 14.4, \"Year\": \"1982-01-01T00:00:00\", \"Origin\": \"USA\"}, {\"Name\": \"chevrolet citation\", \"Miles_per_Gallon\": 23.5, \"Cylinders\": 6, \"Displacement\": 173.0, \"Horsepower\": 110.0, \"Weight_in_lbs\": 2725, \"Acceleration\": 12.6, \"Year\": \"1982-01-01T00:00:00\", \"Origin\": \"USA\"}, {\"Name\": \"plymouth reliant\", \"Miles_per_Gallon\": 30.0, \"Cylinders\": 4, \"Displacement\": 135.0, \"Horsepower\": 84.0, \"Weight_in_lbs\": 2385, \"Acceleration\": 12.9, \"Year\": \"1982-01-01T00:00:00\", \"Origin\": \"USA\"}, {\"Name\": \"toyota starlet\", \"Miles_per_Gallon\": 39.1, \"Cylinders\": 4, \"Displacement\": 79.0, \"Horsepower\": 58.0, \"Weight_in_lbs\": 1755, \"Acceleration\": 16.9, \"Year\": \"1982-01-01T00:00:00\", \"Origin\": \"Japan\"}, {\"Name\": \"plymouth champ\", \"Miles_per_Gallon\": 39.0, \"Cylinders\": 4, \"Displacement\": 86.0, \"Horsepower\": 64.0, \"Weight_in_lbs\": 1875, \"Acceleration\": 16.4, \"Year\": \"1982-01-01T00:00:00\", \"Origin\": \"USA\"}, {\"Name\": \"honda civic 1300\", \"Miles_per_Gallon\": 35.1, \"Cylinders\": 4, \"Displacement\": 81.0, \"Horsepower\": 60.0, \"Weight_in_lbs\": 1760, \"Acceleration\": 16.1, \"Year\": \"1982-01-01T00:00:00\", \"Origin\": \"Japan\"}, {\"Name\": \"subaru\", \"Miles_per_Gallon\": 32.3, \"Cylinders\": 4, \"Displacement\": 97.0, \"Horsepower\": 67.0, \"Weight_in_lbs\": 2065, \"Acceleration\": 17.8, \"Year\": \"1982-01-01T00:00:00\", \"Origin\": \"Japan\"}, {\"Name\": \"datsun 210\", \"Miles_per_Gallon\": 37.0, \"Cylinders\": 4, \"Displacement\": 85.0, \"Horsepower\": 65.0, \"Weight_in_lbs\": 1975, \"Acceleration\": 19.4, \"Year\": \"1982-01-01T00:00:00\", \"Origin\": \"Japan\"}, {\"Name\": \"toyota tercel\", \"Miles_per_Gallon\": 37.7, \"Cylinders\": 4, \"Displacement\": 89.0, \"Horsepower\": 62.0, \"Weight_in_lbs\": 2050, \"Acceleration\": 17.3, \"Year\": \"1982-01-01T00:00:00\", \"Origin\": \"Japan\"}, {\"Name\": \"mazda glc 4\", \"Miles_per_Gallon\": 34.1, \"Cylinders\": 4, \"Displacement\": 91.0, \"Horsepower\": 68.0, \"Weight_in_lbs\": 1985, \"Acceleration\": 16.0, \"Year\": \"1982-01-01T00:00:00\", \"Origin\": \"Japan\"}, {\"Name\": \"plymouth horizon 4\", \"Miles_per_Gallon\": 34.7, \"Cylinders\": 4, \"Displacement\": 105.0, \"Horsepower\": 63.0, \"Weight_in_lbs\": 2215, \"Acceleration\": 14.9, \"Year\": \"1982-01-01T00:00:00\", \"Origin\": \"USA\"}, {\"Name\": \"ford escort 4w\", \"Miles_per_Gallon\": 34.4, \"Cylinders\": 4, \"Displacement\": 98.0, \"Horsepower\": 65.0, \"Weight_in_lbs\": 2045, \"Acceleration\": 16.2, \"Year\": \"1982-01-01T00:00:00\", \"Origin\": \"USA\"}, {\"Name\": \"ford escort 2h\", \"Miles_per_Gallon\": 29.9, \"Cylinders\": 4, \"Displacement\": 98.0, \"Horsepower\": 65.0, \"Weight_in_lbs\": 2380, \"Acceleration\": 20.7, \"Year\": \"1982-01-01T00:00:00\", \"Origin\": \"USA\"}, {\"Name\": \"volkswagen jetta\", \"Miles_per_Gallon\": 33.0, \"Cylinders\": 4, \"Displacement\": 105.0, \"Horsepower\": 74.0, \"Weight_in_lbs\": 2190, \"Acceleration\": 14.2, \"Year\": \"1982-01-01T00:00:00\", \"Origin\": \"Europe\"}, {\"Name\": \"renault 18i\", \"Miles_per_Gallon\": 34.5, \"Cylinders\": 4, \"Displacement\": 100.0, \"Horsepower\": null, \"Weight_in_lbs\": 2320, \"Acceleration\": 15.8, \"Year\": \"1982-01-01T00:00:00\", \"Origin\": \"Europe\"}, {\"Name\": \"honda prelude\", \"Miles_per_Gallon\": 33.7, \"Cylinders\": 4, \"Displacement\": 107.0, \"Horsepower\": 75.0, \"Weight_in_lbs\": 2210, \"Acceleration\": 14.4, \"Year\": \"1982-01-01T00:00:00\", \"Origin\": \"Japan\"}, {\"Name\": \"toyota corolla\", \"Miles_per_Gallon\": 32.4, \"Cylinders\": 4, \"Displacement\": 108.0, \"Horsepower\": 75.0, \"Weight_in_lbs\": 2350, \"Acceleration\": 16.8, \"Year\": \"1982-01-01T00:00:00\", \"Origin\": \"Japan\"}, {\"Name\": \"datsun 200sx\", \"Miles_per_Gallon\": 32.9, \"Cylinders\": 4, \"Displacement\": 119.0, \"Horsepower\": 100.0, \"Weight_in_lbs\": 2615, \"Acceleration\": 14.8, \"Year\": \"1982-01-01T00:00:00\", \"Origin\": \"Japan\"}, {\"Name\": \"mazda 626\", \"Miles_per_Gallon\": 31.6, \"Cylinders\": 4, \"Displacement\": 120.0, \"Horsepower\": 74.0, \"Weight_in_lbs\": 2635, \"Acceleration\": 18.3, \"Year\": \"1982-01-01T00:00:00\", \"Origin\": \"Japan\"}, {\"Name\": \"peugeot 505s turbo diesel\", \"Miles_per_Gallon\": 28.1, \"Cylinders\": 4, \"Displacement\": 141.0, \"Horsepower\": 80.0, \"Weight_in_lbs\": 3230, \"Acceleration\": 20.4, \"Year\": \"1982-01-01T00:00:00\", \"Origin\": \"Europe\"}, {\"Name\": \"saab 900s\", \"Miles_per_Gallon\": null, \"Cylinders\": 4, \"Displacement\": 121.0, \"Horsepower\": 110.0, \"Weight_in_lbs\": 2800, \"Acceleration\": 15.4, \"Year\": \"1982-01-01T00:00:00\", \"Origin\": \"Europe\"}, {\"Name\": \"volvo diesel\", \"Miles_per_Gallon\": 30.7, \"Cylinders\": 6, \"Displacement\": 145.0, \"Horsepower\": 76.0, \"Weight_in_lbs\": 3160, \"Acceleration\": 19.6, \"Year\": \"1982-01-01T00:00:00\", \"Origin\": \"Europe\"}, {\"Name\": \"toyota cressida\", \"Miles_per_Gallon\": 25.4, \"Cylinders\": 6, \"Displacement\": 168.0, \"Horsepower\": 116.0, \"Weight_in_lbs\": 2900, \"Acceleration\": 12.6, \"Year\": \"1982-01-01T00:00:00\", \"Origin\": \"Japan\"}, {\"Name\": \"datsun 810 maxima\", \"Miles_per_Gallon\": 24.2, \"Cylinders\": 6, \"Displacement\": 146.0, \"Horsepower\": 120.0, \"Weight_in_lbs\": 2930, \"Acceleration\": 13.8, \"Year\": \"1982-01-01T00:00:00\", \"Origin\": \"Japan\"}, {\"Name\": \"buick century\", \"Miles_per_Gallon\": 22.4, \"Cylinders\": 6, \"Displacement\": 231.0, \"Horsepower\": 110.0, \"Weight_in_lbs\": 3415, \"Acceleration\": 15.8, \"Year\": \"1982-01-01T00:00:00\", \"Origin\": \"USA\"}, {\"Name\": \"oldsmobile cutlass ls\", \"Miles_per_Gallon\": 26.6, \"Cylinders\": 8, \"Displacement\": 350.0, \"Horsepower\": 105.0, \"Weight_in_lbs\": 3725, \"Acceleration\": 19.0, \"Year\": \"1982-01-01T00:00:00\", \"Origin\": \"USA\"}, {\"Name\": \"ford granada gl\", \"Miles_per_Gallon\": 20.2, \"Cylinders\": 6, \"Displacement\": 200.0, \"Horsepower\": 88.0, \"Weight_in_lbs\": 3060, \"Acceleration\": 17.1, \"Year\": \"1982-01-01T00:00:00\", \"Origin\": \"USA\"}, {\"Name\": \"chrysler lebaron salon\", \"Miles_per_Gallon\": 17.6, \"Cylinders\": 6, \"Displacement\": 225.0, \"Horsepower\": 85.0, \"Weight_in_lbs\": 3465, \"Acceleration\": 16.6, \"Year\": \"1982-01-01T00:00:00\", \"Origin\": \"USA\"}, {\"Name\": \"chevrolet cavalier\", \"Miles_per_Gallon\": 28.0, \"Cylinders\": 4, \"Displacement\": 112.0, \"Horsepower\": 88.0, \"Weight_in_lbs\": 2605, \"Acceleration\": 19.6, \"Year\": \"1982-01-01T00:00:00\", \"Origin\": \"USA\"}, {\"Name\": \"chevrolet cavalier wagon\", \"Miles_per_Gallon\": 27.0, \"Cylinders\": 4, \"Displacement\": 112.0, \"Horsepower\": 88.0, \"Weight_in_lbs\": 2640, \"Acceleration\": 18.6, \"Year\": \"1982-01-01T00:00:00\", \"Origin\": \"USA\"}, {\"Name\": \"chevrolet cavalier 2-door\", \"Miles_per_Gallon\": 34.0, \"Cylinders\": 4, \"Displacement\": 112.0, \"Horsepower\": 88.0, \"Weight_in_lbs\": 2395, \"Acceleration\": 18.0, \"Year\": \"1982-01-01T00:00:00\", \"Origin\": \"USA\"}, {\"Name\": \"pontiac j2000 se hatchback\", \"Miles_per_Gallon\": 31.0, \"Cylinders\": 4, \"Displacement\": 112.0, \"Horsepower\": 85.0, \"Weight_in_lbs\": 2575, \"Acceleration\": 16.2, \"Year\": \"1982-01-01T00:00:00\", \"Origin\": \"USA\"}, {\"Name\": \"dodge aries se\", \"Miles_per_Gallon\": 29.0, \"Cylinders\": 4, \"Displacement\": 135.0, \"Horsepower\": 84.0, \"Weight_in_lbs\": 2525, \"Acceleration\": 16.0, \"Year\": \"1982-01-01T00:00:00\", \"Origin\": \"USA\"}, {\"Name\": \"pontiac phoenix\", \"Miles_per_Gallon\": 27.0, \"Cylinders\": 4, \"Displacement\": 151.0, \"Horsepower\": 90.0, \"Weight_in_lbs\": 2735, \"Acceleration\": 18.0, \"Year\": \"1982-01-01T00:00:00\", \"Origin\": \"USA\"}, {\"Name\": \"ford fairmont futura\", \"Miles_per_Gallon\": 24.0, \"Cylinders\": 4, \"Displacement\": 140.0, \"Horsepower\": 92.0, \"Weight_in_lbs\": 2865, \"Acceleration\": 16.4, \"Year\": \"1982-01-01T00:00:00\", \"Origin\": \"USA\"}, {\"Name\": \"amc concord dl\", \"Miles_per_Gallon\": 23.0, \"Cylinders\": 4, \"Displacement\": 151.0, \"Horsepower\": null, \"Weight_in_lbs\": 3035, \"Acceleration\": 20.5, \"Year\": \"1982-01-01T00:00:00\", \"Origin\": \"USA\"}, {\"Name\": \"volkswagen rabbit l\", \"Miles_per_Gallon\": 36.0, \"Cylinders\": 4, \"Displacement\": 105.0, \"Horsepower\": 74.0, \"Weight_in_lbs\": 1980, \"Acceleration\": 15.3, \"Year\": \"1982-01-01T00:00:00\", \"Origin\": \"Europe\"}, {\"Name\": \"mazda glc custom l\", \"Miles_per_Gallon\": 37.0, \"Cylinders\": 4, \"Displacement\": 91.0, \"Horsepower\": 68.0, \"Weight_in_lbs\": 2025, \"Acceleration\": 18.2, \"Year\": \"1982-01-01T00:00:00\", \"Origin\": \"Japan\"}, {\"Name\": \"mazda glc custom\", \"Miles_per_Gallon\": 31.0, \"Cylinders\": 4, \"Displacement\": 91.0, \"Horsepower\": 68.0, \"Weight_in_lbs\": 1970, \"Acceleration\": 17.6, \"Year\": \"1982-01-01T00:00:00\", \"Origin\": \"Japan\"}, {\"Name\": \"plymouth horizon miser\", \"Miles_per_Gallon\": 38.0, \"Cylinders\": 4, \"Displacement\": 105.0, \"Horsepower\": 63.0, \"Weight_in_lbs\": 2125, \"Acceleration\": 14.7, \"Year\": \"1982-01-01T00:00:00\", \"Origin\": \"USA\"}, {\"Name\": \"mercury lynx l\", \"Miles_per_Gallon\": 36.0, \"Cylinders\": 4, \"Displacement\": 98.0, \"Horsepower\": 70.0, \"Weight_in_lbs\": 2125, \"Acceleration\": 17.3, \"Year\": \"1982-01-01T00:00:00\", \"Origin\": \"USA\"}, {\"Name\": \"nissan stanza xe\", \"Miles_per_Gallon\": 36.0, \"Cylinders\": 4, \"Displacement\": 120.0, \"Horsepower\": 88.0, \"Weight_in_lbs\": 2160, \"Acceleration\": 14.5, \"Year\": \"1982-01-01T00:00:00\", \"Origin\": \"Japan\"}, {\"Name\": \"honda Accelerationord\", \"Miles_per_Gallon\": 36.0, \"Cylinders\": 4, \"Displacement\": 107.0, \"Horsepower\": 75.0, \"Weight_in_lbs\": 2205, \"Acceleration\": 14.5, \"Year\": \"1982-01-01T00:00:00\", \"Origin\": \"Japan\"}, {\"Name\": \"toyota corolla\", \"Miles_per_Gallon\": 34.0, \"Cylinders\": 4, \"Displacement\": 108.0, \"Horsepower\": 70.0, \"Weight_in_lbs\": 2245, \"Acceleration\": 16.9, \"Year\": \"1982-01-01T00:00:00\", \"Origin\": \"Japan\"}, {\"Name\": \"honda civic\", \"Miles_per_Gallon\": 38.0, \"Cylinders\": 4, \"Displacement\": 91.0, \"Horsepower\": 67.0, \"Weight_in_lbs\": 1965, \"Acceleration\": 15.0, \"Year\": \"1982-01-01T00:00:00\", \"Origin\": \"Japan\"}, {\"Name\": \"honda civic (auto)\", \"Miles_per_Gallon\": 32.0, \"Cylinders\": 4, \"Displacement\": 91.0, \"Horsepower\": 67.0, \"Weight_in_lbs\": 1965, \"Acceleration\": 15.7, \"Year\": \"1982-01-01T00:00:00\", \"Origin\": \"Japan\"}, {\"Name\": \"datsun 310 gx\", \"Miles_per_Gallon\": 38.0, \"Cylinders\": 4, \"Displacement\": 91.0, \"Horsepower\": 67.0, \"Weight_in_lbs\": 1995, \"Acceleration\": 16.2, \"Year\": \"1982-01-01T00:00:00\", \"Origin\": \"Japan\"}, {\"Name\": \"buick century limited\", \"Miles_per_Gallon\": 25.0, \"Cylinders\": 6, \"Displacement\": 181.0, \"Horsepower\": 110.0, \"Weight_in_lbs\": 2945, \"Acceleration\": 16.4, \"Year\": \"1982-01-01T00:00:00\", \"Origin\": \"USA\"}, {\"Name\": \"oldsmobile cutlass ciera (diesel)\", \"Miles_per_Gallon\": 38.0, \"Cylinders\": 6, \"Displacement\": 262.0, \"Horsepower\": 85.0, \"Weight_in_lbs\": 3015, \"Acceleration\": 17.0, \"Year\": \"1982-01-01T00:00:00\", \"Origin\": \"USA\"}, {\"Name\": \"chrysler lebaron medallion\", \"Miles_per_Gallon\": 26.0, \"Cylinders\": 4, \"Displacement\": 156.0, \"Horsepower\": 92.0, \"Weight_in_lbs\": 2585, \"Acceleration\": 14.5, \"Year\": \"1982-01-01T00:00:00\", \"Origin\": \"USA\"}, {\"Name\": \"ford granada l\", \"Miles_per_Gallon\": 22.0, \"Cylinders\": 6, \"Displacement\": 232.0, \"Horsepower\": 112.0, \"Weight_in_lbs\": 2835, \"Acceleration\": 14.7, \"Year\": \"1982-01-01T00:00:00\", \"Origin\": \"USA\"}, {\"Name\": \"toyota celica gt\", \"Miles_per_Gallon\": 32.0, \"Cylinders\": 4, \"Displacement\": 144.0, \"Horsepower\": 96.0, \"Weight_in_lbs\": 2665, \"Acceleration\": 13.9, \"Year\": \"1982-01-01T00:00:00\", \"Origin\": \"Japan\"}, {\"Name\": \"dodge charger 2.2\", \"Miles_per_Gallon\": 36.0, \"Cylinders\": 4, \"Displacement\": 135.0, \"Horsepower\": 84.0, \"Weight_in_lbs\": 2370, \"Acceleration\": 13.0, \"Year\": \"1982-01-01T00:00:00\", \"Origin\": \"USA\"}, {\"Name\": \"chevrolet camaro\", \"Miles_per_Gallon\": 27.0, \"Cylinders\": 4, \"Displacement\": 151.0, \"Horsepower\": 90.0, \"Weight_in_lbs\": 2950, \"Acceleration\": 17.3, \"Year\": \"1982-01-01T00:00:00\", \"Origin\": \"USA\"}, {\"Name\": \"ford mustang gl\", \"Miles_per_Gallon\": 27.0, \"Cylinders\": 4, \"Displacement\": 140.0, \"Horsepower\": 86.0, \"Weight_in_lbs\": 2790, \"Acceleration\": 15.6, \"Year\": \"1982-01-01T00:00:00\", \"Origin\": \"USA\"}, {\"Name\": \"vw pickup\", \"Miles_per_Gallon\": 44.0, \"Cylinders\": 4, \"Displacement\": 97.0, \"Horsepower\": 52.0, \"Weight_in_lbs\": 2130, \"Acceleration\": 24.6, \"Year\": \"1982-01-01T00:00:00\", \"Origin\": \"Europe\"}, {\"Name\": \"dodge rampage\", \"Miles_per_Gallon\": 32.0, \"Cylinders\": 4, \"Displacement\": 135.0, \"Horsepower\": 84.0, \"Weight_in_lbs\": 2295, \"Acceleration\": 11.6, \"Year\": \"1982-01-01T00:00:00\", \"Origin\": \"USA\"}, {\"Name\": \"ford ranger\", \"Miles_per_Gallon\": 28.0, \"Cylinders\": 4, \"Displacement\": 120.0, \"Horsepower\": 79.0, \"Weight_in_lbs\": 2625, \"Acceleration\": 18.6, \"Year\": \"1982-01-01T00:00:00\", \"Origin\": \"USA\"}, {\"Name\": \"chevy s-10\", \"Miles_per_Gallon\": 31.0, \"Cylinders\": 4, \"Displacement\": 119.0, \"Horsepower\": 82.0, \"Weight_in_lbs\": 2720, \"Acceleration\": 19.4, \"Year\": \"1982-01-01T00:00:00\", \"Origin\": \"USA\"}]}}, {\"mode\": \"vega-lite\"});\n",
       "</script>"
      ],
      "text/plain": [
       "alt.Chart(...)"
      ]
     },
     "execution_count": 161,
     "metadata": {},
     "output_type": "execute_result"
    }
   ],
   "source": [
    "### This is the graph it's referencing above ☝🏽\n",
    "cars = vega_data.cars()\n",
    "\n",
    "alt.Chart(cars).mark_point().encode(\n",
    "    x='Horsepower',\n",
    "    y='Miles_per_Gallon',\n",
    "    color='Origin',\n",
    "    shape='Origin'\n",
    ")"
   ]
  },
  {
   "cell_type": "markdown",
   "id": "c3964d5c",
   "metadata": {},
   "source": [
    "So from this description we can start to understand that both `x` and `y` are encoded fields, as is `color` and `shape`. \n",
    "\n",
    "Returning to the `sort` documentation it describes how you can use it with either `continuous` or `discrete` data. So what does that mean exactly?"
   ]
  },
  {
   "cell_type": "markdown",
   "id": "06d2a6a8",
   "metadata": {},
   "source": [
    "![](https://lh3.googleusercontent.com/ouaZ3rY3a2NL356W3kDyYr5HTBFFMzSVK2QSQmptX4oMWmH5rmiBix3RIu-aZ9ptEZZUcKkDhN2A7BmPKgs_bCN6raFf5Car4CxHKsPqu_rmB5f-engm9BsHnTyR2rgLmxCSgq9s)"
   ]
  },
  {
   "cell_type": "markdown",
   "id": "07e20444",
   "metadata": {},
   "source": [
    "This graph outlines the main types of data you might encounter, which largely breaks down between qualitative (categorical) or quantitative (numerical). Discrete and continuous are both numerical but represent different types of numerical data.\n",
    "\n",
    "Knowing your types of data is important not only for knowing how best to represent the data, but also because Altair often requires explicit data type included in your field, which you can see outlined here 👇🏽.\n",
    "\n",
    "![data_types](images/data_types.png)"
   ]
  },
  {
   "cell_type": "markdown",
   "id": "e21ff14f",
   "metadata": {},
   "source": [
    "So we can now understand that unless we specify explicitly Altair will assume our data is formatted certain ways, which will impact how the library graphs our data."
   ]
  },
  {
   "cell_type": "markdown",
   "id": "4988c670",
   "metadata": {},
   "source": [
    "This was a lot of information about how Altair works but it's still probably all very overwhelming and abstract (not to scare you but this is some of the more readable visualization library documentation so do take the time to look through the examples and documentation!)"
   ]
  },
  {
   "cell_type": "markdown",
   "id": "ab8d95a4",
   "metadata": {},
   "source": [
    "But we haven't quite achieved our goal. We've recreated Melanie's original plot, but have not added anything additional.\n",
    "\n",
    "So what other information might be useful to include and how should we encode it? Let's take a look at `seattle_df` again."
   ]
  },
  {
   "cell_type": "code",
   "execution_count": 102,
   "id": "f8e090b2",
   "metadata": {},
   "outputs": [
    {
     "data": {
      "text/html": [
       "<div>\n",
       "<style scoped>\n",
       "    .dataframe tbody tr th:only-of-type {\n",
       "        vertical-align: middle;\n",
       "    }\n",
       "\n",
       "    .dataframe tbody tr th {\n",
       "        vertical-align: top;\n",
       "    }\n",
       "\n",
       "    .dataframe thead th {\n",
       "        text-align: right;\n",
       "    }\n",
       "</style>\n",
       "<table border=\"1\" class=\"dataframe\">\n",
       "  <thead>\n",
       "    <tr style=\"text-align: right;\">\n",
       "      <th></th>\n",
       "      <th>Title</th>\n",
       "      <th>Creator</th>\n",
       "      <th>MaterialType</th>\n",
       "      <th>Checkouts</th>\n",
       "      <th>CheckoutYear</th>\n",
       "      <th>CheckoutMonth</th>\n",
       "      <th>Publisher</th>\n",
       "      <th>PublicationYear</th>\n",
       "      <th>Subjects</th>\n",
       "      <th>UsageClass</th>\n",
       "      <th>CheckoutType</th>\n",
       "    </tr>\n",
       "  </thead>\n",
       "  <tbody>\n",
       "    <tr>\n",
       "      <th>0</th>\n",
       "      <td>Frog and toad all year / by Arnold Lobel.</td>\n",
       "      <td>Lobel, Arnold</td>\n",
       "      <td>BOOK</td>\n",
       "      <td>34</td>\n",
       "      <td>2016</td>\n",
       "      <td>10</td>\n",
       "      <td>Harper &amp; Row,</td>\n",
       "      <td>c1976.</td>\n",
       "      <td>Friendship Fiction, Frogs Juvenile fiction, To...</td>\n",
       "      <td>Physical</td>\n",
       "      <td>Horizon</td>\n",
       "    </tr>\n",
       "    <tr>\n",
       "      <th>1</th>\n",
       "      <td>My brilliant friend : childhood, adolescence /...</td>\n",
       "      <td>Ferrante, Elena</td>\n",
       "      <td>BOOK</td>\n",
       "      <td>110</td>\n",
       "      <td>2016</td>\n",
       "      <td>10</td>\n",
       "      <td>Europa Editions,</td>\n",
       "      <td>2012</td>\n",
       "      <td>Friendship Fiction, Naples Italy Fiction</td>\n",
       "      <td>Physical</td>\n",
       "      <td>Horizon</td>\n",
       "    </tr>\n",
       "    <tr>\n",
       "      <th>2</th>\n",
       "      <td>Star trek [videorecording] / Paramount ; Spygl...</td>\n",
       "      <td>NaN</td>\n",
       "      <td>VIDEODISC</td>\n",
       "      <td>36</td>\n",
       "      <td>2016</td>\n",
       "      <td>10</td>\n",
       "      <td>Paramount Home Entertainment,</td>\n",
       "      <td>c2009.</td>\n",
       "      <td>Kirk James T 2233 2371 Drama, Spock Mr Drama, ...</td>\n",
       "      <td>Physical</td>\n",
       "      <td>Horizon</td>\n",
       "    </tr>\n",
       "    <tr>\n",
       "      <th>3</th>\n",
       "      <td>The Man in the High Castle</td>\n",
       "      <td>Philip K. Dick</td>\n",
       "      <td>EBOOK</td>\n",
       "      <td>63</td>\n",
       "      <td>2016</td>\n",
       "      <td>10</td>\n",
       "      <td>Houghton Mifflin Harcourt Trade and Reference</td>\n",
       "      <td>2012</td>\n",
       "      <td>Fiction, Science Fiction</td>\n",
       "      <td>Digital</td>\n",
       "      <td>OverDrive</td>\n",
       "    </tr>\n",
       "    <tr>\n",
       "      <th>4</th>\n",
       "      <td>The Fifth Season: Broken Earth Series, Book 1</td>\n",
       "      <td>N. K. Jemisin</td>\n",
       "      <td>EBOOK</td>\n",
       "      <td>44</td>\n",
       "      <td>2016</td>\n",
       "      <td>10</td>\n",
       "      <td>Hachette Digital, Inc.</td>\n",
       "      <td>2015</td>\n",
       "      <td>Fantasy, Fiction, Thriller</td>\n",
       "      <td>Digital</td>\n",
       "      <td>OverDrive</td>\n",
       "    </tr>\n",
       "    <tr>\n",
       "      <th>...</th>\n",
       "      <td>...</td>\n",
       "      <td>...</td>\n",
       "      <td>...</td>\n",
       "      <td>...</td>\n",
       "      <td>...</td>\n",
       "      <td>...</td>\n",
       "      <td>...</td>\n",
       "      <td>...</td>\n",
       "      <td>...</td>\n",
       "      <td>...</td>\n",
       "      <td>...</td>\n",
       "    </tr>\n",
       "    <tr>\n",
       "      <th>282282</th>\n",
       "      <td>The Fire Next Time</td>\n",
       "      <td>James Baldwin</td>\n",
       "      <td>EBOOK</td>\n",
       "      <td>23</td>\n",
       "      <td>2021</td>\n",
       "      <td>5</td>\n",
       "      <td>Random House, Inc.</td>\n",
       "      <td>2013</td>\n",
       "      <td>Sociology, African American Nonfiction, Nonfic...</td>\n",
       "      <td>Digital</td>\n",
       "      <td>OverDrive</td>\n",
       "    </tr>\n",
       "    <tr>\n",
       "      <th>282283</th>\n",
       "      <td>Girl, woman, other / Bernardine Evaristo.</td>\n",
       "      <td>Evaristo, Bernardine, 1959-</td>\n",
       "      <td>BOOK</td>\n",
       "      <td>22</td>\n",
       "      <td>2021</td>\n",
       "      <td>5</td>\n",
       "      <td>Black Cat, an imprint of Grove Atlantic,</td>\n",
       "      <td>[2019]</td>\n",
       "      <td>Women Black Great Britain Fiction, Great Brita...</td>\n",
       "      <td>Physical</td>\n",
       "      <td>Horizon</td>\n",
       "    </tr>\n",
       "    <tr>\n",
       "      <th>282284</th>\n",
       "      <td>Your Money or Your Life: 9 Steps to Transformi...</td>\n",
       "      <td>Vicki Robin</td>\n",
       "      <td>AUDIOBOOK</td>\n",
       "      <td>30</td>\n",
       "      <td>2021</td>\n",
       "      <td>5</td>\n",
       "      <td>Books on Tape</td>\n",
       "      <td>2018</td>\n",
       "      <td>Business, Finance, Self-Improvement, Nonfiction</td>\n",
       "      <td>Digital</td>\n",
       "      <td>OverDrive</td>\n",
       "    </tr>\n",
       "    <tr>\n",
       "      <th>282285</th>\n",
       "      <td>Harry Potter and the Order of the Phoenix: Har...</td>\n",
       "      <td>J. K. Rowling</td>\n",
       "      <td>EBOOK</td>\n",
       "      <td>32</td>\n",
       "      <td>2021</td>\n",
       "      <td>5</td>\n",
       "      <td>Pottermore</td>\n",
       "      <td>2012</td>\n",
       "      <td>Juvenile Fiction, Juvenile Literature</td>\n",
       "      <td>Digital</td>\n",
       "      <td>OverDrive</td>\n",
       "    </tr>\n",
       "    <tr>\n",
       "      <th>282286</th>\n",
       "      <td>Thick: And Other Essays</td>\n",
       "      <td>Tressie McMillan Cottom</td>\n",
       "      <td>EBOOK</td>\n",
       "      <td>22</td>\n",
       "      <td>2021</td>\n",
       "      <td>5</td>\n",
       "      <td>Lightning Source Inc</td>\n",
       "      <td>2019</td>\n",
       "      <td>Essays, Sociology, Nonfiction</td>\n",
       "      <td>Digital</td>\n",
       "      <td>OverDrive</td>\n",
       "    </tr>\n",
       "  </tbody>\n",
       "</table>\n",
       "<p>282287 rows × 11 columns</p>\n",
       "</div>"
      ],
      "text/plain": [
       "                                                    Title  \\\n",
       "0               Frog and toad all year / by Arnold Lobel.   \n",
       "1       My brilliant friend : childhood, adolescence /...   \n",
       "2       Star trek [videorecording] / Paramount ; Spygl...   \n",
       "3                              The Man in the High Castle   \n",
       "4           The Fifth Season: Broken Earth Series, Book 1   \n",
       "...                                                   ...   \n",
       "282282                                 The Fire Next Time   \n",
       "282283          Girl, woman, other / Bernardine Evaristo.   \n",
       "282284  Your Money or Your Life: 9 Steps to Transformi...   \n",
       "282285  Harry Potter and the Order of the Phoenix: Har...   \n",
       "282286                            Thick: And Other Essays   \n",
       "\n",
       "                            Creator MaterialType  Checkouts  CheckoutYear  \\\n",
       "0                     Lobel, Arnold         BOOK         34          2016   \n",
       "1                   Ferrante, Elena         BOOK        110          2016   \n",
       "2                               NaN    VIDEODISC         36          2016   \n",
       "3                    Philip K. Dick        EBOOK         63          2016   \n",
       "4                     N. K. Jemisin        EBOOK         44          2016   \n",
       "...                             ...          ...        ...           ...   \n",
       "282282                James Baldwin        EBOOK         23          2021   \n",
       "282283  Evaristo, Bernardine, 1959-         BOOK         22          2021   \n",
       "282284                  Vicki Robin    AUDIOBOOK         30          2021   \n",
       "282285                J. K. Rowling        EBOOK         32          2021   \n",
       "282286      Tressie McMillan Cottom        EBOOK         22          2021   \n",
       "\n",
       "        CheckoutMonth                                      Publisher  \\\n",
       "0                  10                                  Harper & Row,   \n",
       "1                  10                               Europa Editions,   \n",
       "2                  10                  Paramount Home Entertainment,   \n",
       "3                  10  Houghton Mifflin Harcourt Trade and Reference   \n",
       "4                  10                         Hachette Digital, Inc.   \n",
       "...               ...                                            ...   \n",
       "282282              5                             Random House, Inc.   \n",
       "282283              5       Black Cat, an imprint of Grove Atlantic,   \n",
       "282284              5                                  Books on Tape   \n",
       "282285              5                                     Pottermore   \n",
       "282286              5                           Lightning Source Inc   \n",
       "\n",
       "       PublicationYear                                           Subjects  \\\n",
       "0               c1976.  Friendship Fiction, Frogs Juvenile fiction, To...   \n",
       "1                 2012           Friendship Fiction, Naples Italy Fiction   \n",
       "2               c2009.  Kirk James T 2233 2371 Drama, Spock Mr Drama, ...   \n",
       "3                 2012                           Fiction, Science Fiction   \n",
       "4                 2015                         Fantasy, Fiction, Thriller   \n",
       "...                ...                                                ...   \n",
       "282282            2013  Sociology, African American Nonfiction, Nonfic...   \n",
       "282283          [2019]  Women Black Great Britain Fiction, Great Brita...   \n",
       "282284            2018    Business, Finance, Self-Improvement, Nonfiction   \n",
       "282285            2012              Juvenile Fiction, Juvenile Literature   \n",
       "282286            2019                      Essays, Sociology, Nonfiction   \n",
       "\n",
       "       UsageClass CheckoutType  \n",
       "0        Physical      Horizon  \n",
       "1        Physical      Horizon  \n",
       "2        Physical      Horizon  \n",
       "3         Digital    OverDrive  \n",
       "4         Digital    OverDrive  \n",
       "...           ...          ...  \n",
       "282282    Digital    OverDrive  \n",
       "282283   Physical      Horizon  \n",
       "282284    Digital    OverDrive  \n",
       "282285    Digital    OverDrive  \n",
       "282286    Digital    OverDrive  \n",
       "\n",
       "[282287 rows x 11 columns]"
      ]
     },
     "execution_count": 102,
     "metadata": {},
     "output_type": "execute_result"
    }
   ],
   "source": [
    "seattle_df"
   ]
  },
  {
   "cell_type": "markdown",
   "id": "53788b18",
   "metadata": {},
   "source": [
    "We currently have a bar chart that has `x` and `y` fields encoded already, so that leaves us with `shape` and `color` for now at least. Let's focus on `color`, which field might provide additional useful information? Also do we need to remake our `seattle_material_counts` variable or can we use built in Altair functionality to count `MaterialType` (*cough cough* we can! https://altair-viz.github.io/user_guide/encoding.html#encoding-channel-options)?"
   ]
  },
  {
   "cell_type": "code",
   "execution_count": 110,
   "id": "304c3a59",
   "metadata": {},
   "outputs": [],
   "source": [
    "# alt.Chart(seattle_df).mark_bar().encode(\n",
    "#     x=alt.X('MaterialType', sort='-y'),\n",
    "#     y='count()',\n",
    "#     color='CheckoutYear:N'\n",
    "# )"
   ]
  },
  {
   "cell_type": "markdown",
   "id": "28be66cf",
   "metadata": {},
   "source": [
    "We've gotten our first error 🥳!! Well done!! I always try to celebrate whoever gets the first Python recursion error but this is pretty close! Let's look at the error:\n",
    "`The number of rows in your dataset is greater than the maximum allowed (5000)`\n",
    "To keep us from making very large graphs that eat up memory, Altair has a built-in limit in how many rows we can visualize as a default. You can read more about the default rationale here in the FAQ https://altair-viz.github.io/user_guide/faq.html#maxrowserror-how-can-i-plot-large-datasets but we can essentially disable that error by running this code `alt.data_transformers.disable_max_rows()`.\n",
    "\n",
    "Coming back to our earlier discussion of data visualization tools, it's worth noting that there are pretty significant limitations on how much data you can visualize in the browser, which is why Altair has this limit. If you have very VERY large datasets you will likely either need some type of Java GUI (like Gephi) or use a Javascript library optimized for large data (likely something that uses WebGL or Canvas). \n",
    "\n",
    "So let's try running this on the full `seatle_df` dataset."
   ]
  },
  {
   "cell_type": "code",
   "execution_count": 112,
   "id": "e0d07f3f",
   "metadata": {},
   "outputs": [
    {
     "data": {
      "text/plain": [
       "DataTransformerRegistry.enable('default')"
      ]
     },
     "execution_count": 112,
     "metadata": {},
     "output_type": "execute_result"
    }
   ],
   "source": [
    "alt.data_transformers.disable_max_rows()"
   ]
  },
  {
   "cell_type": "code",
   "execution_count": 114,
   "id": "3cf5f0e6",
   "metadata": {},
   "outputs": [],
   "source": [
    "# alt.Chart(seattle_df).mark_bar().encode(\n",
    "#     x=alt.X('MaterialType', sort='-y'),\n",
    "#     y='count()',\n",
    "#     color='CheckoutYear:N'\n",
    "# )"
   ]
  },
  {
   "cell_type": "markdown",
   "id": "42e3e919",
   "metadata": {},
   "source": [
    "This is very slow!! But hopefully looks cool! One thing we can do is use Pandas groupby functionality to get our dataset into shape without loading it entirely into the chart."
   ]
  },
  {
   "cell_type": "markdown",
   "id": "a0f45a1e",
   "metadata": {},
   "source": [
    "Cue more Jeopardy Music to give us time to work through this problem without seeing the solution 😂\n",
    "![](https://www.liveabout.com/thmb/-1IkuMGHyqL3eNeZ04ep70HVCPo=/1920x1080/filters:fill(auto,1)/jeop_logo_large-58bacf375f9b58af5cb69e2f.jpg)"
   ]
  },
  {
   "cell_type": "code",
   "execution_count": 163,
   "id": "c2b32e0e",
   "metadata": {},
   "outputs": [],
   "source": [
    "# seattle_material_grouped = seattle_df.groupby(['MaterialType', 'CheckoutYear']).size().reset_index(name='counts')\n",
    "# alt.Chart(seattle_material_grouped).mark_bar().encode(\n",
    "#     x=alt.X('MaterialType', sort='-y'),\n",
    "#     y='counts',\n",
    "#     color='CheckoutYear:N'\n",
    "# )"
   ]
  },
  {
   "cell_type": "markdown",
   "id": "67f93f53",
   "metadata": {},
   "source": [
    "Ok so I think we've finally done it team! We've recreated Melanie's graph and added additional information that would be tricky to do in just Pandas. So final thing to do is save it and call it a day!"
   ]
  },
  {
   "cell_type": "markdown",
   "id": "15ef5c03",
   "metadata": {},
   "source": [
    "Well luckily Altair has lots of built-in ways to save graphs! You've probably been wondering what the circle is with the three dots and if you haven't clicked it yet, it actually let's us download our charts with a few different options. \n",
    "\n",
    "![clicked_graph](images/clicked_graph.png)"
   ]
  },
  {
   "cell_type": "markdown",
   "id": "d5226d9a",
   "metadata": {},
   "source": [
    "While png and svg are fairly straightforward, we can also see `Source` and `Compiled Vega` (which in this case are essentially the same), as well as `Open in Vega Editor`. Let's click on that final option and see what happens 👀"
   ]
  },
  {
   "cell_type": "markdown",
   "id": "8635b446",
   "metadata": {},
   "source": [
    "Woah! Where did we go??? To Javascript land! \n",
    "\n",
    "I've hopefully mentioned this already, but in case I haven't, Altair is actually a wrapper around a Javascript library, Vega-Lite, which itself is a wrapper around another library called Vega. If you've heard of D3.js, then Vega is an alternative library for making a visualization grammar. If you're curious about Vega, you can look at their simple bar chart tutorial to compare to the bar chart we created https://vega.github.io/vega/tutorials/bar-chart/.\n",
    "\n",
    "The biggest benefit of Altair being a wrapper is that you can download the compiled vega and drop it into any html file to publish your graph to the web (more info on that is available here https://vega.github.io/vega-lite/tutorials/getting_started.html#embed). This is super exciting because D3 has a very steep learning curve, and other visualization libraries like ggplot2 are not great for embedding interactive versions.\n",
    "\n",
    "And it's interactivity where Altair shines so let's add some to our bar chart!"
   ]
  },
  {
   "cell_type": "markdown",
   "id": "2d155e40",
   "metadata": {},
   "source": [
    "The simplest way to add interactivity in Altair is with tooltips, that appear when you hover on the graph. Let's follow this example to add some to our graph https://altair-viz.github.io/gallery/scatter_tooltips.html"
   ]
  },
  {
   "cell_type": "code",
   "execution_count": 123,
   "id": "46b79e5b",
   "metadata": {},
   "outputs": [
    {
     "data": {
      "text/html": [
       "\n",
       "<div id=\"altair-viz-6d5b4324a5d8405d87d763d793ad4a8b\"></div>\n",
       "<script type=\"text/javascript\">\n",
       "  (function(spec, embedOpt){\n",
       "    let outputDiv = document.currentScript.previousElementSibling;\n",
       "    if (outputDiv.id !== \"altair-viz-6d5b4324a5d8405d87d763d793ad4a8b\") {\n",
       "      outputDiv = document.getElementById(\"altair-viz-6d5b4324a5d8405d87d763d793ad4a8b\");\n",
       "    }\n",
       "    const paths = {\n",
       "      \"vega\": \"https://cdn.jsdelivr.net/npm//vega@5?noext\",\n",
       "      \"vega-lib\": \"https://cdn.jsdelivr.net/npm//vega-lib?noext\",\n",
       "      \"vega-lite\": \"https://cdn.jsdelivr.net/npm//vega-lite@4.8.1?noext\",\n",
       "      \"vega-embed\": \"https://cdn.jsdelivr.net/npm//vega-embed@6?noext\",\n",
       "    };\n",
       "\n",
       "    function loadScript(lib) {\n",
       "      return new Promise(function(resolve, reject) {\n",
       "        var s = document.createElement('script');\n",
       "        s.src = paths[lib];\n",
       "        s.async = true;\n",
       "        s.onload = () => resolve(paths[lib]);\n",
       "        s.onerror = () => reject(`Error loading script: ${paths[lib]}`);\n",
       "        document.getElementsByTagName(\"head\")[0].appendChild(s);\n",
       "      });\n",
       "    }\n",
       "\n",
       "    function showError(err) {\n",
       "      outputDiv.innerHTML = `<div class=\"error\" style=\"color:red;\">${err}</div>`;\n",
       "      throw err;\n",
       "    }\n",
       "\n",
       "    function displayChart(vegaEmbed) {\n",
       "      vegaEmbed(outputDiv, spec, embedOpt)\n",
       "        .catch(err => showError(`Javascript Error: ${err.message}<br>This usually means there's a typo in your chart specification. See the javascript console for the full traceback.`));\n",
       "    }\n",
       "\n",
       "    if(typeof define === \"function\" && define.amd) {\n",
       "      requirejs.config({paths});\n",
       "      require([\"vega-embed\"], displayChart, err => showError(`Error loading script: ${err.message}`));\n",
       "    } else if (typeof vegaEmbed === \"function\") {\n",
       "      displayChart(vegaEmbed);\n",
       "    } else {\n",
       "      loadScript(\"vega\")\n",
       "        .then(() => loadScript(\"vega-lite\"))\n",
       "        .then(() => loadScript(\"vega-embed\"))\n",
       "        .catch(showError)\n",
       "        .then(() => displayChart(vegaEmbed));\n",
       "    }\n",
       "  })({\"config\": {\"view\": {\"continuousWidth\": 400, \"continuousHeight\": 300}}, \"data\": {\"name\": \"data-c2dd5e1f1a5430265fd9093d1d9f1eaa\"}, \"mark\": \"bar\", \"encoding\": {\"color\": {\"type\": \"nominal\", \"field\": \"CheckoutYear\"}, \"tooltip\": [{\"type\": \"nominal\", \"field\": \"MaterialType\"}, {\"type\": \"quantitative\", \"field\": \"counts\"}, {\"type\": \"quantitative\", \"field\": \"CheckoutYear\"}], \"x\": {\"type\": \"nominal\", \"field\": \"MaterialType\", \"sort\": \"-y\"}, \"y\": {\"type\": \"quantitative\", \"field\": \"counts\"}}, \"selection\": {\"selector002\": {\"type\": \"interval\", \"bind\": \"scales\", \"encodings\": [\"x\", \"y\"]}}, \"$schema\": \"https://vega.github.io/schema/vega-lite/v4.8.1.json\", \"datasets\": {\"data-c2dd5e1f1a5430265fd9093d1d9f1eaa\": [{\"MaterialType\": \"AUDIOBOOK\", \"CheckoutYear\": 2015, \"counts\": 1321}, {\"MaterialType\": \"AUDIOBOOK\", \"CheckoutYear\": 2016, \"counts\": 2163}, {\"MaterialType\": \"AUDIOBOOK\", \"CheckoutYear\": 2017, \"counts\": 3164}, {\"MaterialType\": \"AUDIOBOOK\", \"CheckoutYear\": 2018, \"counts\": 5027}, {\"MaterialType\": \"AUDIOBOOK\", \"CheckoutYear\": 2019, \"counts\": 8111}, {\"MaterialType\": \"AUDIOBOOK\", \"CheckoutYear\": 2020, \"counts\": 10050}, {\"MaterialType\": \"AUDIOBOOK\", \"CheckoutYear\": 2021, \"counts\": 4706}, {\"MaterialType\": \"BOOK\", \"CheckoutYear\": 2015, \"counts\": 19087}, {\"MaterialType\": \"BOOK\", \"CheckoutYear\": 2016, \"counts\": 18844}, {\"MaterialType\": \"BOOK\", \"CheckoutYear\": 2017, \"counts\": 20187}, {\"MaterialType\": \"BOOK\", \"CheckoutYear\": 2018, \"counts\": 19524}, {\"MaterialType\": \"BOOK\", \"CheckoutYear\": 2019, \"counts\": 18495}, {\"MaterialType\": \"BOOK\", \"CheckoutYear\": 2020, \"counts\": 4151}, {\"MaterialType\": \"BOOK\", \"CheckoutYear\": 2021, \"counts\": 1788}, {\"MaterialType\": \"COMIC\", \"CheckoutYear\": 2016, \"counts\": 1}, {\"MaterialType\": \"COMIC\", \"CheckoutYear\": 2017, \"counts\": 43}, {\"MaterialType\": \"COMIC\", \"CheckoutYear\": 2018, \"counts\": 39}, {\"MaterialType\": \"CR\", \"CheckoutYear\": 2015, \"counts\": 24}, {\"MaterialType\": \"CR\", \"CheckoutYear\": 2016, \"counts\": 25}, {\"MaterialType\": \"CR\", \"CheckoutYear\": 2017, \"counts\": 24}, {\"MaterialType\": \"CR\", \"CheckoutYear\": 2018, \"counts\": 18}, {\"MaterialType\": \"CR\", \"CheckoutYear\": 2019, \"counts\": 17}, {\"MaterialType\": \"CR\", \"CheckoutYear\": 2020, \"counts\": 4}, {\"MaterialType\": \"EBOOK\", \"CheckoutYear\": 2015, \"counts\": 4732}, {\"MaterialType\": \"EBOOK\", \"CheckoutYear\": 2016, \"counts\": 5540}, {\"MaterialType\": \"EBOOK\", \"CheckoutYear\": 2017, \"counts\": 6394}, {\"MaterialType\": \"EBOOK\", \"CheckoutYear\": 2018, \"counts\": 8607}, {\"MaterialType\": \"EBOOK\", \"CheckoutYear\": 2019, \"counts\": 10837}, {\"MaterialType\": \"EBOOK\", \"CheckoutYear\": 2020, \"counts\": 14769}, {\"MaterialType\": \"EBOOK\", \"CheckoutYear\": 2021, \"counts\": 6420}, {\"MaterialType\": \"ER\", \"CheckoutYear\": 2015, \"counts\": 8}, {\"MaterialType\": \"ER\", \"CheckoutYear\": 2016, \"counts\": 1}, {\"MaterialType\": \"ER\", \"CheckoutYear\": 2017, \"counts\": 10}, {\"MaterialType\": \"ER\", \"CheckoutYear\": 2018, \"counts\": 11}, {\"MaterialType\": \"ER\", \"CheckoutYear\": 2020, \"counts\": 2}, {\"MaterialType\": \"ER\", \"CheckoutYear\": 2021, \"counts\": 2}, {\"MaterialType\": \"ER, SOUNDDISC\", \"CheckoutYear\": 2015, \"counts\": 1}, {\"MaterialType\": \"ER, SOUNDDISC\", \"CheckoutYear\": 2016, \"counts\": 2}, {\"MaterialType\": \"ER, SOUNDDISC\", \"CheckoutYear\": 2017, \"counts\": 6}, {\"MaterialType\": \"ER, SOUNDDISC\", \"CheckoutYear\": 2018, \"counts\": 1}, {\"MaterialType\": \"ER, VIDEODISC\", \"CheckoutYear\": 2019, \"counts\": 8}, {\"MaterialType\": \"ER, VIDEODISC\", \"CheckoutYear\": 2020, \"counts\": 1}, {\"MaterialType\": \"LARGEPRINT\", \"CheckoutYear\": 2015, \"counts\": 6}, {\"MaterialType\": \"LARGEPRINT\", \"CheckoutYear\": 2017, \"counts\": 1}, {\"MaterialType\": \"LARGEPRINT\", \"CheckoutYear\": 2018, \"counts\": 9}, {\"MaterialType\": \"LARGEPRINT\", \"CheckoutYear\": 2019, \"counts\": 2}, {\"MaterialType\": \"LARGEPRINT\", \"CheckoutYear\": 2021, \"counts\": 1}, {\"MaterialType\": \"MAGAZINE\", \"CheckoutYear\": 2015, \"counts\": 1001}, {\"MaterialType\": \"MAGAZINE\", \"CheckoutYear\": 2016, \"counts\": 1033}, {\"MaterialType\": \"MAGAZINE\", \"CheckoutYear\": 2017, \"counts\": 1014}, {\"MaterialType\": \"MAGAZINE\", \"CheckoutYear\": 2018, \"counts\": 977}, {\"MaterialType\": \"MAGAZINE\", \"CheckoutYear\": 2019, \"counts\": 172}, {\"MaterialType\": \"MIXED\", \"CheckoutYear\": 2015, \"counts\": 24}, {\"MaterialType\": \"MIXED\", \"CheckoutYear\": 2016, \"counts\": 33}, {\"MaterialType\": \"MIXED\", \"CheckoutYear\": 2017, \"counts\": 32}, {\"MaterialType\": \"MIXED\", \"CheckoutYear\": 2018, \"counts\": 36}, {\"MaterialType\": \"MIXED\", \"CheckoutYear\": 2019, \"counts\": 46}, {\"MaterialType\": \"MIXED\", \"CheckoutYear\": 2020, \"counts\": 19}, {\"MaterialType\": \"MIXED\", \"CheckoutYear\": 2021, \"counts\": 5}, {\"MaterialType\": \"MOVIE\", \"CheckoutYear\": 2015, \"counts\": 143}, {\"MaterialType\": \"MOVIE\", \"CheckoutYear\": 2016, \"counts\": 172}, {\"MaterialType\": \"MOVIE\", \"CheckoutYear\": 2017, \"counts\": 198}, {\"MaterialType\": \"MOVIE\", \"CheckoutYear\": 2018, \"counts\": 83}, {\"MaterialType\": \"MUSIC\", \"CheckoutYear\": 2015, \"counts\": 105}, {\"MaterialType\": \"MUSIC\", \"CheckoutYear\": 2016, \"counts\": 97}, {\"MaterialType\": \"MUSIC\", \"CheckoutYear\": 2017, \"counts\": 125}, {\"MaterialType\": \"MUSIC\", \"CheckoutYear\": 2018, \"counts\": 54}, {\"MaterialType\": \"MUSIC\", \"CheckoutYear\": 2019, \"counts\": 1}, {\"MaterialType\": \"REGPRINT\", \"CheckoutYear\": 2015, \"counts\": 26}, {\"MaterialType\": \"REGPRINT\", \"CheckoutYear\": 2016, \"counts\": 46}, {\"MaterialType\": \"REGPRINT\", \"CheckoutYear\": 2017, \"counts\": 32}, {\"MaterialType\": \"REGPRINT\", \"CheckoutYear\": 2018, \"counts\": 114}, {\"MaterialType\": \"REGPRINT\", \"CheckoutYear\": 2019, \"counts\": 164}, {\"MaterialType\": \"REGPRINT\", \"CheckoutYear\": 2020, \"counts\": 36}, {\"MaterialType\": \"REGPRINT\", \"CheckoutYear\": 2021, \"counts\": 29}, {\"MaterialType\": \"SONG\", \"CheckoutYear\": 2015, \"counts\": 339}, {\"MaterialType\": \"SONG\", \"CheckoutYear\": 2016, \"counts\": 345}, {\"MaterialType\": \"SONG\", \"CheckoutYear\": 2017, \"counts\": 248}, {\"MaterialType\": \"SONG\", \"CheckoutYear\": 2018, \"counts\": 43}, {\"MaterialType\": \"SOUNDDISC\", \"CheckoutYear\": 2015, \"counts\": 2159}, {\"MaterialType\": \"SOUNDDISC\", \"CheckoutYear\": 2016, \"counts\": 1570}, {\"MaterialType\": \"SOUNDDISC\", \"CheckoutYear\": 2017, \"counts\": 1275}, {\"MaterialType\": \"SOUNDDISC\", \"CheckoutYear\": 2018, \"counts\": 899}, {\"MaterialType\": \"SOUNDDISC\", \"CheckoutYear\": 2019, \"counts\": 580}, {\"MaterialType\": \"SOUNDDISC\", \"CheckoutYear\": 2020, \"counts\": 98}, {\"MaterialType\": \"SOUNDDISC\", \"CheckoutYear\": 2021, \"counts\": 12}, {\"MaterialType\": \"SOUNDDISC, VIDEODISC\", \"CheckoutYear\": 2015, \"counts\": 38}, {\"MaterialType\": \"SOUNDDISC, VIDEODISC\", \"CheckoutYear\": 2016, \"counts\": 21}, {\"MaterialType\": \"SOUNDDISC, VIDEODISC\", \"CheckoutYear\": 2017, \"counts\": 24}, {\"MaterialType\": \"SOUNDDISC, VIDEODISC\", \"CheckoutYear\": 2018, \"counts\": 6}, {\"MaterialType\": \"SOUNDREC\", \"CheckoutYear\": 2015, \"counts\": 34}, {\"MaterialType\": \"SOUNDREC\", \"CheckoutYear\": 2016, \"counts\": 26}, {\"MaterialType\": \"SOUNDREC\", \"CheckoutYear\": 2017, \"counts\": 13}, {\"MaterialType\": \"SOUNDREC\", \"CheckoutYear\": 2018, \"counts\": 6}, {\"MaterialType\": \"SOUNDREC\", \"CheckoutYear\": 2019, \"counts\": 3}, {\"MaterialType\": \"TELEVISION\", \"CheckoutYear\": 2015, \"counts\": 7}, {\"MaterialType\": \"TELEVISION\", \"CheckoutYear\": 2016, \"counts\": 17}, {\"MaterialType\": \"TELEVISION\", \"CheckoutYear\": 2017, \"counts\": 5}, {\"MaterialType\": \"TELEVISION\", \"CheckoutYear\": 2018, \"counts\": 10}, {\"MaterialType\": \"UNSPECIFIED\", \"CheckoutYear\": 2021, \"counts\": 2}, {\"MaterialType\": \"VIDEODISC\", \"CheckoutYear\": 2015, \"counts\": 17230}, {\"MaterialType\": \"VIDEODISC\", \"CheckoutYear\": 2016, \"counts\": 16755}, {\"MaterialType\": \"VIDEODISC\", \"CheckoutYear\": 2017, \"counts\": 16006}, {\"MaterialType\": \"VIDEODISC\", \"CheckoutYear\": 2018, \"counts\": 11975}, {\"MaterialType\": \"VIDEODISC\", \"CheckoutYear\": 2019, \"counts\": 9596}, {\"MaterialType\": \"VIDEODISC\", \"CheckoutYear\": 2020, \"counts\": 2253}, {\"MaterialType\": \"VIDEODISC\", \"CheckoutYear\": 2021, \"counts\": 658}, {\"MaterialType\": \"VIDEOREC\", \"CheckoutYear\": 2017, \"counts\": 2}, {\"MaterialType\": \"VISUAL\", \"CheckoutYear\": 2015, \"counts\": 13}, {\"MaterialType\": \"VISUAL\", \"CheckoutYear\": 2016, \"counts\": 14}, {\"MaterialType\": \"VISUAL\", \"CheckoutYear\": 2017, \"counts\": 4}]}}, {\"mode\": \"vega-lite\"});\n",
       "</script>"
      ],
      "text/plain": [
       "alt.Chart(...)"
      ]
     },
     "execution_count": 123,
     "metadata": {},
     "output_type": "execute_result"
    }
   ],
   "source": [
    "alt.Chart(seattle_material_grouped).mark_bar().encode(\n",
    "    x=alt.X('MaterialType', sort='-y'),\n",
    "    y='counts',\n",
    "    color='CheckoutYear:N',\n",
    "    tooltip=['MaterialType', 'counts', 'CheckoutYear']\n",
    ").interactive()"
   ]
  },
  {
   "cell_type": "markdown",
   "id": "2ce3c234",
   "metadata": {},
   "source": [
    "We can also do more complex interactions, like those outlined here https://altair-viz.github.io/user_guide/interactions.html. Let's try and have some click actions as well by following this example https://altair-viz.github.io/gallery/interactive_legend.html. "
   ]
  },
  {
   "cell_type": "code",
   "execution_count": 165,
   "id": "777b81e6",
   "metadata": {},
   "outputs": [
    {
     "data": {
      "text/html": [
       "\n",
       "<div id=\"altair-viz-5d97d7a08ef04b47bc033a50da2ebb01\"></div>\n",
       "<script type=\"text/javascript\">\n",
       "  (function(spec, embedOpt){\n",
       "    let outputDiv = document.currentScript.previousElementSibling;\n",
       "    if (outputDiv.id !== \"altair-viz-5d97d7a08ef04b47bc033a50da2ebb01\") {\n",
       "      outputDiv = document.getElementById(\"altair-viz-5d97d7a08ef04b47bc033a50da2ebb01\");\n",
       "    }\n",
       "    const paths = {\n",
       "      \"vega\": \"https://cdn.jsdelivr.net/npm//vega@5?noext\",\n",
       "      \"vega-lib\": \"https://cdn.jsdelivr.net/npm//vega-lib?noext\",\n",
       "      \"vega-lite\": \"https://cdn.jsdelivr.net/npm//vega-lite@4.8.1?noext\",\n",
       "      \"vega-embed\": \"https://cdn.jsdelivr.net/npm//vega-embed@6?noext\",\n",
       "    };\n",
       "\n",
       "    function loadScript(lib) {\n",
       "      return new Promise(function(resolve, reject) {\n",
       "        var s = document.createElement('script');\n",
       "        s.src = paths[lib];\n",
       "        s.async = true;\n",
       "        s.onload = () => resolve(paths[lib]);\n",
       "        s.onerror = () => reject(`Error loading script: ${paths[lib]}`);\n",
       "        document.getElementsByTagName(\"head\")[0].appendChild(s);\n",
       "      });\n",
       "    }\n",
       "\n",
       "    function showError(err) {\n",
       "      outputDiv.innerHTML = `<div class=\"error\" style=\"color:red;\">${err}</div>`;\n",
       "      throw err;\n",
       "    }\n",
       "\n",
       "    function displayChart(vegaEmbed) {\n",
       "      vegaEmbed(outputDiv, spec, embedOpt)\n",
       "        .catch(err => showError(`Javascript Error: ${err.message}<br>This usually means there's a typo in your chart specification. See the javascript console for the full traceback.`));\n",
       "    }\n",
       "\n",
       "    if(typeof define === \"function\" && define.amd) {\n",
       "      requirejs.config({paths});\n",
       "      require([\"vega-embed\"], displayChart, err => showError(`Error loading script: ${err.message}`));\n",
       "    } else if (typeof vegaEmbed === \"function\") {\n",
       "      displayChart(vegaEmbed);\n",
       "    } else {\n",
       "      loadScript(\"vega\")\n",
       "        .then(() => loadScript(\"vega-lite\"))\n",
       "        .then(() => loadScript(\"vega-embed\"))\n",
       "        .catch(showError)\n",
       "        .then(() => displayChart(vegaEmbed));\n",
       "    }\n",
       "  })({\"config\": {\"view\": {\"continuousWidth\": 400, \"continuousHeight\": 300}}, \"data\": {\"name\": \"data-c2dd5e1f1a5430265fd9093d1d9f1eaa\"}, \"mark\": \"bar\", \"encoding\": {\"color\": {\"type\": \"nominal\", \"field\": \"CheckoutYear\"}, \"opacity\": {\"condition\": {\"value\": 1, \"selection\": \"selector006\"}, \"value\": 0.2}, \"tooltip\": [{\"type\": \"nominal\", \"field\": \"MaterialType\"}, {\"type\": \"quantitative\", \"field\": \"counts\"}, {\"type\": \"quantitative\", \"field\": \"CheckoutYear\"}], \"x\": {\"type\": \"nominal\", \"field\": \"MaterialType\", \"sort\": \"-y\"}, \"y\": {\"type\": \"quantitative\", \"field\": \"counts\"}}, \"selection\": {\"selector006\": {\"type\": \"multi\", \"fields\": [\"CheckoutYear\"], \"bind\": \"legend\"}}, \"$schema\": \"https://vega.github.io/schema/vega-lite/v4.8.1.json\", \"datasets\": {\"data-c2dd5e1f1a5430265fd9093d1d9f1eaa\": [{\"MaterialType\": \"AUDIOBOOK\", \"CheckoutYear\": 2015, \"counts\": 1321}, {\"MaterialType\": \"AUDIOBOOK\", \"CheckoutYear\": 2016, \"counts\": 2163}, {\"MaterialType\": \"AUDIOBOOK\", \"CheckoutYear\": 2017, \"counts\": 3164}, {\"MaterialType\": \"AUDIOBOOK\", \"CheckoutYear\": 2018, \"counts\": 5027}, {\"MaterialType\": \"AUDIOBOOK\", \"CheckoutYear\": 2019, \"counts\": 8111}, {\"MaterialType\": \"AUDIOBOOK\", \"CheckoutYear\": 2020, \"counts\": 10050}, {\"MaterialType\": \"AUDIOBOOK\", \"CheckoutYear\": 2021, \"counts\": 4706}, {\"MaterialType\": \"BOOK\", \"CheckoutYear\": 2015, \"counts\": 19087}, {\"MaterialType\": \"BOOK\", \"CheckoutYear\": 2016, \"counts\": 18844}, {\"MaterialType\": \"BOOK\", \"CheckoutYear\": 2017, \"counts\": 20187}, {\"MaterialType\": \"BOOK\", \"CheckoutYear\": 2018, \"counts\": 19524}, {\"MaterialType\": \"BOOK\", \"CheckoutYear\": 2019, \"counts\": 18495}, {\"MaterialType\": \"BOOK\", \"CheckoutYear\": 2020, \"counts\": 4151}, {\"MaterialType\": \"BOOK\", \"CheckoutYear\": 2021, \"counts\": 1788}, {\"MaterialType\": \"COMIC\", \"CheckoutYear\": 2016, \"counts\": 1}, {\"MaterialType\": \"COMIC\", \"CheckoutYear\": 2017, \"counts\": 43}, {\"MaterialType\": \"COMIC\", \"CheckoutYear\": 2018, \"counts\": 39}, {\"MaterialType\": \"CR\", \"CheckoutYear\": 2015, \"counts\": 24}, {\"MaterialType\": \"CR\", \"CheckoutYear\": 2016, \"counts\": 25}, {\"MaterialType\": \"CR\", \"CheckoutYear\": 2017, \"counts\": 24}, {\"MaterialType\": \"CR\", \"CheckoutYear\": 2018, \"counts\": 18}, {\"MaterialType\": \"CR\", \"CheckoutYear\": 2019, \"counts\": 17}, {\"MaterialType\": \"CR\", \"CheckoutYear\": 2020, \"counts\": 4}, {\"MaterialType\": \"EBOOK\", \"CheckoutYear\": 2015, \"counts\": 4732}, {\"MaterialType\": \"EBOOK\", \"CheckoutYear\": 2016, \"counts\": 5540}, {\"MaterialType\": \"EBOOK\", \"CheckoutYear\": 2017, \"counts\": 6394}, {\"MaterialType\": \"EBOOK\", \"CheckoutYear\": 2018, \"counts\": 8607}, {\"MaterialType\": \"EBOOK\", \"CheckoutYear\": 2019, \"counts\": 10837}, {\"MaterialType\": \"EBOOK\", \"CheckoutYear\": 2020, \"counts\": 14769}, {\"MaterialType\": \"EBOOK\", \"CheckoutYear\": 2021, \"counts\": 6420}, {\"MaterialType\": \"ER\", \"CheckoutYear\": 2015, \"counts\": 8}, {\"MaterialType\": \"ER\", \"CheckoutYear\": 2016, \"counts\": 1}, {\"MaterialType\": \"ER\", \"CheckoutYear\": 2017, \"counts\": 10}, {\"MaterialType\": \"ER\", \"CheckoutYear\": 2018, \"counts\": 11}, {\"MaterialType\": \"ER\", \"CheckoutYear\": 2020, \"counts\": 2}, {\"MaterialType\": \"ER\", \"CheckoutYear\": 2021, \"counts\": 2}, {\"MaterialType\": \"ER, SOUNDDISC\", \"CheckoutYear\": 2015, \"counts\": 1}, {\"MaterialType\": \"ER, SOUNDDISC\", \"CheckoutYear\": 2016, \"counts\": 2}, {\"MaterialType\": \"ER, SOUNDDISC\", \"CheckoutYear\": 2017, \"counts\": 6}, {\"MaterialType\": \"ER, SOUNDDISC\", \"CheckoutYear\": 2018, \"counts\": 1}, {\"MaterialType\": \"ER, VIDEODISC\", \"CheckoutYear\": 2019, \"counts\": 8}, {\"MaterialType\": \"ER, VIDEODISC\", \"CheckoutYear\": 2020, \"counts\": 1}, {\"MaterialType\": \"LARGEPRINT\", \"CheckoutYear\": 2015, \"counts\": 6}, {\"MaterialType\": \"LARGEPRINT\", \"CheckoutYear\": 2017, \"counts\": 1}, {\"MaterialType\": \"LARGEPRINT\", \"CheckoutYear\": 2018, \"counts\": 9}, {\"MaterialType\": \"LARGEPRINT\", \"CheckoutYear\": 2019, \"counts\": 2}, {\"MaterialType\": \"LARGEPRINT\", \"CheckoutYear\": 2021, \"counts\": 1}, {\"MaterialType\": \"MAGAZINE\", \"CheckoutYear\": 2015, \"counts\": 1001}, {\"MaterialType\": \"MAGAZINE\", \"CheckoutYear\": 2016, \"counts\": 1033}, {\"MaterialType\": \"MAGAZINE\", \"CheckoutYear\": 2017, \"counts\": 1014}, {\"MaterialType\": \"MAGAZINE\", \"CheckoutYear\": 2018, \"counts\": 977}, {\"MaterialType\": \"MAGAZINE\", \"CheckoutYear\": 2019, \"counts\": 172}, {\"MaterialType\": \"MIXED\", \"CheckoutYear\": 2015, \"counts\": 24}, {\"MaterialType\": \"MIXED\", \"CheckoutYear\": 2016, \"counts\": 33}, {\"MaterialType\": \"MIXED\", \"CheckoutYear\": 2017, \"counts\": 32}, {\"MaterialType\": \"MIXED\", \"CheckoutYear\": 2018, \"counts\": 36}, {\"MaterialType\": \"MIXED\", \"CheckoutYear\": 2019, \"counts\": 46}, {\"MaterialType\": \"MIXED\", \"CheckoutYear\": 2020, \"counts\": 19}, {\"MaterialType\": \"MIXED\", \"CheckoutYear\": 2021, \"counts\": 5}, {\"MaterialType\": \"MOVIE\", \"CheckoutYear\": 2015, \"counts\": 143}, {\"MaterialType\": \"MOVIE\", \"CheckoutYear\": 2016, \"counts\": 172}, {\"MaterialType\": \"MOVIE\", \"CheckoutYear\": 2017, \"counts\": 198}, {\"MaterialType\": \"MOVIE\", \"CheckoutYear\": 2018, \"counts\": 83}, {\"MaterialType\": \"MUSIC\", \"CheckoutYear\": 2015, \"counts\": 105}, {\"MaterialType\": \"MUSIC\", \"CheckoutYear\": 2016, \"counts\": 97}, {\"MaterialType\": \"MUSIC\", \"CheckoutYear\": 2017, \"counts\": 125}, {\"MaterialType\": \"MUSIC\", \"CheckoutYear\": 2018, \"counts\": 54}, {\"MaterialType\": \"MUSIC\", \"CheckoutYear\": 2019, \"counts\": 1}, {\"MaterialType\": \"REGPRINT\", \"CheckoutYear\": 2015, \"counts\": 26}, {\"MaterialType\": \"REGPRINT\", \"CheckoutYear\": 2016, \"counts\": 46}, {\"MaterialType\": \"REGPRINT\", \"CheckoutYear\": 2017, \"counts\": 32}, {\"MaterialType\": \"REGPRINT\", \"CheckoutYear\": 2018, \"counts\": 114}, {\"MaterialType\": \"REGPRINT\", \"CheckoutYear\": 2019, \"counts\": 164}, {\"MaterialType\": \"REGPRINT\", \"CheckoutYear\": 2020, \"counts\": 36}, {\"MaterialType\": \"REGPRINT\", \"CheckoutYear\": 2021, \"counts\": 29}, {\"MaterialType\": \"SONG\", \"CheckoutYear\": 2015, \"counts\": 339}, {\"MaterialType\": \"SONG\", \"CheckoutYear\": 2016, \"counts\": 345}, {\"MaterialType\": \"SONG\", \"CheckoutYear\": 2017, \"counts\": 248}, {\"MaterialType\": \"SONG\", \"CheckoutYear\": 2018, \"counts\": 43}, {\"MaterialType\": \"SOUNDDISC\", \"CheckoutYear\": 2015, \"counts\": 2159}, {\"MaterialType\": \"SOUNDDISC\", \"CheckoutYear\": 2016, \"counts\": 1570}, {\"MaterialType\": \"SOUNDDISC\", \"CheckoutYear\": 2017, \"counts\": 1275}, {\"MaterialType\": \"SOUNDDISC\", \"CheckoutYear\": 2018, \"counts\": 899}, {\"MaterialType\": \"SOUNDDISC\", \"CheckoutYear\": 2019, \"counts\": 580}, {\"MaterialType\": \"SOUNDDISC\", \"CheckoutYear\": 2020, \"counts\": 98}, {\"MaterialType\": \"SOUNDDISC\", \"CheckoutYear\": 2021, \"counts\": 12}, {\"MaterialType\": \"SOUNDDISC, VIDEODISC\", \"CheckoutYear\": 2015, \"counts\": 38}, {\"MaterialType\": \"SOUNDDISC, VIDEODISC\", \"CheckoutYear\": 2016, \"counts\": 21}, {\"MaterialType\": \"SOUNDDISC, VIDEODISC\", \"CheckoutYear\": 2017, \"counts\": 24}, {\"MaterialType\": \"SOUNDDISC, VIDEODISC\", \"CheckoutYear\": 2018, \"counts\": 6}, {\"MaterialType\": \"SOUNDREC\", \"CheckoutYear\": 2015, \"counts\": 34}, {\"MaterialType\": \"SOUNDREC\", \"CheckoutYear\": 2016, \"counts\": 26}, {\"MaterialType\": \"SOUNDREC\", \"CheckoutYear\": 2017, \"counts\": 13}, {\"MaterialType\": \"SOUNDREC\", \"CheckoutYear\": 2018, \"counts\": 6}, {\"MaterialType\": \"SOUNDREC\", \"CheckoutYear\": 2019, \"counts\": 3}, {\"MaterialType\": \"TELEVISION\", \"CheckoutYear\": 2015, \"counts\": 7}, {\"MaterialType\": \"TELEVISION\", \"CheckoutYear\": 2016, \"counts\": 17}, {\"MaterialType\": \"TELEVISION\", \"CheckoutYear\": 2017, \"counts\": 5}, {\"MaterialType\": \"TELEVISION\", \"CheckoutYear\": 2018, \"counts\": 10}, {\"MaterialType\": \"UNSPECIFIED\", \"CheckoutYear\": 2021, \"counts\": 2}, {\"MaterialType\": \"VIDEODISC\", \"CheckoutYear\": 2015, \"counts\": 17230}, {\"MaterialType\": \"VIDEODISC\", \"CheckoutYear\": 2016, \"counts\": 16755}, {\"MaterialType\": \"VIDEODISC\", \"CheckoutYear\": 2017, \"counts\": 16006}, {\"MaterialType\": \"VIDEODISC\", \"CheckoutYear\": 2018, \"counts\": 11975}, {\"MaterialType\": \"VIDEODISC\", \"CheckoutYear\": 2019, \"counts\": 9596}, {\"MaterialType\": \"VIDEODISC\", \"CheckoutYear\": 2020, \"counts\": 2253}, {\"MaterialType\": \"VIDEODISC\", \"CheckoutYear\": 2021, \"counts\": 658}, {\"MaterialType\": \"VIDEOREC\", \"CheckoutYear\": 2017, \"counts\": 2}, {\"MaterialType\": \"VISUAL\", \"CheckoutYear\": 2015, \"counts\": 13}, {\"MaterialType\": \"VISUAL\", \"CheckoutYear\": 2016, \"counts\": 14}, {\"MaterialType\": \"VISUAL\", \"CheckoutYear\": 2017, \"counts\": 4}]}}, {\"mode\": \"vega-lite\"});\n",
       "</script>"
      ],
      "text/plain": [
       "alt.Chart(...)"
      ]
     },
     "execution_count": 165,
     "metadata": {},
     "output_type": "execute_result"
    }
   ],
   "source": [
    "selection = alt.selection_multi(fields=['CheckoutYear'], bind='legend')\n",
    "alt.Chart(seattle_material_grouped).mark_bar().encode(\n",
    "    x=alt.X('MaterialType', sort='-y'),\n",
    "    y='counts',\n",
    "    color='CheckoutYear:N',\n",
    "    tooltip=['MaterialType', 'counts', 'CheckoutYear'],\n",
    "    opacity=alt.condition(selection, alt.value(1), alt.value(0.2))\n",
    ").add_selection(\n",
    "    selection\n",
    ")"
   ]
  },
  {
   "cell_type": "markdown",
   "id": "cfa742e7",
   "metadata": {},
   "source": [
    "### Any Questions? Anything need to be clarified?"
   ]
  },
  {
   "cell_type": "markdown",
   "id": "002202b9",
   "metadata": {},
   "source": [
    "### EXERCISE TIME "
   ]
  },
  {
   "cell_type": "markdown",
   "id": "2a3b57b4",
   "metadata": {},
   "source": [
    "Now in our Jupyter Notebook [`Day 1 Homework`](Day 1 Homework Exercises.ipynb)\n",
    "\n"
   ]
  },
  {
   "cell_type": "markdown",
   "id": "1a4b04ae",
   "metadata": {},
   "source": [
    "*If you finish quickly, please try to help your fellow participants and also let me know because I can give you some additional exercises*"
   ]
  }
 ],
 "metadata": {
  "interpreter": {
   "hash": "aee8b7b246df8f9039afb4144a1f6fd8d2ca17a180786b69acc140d282b71a49"
  },
  "kernelspec": {
   "display_name": "viz_hum_data_env",
   "language": "python",
   "name": "viz_hum_data_env"
  },
  "language_info": {
   "codemirror_mode": {
    "name": "ipython",
    "version": 3
   },
   "file_extension": ".py",
   "mimetype": "text/x-python",
   "name": "python",
   "nbconvert_exporter": "python",
   "pygments_lexer": "ipython3",
   "version": "3.9.5"
  }
 },
 "nbformat": 4,
 "nbformat_minor": 5
}
