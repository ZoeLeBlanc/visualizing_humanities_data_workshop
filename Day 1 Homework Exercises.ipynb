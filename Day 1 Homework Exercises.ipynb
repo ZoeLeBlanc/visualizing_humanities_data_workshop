{
 "cells": [
  {
   "cell_type": "markdown",
   "id": "d835334c",
   "metadata": {},
   "source": [
    "## First Exercise for Visualizing Humanities Data\n",
    "\n",
    "Feel free to ask questions in our Slack channel or even organize co-working groups. Unlike in writing, there's no problem with 'copying' others' code examples (whether from Altair, your fellow workshop participants, or anywhere else you might find relevant materials).\n",
    "\n",
    "I would recommend though if you do find other code and use it in your answer, try and work through line by line, what is happening with the code and see if you can tweak a bit."
   ]
  },
  {
   "cell_type": "markdown",
   "id": "9e8d9ef3",
   "metadata": {},
   "source": [
    "So up to refresh where we left off in our workshop we had just created the following graph 👇🏽 using Seattle Library Circulation data.\n",
    "\n",
    "![day1_graph](images/day1_graph.png)"
   ]
  },
  {
   "cell_type": "code",
   "execution_count": 3,
   "id": "7c123b33",
   "metadata": {},
   "outputs": [],
   "source": [
    "## Here's the code we used to create that graph\n",
    "\n",
    "# selection = alt.selection_multi(fields=['CheckoutYear'], bind='legend')\n",
    "# alt.Chart(seattle_material_grouped).mark_bar().encode(\n",
    "#     x=alt.X('MaterialType', sort='-y'),\n",
    "#     y='counts',\n",
    "#     color='CheckoutYear:N',\n",
    "#     tooltip=['MaterialType', 'counts', 'CheckoutYear'],\n",
    "#     opacity=alt.condition(selection, alt.value(1), alt.value(0.2))\n",
    "# ).add_selection(\n",
    "#     selection\n",
    "# )"
   ]
  },
  {
   "cell_type": "markdown",
   "id": "0cac0e3b",
   "metadata": {},
   "source": [
    "If you try uncommenting this chart, you'll see that it doesn't quite work yet. Add in what's missing below to make this chart work:"
   ]
  },
  {
   "cell_type": "code",
   "execution_count": 5,
   "id": "759176bd",
   "metadata": {},
   "outputs": [],
   "source": [
    "### Hint what do you do to load in relevant Python modules?"
   ]
  },
  {
   "cell_type": "code",
   "execution_count": 6,
   "id": "f5dedb12",
   "metadata": {},
   "outputs": [],
   "source": [
    "### Hint what dataset do we need for this chart to work?"
   ]
  },
  {
   "cell_type": "code",
   "execution_count": 7,
   "id": "ce37542d",
   "metadata": {},
   "outputs": [],
   "source": [
    "### Here's our chart code again, is it working for you? If not, what might be missing (remember to double check data we're passing in)?\n",
    "\n",
    "# selection = alt.selection_multi(fields=['CheckoutYear'], bind='legend')\n",
    "# alt.Chart(seattle_material_grouped).mark_bar().encode(\n",
    "#     x=alt.X('MaterialType', sort='-y'),\n",
    "#     y='counts',\n",
    "#     color='CheckoutYear:N',\n",
    "#     tooltip=['MaterialType', 'counts', 'CheckoutYear'],\n",
    "#     opacity=alt.condition(selection, alt.value(1), alt.value(0.2))\n",
    "# ).add_selection(\n",
    "#     selection\n",
    "# )"
   ]
  },
  {
   "cell_type": "markdown",
   "id": "02147239",
   "metadata": {},
   "source": [
    "Hopefully you've gotten this graph working but if you having trouble, please do reach out on Slack.\n",
    "\n",
    "**Next Steps for the Exercise**"
   ]
  },
  {
   "cell_type": "markdown",
   "id": "0fe34cef",
   "metadata": {},
   "source": [
    "1. Try and visualize at least one different column from the `seattle_df` dataframe (we haven't touched `checkouts` yet, so how might that field correspond to the ones we've worked with already?)"
   ]
  },
  {
   "cell_type": "code",
   "execution_count": 8,
   "id": "95a46ad0",
   "metadata": {},
   "outputs": [],
   "source": [
    "### Write your updated chart code here"
   ]
  },
  {
   "cell_type": "markdown",
   "id": "615bb129",
   "metadata": {},
   "source": [
    "2. Try and use a different type of Altair mark (anything but vertical bar graph is allowed, so you have points, lines, area, etc... need inspiration check out the example galler https://altair-viz.github.io/gallery/index.html)"
   ]
  },
  {
   "cell_type": "code",
   "execution_count": 9,
   "id": "c24c5cc1",
   "metadata": {},
   "outputs": [],
   "source": [
    "### Write your updated chart code here"
   ]
  },
  {
   "cell_type": "markdown",
   "id": "cbc01ae8",
   "metadata": {},
   "source": [
    "3. Try to add interactivity to your graph (you could add new tooltips or maybe click events to the chart itself)"
   ]
  },
  {
   "cell_type": "code",
   "execution_count": 10,
   "id": "30f4c88a",
   "metadata": {},
   "outputs": [],
   "source": [
    "### Write your updated chart code here"
   ]
  },
  {
   "cell_type": "markdown",
   "id": "d3aba36d",
   "metadata": {},
   "source": [
    "Don't worry if you don't complete all of these steps before Wednesday! Just do your best, ask for help, and share your solutions in our Slack channel (you can either drop in this notebook or post pictures of your graph with code snippets)!\n",
    "\n",
    "For those that this is a breeze, you can try importing your own data and making some type of initial chart.\n",
    "\n",
    "Good luck and happy visualization making 🥳!!!"
   ]
  }
 ],
 "metadata": {
  "kernelspec": {
   "display_name": "viz_hum_data_env",
   "language": "python",
   "name": "viz_hum_data_env"
  },
  "language_info": {
   "codemirror_mode": {
    "name": "ipython",
    "version": 3
   },
   "file_extension": ".py",
   "mimetype": "text/x-python",
   "name": "python",
   "nbconvert_exporter": "python",
   "pygments_lexer": "ipython3",
   "version": "3.9.5"
  }
 },
 "nbformat": 4,
 "nbformat_minor": 5
}
