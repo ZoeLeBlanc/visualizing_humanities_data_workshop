{
 "cells": [
  {
   "cell_type": "code",
   "execution_count": 2,
   "metadata": {},
   "outputs": [],
   "source": [
    "from bs4 import BeautifulSoup\n",
    "import pandas as pd\n",
    "import csv\n",
    "import requests"
   ]
  },
  {
   "cell_type": "code",
   "execution_count": 5,
   "metadata": {},
   "outputs": [
    {
     "name": "stdout",
     "output_type": "stream",
     "text": [
      "200\n",
      "{'Server': 'ATS', 'Date': 'Wed, 23 Jun 2021 05:25:40 GMT', 'Content-Type': 'text/html; charset=utf-8', 'Content-Length': '5814', 'X-Frame-Options': 'SAMEORIGIN', 'Age': '0', 'Connection': 'keep-alive'}\n"
     ]
    }
   ],
   "source": [
    "url = \"https://humanist.kdl.kcl.ac.uk/\"\n",
    "result = requests.get(url)\n",
    "\n",
    "print(result.status_code)\n",
    "print(result.headers)\n",
    "page = result.content\n",
    "\n",
    "# How would we get all the links to volumes from the Humanist Page?\n",
    "\n",
    "soup = BeautifulSoup(page)"
   ]
  },
  {
   "cell_type": "markdown",
   "metadata": {},
   "source": [
    "https://humanist.kdl.kcl.ac.uk/Archives/Current/ https://humanist.kdl.kcl.ac.uk/Archives/Converted_Text/"
   ]
  },
  {
   "cell_type": "code",
   "execution_count": 3,
   "metadata": {},
   "outputs": [],
   "source": [
    "links = ['https://humanist.kdl.kcl.ac.uk/Archives/Current/','https://humanist.kdl.kcl.ac.uk/Archives/Converted_Text/']\n",
    "texts = []\n",
    "for link in links:\n",
    "    result = requests.get(link)\n",
    "    page = result.content\n",
    "\n",
    "    soup = BeautifulSoup(page)\n",
    "    text_links = soup.find_all('a')\n",
    "    for txt_link in text_links:\n",
    "        url = txt_link.get('href')\n",
    "        if 'txt' in url:\n",
    "            print(link+url)\n",
    "            text_result = requests.get(link+url)\n",
    "            text_page = text_result.content\n",
    "            text_soup = BeautifulSoup(text_page)\n",
    "            dates = url.split('.')[1]\n",
    "            text = text_soup.get_text()\n",
    "            texts.append({'dates': dates, 'text': text})"
   ]
  },
  {
   "cell_type": "code",
   "execution_count": 4,
   "metadata": {},
   "outputs": [],
   "source": [
    "# # Turn our web scraped data in a dataframe\n",
    "humanist_vols = pd.DataFrame.from_dict(texts, orient='columns')"
   ]
  },
  {
   "cell_type": "code",
   "execution_count": 10,
   "metadata": {},
   "outputs": [],
   "source": [
    "# Write to csv\n",
    "humanist_vols.to_csv('web_scraped_humanist_listserv.csv')"
   ]
  }
 ],
 "metadata": {
  "kernelspec": {
   "display_name": "Python 3",
   "language": "python",
   "name": "python3"
  },
  "language_info": {
   "codemirror_mode": {
    "name": "ipython",
    "version": 3
   },
   "file_extension": ".py",
   "mimetype": "text/x-python",
   "name": "python",
   "nbconvert_exporter": "python",
   "pygments_lexer": "ipython3",
   "version": "3.9.5"
  }
 },
 "nbformat": 4,
 "nbformat_minor": 4
}
