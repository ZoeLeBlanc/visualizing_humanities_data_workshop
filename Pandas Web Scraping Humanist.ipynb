{
 "cells": [
  {
   "cell_type": "code",
   "execution_count": 1,
   "metadata": {},
   "outputs": [],
   "source": [
    "from bs4 import BeautifulSoup\n",
    "import pandas as pd\n",
    "import csv\n",
    "import requests"
   ]
  },
  {
   "cell_type": "code",
   "execution_count": 2,
   "metadata": {},
   "outputs": [
    {
     "name": "stdout",
     "output_type": "stream",
     "text": [
      "200\n",
      "{'Server': 'ATS', 'Date': 'Sat, 04 Apr 2020 20:23:09 GMT', 'Content-Type': 'text/html; charset=utf-8', 'Content-Length': '5743', 'X-Frame-Options': 'SAMEORIGIN', 'Age': '0', 'Connection': 'keep-alive'}\n"
     ]
    }
   ],
   "source": [
    "url = \"https://dhhumanist.org\"\n",
    "result = requests.get(\"https://dhhumanist.org/\")\n",
    "\n",
    "print(result.status_code)\n",
    "print(result.headers)\n",
    "page = result.content\n",
    "\n",
    "# How would we get all the links to volumes from the Humanist Page?\n",
    "\n",
    "soup = BeautifulSoup(page)"
   ]
  },
  {
   "cell_type": "markdown",
   "metadata": {},
   "source": [
    "https://dhhumanist.org/Archives/Current/ https://dhhumanist.org/Archives/Converted_Text/"
   ]
  },
  {
   "cell_type": "code",
   "execution_count": 3,
   "metadata": {},
   "outputs": [],
   "source": [
    "links = ['https://dhhumanist.org/Archives/Converted_Text/', 'https://dhhumanist.org/Archives/Current/']\n",
    "texts = []\n",
    "for link in links:\n",
    "    result = requests.get(link)\n",
    "    page = result.content\n",
    "\n",
    "    soup = BeautifulSoup(page)\n",
    "    text_links = soup.find_all('a')\n",
    "    for txt_link in text_links:\n",
    "        url = txt_link.get('href')\n",
    "        if 'txt' in url:\n",
    "            print(link+url)\n",
    "            text_result = requests.get(link+url)\n",
    "            text_page = text_result.content\n",
    "            text_soup = BeautifulSoup(text_page)\n",
    "            dates = url.split('.')[1]\n",
    "            text = text_soup.get_text()\n",
    "            texts.append({'dates': dates, 'text': text})"
   ]
  },
  {
   "cell_type": "code",
   "execution_count": 4,
   "metadata": {},
   "outputs": [],
   "source": [
    "# # Turn our web scraped data in a dataframe\n",
    "humanist_vols = pd.DataFrame.from_dict(texts, orient='columns')"
   ]
  },
  {
   "cell_type": "code",
   "execution_count": 10,
   "metadata": {},
   "outputs": [],
   "source": [
    "# Write to csv\n",
    "humanist_vols.to_csv('web_scraped_humanist_listserv.csv')"
   ]
  },
  {
   "cell_type": "code",
   "execution_count": 7,
   "metadata": {},
   "outputs": [],
   "source": [
    "#import the TfidfVectorizer from Scikit-Learn.\n",
    "from sklearn.feature_extraction.text import TfidfVectorizer\n",
    "\n",
    "all_docs = humanist_vols[0:3].text.tolist()\n",
    "\n",
    "vectorizer = TfidfVectorizer(max_df=.65, min_df=1, stop_words=None, use_idf=True, norm=None)\n",
    "transformed_documents = vectorizer.fit_transform(all_docs)\n",
    "\n",
    "transformed_documents_as_array = transformed_documents.toarray()"
   ]
  },
  {
   "cell_type": "code",
   "execution_count": 8,
   "metadata": {},
   "outputs": [
    {
     "name": "stdout",
     "output_type": "stream",
     "text": [
      "           term      score\n",
      "0        cmi011  50.794415\n",
      "1         hirst  44.021827\n",
      "2           050  42.328680\n",
      "3         husc6  38.942385\n",
      "4            q1  32.169796\n",
      "5  paralanguage  32.169796\n",
      "6      gargoyle  28.783502\n",
      "7       deredec  28.783502\n",
      "8        estfri  28.783502\n",
      "9           oda  27.090355\n",
      "         term       score\n",
      "0       astra  108.361420\n",
      "1    makrolog   45.714974\n",
      "2      oikawa   42.328680\n",
      "3  wesolowski   42.328680\n",
      "4     voorhis   40.635532\n",
      "5       melby   37.249238\n",
      "6       adamo   35.556091\n",
      "7         sdr   33.862944\n",
      "8       tovna   32.169796\n",
      "9       memdb   27.090355\n",
      "          term       score\n",
      "0      kessler  237.040605\n",
      "1    warkentin  133.758627\n",
      "2      donnell  120.213450\n",
      "3      fraktur  104.975125\n",
      "4      lenoble  104.975125\n",
      "5        halio   88.043653\n",
      "6      laptops   82.964212\n",
      "7         unhd   79.577917\n",
      "8     gutnberg   77.884770\n",
      "9  uncertainty   72.805329\n"
     ]
    }
   ],
   "source": [
    "for counter, doc in enumerate(transformed_documents_as_array):\n",
    "    # construct a dataframe\n",
    "    tf_idf_tuples = list(zip(vectorizer.get_feature_names(), doc))\n",
    "    one_doc_as_df = pd.DataFrame.from_records(tf_idf_tuples, columns=['term', 'score']).sort_values(by='score', ascending=False).reset_index(drop=True)\n",
    "    print(one_doc_as_df[0:10])"
   ]
  },
  {
   "cell_type": "code",
   "execution_count": 9,
   "metadata": {},
   "outputs": [
    {
     "data": {
      "image/png": "[encoded data removed]",
      "text/plain": [
       "<Figure size 432x288 with 1 Axes>"
      ]
     },
     "metadata": {
      "needs_background": "light"
     },
     "output_type": "display_data"
    },
    {
     "data": {
      "text/plain": [
       "<matplotlib.axes._subplots.AxesSubplot at 0x1281e8190>"
      ]
     },
     "execution_count": 9,
     "metadata": {},
     "output_type": "execute_result"
    }
   ],
   "source": [
    "from nltk import word_tokenize\n",
    "from nltk import FreqDist\n",
    "\n",
    "tokens = FreqDist(sum(humanist_vols[0:2]['text'].map(word_tokenize), []))\n",
    "tokens.plot(30)"
   ]
  },
  {
   "cell_type": "code",
   "execution_count": 11,
   "metadata": {},
   "outputs": [],
   "source": [
    "humanist_vols['humanities_computing_counts'] = humanist_vols.text.apply(lambda x: x.count('humanities computing'))\n",
    "humanist_vols['digital_humanities_counts'] = humanist_vols.text.apply(lambda x: x.count('digital humanities'))"
   ]
  },
  {
   "cell_type": "code",
   "execution_count": 12,
   "metadata": {},
   "outputs": [
    {
     "data": {
      "text/plain": [
       "<matplotlib.axes._subplots.AxesSubplot at 0x129529890>"
      ]
     },
     "execution_count": 12,
     "metadata": {},
     "output_type": "execute_result"
    },
    {
     "data": {
      "image/png": "[encoded data removed]",
      "text/plain": [
       "<Figure size 432x288 with 1 Axes>"
      ]
     },
     "metadata": {
      "needs_background": "light"
     },
     "output_type": "display_data"
    }
   ],
   "source": [
    "counts_humanist = humanist_vols[['digital_humanities_counts', 'humanities_computing_counts']]\n",
    "counts_humanist.plot()"
   ]
  },
  {
   "cell_type": "code",
   "execution_count": null,
   "metadata": {},
   "outputs": [],
   "source": []
  }
 ],
 "metadata": {
  "kernelspec": {
   "display_name": "Python 3",
   "language": "python",
   "name": "python3"
  },
  "language_info": {
   "codemirror_mode": {
    "name": "ipython",
    "version": 3
   },
   "file_extension": ".py",
   "mimetype": "text/x-python",
   "name": "python",
   "nbconvert_exporter": "python",
   "pygments_lexer": "ipython3",
   "version": "3.7.6"
  }
 },
 "nbformat": 4,
 "nbformat_minor": 4
}
