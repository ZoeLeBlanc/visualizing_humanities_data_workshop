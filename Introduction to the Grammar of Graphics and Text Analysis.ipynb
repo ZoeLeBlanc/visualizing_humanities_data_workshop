{
 "cells": [
  {
   "cell_type": "markdown",
   "id": "9112bbcd",
   "metadata": {},
   "source": [
    "## Introduction to the Grammar of Graphics and Text Analysis Notebook"
   ]
  },
  {
   "cell_type": "markdown",
   "id": "fc06dd8d",
   "metadata": {},
   "source": [
    "Welcome to our second notebook and second session of Visualizing Humanities Data 🥳!!"
   ]
  },
  {
   "cell_type": "markdown",
   "id": "417c2c54",
   "metadata": {},
   "source": [
    "Our agenda today is the following:\n",
    "\n",
    "- Review homework assignment and answer questions\n",
    "- Intro to Grammar of Graphics\n",
    "- Visualizing Corpora and Text Analysis Basics\n",
    "- Discuss Challenges of Visualizing Data-Derived From Text (time-permitting)"
   ]
  },
  {
   "cell_type": "markdown",
   "id": "6b120c8a",
   "metadata": {},
   "source": [
    "***"
   ]
  },
  {
   "cell_type": "markdown",
   "id": "0404c080",
   "metadata": {},
   "source": [
    "#### Homework Review"
   ]
  },
  {
   "cell_type": "markdown",
   "id": "b5e4c910",
   "metadata": {},
   "source": [
    "Who wants to share their example? Questions or errors you discovered?"
   ]
  },
  {
   "cell_type": "code",
   "execution_count": 1,
   "id": "45226384",
   "metadata": {},
   "outputs": [],
   "source": [
    "import pandas as pd\n",
    "import altair as alt"
   ]
  },
  {
   "cell_type": "code",
   "execution_count": 2,
   "id": "fd1be7bc",
   "metadata": {},
   "outputs": [],
   "source": [
    "seattle_df = pd.read_csv('Seattle-Library_2015-2021.csv', delimiter=\",\", encoding=\"utf-8\")"
   ]
  },
  {
   "cell_type": "code",
   "execution_count": 3,
   "id": "b6dc508f",
   "metadata": {},
   "outputs": [
    {
     "data": {
      "text/html": [
       "<div>\n",
       "<style scoped>\n",
       "    .dataframe tbody tr th:only-of-type {\n",
       "        vertical-align: middle;\n",
       "    }\n",
       "\n",
       "    .dataframe tbody tr th {\n",
       "        vertical-align: top;\n",
       "    }\n",
       "\n",
       "    .dataframe thead th {\n",
       "        text-align: right;\n",
       "    }\n",
       "</style>\n",
       "<table border=\"1\" class=\"dataframe\">\n",
       "  <thead>\n",
       "    <tr style=\"text-align: right;\">\n",
       "      <th></th>\n",
       "      <th>Title</th>\n",
       "      <th>Creator</th>\n",
       "      <th>MaterialType</th>\n",
       "      <th>Checkouts</th>\n",
       "      <th>CheckoutYear</th>\n",
       "      <th>CheckoutMonth</th>\n",
       "      <th>Publisher</th>\n",
       "      <th>PublicationYear</th>\n",
       "      <th>Subjects</th>\n",
       "      <th>UsageClass</th>\n",
       "      <th>CheckoutType</th>\n",
       "    </tr>\n",
       "  </thead>\n",
       "  <tbody>\n",
       "    <tr>\n",
       "      <th>0</th>\n",
       "      <td>Frog and toad all year / by Arnold Lobel.</td>\n",
       "      <td>Lobel, Arnold</td>\n",
       "      <td>BOOK</td>\n",
       "      <td>34</td>\n",
       "      <td>2016</td>\n",
       "      <td>10</td>\n",
       "      <td>Harper &amp; Row,</td>\n",
       "      <td>c1976.</td>\n",
       "      <td>Friendship Fiction, Frogs Juvenile fiction, To...</td>\n",
       "      <td>Physical</td>\n",
       "      <td>Horizon</td>\n",
       "    </tr>\n",
       "    <tr>\n",
       "      <th>1</th>\n",
       "      <td>My brilliant friend : childhood, adolescence /...</td>\n",
       "      <td>Ferrante, Elena</td>\n",
       "      <td>BOOK</td>\n",
       "      <td>110</td>\n",
       "      <td>2016</td>\n",
       "      <td>10</td>\n",
       "      <td>Europa Editions,</td>\n",
       "      <td>2012</td>\n",
       "      <td>Friendship Fiction, Naples Italy Fiction</td>\n",
       "      <td>Physical</td>\n",
       "      <td>Horizon</td>\n",
       "    </tr>\n",
       "    <tr>\n",
       "      <th>2</th>\n",
       "      <td>Star trek [videorecording] / Paramount ; Spygl...</td>\n",
       "      <td>NaN</td>\n",
       "      <td>VIDEODISC</td>\n",
       "      <td>36</td>\n",
       "      <td>2016</td>\n",
       "      <td>10</td>\n",
       "      <td>Paramount Home Entertainment,</td>\n",
       "      <td>c2009.</td>\n",
       "      <td>Kirk James T 2233 2371 Drama, Spock Mr Drama, ...</td>\n",
       "      <td>Physical</td>\n",
       "      <td>Horizon</td>\n",
       "    </tr>\n",
       "    <tr>\n",
       "      <th>3</th>\n",
       "      <td>The Man in the High Castle</td>\n",
       "      <td>Philip K. Dick</td>\n",
       "      <td>EBOOK</td>\n",
       "      <td>63</td>\n",
       "      <td>2016</td>\n",
       "      <td>10</td>\n",
       "      <td>Houghton Mifflin Harcourt Trade and Reference</td>\n",
       "      <td>2012</td>\n",
       "      <td>Fiction, Science Fiction</td>\n",
       "      <td>Digital</td>\n",
       "      <td>OverDrive</td>\n",
       "    </tr>\n",
       "    <tr>\n",
       "      <th>4</th>\n",
       "      <td>The Fifth Season: Broken Earth Series, Book 1</td>\n",
       "      <td>N. K. Jemisin</td>\n",
       "      <td>EBOOK</td>\n",
       "      <td>44</td>\n",
       "      <td>2016</td>\n",
       "      <td>10</td>\n",
       "      <td>Hachette Digital, Inc.</td>\n",
       "      <td>2015</td>\n",
       "      <td>Fantasy, Fiction, Thriller</td>\n",
       "      <td>Digital</td>\n",
       "      <td>OverDrive</td>\n",
       "    </tr>\n",
       "  </tbody>\n",
       "</table>\n",
       "</div>"
      ],
      "text/plain": [
       "                                               Title          Creator  \\\n",
       "0          Frog and toad all year / by Arnold Lobel.    Lobel, Arnold   \n",
       "1  My brilliant friend : childhood, adolescence /...  Ferrante, Elena   \n",
       "2  Star trek [videorecording] / Paramount ; Spygl...              NaN   \n",
       "3                         The Man in the High Castle   Philip K. Dick   \n",
       "4      The Fifth Season: Broken Earth Series, Book 1    N. K. Jemisin   \n",
       "\n",
       "  MaterialType  Checkouts  CheckoutYear  CheckoutMonth  \\\n",
       "0         BOOK         34          2016             10   \n",
       "1         BOOK        110          2016             10   \n",
       "2    VIDEODISC         36          2016             10   \n",
       "3        EBOOK         63          2016             10   \n",
       "4        EBOOK         44          2016             10   \n",
       "\n",
       "                                       Publisher PublicationYear  \\\n",
       "0                                  Harper & Row,          c1976.   \n",
       "1                               Europa Editions,            2012   \n",
       "2                  Paramount Home Entertainment,          c2009.   \n",
       "3  Houghton Mifflin Harcourt Trade and Reference            2012   \n",
       "4                         Hachette Digital, Inc.            2015   \n",
       "\n",
       "                                            Subjects UsageClass CheckoutType  \n",
       "0  Friendship Fiction, Frogs Juvenile fiction, To...   Physical      Horizon  \n",
       "1           Friendship Fiction, Naples Italy Fiction   Physical      Horizon  \n",
       "2  Kirk James T 2233 2371 Drama, Spock Mr Drama, ...   Physical      Horizon  \n",
       "3                           Fiction, Science Fiction    Digital    OverDrive  \n",
       "4                         Fantasy, Fiction, Thriller    Digital    OverDrive  "
      ]
     },
     "execution_count": 3,
     "metadata": {},
     "output_type": "execute_result"
    }
   ],
   "source": [
    "seattle_df.head()"
   ]
  },
  {
   "cell_type": "code",
   "execution_count": 6,
   "id": "f0bbd47a",
   "metadata": {},
   "outputs": [
    {
     "data": {
      "text/html": [
       "\n",
       "<div id=\"altair-viz-06e6c16a8f2f4aa6a7b1600e76e9af08\"></div>\n",
       "<script type=\"text/javascript\">\n",
       "  (function(spec, embedOpt){\n",
       "    let outputDiv = document.currentScript.previousElementSibling;\n",
       "    if (outputDiv.id !== \"altair-viz-06e6c16a8f2f4aa6a7b1600e76e9af08\") {\n",
       "      outputDiv = document.getElementById(\"altair-viz-06e6c16a8f2f4aa6a7b1600e76e9af08\");\n",
       "    }\n",
       "    const paths = {\n",
       "      \"vega\": \"https://cdn.jsdelivr.net/npm//vega@5?noext\",\n",
       "      \"vega-lib\": \"https://cdn.jsdelivr.net/npm//vega-lib?noext\",\n",
       "      \"vega-lite\": \"https://cdn.jsdelivr.net/npm//vega-lite@4.8.1?noext\",\n",
       "      \"vega-embed\": \"https://cdn.jsdelivr.net/npm//vega-embed@6?noext\",\n",
       "    };\n",
       "\n",
       "    function loadScript(lib) {\n",
       "      return new Promise(function(resolve, reject) {\n",
       "        var s = document.createElement('script');\n",
       "        s.src = paths[lib];\n",
       "        s.async = true;\n",
       "        s.onload = () => resolve(paths[lib]);\n",
       "        s.onerror = () => reject(`Error loading script: ${paths[lib]}`);\n",
       "        document.getElementsByTagName(\"head\")[0].appendChild(s);\n",
       "      });\n",
       "    }\n",
       "\n",
       "    function showError(err) {\n",
       "      outputDiv.innerHTML = `<div class=\"error\" style=\"color:red;\">${err}</div>`;\n",
       "      throw err;\n",
       "    }\n",
       "\n",
       "    function displayChart(vegaEmbed) {\n",
       "      vegaEmbed(outputDiv, spec, embedOpt)\n",
       "        .catch(err => showError(`Javascript Error: ${err.message}<br>This usually means there's a typo in your chart specification. See the javascript console for the full traceback.`));\n",
       "    }\n",
       "\n",
       "    if(typeof define === \"function\" && define.amd) {\n",
       "      requirejs.config({paths});\n",
       "      require([\"vega-embed\"], displayChart, err => showError(`Error loading script: ${err.message}`));\n",
       "    } else if (typeof vegaEmbed === \"function\") {\n",
       "      displayChart(vegaEmbed);\n",
       "    } else {\n",
       "      loadScript(\"vega\")\n",
       "        .then(() => loadScript(\"vega-lite\"))\n",
       "        .then(() => loadScript(\"vega-embed\"))\n",
       "        .catch(showError)\n",
       "        .then(() => displayChart(vegaEmbed));\n",
       "    }\n",
       "  })({\"config\": {\"view\": {\"continuousWidth\": 400, \"continuousHeight\": 300}}, \"data\": {\"name\": \"data-c2dd5e1f1a5430265fd9093d1d9f1eaa\"}, \"mark\": \"bar\", \"encoding\": {\"color\": {\"type\": \"nominal\", \"field\": \"CheckoutYear\"}, \"opacity\": {\"condition\": {\"value\": 1, \"selection\": \"selector002\"}, \"value\": 0.2}, \"tooltip\": [{\"type\": \"nominal\", \"field\": \"MaterialType\"}, {\"type\": \"quantitative\", \"field\": \"counts\"}, {\"type\": \"quantitative\", \"field\": \"CheckoutYear\"}], \"x\": {\"type\": \"nominal\", \"field\": \"MaterialType\", \"sort\": \"-y\"}, \"y\": {\"type\": \"quantitative\", \"field\": \"counts\"}}, \"selection\": {\"selector002\": {\"type\": \"multi\", \"fields\": [\"CheckoutYear\"], \"bind\": \"legend\"}}, \"$schema\": \"https://vega.github.io/schema/vega-lite/v4.8.1.json\", \"datasets\": {\"data-c2dd5e1f1a5430265fd9093d1d9f1eaa\": [{\"MaterialType\": \"AUDIOBOOK\", \"CheckoutYear\": 2015, \"counts\": 1321}, {\"MaterialType\": \"AUDIOBOOK\", \"CheckoutYear\": 2016, \"counts\": 2163}, {\"MaterialType\": \"AUDIOBOOK\", \"CheckoutYear\": 2017, \"counts\": 3164}, {\"MaterialType\": \"AUDIOBOOK\", \"CheckoutYear\": 2018, \"counts\": 5027}, {\"MaterialType\": \"AUDIOBOOK\", \"CheckoutYear\": 2019, \"counts\": 8111}, {\"MaterialType\": \"AUDIOBOOK\", \"CheckoutYear\": 2020, \"counts\": 10050}, {\"MaterialType\": \"AUDIOBOOK\", \"CheckoutYear\": 2021, \"counts\": 4706}, {\"MaterialType\": \"BOOK\", \"CheckoutYear\": 2015, \"counts\": 19087}, {\"MaterialType\": \"BOOK\", \"CheckoutYear\": 2016, \"counts\": 18844}, {\"MaterialType\": \"BOOK\", \"CheckoutYear\": 2017, \"counts\": 20187}, {\"MaterialType\": \"BOOK\", \"CheckoutYear\": 2018, \"counts\": 19524}, {\"MaterialType\": \"BOOK\", \"CheckoutYear\": 2019, \"counts\": 18495}, {\"MaterialType\": \"BOOK\", \"CheckoutYear\": 2020, \"counts\": 4151}, {\"MaterialType\": \"BOOK\", \"CheckoutYear\": 2021, \"counts\": 1788}, {\"MaterialType\": \"COMIC\", \"CheckoutYear\": 2016, \"counts\": 1}, {\"MaterialType\": \"COMIC\", \"CheckoutYear\": 2017, \"counts\": 43}, {\"MaterialType\": \"COMIC\", \"CheckoutYear\": 2018, \"counts\": 39}, {\"MaterialType\": \"CR\", \"CheckoutYear\": 2015, \"counts\": 24}, {\"MaterialType\": \"CR\", \"CheckoutYear\": 2016, \"counts\": 25}, {\"MaterialType\": \"CR\", \"CheckoutYear\": 2017, \"counts\": 24}, {\"MaterialType\": \"CR\", \"CheckoutYear\": 2018, \"counts\": 18}, {\"MaterialType\": \"CR\", \"CheckoutYear\": 2019, \"counts\": 17}, {\"MaterialType\": \"CR\", \"CheckoutYear\": 2020, \"counts\": 4}, {\"MaterialType\": \"EBOOK\", \"CheckoutYear\": 2015, \"counts\": 4732}, {\"MaterialType\": \"EBOOK\", \"CheckoutYear\": 2016, \"counts\": 5540}, {\"MaterialType\": \"EBOOK\", \"CheckoutYear\": 2017, \"counts\": 6394}, {\"MaterialType\": \"EBOOK\", \"CheckoutYear\": 2018, \"counts\": 8607}, {\"MaterialType\": \"EBOOK\", \"CheckoutYear\": 2019, \"counts\": 10837}, {\"MaterialType\": \"EBOOK\", \"CheckoutYear\": 2020, \"counts\": 14769}, {\"MaterialType\": \"EBOOK\", \"CheckoutYear\": 2021, \"counts\": 6420}, {\"MaterialType\": \"ER\", \"CheckoutYear\": 2015, \"counts\": 8}, {\"MaterialType\": \"ER\", \"CheckoutYear\": 2016, \"counts\": 1}, {\"MaterialType\": \"ER\", \"CheckoutYear\": 2017, \"counts\": 10}, {\"MaterialType\": \"ER\", \"CheckoutYear\": 2018, \"counts\": 11}, {\"MaterialType\": \"ER\", \"CheckoutYear\": 2020, \"counts\": 2}, {\"MaterialType\": \"ER\", \"CheckoutYear\": 2021, \"counts\": 2}, {\"MaterialType\": \"ER, SOUNDDISC\", \"CheckoutYear\": 2015, \"counts\": 1}, {\"MaterialType\": \"ER, SOUNDDISC\", \"CheckoutYear\": 2016, \"counts\": 2}, {\"MaterialType\": \"ER, SOUNDDISC\", \"CheckoutYear\": 2017, \"counts\": 6}, {\"MaterialType\": \"ER, SOUNDDISC\", \"CheckoutYear\": 2018, \"counts\": 1}, {\"MaterialType\": \"ER, VIDEODISC\", \"CheckoutYear\": 2019, \"counts\": 8}, {\"MaterialType\": \"ER, VIDEODISC\", \"CheckoutYear\": 2020, \"counts\": 1}, {\"MaterialType\": \"LARGEPRINT\", \"CheckoutYear\": 2015, \"counts\": 6}, {\"MaterialType\": \"LARGEPRINT\", \"CheckoutYear\": 2017, \"counts\": 1}, {\"MaterialType\": \"LARGEPRINT\", \"CheckoutYear\": 2018, \"counts\": 9}, {\"MaterialType\": \"LARGEPRINT\", \"CheckoutYear\": 2019, \"counts\": 2}, {\"MaterialType\": \"LARGEPRINT\", \"CheckoutYear\": 2021, \"counts\": 1}, {\"MaterialType\": \"MAGAZINE\", \"CheckoutYear\": 2015, \"counts\": 1001}, {\"MaterialType\": \"MAGAZINE\", \"CheckoutYear\": 2016, \"counts\": 1033}, {\"MaterialType\": \"MAGAZINE\", \"CheckoutYear\": 2017, \"counts\": 1014}, {\"MaterialType\": \"MAGAZINE\", \"CheckoutYear\": 2018, \"counts\": 977}, {\"MaterialType\": \"MAGAZINE\", \"CheckoutYear\": 2019, \"counts\": 172}, {\"MaterialType\": \"MIXED\", \"CheckoutYear\": 2015, \"counts\": 24}, {\"MaterialType\": \"MIXED\", \"CheckoutYear\": 2016, \"counts\": 33}, {\"MaterialType\": \"MIXED\", \"CheckoutYear\": 2017, \"counts\": 32}, {\"MaterialType\": \"MIXED\", \"CheckoutYear\": 2018, \"counts\": 36}, {\"MaterialType\": \"MIXED\", \"CheckoutYear\": 2019, \"counts\": 46}, {\"MaterialType\": \"MIXED\", \"CheckoutYear\": 2020, \"counts\": 19}, {\"MaterialType\": \"MIXED\", \"CheckoutYear\": 2021, \"counts\": 5}, {\"MaterialType\": \"MOVIE\", \"CheckoutYear\": 2015, \"counts\": 143}, {\"MaterialType\": \"MOVIE\", \"CheckoutYear\": 2016, \"counts\": 172}, {\"MaterialType\": \"MOVIE\", \"CheckoutYear\": 2017, \"counts\": 198}, {\"MaterialType\": \"MOVIE\", \"CheckoutYear\": 2018, \"counts\": 83}, {\"MaterialType\": \"MUSIC\", \"CheckoutYear\": 2015, \"counts\": 105}, {\"MaterialType\": \"MUSIC\", \"CheckoutYear\": 2016, \"counts\": 97}, {\"MaterialType\": \"MUSIC\", \"CheckoutYear\": 2017, \"counts\": 125}, {\"MaterialType\": \"MUSIC\", \"CheckoutYear\": 2018, \"counts\": 54}, {\"MaterialType\": \"MUSIC\", \"CheckoutYear\": 2019, \"counts\": 1}, {\"MaterialType\": \"REGPRINT\", \"CheckoutYear\": 2015, \"counts\": 26}, {\"MaterialType\": \"REGPRINT\", \"CheckoutYear\": 2016, \"counts\": 46}, {\"MaterialType\": \"REGPRINT\", \"CheckoutYear\": 2017, \"counts\": 32}, {\"MaterialType\": \"REGPRINT\", \"CheckoutYear\": 2018, \"counts\": 114}, {\"MaterialType\": \"REGPRINT\", \"CheckoutYear\": 2019, \"counts\": 164}, {\"MaterialType\": \"REGPRINT\", \"CheckoutYear\": 2020, \"counts\": 36}, {\"MaterialType\": \"REGPRINT\", \"CheckoutYear\": 2021, \"counts\": 29}, {\"MaterialType\": \"SONG\", \"CheckoutYear\": 2015, \"counts\": 339}, {\"MaterialType\": \"SONG\", \"CheckoutYear\": 2016, \"counts\": 345}, {\"MaterialType\": \"SONG\", \"CheckoutYear\": 2017, \"counts\": 248}, {\"MaterialType\": \"SONG\", \"CheckoutYear\": 2018, \"counts\": 43}, {\"MaterialType\": \"SOUNDDISC\", \"CheckoutYear\": 2015, \"counts\": 2159}, {\"MaterialType\": \"SOUNDDISC\", \"CheckoutYear\": 2016, \"counts\": 1570}, {\"MaterialType\": \"SOUNDDISC\", \"CheckoutYear\": 2017, \"counts\": 1275}, {\"MaterialType\": \"SOUNDDISC\", \"CheckoutYear\": 2018, \"counts\": 899}, {\"MaterialType\": \"SOUNDDISC\", \"CheckoutYear\": 2019, \"counts\": 580}, {\"MaterialType\": \"SOUNDDISC\", \"CheckoutYear\": 2020, \"counts\": 98}, {\"MaterialType\": \"SOUNDDISC\", \"CheckoutYear\": 2021, \"counts\": 12}, {\"MaterialType\": \"SOUNDDISC, VIDEODISC\", \"CheckoutYear\": 2015, \"counts\": 38}, {\"MaterialType\": \"SOUNDDISC, VIDEODISC\", \"CheckoutYear\": 2016, \"counts\": 21}, {\"MaterialType\": \"SOUNDDISC, VIDEODISC\", \"CheckoutYear\": 2017, \"counts\": 24}, {\"MaterialType\": \"SOUNDDISC, VIDEODISC\", \"CheckoutYear\": 2018, \"counts\": 6}, {\"MaterialType\": \"SOUNDREC\", \"CheckoutYear\": 2015, \"counts\": 34}, {\"MaterialType\": \"SOUNDREC\", \"CheckoutYear\": 2016, \"counts\": 26}, {\"MaterialType\": \"SOUNDREC\", \"CheckoutYear\": 2017, \"counts\": 13}, {\"MaterialType\": \"SOUNDREC\", \"CheckoutYear\": 2018, \"counts\": 6}, {\"MaterialType\": \"SOUNDREC\", \"CheckoutYear\": 2019, \"counts\": 3}, {\"MaterialType\": \"TELEVISION\", \"CheckoutYear\": 2015, \"counts\": 7}, {\"MaterialType\": \"TELEVISION\", \"CheckoutYear\": 2016, \"counts\": 17}, {\"MaterialType\": \"TELEVISION\", \"CheckoutYear\": 2017, \"counts\": 5}, {\"MaterialType\": \"TELEVISION\", \"CheckoutYear\": 2018, \"counts\": 10}, {\"MaterialType\": \"UNSPECIFIED\", \"CheckoutYear\": 2021, \"counts\": 2}, {\"MaterialType\": \"VIDEODISC\", \"CheckoutYear\": 2015, \"counts\": 17230}, {\"MaterialType\": \"VIDEODISC\", \"CheckoutYear\": 2016, \"counts\": 16755}, {\"MaterialType\": \"VIDEODISC\", \"CheckoutYear\": 2017, \"counts\": 16006}, {\"MaterialType\": \"VIDEODISC\", \"CheckoutYear\": 2018, \"counts\": 11975}, {\"MaterialType\": \"VIDEODISC\", \"CheckoutYear\": 2019, \"counts\": 9596}, {\"MaterialType\": \"VIDEODISC\", \"CheckoutYear\": 2020, \"counts\": 2253}, {\"MaterialType\": \"VIDEODISC\", \"CheckoutYear\": 2021, \"counts\": 658}, {\"MaterialType\": \"VIDEOREC\", \"CheckoutYear\": 2017, \"counts\": 2}, {\"MaterialType\": \"VISUAL\", \"CheckoutYear\": 2015, \"counts\": 13}, {\"MaterialType\": \"VISUAL\", \"CheckoutYear\": 2016, \"counts\": 14}, {\"MaterialType\": \"VISUAL\", \"CheckoutYear\": 2017, \"counts\": 4}]}}, {\"mode\": \"vega-lite\"});\n",
       "</script>"
      ],
      "text/plain": [
       "alt.Chart(...)"
      ]
     },
     "execution_count": 6,
     "metadata": {},
     "output_type": "execute_result"
    }
   ],
   "source": [
    "# Our original chart code from Monday\n",
    "seattle_material_grouped = seattle_df.groupby(['MaterialType', 'CheckoutYear']).size().reset_index(name='counts')\n",
    "selection = alt.selection_multi(fields=['CheckoutYear'], bind='legend')\n",
    "alt.Chart(seattle_material_grouped).mark_bar().encode(\n",
    "    x=alt.X('MaterialType', sort='-y'),\n",
    "    y='counts',\n",
    "    color='CheckoutYear:N',\n",
    "    tooltip=['MaterialType', 'counts', 'CheckoutYear'],\n",
    "    opacity=alt.condition(selection, alt.value(1), alt.value(0.2))\n",
    ").add_selection(\n",
    "    selection\n",
    ")"
   ]
  },
  {
   "cell_type": "code",
   "execution_count": 7,
   "id": "1f81ecbf",
   "metadata": {},
   "outputs": [],
   "source": [
    "#### HOMEWORK CODE GOES HERE"
   ]
  },
  {
   "cell_type": "markdown",
   "id": "4628d648",
   "metadata": {},
   "source": [
    "***"
   ]
  },
  {
   "cell_type": "markdown",
   "id": "11903600",
   "metadata": {},
   "source": [
    "**Zoe's Solution** "
   ]
  },
  {
   "cell_type": "markdown",
   "id": "b12f0073",
   "metadata": {},
   "source": [
    "First need to decide what I want to visualize 🤔?\n",
    "\n",
    "Looking at `seattle_df` and our graph above, I was most interested in whether this trend of `Material Types` corresponded to `Checkouts`. Would having more print books lead to more checkouts or videodiscs, etc...? Essentially curious to what is the relationship between material acquisition and library patron behavior.\n",
    "\n",
    "So how to visualize this relationship? Need to decide on a few key steps:\n",
    "\n",
    "1. Decide what data I need to represent this relationship and transform `seattle_df` to represent that data\n",
    "2. Decide on how best to represent this relationship visually"
   ]
  },
  {
   "cell_type": "code",
   "execution_count": 8,
   "id": "193decad",
   "metadata": {},
   "outputs": [
    {
     "data": {
      "text/html": [
       "<div>\n",
       "<style scoped>\n",
       "    .dataframe tbody tr th:only-of-type {\n",
       "        vertical-align: middle;\n",
       "    }\n",
       "\n",
       "    .dataframe tbody tr th {\n",
       "        vertical-align: top;\n",
       "    }\n",
       "\n",
       "    .dataframe thead th {\n",
       "        text-align: right;\n",
       "    }\n",
       "</style>\n",
       "<table border=\"1\" class=\"dataframe\">\n",
       "  <thead>\n",
       "    <tr style=\"text-align: right;\">\n",
       "      <th></th>\n",
       "      <th>MaterialType</th>\n",
       "      <th>CheckoutYear</th>\n",
       "      <th>total_checkouts</th>\n",
       "    </tr>\n",
       "  </thead>\n",
       "  <tbody>\n",
       "    <tr>\n",
       "      <th>0</th>\n",
       "      <td>AUDIOBOOK</td>\n",
       "      <td>2015</td>\n",
       "      <td>44663</td>\n",
       "    </tr>\n",
       "    <tr>\n",
       "      <th>1</th>\n",
       "      <td>AUDIOBOOK</td>\n",
       "      <td>2016</td>\n",
       "      <td>74295</td>\n",
       "    </tr>\n",
       "    <tr>\n",
       "      <th>2</th>\n",
       "      <td>AUDIOBOOK</td>\n",
       "      <td>2017</td>\n",
       "      <td>114625</td>\n",
       "    </tr>\n",
       "    <tr>\n",
       "      <th>3</th>\n",
       "      <td>AUDIOBOOK</td>\n",
       "      <td>2018</td>\n",
       "      <td>204860</td>\n",
       "    </tr>\n",
       "    <tr>\n",
       "      <th>4</th>\n",
       "      <td>AUDIOBOOK</td>\n",
       "      <td>2019</td>\n",
       "      <td>387261</td>\n",
       "    </tr>\n",
       "    <tr>\n",
       "      <th>...</th>\n",
       "      <td>...</td>\n",
       "      <td>...</td>\n",
       "      <td>...</td>\n",
       "    </tr>\n",
       "    <tr>\n",
       "      <th>106</th>\n",
       "      <td>VIDEODISC</td>\n",
       "      <td>2021</td>\n",
       "      <td>23427</td>\n",
       "    </tr>\n",
       "    <tr>\n",
       "      <th>107</th>\n",
       "      <td>VIDEOREC</td>\n",
       "      <td>2017</td>\n",
       "      <td>45</td>\n",
       "    </tr>\n",
       "    <tr>\n",
       "      <th>108</th>\n",
       "      <td>VISUAL</td>\n",
       "      <td>2015</td>\n",
       "      <td>298</td>\n",
       "    </tr>\n",
       "    <tr>\n",
       "      <th>109</th>\n",
       "      <td>VISUAL</td>\n",
       "      <td>2016</td>\n",
       "      <td>350</td>\n",
       "    </tr>\n",
       "    <tr>\n",
       "      <th>110</th>\n",
       "      <td>VISUAL</td>\n",
       "      <td>2017</td>\n",
       "      <td>124</td>\n",
       "    </tr>\n",
       "  </tbody>\n",
       "</table>\n",
       "<p>111 rows × 3 columns</p>\n",
       "</div>"
      ],
      "text/plain": [
       "    MaterialType  CheckoutYear  total_checkouts\n",
       "0      AUDIOBOOK          2015            44663\n",
       "1      AUDIOBOOK          2016            74295\n",
       "2      AUDIOBOOK          2017           114625\n",
       "3      AUDIOBOOK          2018           204860\n",
       "4      AUDIOBOOK          2019           387261\n",
       "..           ...           ...              ...\n",
       "106    VIDEODISC          2021            23427\n",
       "107     VIDEOREC          2017               45\n",
       "108       VISUAL          2015              298\n",
       "109       VISUAL          2016              350\n",
       "110       VISUAL          2017              124\n",
       "\n",
       "[111 rows x 3 columns]"
      ]
     },
     "execution_count": 8,
     "metadata": {},
     "output_type": "execute_result"
    }
   ],
   "source": [
    "# So first need checkouts data. Altair has built-in groupby functionality but our number of rows is too great to use it so we'll create a new dataframe with grouped-by checkout data.\n",
    "seattle_checkouts = seattle_df.groupby(['MaterialType','CheckoutYear'])['Checkouts'].sum().reset_index(name='total_checkouts')\n",
    "seattle_checkouts"
   ]
  },
  {
   "cell_type": "code",
   "execution_count": 9,
   "id": "7b87b70b",
   "metadata": {},
   "outputs": [],
   "source": [
    "# Now with this data we could make another bar chart but first the goal was to use something different than bar and second it won't be well suited to the relationship between frequency and availability"
   ]
  },
  {
   "cell_type": "code",
   "execution_count": 10,
   "id": "36bc75e8",
   "metadata": {},
   "outputs": [],
   "source": [
    "# Could we use seattle_material_grouped? How would we use the two dataframes together (hint https://pandas.pydata.org/pandas-docs/stable/user_guide/merging.html)?\n"
   ]
  },
  {
   "cell_type": "code",
   "execution_count": 11,
   "id": "ab3a8486",
   "metadata": {},
   "outputs": [],
   "source": [
    "seattle_materials_checkouts = pd.merge(seattle_material_grouped, seattle_checkouts, on=['MaterialType', 'CheckoutYear'])"
   ]
  },
  {
   "cell_type": "code",
   "execution_count": 12,
   "id": "8e2e4e4c",
   "metadata": {},
   "outputs": [
    {
     "data": {
      "text/html": [
       "\n",
       "<div id=\"altair-viz-3f6a20d2205f4151be976a0efd7a7548\"></div>\n",
       "<script type=\"text/javascript\">\n",
       "  (function(spec, embedOpt){\n",
       "    let outputDiv = document.currentScript.previousElementSibling;\n",
       "    if (outputDiv.id !== \"altair-viz-3f6a20d2205f4151be976a0efd7a7548\") {\n",
       "      outputDiv = document.getElementById(\"altair-viz-3f6a20d2205f4151be976a0efd7a7548\");\n",
       "    }\n",
       "    const paths = {\n",
       "      \"vega\": \"https://cdn.jsdelivr.net/npm//vega@5?noext\",\n",
       "      \"vega-lib\": \"https://cdn.jsdelivr.net/npm//vega-lib?noext\",\n",
       "      \"vega-lite\": \"https://cdn.jsdelivr.net/npm//vega-lite@4.8.1?noext\",\n",
       "      \"vega-embed\": \"https://cdn.jsdelivr.net/npm//vega-embed@6?noext\",\n",
       "    };\n",
       "\n",
       "    function loadScript(lib) {\n",
       "      return new Promise(function(resolve, reject) {\n",
       "        var s = document.createElement('script');\n",
       "        s.src = paths[lib];\n",
       "        s.async = true;\n",
       "        s.onload = () => resolve(paths[lib]);\n",
       "        s.onerror = () => reject(`Error loading script: ${paths[lib]}`);\n",
       "        document.getElementsByTagName(\"head\")[0].appendChild(s);\n",
       "      });\n",
       "    }\n",
       "\n",
       "    function showError(err) {\n",
       "      outputDiv.innerHTML = `<div class=\"error\" style=\"color:red;\">${err}</div>`;\n",
       "      throw err;\n",
       "    }\n",
       "\n",
       "    function displayChart(vegaEmbed) {\n",
       "      vegaEmbed(outputDiv, spec, embedOpt)\n",
       "        .catch(err => showError(`Javascript Error: ${err.message}<br>This usually means there's a typo in your chart specification. See the javascript console for the full traceback.`));\n",
       "    }\n",
       "\n",
       "    if(typeof define === \"function\" && define.amd) {\n",
       "      requirejs.config({paths});\n",
       "      require([\"vega-embed\"], displayChart, err => showError(`Error loading script: ${err.message}`));\n",
       "    } else if (typeof vegaEmbed === \"function\") {\n",
       "      displayChart(vegaEmbed);\n",
       "    } else {\n",
       "      loadScript(\"vega\")\n",
       "        .then(() => loadScript(\"vega-lite\"))\n",
       "        .then(() => loadScript(\"vega-embed\"))\n",
       "        .catch(showError)\n",
       "        .then(() => displayChart(vegaEmbed));\n",
       "    }\n",
       "  })({\"config\": {\"view\": {\"continuousWidth\": 400, \"continuousHeight\": 300}}, \"data\": {\"name\": \"data-91288d054c8f7ace7b336f2787a4fe37\"}, \"mark\": {\"type\": \"circle\", \"size\": 100}, \"encoding\": {\"color\": {\"type\": \"nominal\", \"field\": \"MaterialType\", \"scale\": {\"scheme\": \"tableau20\"}}, \"tooltip\": [{\"type\": \"nominal\", \"field\": \"MaterialType\"}, {\"type\": \"quantitative\", \"field\": \"counts\"}, {\"type\": \"quantitative\", \"field\": \"total_checkouts\"}], \"x\": {\"type\": \"quantitative\", \"axis\": {\"title\": \"Total Number of Checkouts by Year and MaterialType\"}, \"field\": \"total_checkouts\"}, \"y\": {\"type\": \"quantitative\", \"axis\": {\"title\": \"Total Number of MaterialTypes by Year\"}, \"field\": \"counts\"}}, \"height\": 300, \"title\": \"Comparing Frequency of Checkouts to Availability of Seattle Library Materials\", \"width\": 500, \"$schema\": \"https://vega.github.io/schema/vega-lite/v4.8.1.json\", \"datasets\": {\"data-91288d054c8f7ace7b336f2787a4fe37\": [{\"MaterialType\": \"AUDIOBOOK\", \"CheckoutYear\": 2015, \"counts\": 1321, \"total_checkouts\": 44663}, {\"MaterialType\": \"AUDIOBOOK\", \"CheckoutYear\": 2016, \"counts\": 2163, \"total_checkouts\": 74295}, {\"MaterialType\": \"AUDIOBOOK\", \"CheckoutYear\": 2017, \"counts\": 3164, \"total_checkouts\": 114625}, {\"MaterialType\": \"AUDIOBOOK\", \"CheckoutYear\": 2018, \"counts\": 5027, \"total_checkouts\": 204860}, {\"MaterialType\": \"AUDIOBOOK\", \"CheckoutYear\": 2019, \"counts\": 8111, \"total_checkouts\": 387261}, {\"MaterialType\": \"AUDIOBOOK\", \"CheckoutYear\": 2020, \"counts\": 10050, \"total_checkouts\": 518403}, {\"MaterialType\": \"AUDIOBOOK\", \"CheckoutYear\": 2021, \"counts\": 4706, \"total_checkouts\": 232019}, {\"MaterialType\": \"BOOK\", \"CheckoutYear\": 2015, \"counts\": 19087, \"total_checkouts\": 625294}, {\"MaterialType\": \"BOOK\", \"CheckoutYear\": 2016, \"counts\": 18844, \"total_checkouts\": 626790}, {\"MaterialType\": \"BOOK\", \"CheckoutYear\": 2017, \"counts\": 20187, \"total_checkouts\": 756614}, {\"MaterialType\": \"BOOK\", \"CheckoutYear\": 2018, \"counts\": 19524, \"total_checkouts\": 878787}, {\"MaterialType\": \"BOOK\", \"CheckoutYear\": 2019, \"counts\": 18495, \"total_checkouts\": 829383}, {\"MaterialType\": \"BOOK\", \"CheckoutYear\": 2020, \"counts\": 4151, \"total_checkouts\": 191953}, {\"MaterialType\": \"BOOK\", \"CheckoutYear\": 2021, \"counts\": 1788, \"total_checkouts\": 93416}, {\"MaterialType\": \"COMIC\", \"CheckoutYear\": 2016, \"counts\": 1, \"total_checkouts\": 20}, {\"MaterialType\": \"COMIC\", \"CheckoutYear\": 2017, \"counts\": 43, \"total_checkouts\": 1159}, {\"MaterialType\": \"COMIC\", \"CheckoutYear\": 2018, \"counts\": 39, \"total_checkouts\": 1184}, {\"MaterialType\": \"CR\", \"CheckoutYear\": 2015, \"counts\": 24, \"total_checkouts\": 917}, {\"MaterialType\": \"CR\", \"CheckoutYear\": 2016, \"counts\": 25, \"total_checkouts\": 1000}, {\"MaterialType\": \"CR\", \"CheckoutYear\": 2017, \"counts\": 24, \"total_checkouts\": 1122}, {\"MaterialType\": \"CR\", \"CheckoutYear\": 2018, \"counts\": 18, \"total_checkouts\": 943}, {\"MaterialType\": \"CR\", \"CheckoutYear\": 2019, \"counts\": 17, \"total_checkouts\": 701}, {\"MaterialType\": \"CR\", \"CheckoutYear\": 2020, \"counts\": 4, \"total_checkouts\": 169}, {\"MaterialType\": \"EBOOK\", \"CheckoutYear\": 2015, \"counts\": 4732, \"total_checkouts\": 205799}, {\"MaterialType\": \"EBOOK\", \"CheckoutYear\": 2016, \"counts\": 5540, \"total_checkouts\": 240077}, {\"MaterialType\": \"EBOOK\", \"CheckoutYear\": 2017, \"counts\": 6394, \"total_checkouts\": 284035}, {\"MaterialType\": \"EBOOK\", \"CheckoutYear\": 2018, \"counts\": 8607, \"total_checkouts\": 390728}, {\"MaterialType\": \"EBOOK\", \"CheckoutYear\": 2019, \"counts\": 10837, \"total_checkouts\": 516170}, {\"MaterialType\": \"EBOOK\", \"CheckoutYear\": 2020, \"counts\": 14769, \"total_checkouts\": 723980}, {\"MaterialType\": \"EBOOK\", \"CheckoutYear\": 2021, \"counts\": 6420, \"total_checkouts\": 305224}, {\"MaterialType\": \"ER\", \"CheckoutYear\": 2015, \"counts\": 8, \"total_checkouts\": 248}, {\"MaterialType\": \"ER\", \"CheckoutYear\": 2016, \"counts\": 1, \"total_checkouts\": 20}, {\"MaterialType\": \"ER\", \"CheckoutYear\": 2017, \"counts\": 10, \"total_checkouts\": 408}, {\"MaterialType\": \"ER\", \"CheckoutYear\": 2018, \"counts\": 11, \"total_checkouts\": 1227}, {\"MaterialType\": \"ER\", \"CheckoutYear\": 2020, \"counts\": 2, \"total_checkouts\": 50}, {\"MaterialType\": \"ER\", \"CheckoutYear\": 2021, \"counts\": 2, \"total_checkouts\": 46}, {\"MaterialType\": \"ER, SOUNDDISC\", \"CheckoutYear\": 2015, \"counts\": 1, \"total_checkouts\": 20}, {\"MaterialType\": \"ER, SOUNDDISC\", \"CheckoutYear\": 2016, \"counts\": 2, \"total_checkouts\": 119}, {\"MaterialType\": \"ER, SOUNDDISC\", \"CheckoutYear\": 2017, \"counts\": 6, \"total_checkouts\": 237}, {\"MaterialType\": \"ER, SOUNDDISC\", \"CheckoutYear\": 2018, \"counts\": 1, \"total_checkouts\": 21}, {\"MaterialType\": \"ER, VIDEODISC\", \"CheckoutYear\": 2019, \"counts\": 8, \"total_checkouts\": 251}, {\"MaterialType\": \"ER, VIDEODISC\", \"CheckoutYear\": 2020, \"counts\": 1, \"total_checkouts\": 24}, {\"MaterialType\": \"LARGEPRINT\", \"CheckoutYear\": 2015, \"counts\": 6, \"total_checkouts\": 209}, {\"MaterialType\": \"LARGEPRINT\", \"CheckoutYear\": 2017, \"counts\": 1, \"total_checkouts\": 24}, {\"MaterialType\": \"LARGEPRINT\", \"CheckoutYear\": 2018, \"counts\": 9, \"total_checkouts\": 229}, {\"MaterialType\": \"LARGEPRINT\", \"CheckoutYear\": 2019, \"counts\": 2, \"total_checkouts\": 45}, {\"MaterialType\": \"LARGEPRINT\", \"CheckoutYear\": 2021, \"counts\": 1, \"total_checkouts\": 23}, {\"MaterialType\": \"MAGAZINE\", \"CheckoutYear\": 2015, \"counts\": 1001, \"total_checkouts\": 61971}, {\"MaterialType\": \"MAGAZINE\", \"CheckoutYear\": 2016, \"counts\": 1033, \"total_checkouts\": 67493}, {\"MaterialType\": \"MAGAZINE\", \"CheckoutYear\": 2017, \"counts\": 1014, \"total_checkouts\": 63089}, {\"MaterialType\": \"MAGAZINE\", \"CheckoutYear\": 2018, \"counts\": 977, \"total_checkouts\": 70960}, {\"MaterialType\": \"MAGAZINE\", \"CheckoutYear\": 2019, \"counts\": 172, \"total_checkouts\": 20698}, {\"MaterialType\": \"MIXED\", \"CheckoutYear\": 2015, \"counts\": 24, \"total_checkouts\": 2950}, {\"MaterialType\": \"MIXED\", \"CheckoutYear\": 2016, \"counts\": 33, \"total_checkouts\": 9987}, {\"MaterialType\": \"MIXED\", \"CheckoutYear\": 2017, \"counts\": 32, \"total_checkouts\": 13484}, {\"MaterialType\": \"MIXED\", \"CheckoutYear\": 2018, \"counts\": 36, \"total_checkouts\": 24429}, {\"MaterialType\": \"MIXED\", \"CheckoutYear\": 2019, \"counts\": 46, \"total_checkouts\": 21592}, {\"MaterialType\": \"MIXED\", \"CheckoutYear\": 2020, \"counts\": 19, \"total_checkouts\": 8967}, {\"MaterialType\": \"MIXED\", \"CheckoutYear\": 2021, \"counts\": 5, \"total_checkouts\": 2105}, {\"MaterialType\": \"MOVIE\", \"CheckoutYear\": 2015, \"counts\": 143, \"total_checkouts\": 4591}, {\"MaterialType\": \"MOVIE\", \"CheckoutYear\": 2016, \"counts\": 172, \"total_checkouts\": 6011}, {\"MaterialType\": \"MOVIE\", \"CheckoutYear\": 2017, \"counts\": 198, \"total_checkouts\": 6375}, {\"MaterialType\": \"MOVIE\", \"CheckoutYear\": 2018, \"counts\": 83, \"total_checkouts\": 2536}, {\"MaterialType\": \"MUSIC\", \"CheckoutYear\": 2015, \"counts\": 105, \"total_checkouts\": 3683}, {\"MaterialType\": \"MUSIC\", \"CheckoutYear\": 2016, \"counts\": 97, \"total_checkouts\": 3578}, {\"MaterialType\": \"MUSIC\", \"CheckoutYear\": 2017, \"counts\": 125, \"total_checkouts\": 4595}, {\"MaterialType\": \"MUSIC\", \"CheckoutYear\": 2018, \"counts\": 54, \"total_checkouts\": 1983}, {\"MaterialType\": \"MUSIC\", \"CheckoutYear\": 2019, \"counts\": 1, \"total_checkouts\": 34}, {\"MaterialType\": \"REGPRINT\", \"CheckoutYear\": 2015, \"counts\": 26, \"total_checkouts\": 754}, {\"MaterialType\": \"REGPRINT\", \"CheckoutYear\": 2016, \"counts\": 46, \"total_checkouts\": 1390}, {\"MaterialType\": \"REGPRINT\", \"CheckoutYear\": 2017, \"counts\": 32, \"total_checkouts\": 1844}, {\"MaterialType\": \"REGPRINT\", \"CheckoutYear\": 2018, \"counts\": 114, \"total_checkouts\": 5739}, {\"MaterialType\": \"REGPRINT\", \"CheckoutYear\": 2019, \"counts\": 164, \"total_checkouts\": 7896}, {\"MaterialType\": \"REGPRINT\", \"CheckoutYear\": 2020, \"counts\": 36, \"total_checkouts\": 1977}, {\"MaterialType\": \"REGPRINT\", \"CheckoutYear\": 2021, \"counts\": 29, \"total_checkouts\": 1677}, {\"MaterialType\": \"SONG\", \"CheckoutYear\": 2015, \"counts\": 339, \"total_checkouts\": 17115}, {\"MaterialType\": \"SONG\", \"CheckoutYear\": 2016, \"counts\": 345, \"total_checkouts\": 13954}, {\"MaterialType\": \"SONG\", \"CheckoutYear\": 2017, \"counts\": 248, \"total_checkouts\": 8164}, {\"MaterialType\": \"SONG\", \"CheckoutYear\": 2018, \"counts\": 43, \"total_checkouts\": 1481}, {\"MaterialType\": \"SOUNDDISC\", \"CheckoutYear\": 2015, \"counts\": 2159, \"total_checkouts\": 70073}, {\"MaterialType\": \"SOUNDDISC\", \"CheckoutYear\": 2016, \"counts\": 1570, \"total_checkouts\": 50329}, {\"MaterialType\": \"SOUNDDISC\", \"CheckoutYear\": 2017, \"counts\": 1275, \"total_checkouts\": 39148}, {\"MaterialType\": \"SOUNDDISC\", \"CheckoutYear\": 2018, \"counts\": 899, \"total_checkouts\": 26753}, {\"MaterialType\": \"SOUNDDISC\", \"CheckoutYear\": 2019, \"counts\": 580, \"total_checkouts\": 16688}, {\"MaterialType\": \"SOUNDDISC\", \"CheckoutYear\": 2020, \"counts\": 98, \"total_checkouts\": 2783}, {\"MaterialType\": \"SOUNDDISC\", \"CheckoutYear\": 2021, \"counts\": 12, \"total_checkouts\": 348}, {\"MaterialType\": \"SOUNDDISC, VIDEODISC\", \"CheckoutYear\": 2015, \"counts\": 38, \"total_checkouts\": 1015}, {\"MaterialType\": \"SOUNDDISC, VIDEODISC\", \"CheckoutYear\": 2016, \"counts\": 21, \"total_checkouts\": 889}, {\"MaterialType\": \"SOUNDDISC, VIDEODISC\", \"CheckoutYear\": 2017, \"counts\": 24, \"total_checkouts\": 865}, {\"MaterialType\": \"SOUNDDISC, VIDEODISC\", \"CheckoutYear\": 2018, \"counts\": 6, \"total_checkouts\": 136}, {\"MaterialType\": \"SOUNDREC\", \"CheckoutYear\": 2015, \"counts\": 34, \"total_checkouts\": 836}, {\"MaterialType\": \"SOUNDREC\", \"CheckoutYear\": 2016, \"counts\": 26, \"total_checkouts\": 619}, {\"MaterialType\": \"SOUNDREC\", \"CheckoutYear\": 2017, \"counts\": 13, \"total_checkouts\": 325}, {\"MaterialType\": \"SOUNDREC\", \"CheckoutYear\": 2018, \"counts\": 6, \"total_checkouts\": 131}, {\"MaterialType\": \"SOUNDREC\", \"CheckoutYear\": 2019, \"counts\": 3, \"total_checkouts\": 62}, {\"MaterialType\": \"TELEVISION\", \"CheckoutYear\": 2015, \"counts\": 7, \"total_checkouts\": 275}, {\"MaterialType\": \"TELEVISION\", \"CheckoutYear\": 2016, \"counts\": 17, \"total_checkouts\": 441}, {\"MaterialType\": \"TELEVISION\", \"CheckoutYear\": 2017, \"counts\": 5, \"total_checkouts\": 169}, {\"MaterialType\": \"TELEVISION\", \"CheckoutYear\": 2018, \"counts\": 10, \"total_checkouts\": 292}, {\"MaterialType\": \"UNSPECIFIED\", \"CheckoutYear\": 2021, \"counts\": 2, \"total_checkouts\": 42}, {\"MaterialType\": \"VIDEODISC\", \"CheckoutYear\": 2015, \"counts\": 17230, \"total_checkouts\": 884973}, {\"MaterialType\": \"VIDEODISC\", \"CheckoutYear\": 2016, \"counts\": 16755, \"total_checkouts\": 848560}, {\"MaterialType\": \"VIDEODISC\", \"CheckoutYear\": 2017, \"counts\": 16006, \"total_checkouts\": 792739}, {\"MaterialType\": \"VIDEODISC\", \"CheckoutYear\": 2018, \"counts\": 11975, \"total_checkouts\": 587043}, {\"MaterialType\": \"VIDEODISC\", \"CheckoutYear\": 2019, \"counts\": 9596, \"total_checkouts\": 465175}, {\"MaterialType\": \"VIDEODISC\", \"CheckoutYear\": 2020, \"counts\": 2253, \"total_checkouts\": 102239}, {\"MaterialType\": \"VIDEODISC\", \"CheckoutYear\": 2021, \"counts\": 658, \"total_checkouts\": 23427}, {\"MaterialType\": \"VIDEOREC\", \"CheckoutYear\": 2017, \"counts\": 2, \"total_checkouts\": 45}, {\"MaterialType\": \"VISUAL\", \"CheckoutYear\": 2015, \"counts\": 13, \"total_checkouts\": 298}, {\"MaterialType\": \"VISUAL\", \"CheckoutYear\": 2016, \"counts\": 14, \"total_checkouts\": 350}, {\"MaterialType\": \"VISUAL\", \"CheckoutYear\": 2017, \"counts\": 4, \"total_checkouts\": 124}]}}, {\"mode\": \"vega-lite\"});\n",
       "</script>"
      ],
      "text/plain": [
       "alt.Chart(...)"
      ]
     },
     "execution_count": 12,
     "metadata": {},
     "output_type": "execute_result"
    }
   ],
   "source": [
    "# So how do we visualize this relationship? Let's take a look at this chart!\n",
    "alt.Chart(seattle_materials_checkouts).mark_circle(size=100).encode(\n",
    "    x=alt.X('total_checkouts', axis=alt.Axis(title='Total Number of Checkouts by Year and MaterialType')),\n",
    "    y=alt.Y('counts', axis=alt.Axis(title='Total Number of MaterialTypes by Year')),\n",
    "    color=alt.Color('MaterialType:N', scale=alt.Scale(scheme='tableau20')),\n",
    "    tooltip=['MaterialType', 'counts', 'total_checkouts']\n",
    ").properties(\n",
    "    title='Comparing Frequency of Checkouts to Availability of Seattle Library Materials',\n",
    "    width=500,\n",
    "    height=300\n",
    ")"
   ]
  },
  {
   "cell_type": "markdown",
   "id": "2b51857d",
   "metadata": {},
   "source": [
    "So first I decided to use `mark_circle` (could have also used point but circle made more sense given color encoding) and then added in code to first rename both the axes (read more on customizations like this here https://altair-viz.github.io/user_guide/customization.html), and code to specify the color scale I wanted to use (you can use any Vega color scheme or even pass in your own https://vega.github.io/vega/docs/schemes/).\n",
    "\n",
    "Seems like there might be some interesting results with the `Book` type since it does not follow the same positive relationship as the other types. \n",
    "\n",
    "To investigate further, I could add a regression line but I think in this case it would be helpful to compare to our original graph, which we can do by adjoining the two graphs into the same plot."
   ]
  },
  {
   "cell_type": "code",
   "execution_count": 13,
   "id": "7ab47b18",
   "metadata": {},
   "outputs": [
    {
     "data": {
      "text/html": [
       "\n",
       "<div id=\"altair-viz-16386cf0d36d4a3f876b787808355767\"></div>\n",
       "<script type=\"text/javascript\">\n",
       "  (function(spec, embedOpt){\n",
       "    let outputDiv = document.currentScript.previousElementSibling;\n",
       "    if (outputDiv.id !== \"altair-viz-16386cf0d36d4a3f876b787808355767\") {\n",
       "      outputDiv = document.getElementById(\"altair-viz-16386cf0d36d4a3f876b787808355767\");\n",
       "    }\n",
       "    const paths = {\n",
       "      \"vega\": \"https://cdn.jsdelivr.net/npm//vega@5?noext\",\n",
       "      \"vega-lib\": \"https://cdn.jsdelivr.net/npm//vega-lib?noext\",\n",
       "      \"vega-lite\": \"https://cdn.jsdelivr.net/npm//vega-lite@4.8.1?noext\",\n",
       "      \"vega-embed\": \"https://cdn.jsdelivr.net/npm//vega-embed@6?noext\",\n",
       "    };\n",
       "\n",
       "    function loadScript(lib) {\n",
       "      return new Promise(function(resolve, reject) {\n",
       "        var s = document.createElement('script');\n",
       "        s.src = paths[lib];\n",
       "        s.async = true;\n",
       "        s.onload = () => resolve(paths[lib]);\n",
       "        s.onerror = () => reject(`Error loading script: ${paths[lib]}`);\n",
       "        document.getElementsByTagName(\"head\")[0].appendChild(s);\n",
       "      });\n",
       "    }\n",
       "\n",
       "    function showError(err) {\n",
       "      outputDiv.innerHTML = `<div class=\"error\" style=\"color:red;\">${err}</div>`;\n",
       "      throw err;\n",
       "    }\n",
       "\n",
       "    function displayChart(vegaEmbed) {\n",
       "      vegaEmbed(outputDiv, spec, embedOpt)\n",
       "        .catch(err => showError(`Javascript Error: ${err.message}<br>This usually means there's a typo in your chart specification. See the javascript console for the full traceback.`));\n",
       "    }\n",
       "\n",
       "    if(typeof define === \"function\" && define.amd) {\n",
       "      requirejs.config({paths});\n",
       "      require([\"vega-embed\"], displayChart, err => showError(`Error loading script: ${err.message}`));\n",
       "    } else if (typeof vegaEmbed === \"function\") {\n",
       "      displayChart(vegaEmbed);\n",
       "    } else {\n",
       "      loadScript(\"vega\")\n",
       "        .then(() => loadScript(\"vega-lite\"))\n",
       "        .then(() => loadScript(\"vega-embed\"))\n",
       "        .catch(showError)\n",
       "        .then(() => displayChart(vegaEmbed));\n",
       "    }\n",
       "  })({\"config\": {\"view\": {\"continuousWidth\": 400, \"continuousHeight\": 300}}, \"hconcat\": [{\"data\": {\"name\": \"data-c2dd5e1f1a5430265fd9093d1d9f1eaa\"}, \"mark\": \"bar\", \"encoding\": {\"color\": {\"type\": \"nominal\", \"field\": \"CheckoutYear\"}, \"opacity\": {\"condition\": {\"value\": 1, \"selection\": \"selector003\"}, \"value\": 0.2}, \"tooltip\": [{\"type\": \"nominal\", \"field\": \"MaterialType\"}, {\"type\": \"quantitative\", \"field\": \"counts\"}, {\"type\": \"quantitative\", \"field\": \"CheckoutYear\"}], \"x\": {\"type\": \"nominal\", \"field\": \"MaterialType\", \"sort\": \"-y\"}, \"y\": {\"type\": \"quantitative\", \"field\": \"counts\"}}, \"selection\": {\"selector003\": {\"type\": \"multi\", \"fields\": [\"CheckoutYear\"], \"bind\": \"legend\"}}}, {\"data\": {\"name\": \"data-91288d054c8f7ace7b336f2787a4fe37\"}, \"mark\": {\"type\": \"circle\", \"size\": 100}, \"encoding\": {\"color\": {\"type\": \"nominal\", \"field\": \"MaterialType\", \"scale\": {\"scheme\": \"tableau20\"}}, \"tooltip\": [{\"type\": \"nominal\", \"field\": \"MaterialType\"}, {\"type\": \"quantitative\", \"field\": \"counts\"}, {\"type\": \"quantitative\", \"field\": \"total_checkouts\"}], \"x\": {\"type\": \"quantitative\", \"axis\": {\"title\": \"Total Number of Checkouts by Year and MaterialType\"}, \"field\": \"total_checkouts\"}, \"y\": {\"type\": \"quantitative\", \"axis\": {\"title\": \"Total Number of MaterialTypes by Year\"}, \"field\": \"counts\"}}, \"height\": 300, \"title\": \"Comparing Frequency of Checkouts to Availability of Seattle Library Materials\", \"width\": 500}], \"$schema\": \"https://vega.github.io/schema/vega-lite/v4.8.1.json\", \"datasets\": {\"data-c2dd5e1f1a5430265fd9093d1d9f1eaa\": [{\"MaterialType\": \"AUDIOBOOK\", \"CheckoutYear\": 2015, \"counts\": 1321}, {\"MaterialType\": \"AUDIOBOOK\", \"CheckoutYear\": 2016, \"counts\": 2163}, {\"MaterialType\": \"AUDIOBOOK\", \"CheckoutYear\": 2017, \"counts\": 3164}, {\"MaterialType\": \"AUDIOBOOK\", \"CheckoutYear\": 2018, \"counts\": 5027}, {\"MaterialType\": \"AUDIOBOOK\", \"CheckoutYear\": 2019, \"counts\": 8111}, {\"MaterialType\": \"AUDIOBOOK\", \"CheckoutYear\": 2020, \"counts\": 10050}, {\"MaterialType\": \"AUDIOBOOK\", \"CheckoutYear\": 2021, \"counts\": 4706}, {\"MaterialType\": \"BOOK\", \"CheckoutYear\": 2015, \"counts\": 19087}, {\"MaterialType\": \"BOOK\", \"CheckoutYear\": 2016, \"counts\": 18844}, {\"MaterialType\": \"BOOK\", \"CheckoutYear\": 2017, \"counts\": 20187}, {\"MaterialType\": \"BOOK\", \"CheckoutYear\": 2018, \"counts\": 19524}, {\"MaterialType\": \"BOOK\", \"CheckoutYear\": 2019, \"counts\": 18495}, {\"MaterialType\": \"BOOK\", \"CheckoutYear\": 2020, \"counts\": 4151}, {\"MaterialType\": \"BOOK\", \"CheckoutYear\": 2021, \"counts\": 1788}, {\"MaterialType\": \"COMIC\", \"CheckoutYear\": 2016, \"counts\": 1}, {\"MaterialType\": \"COMIC\", \"CheckoutYear\": 2017, \"counts\": 43}, {\"MaterialType\": \"COMIC\", \"CheckoutYear\": 2018, \"counts\": 39}, {\"MaterialType\": \"CR\", \"CheckoutYear\": 2015, \"counts\": 24}, {\"MaterialType\": \"CR\", \"CheckoutYear\": 2016, \"counts\": 25}, {\"MaterialType\": \"CR\", \"CheckoutYear\": 2017, \"counts\": 24}, {\"MaterialType\": \"CR\", \"CheckoutYear\": 2018, \"counts\": 18}, {\"MaterialType\": \"CR\", \"CheckoutYear\": 2019, \"counts\": 17}, {\"MaterialType\": \"CR\", \"CheckoutYear\": 2020, \"counts\": 4}, {\"MaterialType\": \"EBOOK\", \"CheckoutYear\": 2015, \"counts\": 4732}, {\"MaterialType\": \"EBOOK\", \"CheckoutYear\": 2016, \"counts\": 5540}, {\"MaterialType\": \"EBOOK\", \"CheckoutYear\": 2017, \"counts\": 6394}, {\"MaterialType\": \"EBOOK\", \"CheckoutYear\": 2018, \"counts\": 8607}, {\"MaterialType\": \"EBOOK\", \"CheckoutYear\": 2019, \"counts\": 10837}, {\"MaterialType\": \"EBOOK\", \"CheckoutYear\": 2020, \"counts\": 14769}, {\"MaterialType\": \"EBOOK\", \"CheckoutYear\": 2021, \"counts\": 6420}, {\"MaterialType\": \"ER\", \"CheckoutYear\": 2015, \"counts\": 8}, {\"MaterialType\": \"ER\", \"CheckoutYear\": 2016, \"counts\": 1}, {\"MaterialType\": \"ER\", \"CheckoutYear\": 2017, \"counts\": 10}, {\"MaterialType\": \"ER\", \"CheckoutYear\": 2018, \"counts\": 11}, {\"MaterialType\": \"ER\", \"CheckoutYear\": 2020, \"counts\": 2}, {\"MaterialType\": \"ER\", \"CheckoutYear\": 2021, \"counts\": 2}, {\"MaterialType\": \"ER, SOUNDDISC\", \"CheckoutYear\": 2015, \"counts\": 1}, {\"MaterialType\": \"ER, SOUNDDISC\", \"CheckoutYear\": 2016, \"counts\": 2}, {\"MaterialType\": \"ER, SOUNDDISC\", \"CheckoutYear\": 2017, \"counts\": 6}, {\"MaterialType\": \"ER, SOUNDDISC\", \"CheckoutYear\": 2018, \"counts\": 1}, {\"MaterialType\": \"ER, VIDEODISC\", \"CheckoutYear\": 2019, \"counts\": 8}, {\"MaterialType\": \"ER, VIDEODISC\", \"CheckoutYear\": 2020, \"counts\": 1}, {\"MaterialType\": \"LARGEPRINT\", \"CheckoutYear\": 2015, \"counts\": 6}, {\"MaterialType\": \"LARGEPRINT\", \"CheckoutYear\": 2017, \"counts\": 1}, {\"MaterialType\": \"LARGEPRINT\", \"CheckoutYear\": 2018, \"counts\": 9}, {\"MaterialType\": \"LARGEPRINT\", \"CheckoutYear\": 2019, \"counts\": 2}, {\"MaterialType\": \"LARGEPRINT\", \"CheckoutYear\": 2021, \"counts\": 1}, {\"MaterialType\": \"MAGAZINE\", \"CheckoutYear\": 2015, \"counts\": 1001}, {\"MaterialType\": \"MAGAZINE\", \"CheckoutYear\": 2016, \"counts\": 1033}, {\"MaterialType\": \"MAGAZINE\", \"CheckoutYear\": 2017, \"counts\": 1014}, {\"MaterialType\": \"MAGAZINE\", \"CheckoutYear\": 2018, \"counts\": 977}, {\"MaterialType\": \"MAGAZINE\", \"CheckoutYear\": 2019, \"counts\": 172}, {\"MaterialType\": \"MIXED\", \"CheckoutYear\": 2015, \"counts\": 24}, {\"MaterialType\": \"MIXED\", \"CheckoutYear\": 2016, \"counts\": 33}, {\"MaterialType\": \"MIXED\", \"CheckoutYear\": 2017, \"counts\": 32}, {\"MaterialType\": \"MIXED\", \"CheckoutYear\": 2018, \"counts\": 36}, {\"MaterialType\": \"MIXED\", \"CheckoutYear\": 2019, \"counts\": 46}, {\"MaterialType\": \"MIXED\", \"CheckoutYear\": 2020, \"counts\": 19}, {\"MaterialType\": \"MIXED\", \"CheckoutYear\": 2021, \"counts\": 5}, {\"MaterialType\": \"MOVIE\", \"CheckoutYear\": 2015, \"counts\": 143}, {\"MaterialType\": \"MOVIE\", \"CheckoutYear\": 2016, \"counts\": 172}, {\"MaterialType\": \"MOVIE\", \"CheckoutYear\": 2017, \"counts\": 198}, {\"MaterialType\": \"MOVIE\", \"CheckoutYear\": 2018, \"counts\": 83}, {\"MaterialType\": \"MUSIC\", \"CheckoutYear\": 2015, \"counts\": 105}, {\"MaterialType\": \"MUSIC\", \"CheckoutYear\": 2016, \"counts\": 97}, {\"MaterialType\": \"MUSIC\", \"CheckoutYear\": 2017, \"counts\": 125}, {\"MaterialType\": \"MUSIC\", \"CheckoutYear\": 2018, \"counts\": 54}, {\"MaterialType\": \"MUSIC\", \"CheckoutYear\": 2019, \"counts\": 1}, {\"MaterialType\": \"REGPRINT\", \"CheckoutYear\": 2015, \"counts\": 26}, {\"MaterialType\": \"REGPRINT\", \"CheckoutYear\": 2016, \"counts\": 46}, {\"MaterialType\": \"REGPRINT\", \"CheckoutYear\": 2017, \"counts\": 32}, {\"MaterialType\": \"REGPRINT\", \"CheckoutYear\": 2018, \"counts\": 114}, {\"MaterialType\": \"REGPRINT\", \"CheckoutYear\": 2019, \"counts\": 164}, {\"MaterialType\": \"REGPRINT\", \"CheckoutYear\": 2020, \"counts\": 36}, {\"MaterialType\": \"REGPRINT\", \"CheckoutYear\": 2021, \"counts\": 29}, {\"MaterialType\": \"SONG\", \"CheckoutYear\": 2015, \"counts\": 339}, {\"MaterialType\": \"SONG\", \"CheckoutYear\": 2016, \"counts\": 345}, {\"MaterialType\": \"SONG\", \"CheckoutYear\": 2017, \"counts\": 248}, {\"MaterialType\": \"SONG\", \"CheckoutYear\": 2018, \"counts\": 43}, {\"MaterialType\": \"SOUNDDISC\", \"CheckoutYear\": 2015, \"counts\": 2159}, {\"MaterialType\": \"SOUNDDISC\", \"CheckoutYear\": 2016, \"counts\": 1570}, {\"MaterialType\": \"SOUNDDISC\", \"CheckoutYear\": 2017, \"counts\": 1275}, {\"MaterialType\": \"SOUNDDISC\", \"CheckoutYear\": 2018, \"counts\": 899}, {\"MaterialType\": \"SOUNDDISC\", \"CheckoutYear\": 2019, \"counts\": 580}, {\"MaterialType\": \"SOUNDDISC\", \"CheckoutYear\": 2020, \"counts\": 98}, {\"MaterialType\": \"SOUNDDISC\", \"CheckoutYear\": 2021, \"counts\": 12}, {\"MaterialType\": \"SOUNDDISC, VIDEODISC\", \"CheckoutYear\": 2015, \"counts\": 38}, {\"MaterialType\": \"SOUNDDISC, VIDEODISC\", \"CheckoutYear\": 2016, \"counts\": 21}, {\"MaterialType\": \"SOUNDDISC, VIDEODISC\", \"CheckoutYear\": 2017, \"counts\": 24}, {\"MaterialType\": \"SOUNDDISC, VIDEODISC\", \"CheckoutYear\": 2018, \"counts\": 6}, {\"MaterialType\": \"SOUNDREC\", \"CheckoutYear\": 2015, \"counts\": 34}, {\"MaterialType\": \"SOUNDREC\", \"CheckoutYear\": 2016, \"counts\": 26}, {\"MaterialType\": \"SOUNDREC\", \"CheckoutYear\": 2017, \"counts\": 13}, {\"MaterialType\": \"SOUNDREC\", \"CheckoutYear\": 2018, \"counts\": 6}, {\"MaterialType\": \"SOUNDREC\", \"CheckoutYear\": 2019, \"counts\": 3}, {\"MaterialType\": \"TELEVISION\", \"CheckoutYear\": 2015, \"counts\": 7}, {\"MaterialType\": \"TELEVISION\", \"CheckoutYear\": 2016, \"counts\": 17}, {\"MaterialType\": \"TELEVISION\", \"CheckoutYear\": 2017, \"counts\": 5}, {\"MaterialType\": \"TELEVISION\", \"CheckoutYear\": 2018, \"counts\": 10}, {\"MaterialType\": \"UNSPECIFIED\", \"CheckoutYear\": 2021, \"counts\": 2}, {\"MaterialType\": \"VIDEODISC\", \"CheckoutYear\": 2015, \"counts\": 17230}, {\"MaterialType\": \"VIDEODISC\", \"CheckoutYear\": 2016, \"counts\": 16755}, {\"MaterialType\": \"VIDEODISC\", \"CheckoutYear\": 2017, \"counts\": 16006}, {\"MaterialType\": \"VIDEODISC\", \"CheckoutYear\": 2018, \"counts\": 11975}, {\"MaterialType\": \"VIDEODISC\", \"CheckoutYear\": 2019, \"counts\": 9596}, {\"MaterialType\": \"VIDEODISC\", \"CheckoutYear\": 2020, \"counts\": 2253}, {\"MaterialType\": \"VIDEODISC\", \"CheckoutYear\": 2021, \"counts\": 658}, {\"MaterialType\": \"VIDEOREC\", \"CheckoutYear\": 2017, \"counts\": 2}, {\"MaterialType\": \"VISUAL\", \"CheckoutYear\": 2015, \"counts\": 13}, {\"MaterialType\": \"VISUAL\", \"CheckoutYear\": 2016, \"counts\": 14}, {\"MaterialType\": \"VISUAL\", \"CheckoutYear\": 2017, \"counts\": 4}], \"data-91288d054c8f7ace7b336f2787a4fe37\": [{\"MaterialType\": \"AUDIOBOOK\", \"CheckoutYear\": 2015, \"counts\": 1321, \"total_checkouts\": 44663}, {\"MaterialType\": \"AUDIOBOOK\", \"CheckoutYear\": 2016, \"counts\": 2163, \"total_checkouts\": 74295}, {\"MaterialType\": \"AUDIOBOOK\", \"CheckoutYear\": 2017, \"counts\": 3164, \"total_checkouts\": 114625}, {\"MaterialType\": \"AUDIOBOOK\", \"CheckoutYear\": 2018, \"counts\": 5027, \"total_checkouts\": 204860}, {\"MaterialType\": \"AUDIOBOOK\", \"CheckoutYear\": 2019, \"counts\": 8111, \"total_checkouts\": 387261}, {\"MaterialType\": \"AUDIOBOOK\", \"CheckoutYear\": 2020, \"counts\": 10050, \"total_checkouts\": 518403}, {\"MaterialType\": \"AUDIOBOOK\", \"CheckoutYear\": 2021, \"counts\": 4706, \"total_checkouts\": 232019}, {\"MaterialType\": \"BOOK\", \"CheckoutYear\": 2015, \"counts\": 19087, \"total_checkouts\": 625294}, {\"MaterialType\": \"BOOK\", \"CheckoutYear\": 2016, \"counts\": 18844, \"total_checkouts\": 626790}, {\"MaterialType\": \"BOOK\", \"CheckoutYear\": 2017, \"counts\": 20187, \"total_checkouts\": 756614}, {\"MaterialType\": \"BOOK\", \"CheckoutYear\": 2018, \"counts\": 19524, \"total_checkouts\": 878787}, {\"MaterialType\": \"BOOK\", \"CheckoutYear\": 2019, \"counts\": 18495, \"total_checkouts\": 829383}, {\"MaterialType\": \"BOOK\", \"CheckoutYear\": 2020, \"counts\": 4151, \"total_checkouts\": 191953}, {\"MaterialType\": \"BOOK\", \"CheckoutYear\": 2021, \"counts\": 1788, \"total_checkouts\": 93416}, {\"MaterialType\": \"COMIC\", \"CheckoutYear\": 2016, \"counts\": 1, \"total_checkouts\": 20}, {\"MaterialType\": \"COMIC\", \"CheckoutYear\": 2017, \"counts\": 43, \"total_checkouts\": 1159}, {\"MaterialType\": \"COMIC\", \"CheckoutYear\": 2018, \"counts\": 39, \"total_checkouts\": 1184}, {\"MaterialType\": \"CR\", \"CheckoutYear\": 2015, \"counts\": 24, \"total_checkouts\": 917}, {\"MaterialType\": \"CR\", \"CheckoutYear\": 2016, \"counts\": 25, \"total_checkouts\": 1000}, {\"MaterialType\": \"CR\", \"CheckoutYear\": 2017, \"counts\": 24, \"total_checkouts\": 1122}, {\"MaterialType\": \"CR\", \"CheckoutYear\": 2018, \"counts\": 18, \"total_checkouts\": 943}, {\"MaterialType\": \"CR\", \"CheckoutYear\": 2019, \"counts\": 17, \"total_checkouts\": 701}, {\"MaterialType\": \"CR\", \"CheckoutYear\": 2020, \"counts\": 4, \"total_checkouts\": 169}, {\"MaterialType\": \"EBOOK\", \"CheckoutYear\": 2015, \"counts\": 4732, \"total_checkouts\": 205799}, {\"MaterialType\": \"EBOOK\", \"CheckoutYear\": 2016, \"counts\": 5540, \"total_checkouts\": 240077}, {\"MaterialType\": \"EBOOK\", \"CheckoutYear\": 2017, \"counts\": 6394, \"total_checkouts\": 284035}, {\"MaterialType\": \"EBOOK\", \"CheckoutYear\": 2018, \"counts\": 8607, \"total_checkouts\": 390728}, {\"MaterialType\": \"EBOOK\", \"CheckoutYear\": 2019, \"counts\": 10837, \"total_checkouts\": 516170}, {\"MaterialType\": \"EBOOK\", \"CheckoutYear\": 2020, \"counts\": 14769, \"total_checkouts\": 723980}, {\"MaterialType\": \"EBOOK\", \"CheckoutYear\": 2021, \"counts\": 6420, \"total_checkouts\": 305224}, {\"MaterialType\": \"ER\", \"CheckoutYear\": 2015, \"counts\": 8, \"total_checkouts\": 248}, {\"MaterialType\": \"ER\", \"CheckoutYear\": 2016, \"counts\": 1, \"total_checkouts\": 20}, {\"MaterialType\": \"ER\", \"CheckoutYear\": 2017, \"counts\": 10, \"total_checkouts\": 408}, {\"MaterialType\": \"ER\", \"CheckoutYear\": 2018, \"counts\": 11, \"total_checkouts\": 1227}, {\"MaterialType\": \"ER\", \"CheckoutYear\": 2020, \"counts\": 2, \"total_checkouts\": 50}, {\"MaterialType\": \"ER\", \"CheckoutYear\": 2021, \"counts\": 2, \"total_checkouts\": 46}, {\"MaterialType\": \"ER, SOUNDDISC\", \"CheckoutYear\": 2015, \"counts\": 1, \"total_checkouts\": 20}, {\"MaterialType\": \"ER, SOUNDDISC\", \"CheckoutYear\": 2016, \"counts\": 2, \"total_checkouts\": 119}, {\"MaterialType\": \"ER, SOUNDDISC\", \"CheckoutYear\": 2017, \"counts\": 6, \"total_checkouts\": 237}, {\"MaterialType\": \"ER, SOUNDDISC\", \"CheckoutYear\": 2018, \"counts\": 1, \"total_checkouts\": 21}, {\"MaterialType\": \"ER, VIDEODISC\", \"CheckoutYear\": 2019, \"counts\": 8, \"total_checkouts\": 251}, {\"MaterialType\": \"ER, VIDEODISC\", \"CheckoutYear\": 2020, \"counts\": 1, \"total_checkouts\": 24}, {\"MaterialType\": \"LARGEPRINT\", \"CheckoutYear\": 2015, \"counts\": 6, \"total_checkouts\": 209}, {\"MaterialType\": \"LARGEPRINT\", \"CheckoutYear\": 2017, \"counts\": 1, \"total_checkouts\": 24}, {\"MaterialType\": \"LARGEPRINT\", \"CheckoutYear\": 2018, \"counts\": 9, \"total_checkouts\": 229}, {\"MaterialType\": \"LARGEPRINT\", \"CheckoutYear\": 2019, \"counts\": 2, \"total_checkouts\": 45}, {\"MaterialType\": \"LARGEPRINT\", \"CheckoutYear\": 2021, \"counts\": 1, \"total_checkouts\": 23}, {\"MaterialType\": \"MAGAZINE\", \"CheckoutYear\": 2015, \"counts\": 1001, \"total_checkouts\": 61971}, {\"MaterialType\": \"MAGAZINE\", \"CheckoutYear\": 2016, \"counts\": 1033, \"total_checkouts\": 67493}, {\"MaterialType\": \"MAGAZINE\", \"CheckoutYear\": 2017, \"counts\": 1014, \"total_checkouts\": 63089}, {\"MaterialType\": \"MAGAZINE\", \"CheckoutYear\": 2018, \"counts\": 977, \"total_checkouts\": 70960}, {\"MaterialType\": \"MAGAZINE\", \"CheckoutYear\": 2019, \"counts\": 172, \"total_checkouts\": 20698}, {\"MaterialType\": \"MIXED\", \"CheckoutYear\": 2015, \"counts\": 24, \"total_checkouts\": 2950}, {\"MaterialType\": \"MIXED\", \"CheckoutYear\": 2016, \"counts\": 33, \"total_checkouts\": 9987}, {\"MaterialType\": \"MIXED\", \"CheckoutYear\": 2017, \"counts\": 32, \"total_checkouts\": 13484}, {\"MaterialType\": \"MIXED\", \"CheckoutYear\": 2018, \"counts\": 36, \"total_checkouts\": 24429}, {\"MaterialType\": \"MIXED\", \"CheckoutYear\": 2019, \"counts\": 46, \"total_checkouts\": 21592}, {\"MaterialType\": \"MIXED\", \"CheckoutYear\": 2020, \"counts\": 19, \"total_checkouts\": 8967}, {\"MaterialType\": \"MIXED\", \"CheckoutYear\": 2021, \"counts\": 5, \"total_checkouts\": 2105}, {\"MaterialType\": \"MOVIE\", \"CheckoutYear\": 2015, \"counts\": 143, \"total_checkouts\": 4591}, {\"MaterialType\": \"MOVIE\", \"CheckoutYear\": 2016, \"counts\": 172, \"total_checkouts\": 6011}, {\"MaterialType\": \"MOVIE\", \"CheckoutYear\": 2017, \"counts\": 198, \"total_checkouts\": 6375}, {\"MaterialType\": \"MOVIE\", \"CheckoutYear\": 2018, \"counts\": 83, \"total_checkouts\": 2536}, {\"MaterialType\": \"MUSIC\", \"CheckoutYear\": 2015, \"counts\": 105, \"total_checkouts\": 3683}, {\"MaterialType\": \"MUSIC\", \"CheckoutYear\": 2016, \"counts\": 97, \"total_checkouts\": 3578}, {\"MaterialType\": \"MUSIC\", \"CheckoutYear\": 2017, \"counts\": 125, \"total_checkouts\": 4595}, {\"MaterialType\": \"MUSIC\", \"CheckoutYear\": 2018, \"counts\": 54, \"total_checkouts\": 1983}, {\"MaterialType\": \"MUSIC\", \"CheckoutYear\": 2019, \"counts\": 1, \"total_checkouts\": 34}, {\"MaterialType\": \"REGPRINT\", \"CheckoutYear\": 2015, \"counts\": 26, \"total_checkouts\": 754}, {\"MaterialType\": \"REGPRINT\", \"CheckoutYear\": 2016, \"counts\": 46, \"total_checkouts\": 1390}, {\"MaterialType\": \"REGPRINT\", \"CheckoutYear\": 2017, \"counts\": 32, \"total_checkouts\": 1844}, {\"MaterialType\": \"REGPRINT\", \"CheckoutYear\": 2018, \"counts\": 114, \"total_checkouts\": 5739}, {\"MaterialType\": \"REGPRINT\", \"CheckoutYear\": 2019, \"counts\": 164, \"total_checkouts\": 7896}, {\"MaterialType\": \"REGPRINT\", \"CheckoutYear\": 2020, \"counts\": 36, \"total_checkouts\": 1977}, {\"MaterialType\": \"REGPRINT\", \"CheckoutYear\": 2021, \"counts\": 29, \"total_checkouts\": 1677}, {\"MaterialType\": \"SONG\", \"CheckoutYear\": 2015, \"counts\": 339, \"total_checkouts\": 17115}, {\"MaterialType\": \"SONG\", \"CheckoutYear\": 2016, \"counts\": 345, \"total_checkouts\": 13954}, {\"MaterialType\": \"SONG\", \"CheckoutYear\": 2017, \"counts\": 248, \"total_checkouts\": 8164}, {\"MaterialType\": \"SONG\", \"CheckoutYear\": 2018, \"counts\": 43, \"total_checkouts\": 1481}, {\"MaterialType\": \"SOUNDDISC\", \"CheckoutYear\": 2015, \"counts\": 2159, \"total_checkouts\": 70073}, {\"MaterialType\": \"SOUNDDISC\", \"CheckoutYear\": 2016, \"counts\": 1570, \"total_checkouts\": 50329}, {\"MaterialType\": \"SOUNDDISC\", \"CheckoutYear\": 2017, \"counts\": 1275, \"total_checkouts\": 39148}, {\"MaterialType\": \"SOUNDDISC\", \"CheckoutYear\": 2018, \"counts\": 899, \"total_checkouts\": 26753}, {\"MaterialType\": \"SOUNDDISC\", \"CheckoutYear\": 2019, \"counts\": 580, \"total_checkouts\": 16688}, {\"MaterialType\": \"SOUNDDISC\", \"CheckoutYear\": 2020, \"counts\": 98, \"total_checkouts\": 2783}, {\"MaterialType\": \"SOUNDDISC\", \"CheckoutYear\": 2021, \"counts\": 12, \"total_checkouts\": 348}, {\"MaterialType\": \"SOUNDDISC, VIDEODISC\", \"CheckoutYear\": 2015, \"counts\": 38, \"total_checkouts\": 1015}, {\"MaterialType\": \"SOUNDDISC, VIDEODISC\", \"CheckoutYear\": 2016, \"counts\": 21, \"total_checkouts\": 889}, {\"MaterialType\": \"SOUNDDISC, VIDEODISC\", \"CheckoutYear\": 2017, \"counts\": 24, \"total_checkouts\": 865}, {\"MaterialType\": \"SOUNDDISC, VIDEODISC\", \"CheckoutYear\": 2018, \"counts\": 6, \"total_checkouts\": 136}, {\"MaterialType\": \"SOUNDREC\", \"CheckoutYear\": 2015, \"counts\": 34, \"total_checkouts\": 836}, {\"MaterialType\": \"SOUNDREC\", \"CheckoutYear\": 2016, \"counts\": 26, \"total_checkouts\": 619}, {\"MaterialType\": \"SOUNDREC\", \"CheckoutYear\": 2017, \"counts\": 13, \"total_checkouts\": 325}, {\"MaterialType\": \"SOUNDREC\", \"CheckoutYear\": 2018, \"counts\": 6, \"total_checkouts\": 131}, {\"MaterialType\": \"SOUNDREC\", \"CheckoutYear\": 2019, \"counts\": 3, \"total_checkouts\": 62}, {\"MaterialType\": \"TELEVISION\", \"CheckoutYear\": 2015, \"counts\": 7, \"total_checkouts\": 275}, {\"MaterialType\": \"TELEVISION\", \"CheckoutYear\": 2016, \"counts\": 17, \"total_checkouts\": 441}, {\"MaterialType\": \"TELEVISION\", \"CheckoutYear\": 2017, \"counts\": 5, \"total_checkouts\": 169}, {\"MaterialType\": \"TELEVISION\", \"CheckoutYear\": 2018, \"counts\": 10, \"total_checkouts\": 292}, {\"MaterialType\": \"UNSPECIFIED\", \"CheckoutYear\": 2021, \"counts\": 2, \"total_checkouts\": 42}, {\"MaterialType\": \"VIDEODISC\", \"CheckoutYear\": 2015, \"counts\": 17230, \"total_checkouts\": 884973}, {\"MaterialType\": \"VIDEODISC\", \"CheckoutYear\": 2016, \"counts\": 16755, \"total_checkouts\": 848560}, {\"MaterialType\": \"VIDEODISC\", \"CheckoutYear\": 2017, \"counts\": 16006, \"total_checkouts\": 792739}, {\"MaterialType\": \"VIDEODISC\", \"CheckoutYear\": 2018, \"counts\": 11975, \"total_checkouts\": 587043}, {\"MaterialType\": \"VIDEODISC\", \"CheckoutYear\": 2019, \"counts\": 9596, \"total_checkouts\": 465175}, {\"MaterialType\": \"VIDEODISC\", \"CheckoutYear\": 2020, \"counts\": 2253, \"total_checkouts\": 102239}, {\"MaterialType\": \"VIDEODISC\", \"CheckoutYear\": 2021, \"counts\": 658, \"total_checkouts\": 23427}, {\"MaterialType\": \"VIDEOREC\", \"CheckoutYear\": 2017, \"counts\": 2, \"total_checkouts\": 45}, {\"MaterialType\": \"VISUAL\", \"CheckoutYear\": 2015, \"counts\": 13, \"total_checkouts\": 298}, {\"MaterialType\": \"VISUAL\", \"CheckoutYear\": 2016, \"counts\": 14, \"total_checkouts\": 350}, {\"MaterialType\": \"VISUAL\", \"CheckoutYear\": 2017, \"counts\": 4, \"total_checkouts\": 124}]}}, {\"mode\": \"vega-lite\"});\n",
       "</script>"
      ],
      "text/plain": [
       "alt.HConcatChart(...)"
      ]
     },
     "execution_count": 13,
     "metadata": {},
     "output_type": "execute_result"
    }
   ],
   "source": [
    "selection = alt.selection_multi(fields=['CheckoutYear'], bind='legend')\n",
    "chart = alt.Chart(seattle_material_grouped).mark_bar().encode(\n",
    "    x=alt.X('MaterialType', sort='-y'),\n",
    "    y='counts',\n",
    "    color='CheckoutYear:N',\n",
    "    tooltip=['MaterialType', 'counts', 'CheckoutYear'],\n",
    "    opacity=alt.condition(selection, alt.value(1), alt.value(0.2))\n",
    ").add_selection(\n",
    "    selection\n",
    ")\n",
    "\n",
    "chart1 = alt.Chart(seattle_materials_checkouts).mark_circle(size=100).encode(\n",
    "    x=alt.X('total_checkouts', axis=alt.Axis(title='Total Number of Checkouts by Year and MaterialType')),\n",
    "    y=alt.Y('counts', axis=alt.Axis(title='Total Number of MaterialTypes by Year')),\n",
    "    color=alt.Color('MaterialType:N', scale=alt.Scale(scheme='tableau20')),\n",
    "    tooltip=['MaterialType', 'counts', 'total_checkouts']\n",
    ").properties(\n",
    "    title='Comparing Frequency of Checkouts to Availability of Seattle Library Materials',\n",
    "    width=500,\n",
    "    height=300\n",
    ")\n",
    "alt.hconcat(chart, chart1)"
   ]
  },
  {
   "cell_type": "markdown",
   "id": "3f9dd8bd",
   "metadata": {},
   "source": [
    "So here we used Altair's horizontal concatenation to place our charts next to each other (you can read more about how to concat here https://altair-viz.github.io/user_guide/compound_charts.html#hconcat-chart) but it's not quite working. Let's tweak our code!"
   ]
  },
  {
   "cell_type": "code",
   "execution_count": 14,
   "id": "97a1b661",
   "metadata": {},
   "outputs": [
    {
     "data": {
      "text/html": [
       "\n",
       "<div id=\"altair-viz-c1a979f918484b3a903b1f6f8d159e73\"></div>\n",
       "<script type=\"text/javascript\">\n",
       "  (function(spec, embedOpt){\n",
       "    let outputDiv = document.currentScript.previousElementSibling;\n",
       "    if (outputDiv.id !== \"altair-viz-c1a979f918484b3a903b1f6f8d159e73\") {\n",
       "      outputDiv = document.getElementById(\"altair-viz-c1a979f918484b3a903b1f6f8d159e73\");\n",
       "    }\n",
       "    const paths = {\n",
       "      \"vega\": \"https://cdn.jsdelivr.net/npm//vega@5?noext\",\n",
       "      \"vega-lib\": \"https://cdn.jsdelivr.net/npm//vega-lib?noext\",\n",
       "      \"vega-lite\": \"https://cdn.jsdelivr.net/npm//vega-lite@4.8.1?noext\",\n",
       "      \"vega-embed\": \"https://cdn.jsdelivr.net/npm//vega-embed@6?noext\",\n",
       "    };\n",
       "\n",
       "    function loadScript(lib) {\n",
       "      return new Promise(function(resolve, reject) {\n",
       "        var s = document.createElement('script');\n",
       "        s.src = paths[lib];\n",
       "        s.async = true;\n",
       "        s.onload = () => resolve(paths[lib]);\n",
       "        s.onerror = () => reject(`Error loading script: ${paths[lib]}`);\n",
       "        document.getElementsByTagName(\"head\")[0].appendChild(s);\n",
       "      });\n",
       "    }\n",
       "\n",
       "    function showError(err) {\n",
       "      outputDiv.innerHTML = `<div class=\"error\" style=\"color:red;\">${err}</div>`;\n",
       "      throw err;\n",
       "    }\n",
       "\n",
       "    function displayChart(vegaEmbed) {\n",
       "      vegaEmbed(outputDiv, spec, embedOpt)\n",
       "        .catch(err => showError(`Javascript Error: ${err.message}<br>This usually means there's a typo in your chart specification. See the javascript console for the full traceback.`));\n",
       "    }\n",
       "\n",
       "    if(typeof define === \"function\" && define.amd) {\n",
       "      requirejs.config({paths});\n",
       "      require([\"vega-embed\"], displayChart, err => showError(`Error loading script: ${err.message}`));\n",
       "    } else if (typeof vegaEmbed === \"function\") {\n",
       "      displayChart(vegaEmbed);\n",
       "    } else {\n",
       "      loadScript(\"vega\")\n",
       "        .then(() => loadScript(\"vega-lite\"))\n",
       "        .then(() => loadScript(\"vega-embed\"))\n",
       "        .catch(showError)\n",
       "        .then(() => displayChart(vegaEmbed));\n",
       "    }\n",
       "  })({\"config\": {\"view\": {\"continuousWidth\": 400, \"continuousHeight\": 300}}, \"hconcat\": [{\"data\": {\"name\": \"data-c2dd5e1f1a5430265fd9093d1d9f1eaa\"}, \"mark\": \"bar\", \"encoding\": {\"color\": {\"type\": \"nominal\", \"field\": \"CheckoutYear\"}, \"opacity\": {\"condition\": {\"value\": 1, \"selection\": \"selector003\"}, \"value\": 0.2}, \"tooltip\": [{\"type\": \"nominal\", \"field\": \"MaterialType\"}, {\"type\": \"quantitative\", \"field\": \"counts\"}, {\"type\": \"quantitative\", \"field\": \"CheckoutYear\"}], \"x\": {\"type\": \"nominal\", \"field\": \"MaterialType\", \"sort\": \"-y\"}, \"y\": {\"type\": \"quantitative\", \"field\": \"counts\"}}, \"selection\": {\"selector003\": {\"type\": \"multi\", \"fields\": [\"CheckoutYear\"], \"bind\": \"legend\"}}}, {\"data\": {\"name\": \"data-91288d054c8f7ace7b336f2787a4fe37\"}, \"mark\": {\"type\": \"circle\", \"size\": 100}, \"encoding\": {\"color\": {\"type\": \"nominal\", \"field\": \"MaterialType\", \"scale\": {\"scheme\": \"tableau20\"}}, \"tooltip\": [{\"type\": \"nominal\", \"field\": \"MaterialType\"}, {\"type\": \"quantitative\", \"field\": \"counts\"}, {\"type\": \"quantitative\", \"field\": \"total_checkouts\"}], \"x\": {\"type\": \"quantitative\", \"axis\": {\"title\": \"Total Number of Checkouts by Year and MaterialType\"}, \"field\": \"total_checkouts\"}, \"y\": {\"type\": \"quantitative\", \"axis\": {\"title\": \"Total Number of MaterialTypes by Year\"}, \"field\": \"counts\"}}, \"height\": 300, \"title\": \"Comparing Frequency of Checkouts to Availability of Seattle Library Materials\", \"width\": 500}], \"resolve\": {\"scale\": {\"color\": \"independent\"}}, \"$schema\": \"https://vega.github.io/schema/vega-lite/v4.8.1.json\", \"datasets\": {\"data-c2dd5e1f1a5430265fd9093d1d9f1eaa\": [{\"MaterialType\": \"AUDIOBOOK\", \"CheckoutYear\": 2015, \"counts\": 1321}, {\"MaterialType\": \"AUDIOBOOK\", \"CheckoutYear\": 2016, \"counts\": 2163}, {\"MaterialType\": \"AUDIOBOOK\", \"CheckoutYear\": 2017, \"counts\": 3164}, {\"MaterialType\": \"AUDIOBOOK\", \"CheckoutYear\": 2018, \"counts\": 5027}, {\"MaterialType\": \"AUDIOBOOK\", \"CheckoutYear\": 2019, \"counts\": 8111}, {\"MaterialType\": \"AUDIOBOOK\", \"CheckoutYear\": 2020, \"counts\": 10050}, {\"MaterialType\": \"AUDIOBOOK\", \"CheckoutYear\": 2021, \"counts\": 4706}, {\"MaterialType\": \"BOOK\", \"CheckoutYear\": 2015, \"counts\": 19087}, {\"MaterialType\": \"BOOK\", \"CheckoutYear\": 2016, \"counts\": 18844}, {\"MaterialType\": \"BOOK\", \"CheckoutYear\": 2017, \"counts\": 20187}, {\"MaterialType\": \"BOOK\", \"CheckoutYear\": 2018, \"counts\": 19524}, {\"MaterialType\": \"BOOK\", \"CheckoutYear\": 2019, \"counts\": 18495}, {\"MaterialType\": \"BOOK\", \"CheckoutYear\": 2020, \"counts\": 4151}, {\"MaterialType\": \"BOOK\", \"CheckoutYear\": 2021, \"counts\": 1788}, {\"MaterialType\": \"COMIC\", \"CheckoutYear\": 2016, \"counts\": 1}, {\"MaterialType\": \"COMIC\", \"CheckoutYear\": 2017, \"counts\": 43}, {\"MaterialType\": \"COMIC\", \"CheckoutYear\": 2018, \"counts\": 39}, {\"MaterialType\": \"CR\", \"CheckoutYear\": 2015, \"counts\": 24}, {\"MaterialType\": \"CR\", \"CheckoutYear\": 2016, \"counts\": 25}, {\"MaterialType\": \"CR\", \"CheckoutYear\": 2017, \"counts\": 24}, {\"MaterialType\": \"CR\", \"CheckoutYear\": 2018, \"counts\": 18}, {\"MaterialType\": \"CR\", \"CheckoutYear\": 2019, \"counts\": 17}, {\"MaterialType\": \"CR\", \"CheckoutYear\": 2020, \"counts\": 4}, {\"MaterialType\": \"EBOOK\", \"CheckoutYear\": 2015, \"counts\": 4732}, {\"MaterialType\": \"EBOOK\", \"CheckoutYear\": 2016, \"counts\": 5540}, {\"MaterialType\": \"EBOOK\", \"CheckoutYear\": 2017, \"counts\": 6394}, {\"MaterialType\": \"EBOOK\", \"CheckoutYear\": 2018, \"counts\": 8607}, {\"MaterialType\": \"EBOOK\", \"CheckoutYear\": 2019, \"counts\": 10837}, {\"MaterialType\": \"EBOOK\", \"CheckoutYear\": 2020, \"counts\": 14769}, {\"MaterialType\": \"EBOOK\", \"CheckoutYear\": 2021, \"counts\": 6420}, {\"MaterialType\": \"ER\", \"CheckoutYear\": 2015, \"counts\": 8}, {\"MaterialType\": \"ER\", \"CheckoutYear\": 2016, \"counts\": 1}, {\"MaterialType\": \"ER\", \"CheckoutYear\": 2017, \"counts\": 10}, {\"MaterialType\": \"ER\", \"CheckoutYear\": 2018, \"counts\": 11}, {\"MaterialType\": \"ER\", \"CheckoutYear\": 2020, \"counts\": 2}, {\"MaterialType\": \"ER\", \"CheckoutYear\": 2021, \"counts\": 2}, {\"MaterialType\": \"ER, SOUNDDISC\", \"CheckoutYear\": 2015, \"counts\": 1}, {\"MaterialType\": \"ER, SOUNDDISC\", \"CheckoutYear\": 2016, \"counts\": 2}, {\"MaterialType\": \"ER, SOUNDDISC\", \"CheckoutYear\": 2017, \"counts\": 6}, {\"MaterialType\": \"ER, SOUNDDISC\", \"CheckoutYear\": 2018, \"counts\": 1}, {\"MaterialType\": \"ER, VIDEODISC\", \"CheckoutYear\": 2019, \"counts\": 8}, {\"MaterialType\": \"ER, VIDEODISC\", \"CheckoutYear\": 2020, \"counts\": 1}, {\"MaterialType\": \"LARGEPRINT\", \"CheckoutYear\": 2015, \"counts\": 6}, {\"MaterialType\": \"LARGEPRINT\", \"CheckoutYear\": 2017, \"counts\": 1}, {\"MaterialType\": \"LARGEPRINT\", \"CheckoutYear\": 2018, \"counts\": 9}, {\"MaterialType\": \"LARGEPRINT\", \"CheckoutYear\": 2019, \"counts\": 2}, {\"MaterialType\": \"LARGEPRINT\", \"CheckoutYear\": 2021, \"counts\": 1}, {\"MaterialType\": \"MAGAZINE\", \"CheckoutYear\": 2015, \"counts\": 1001}, {\"MaterialType\": \"MAGAZINE\", \"CheckoutYear\": 2016, \"counts\": 1033}, {\"MaterialType\": \"MAGAZINE\", \"CheckoutYear\": 2017, \"counts\": 1014}, {\"MaterialType\": \"MAGAZINE\", \"CheckoutYear\": 2018, \"counts\": 977}, {\"MaterialType\": \"MAGAZINE\", \"CheckoutYear\": 2019, \"counts\": 172}, {\"MaterialType\": \"MIXED\", \"CheckoutYear\": 2015, \"counts\": 24}, {\"MaterialType\": \"MIXED\", \"CheckoutYear\": 2016, \"counts\": 33}, {\"MaterialType\": \"MIXED\", \"CheckoutYear\": 2017, \"counts\": 32}, {\"MaterialType\": \"MIXED\", \"CheckoutYear\": 2018, \"counts\": 36}, {\"MaterialType\": \"MIXED\", \"CheckoutYear\": 2019, \"counts\": 46}, {\"MaterialType\": \"MIXED\", \"CheckoutYear\": 2020, \"counts\": 19}, {\"MaterialType\": \"MIXED\", \"CheckoutYear\": 2021, \"counts\": 5}, {\"MaterialType\": \"MOVIE\", \"CheckoutYear\": 2015, \"counts\": 143}, {\"MaterialType\": \"MOVIE\", \"CheckoutYear\": 2016, \"counts\": 172}, {\"MaterialType\": \"MOVIE\", \"CheckoutYear\": 2017, \"counts\": 198}, {\"MaterialType\": \"MOVIE\", \"CheckoutYear\": 2018, \"counts\": 83}, {\"MaterialType\": \"MUSIC\", \"CheckoutYear\": 2015, \"counts\": 105}, {\"MaterialType\": \"MUSIC\", \"CheckoutYear\": 2016, \"counts\": 97}, {\"MaterialType\": \"MUSIC\", \"CheckoutYear\": 2017, \"counts\": 125}, {\"MaterialType\": \"MUSIC\", \"CheckoutYear\": 2018, \"counts\": 54}, {\"MaterialType\": \"MUSIC\", \"CheckoutYear\": 2019, \"counts\": 1}, {\"MaterialType\": \"REGPRINT\", \"CheckoutYear\": 2015, \"counts\": 26}, {\"MaterialType\": \"REGPRINT\", \"CheckoutYear\": 2016, \"counts\": 46}, {\"MaterialType\": \"REGPRINT\", \"CheckoutYear\": 2017, \"counts\": 32}, {\"MaterialType\": \"REGPRINT\", \"CheckoutYear\": 2018, \"counts\": 114}, {\"MaterialType\": \"REGPRINT\", \"CheckoutYear\": 2019, \"counts\": 164}, {\"MaterialType\": \"REGPRINT\", \"CheckoutYear\": 2020, \"counts\": 36}, {\"MaterialType\": \"REGPRINT\", \"CheckoutYear\": 2021, \"counts\": 29}, {\"MaterialType\": \"SONG\", \"CheckoutYear\": 2015, \"counts\": 339}, {\"MaterialType\": \"SONG\", \"CheckoutYear\": 2016, \"counts\": 345}, {\"MaterialType\": \"SONG\", \"CheckoutYear\": 2017, \"counts\": 248}, {\"MaterialType\": \"SONG\", \"CheckoutYear\": 2018, \"counts\": 43}, {\"MaterialType\": \"SOUNDDISC\", \"CheckoutYear\": 2015, \"counts\": 2159}, {\"MaterialType\": \"SOUNDDISC\", \"CheckoutYear\": 2016, \"counts\": 1570}, {\"MaterialType\": \"SOUNDDISC\", \"CheckoutYear\": 2017, \"counts\": 1275}, {\"MaterialType\": \"SOUNDDISC\", \"CheckoutYear\": 2018, \"counts\": 899}, {\"MaterialType\": \"SOUNDDISC\", \"CheckoutYear\": 2019, \"counts\": 580}, {\"MaterialType\": \"SOUNDDISC\", \"CheckoutYear\": 2020, \"counts\": 98}, {\"MaterialType\": \"SOUNDDISC\", \"CheckoutYear\": 2021, \"counts\": 12}, {\"MaterialType\": \"SOUNDDISC, VIDEODISC\", \"CheckoutYear\": 2015, \"counts\": 38}, {\"MaterialType\": \"SOUNDDISC, VIDEODISC\", \"CheckoutYear\": 2016, \"counts\": 21}, {\"MaterialType\": \"SOUNDDISC, VIDEODISC\", \"CheckoutYear\": 2017, \"counts\": 24}, {\"MaterialType\": \"SOUNDDISC, VIDEODISC\", \"CheckoutYear\": 2018, \"counts\": 6}, {\"MaterialType\": \"SOUNDREC\", \"CheckoutYear\": 2015, \"counts\": 34}, {\"MaterialType\": \"SOUNDREC\", \"CheckoutYear\": 2016, \"counts\": 26}, {\"MaterialType\": \"SOUNDREC\", \"CheckoutYear\": 2017, \"counts\": 13}, {\"MaterialType\": \"SOUNDREC\", \"CheckoutYear\": 2018, \"counts\": 6}, {\"MaterialType\": \"SOUNDREC\", \"CheckoutYear\": 2019, \"counts\": 3}, {\"MaterialType\": \"TELEVISION\", \"CheckoutYear\": 2015, \"counts\": 7}, {\"MaterialType\": \"TELEVISION\", \"CheckoutYear\": 2016, \"counts\": 17}, {\"MaterialType\": \"TELEVISION\", \"CheckoutYear\": 2017, \"counts\": 5}, {\"MaterialType\": \"TELEVISION\", \"CheckoutYear\": 2018, \"counts\": 10}, {\"MaterialType\": \"UNSPECIFIED\", \"CheckoutYear\": 2021, \"counts\": 2}, {\"MaterialType\": \"VIDEODISC\", \"CheckoutYear\": 2015, \"counts\": 17230}, {\"MaterialType\": \"VIDEODISC\", \"CheckoutYear\": 2016, \"counts\": 16755}, {\"MaterialType\": \"VIDEODISC\", \"CheckoutYear\": 2017, \"counts\": 16006}, {\"MaterialType\": \"VIDEODISC\", \"CheckoutYear\": 2018, \"counts\": 11975}, {\"MaterialType\": \"VIDEODISC\", \"CheckoutYear\": 2019, \"counts\": 9596}, {\"MaterialType\": \"VIDEODISC\", \"CheckoutYear\": 2020, \"counts\": 2253}, {\"MaterialType\": \"VIDEODISC\", \"CheckoutYear\": 2021, \"counts\": 658}, {\"MaterialType\": \"VIDEOREC\", \"CheckoutYear\": 2017, \"counts\": 2}, {\"MaterialType\": \"VISUAL\", \"CheckoutYear\": 2015, \"counts\": 13}, {\"MaterialType\": \"VISUAL\", \"CheckoutYear\": 2016, \"counts\": 14}, {\"MaterialType\": \"VISUAL\", \"CheckoutYear\": 2017, \"counts\": 4}], \"data-91288d054c8f7ace7b336f2787a4fe37\": [{\"MaterialType\": \"AUDIOBOOK\", \"CheckoutYear\": 2015, \"counts\": 1321, \"total_checkouts\": 44663}, {\"MaterialType\": \"AUDIOBOOK\", \"CheckoutYear\": 2016, \"counts\": 2163, \"total_checkouts\": 74295}, {\"MaterialType\": \"AUDIOBOOK\", \"CheckoutYear\": 2017, \"counts\": 3164, \"total_checkouts\": 114625}, {\"MaterialType\": \"AUDIOBOOK\", \"CheckoutYear\": 2018, \"counts\": 5027, \"total_checkouts\": 204860}, {\"MaterialType\": \"AUDIOBOOK\", \"CheckoutYear\": 2019, \"counts\": 8111, \"total_checkouts\": 387261}, {\"MaterialType\": \"AUDIOBOOK\", \"CheckoutYear\": 2020, \"counts\": 10050, \"total_checkouts\": 518403}, {\"MaterialType\": \"AUDIOBOOK\", \"CheckoutYear\": 2021, \"counts\": 4706, \"total_checkouts\": 232019}, {\"MaterialType\": \"BOOK\", \"CheckoutYear\": 2015, \"counts\": 19087, \"total_checkouts\": 625294}, {\"MaterialType\": \"BOOK\", \"CheckoutYear\": 2016, \"counts\": 18844, \"total_checkouts\": 626790}, {\"MaterialType\": \"BOOK\", \"CheckoutYear\": 2017, \"counts\": 20187, \"total_checkouts\": 756614}, {\"MaterialType\": \"BOOK\", \"CheckoutYear\": 2018, \"counts\": 19524, \"total_checkouts\": 878787}, {\"MaterialType\": \"BOOK\", \"CheckoutYear\": 2019, \"counts\": 18495, \"total_checkouts\": 829383}, {\"MaterialType\": \"BOOK\", \"CheckoutYear\": 2020, \"counts\": 4151, \"total_checkouts\": 191953}, {\"MaterialType\": \"BOOK\", \"CheckoutYear\": 2021, \"counts\": 1788, \"total_checkouts\": 93416}, {\"MaterialType\": \"COMIC\", \"CheckoutYear\": 2016, \"counts\": 1, \"total_checkouts\": 20}, {\"MaterialType\": \"COMIC\", \"CheckoutYear\": 2017, \"counts\": 43, \"total_checkouts\": 1159}, {\"MaterialType\": \"COMIC\", \"CheckoutYear\": 2018, \"counts\": 39, \"total_checkouts\": 1184}, {\"MaterialType\": \"CR\", \"CheckoutYear\": 2015, \"counts\": 24, \"total_checkouts\": 917}, {\"MaterialType\": \"CR\", \"CheckoutYear\": 2016, \"counts\": 25, \"total_checkouts\": 1000}, {\"MaterialType\": \"CR\", \"CheckoutYear\": 2017, \"counts\": 24, \"total_checkouts\": 1122}, {\"MaterialType\": \"CR\", \"CheckoutYear\": 2018, \"counts\": 18, \"total_checkouts\": 943}, {\"MaterialType\": \"CR\", \"CheckoutYear\": 2019, \"counts\": 17, \"total_checkouts\": 701}, {\"MaterialType\": \"CR\", \"CheckoutYear\": 2020, \"counts\": 4, \"total_checkouts\": 169}, {\"MaterialType\": \"EBOOK\", \"CheckoutYear\": 2015, \"counts\": 4732, \"total_checkouts\": 205799}, {\"MaterialType\": \"EBOOK\", \"CheckoutYear\": 2016, \"counts\": 5540, \"total_checkouts\": 240077}, {\"MaterialType\": \"EBOOK\", \"CheckoutYear\": 2017, \"counts\": 6394, \"total_checkouts\": 284035}, {\"MaterialType\": \"EBOOK\", \"CheckoutYear\": 2018, \"counts\": 8607, \"total_checkouts\": 390728}, {\"MaterialType\": \"EBOOK\", \"CheckoutYear\": 2019, \"counts\": 10837, \"total_checkouts\": 516170}, {\"MaterialType\": \"EBOOK\", \"CheckoutYear\": 2020, \"counts\": 14769, \"total_checkouts\": 723980}, {\"MaterialType\": \"EBOOK\", \"CheckoutYear\": 2021, \"counts\": 6420, \"total_checkouts\": 305224}, {\"MaterialType\": \"ER\", \"CheckoutYear\": 2015, \"counts\": 8, \"total_checkouts\": 248}, {\"MaterialType\": \"ER\", \"CheckoutYear\": 2016, \"counts\": 1, \"total_checkouts\": 20}, {\"MaterialType\": \"ER\", \"CheckoutYear\": 2017, \"counts\": 10, \"total_checkouts\": 408}, {\"MaterialType\": \"ER\", \"CheckoutYear\": 2018, \"counts\": 11, \"total_checkouts\": 1227}, {\"MaterialType\": \"ER\", \"CheckoutYear\": 2020, \"counts\": 2, \"total_checkouts\": 50}, {\"MaterialType\": \"ER\", \"CheckoutYear\": 2021, \"counts\": 2, \"total_checkouts\": 46}, {\"MaterialType\": \"ER, SOUNDDISC\", \"CheckoutYear\": 2015, \"counts\": 1, \"total_checkouts\": 20}, {\"MaterialType\": \"ER, SOUNDDISC\", \"CheckoutYear\": 2016, \"counts\": 2, \"total_checkouts\": 119}, {\"MaterialType\": \"ER, SOUNDDISC\", \"CheckoutYear\": 2017, \"counts\": 6, \"total_checkouts\": 237}, {\"MaterialType\": \"ER, SOUNDDISC\", \"CheckoutYear\": 2018, \"counts\": 1, \"total_checkouts\": 21}, {\"MaterialType\": \"ER, VIDEODISC\", \"CheckoutYear\": 2019, \"counts\": 8, \"total_checkouts\": 251}, {\"MaterialType\": \"ER, VIDEODISC\", \"CheckoutYear\": 2020, \"counts\": 1, \"total_checkouts\": 24}, {\"MaterialType\": \"LARGEPRINT\", \"CheckoutYear\": 2015, \"counts\": 6, \"total_checkouts\": 209}, {\"MaterialType\": \"LARGEPRINT\", \"CheckoutYear\": 2017, \"counts\": 1, \"total_checkouts\": 24}, {\"MaterialType\": \"LARGEPRINT\", \"CheckoutYear\": 2018, \"counts\": 9, \"total_checkouts\": 229}, {\"MaterialType\": \"LARGEPRINT\", \"CheckoutYear\": 2019, \"counts\": 2, \"total_checkouts\": 45}, {\"MaterialType\": \"LARGEPRINT\", \"CheckoutYear\": 2021, \"counts\": 1, \"total_checkouts\": 23}, {\"MaterialType\": \"MAGAZINE\", \"CheckoutYear\": 2015, \"counts\": 1001, \"total_checkouts\": 61971}, {\"MaterialType\": \"MAGAZINE\", \"CheckoutYear\": 2016, \"counts\": 1033, \"total_checkouts\": 67493}, {\"MaterialType\": \"MAGAZINE\", \"CheckoutYear\": 2017, \"counts\": 1014, \"total_checkouts\": 63089}, {\"MaterialType\": \"MAGAZINE\", \"CheckoutYear\": 2018, \"counts\": 977, \"total_checkouts\": 70960}, {\"MaterialType\": \"MAGAZINE\", \"CheckoutYear\": 2019, \"counts\": 172, \"total_checkouts\": 20698}, {\"MaterialType\": \"MIXED\", \"CheckoutYear\": 2015, \"counts\": 24, \"total_checkouts\": 2950}, {\"MaterialType\": \"MIXED\", \"CheckoutYear\": 2016, \"counts\": 33, \"total_checkouts\": 9987}, {\"MaterialType\": \"MIXED\", \"CheckoutYear\": 2017, \"counts\": 32, \"total_checkouts\": 13484}, {\"MaterialType\": \"MIXED\", \"CheckoutYear\": 2018, \"counts\": 36, \"total_checkouts\": 24429}, {\"MaterialType\": \"MIXED\", \"CheckoutYear\": 2019, \"counts\": 46, \"total_checkouts\": 21592}, {\"MaterialType\": \"MIXED\", \"CheckoutYear\": 2020, \"counts\": 19, \"total_checkouts\": 8967}, {\"MaterialType\": \"MIXED\", \"CheckoutYear\": 2021, \"counts\": 5, \"total_checkouts\": 2105}, {\"MaterialType\": \"MOVIE\", \"CheckoutYear\": 2015, \"counts\": 143, \"total_checkouts\": 4591}, {\"MaterialType\": \"MOVIE\", \"CheckoutYear\": 2016, \"counts\": 172, \"total_checkouts\": 6011}, {\"MaterialType\": \"MOVIE\", \"CheckoutYear\": 2017, \"counts\": 198, \"total_checkouts\": 6375}, {\"MaterialType\": \"MOVIE\", \"CheckoutYear\": 2018, \"counts\": 83, \"total_checkouts\": 2536}, {\"MaterialType\": \"MUSIC\", \"CheckoutYear\": 2015, \"counts\": 105, \"total_checkouts\": 3683}, {\"MaterialType\": \"MUSIC\", \"CheckoutYear\": 2016, \"counts\": 97, \"total_checkouts\": 3578}, {\"MaterialType\": \"MUSIC\", \"CheckoutYear\": 2017, \"counts\": 125, \"total_checkouts\": 4595}, {\"MaterialType\": \"MUSIC\", \"CheckoutYear\": 2018, \"counts\": 54, \"total_checkouts\": 1983}, {\"MaterialType\": \"MUSIC\", \"CheckoutYear\": 2019, \"counts\": 1, \"total_checkouts\": 34}, {\"MaterialType\": \"REGPRINT\", \"CheckoutYear\": 2015, \"counts\": 26, \"total_checkouts\": 754}, {\"MaterialType\": \"REGPRINT\", \"CheckoutYear\": 2016, \"counts\": 46, \"total_checkouts\": 1390}, {\"MaterialType\": \"REGPRINT\", \"CheckoutYear\": 2017, \"counts\": 32, \"total_checkouts\": 1844}, {\"MaterialType\": \"REGPRINT\", \"CheckoutYear\": 2018, \"counts\": 114, \"total_checkouts\": 5739}, {\"MaterialType\": \"REGPRINT\", \"CheckoutYear\": 2019, \"counts\": 164, \"total_checkouts\": 7896}, {\"MaterialType\": \"REGPRINT\", \"CheckoutYear\": 2020, \"counts\": 36, \"total_checkouts\": 1977}, {\"MaterialType\": \"REGPRINT\", \"CheckoutYear\": 2021, \"counts\": 29, \"total_checkouts\": 1677}, {\"MaterialType\": \"SONG\", \"CheckoutYear\": 2015, \"counts\": 339, \"total_checkouts\": 17115}, {\"MaterialType\": \"SONG\", \"CheckoutYear\": 2016, \"counts\": 345, \"total_checkouts\": 13954}, {\"MaterialType\": \"SONG\", \"CheckoutYear\": 2017, \"counts\": 248, \"total_checkouts\": 8164}, {\"MaterialType\": \"SONG\", \"CheckoutYear\": 2018, \"counts\": 43, \"total_checkouts\": 1481}, {\"MaterialType\": \"SOUNDDISC\", \"CheckoutYear\": 2015, \"counts\": 2159, \"total_checkouts\": 70073}, {\"MaterialType\": \"SOUNDDISC\", \"CheckoutYear\": 2016, \"counts\": 1570, \"total_checkouts\": 50329}, {\"MaterialType\": \"SOUNDDISC\", \"CheckoutYear\": 2017, \"counts\": 1275, \"total_checkouts\": 39148}, {\"MaterialType\": \"SOUNDDISC\", \"CheckoutYear\": 2018, \"counts\": 899, \"total_checkouts\": 26753}, {\"MaterialType\": \"SOUNDDISC\", \"CheckoutYear\": 2019, \"counts\": 580, \"total_checkouts\": 16688}, {\"MaterialType\": \"SOUNDDISC\", \"CheckoutYear\": 2020, \"counts\": 98, \"total_checkouts\": 2783}, {\"MaterialType\": \"SOUNDDISC\", \"CheckoutYear\": 2021, \"counts\": 12, \"total_checkouts\": 348}, {\"MaterialType\": \"SOUNDDISC, VIDEODISC\", \"CheckoutYear\": 2015, \"counts\": 38, \"total_checkouts\": 1015}, {\"MaterialType\": \"SOUNDDISC, VIDEODISC\", \"CheckoutYear\": 2016, \"counts\": 21, \"total_checkouts\": 889}, {\"MaterialType\": \"SOUNDDISC, VIDEODISC\", \"CheckoutYear\": 2017, \"counts\": 24, \"total_checkouts\": 865}, {\"MaterialType\": \"SOUNDDISC, VIDEODISC\", \"CheckoutYear\": 2018, \"counts\": 6, \"total_checkouts\": 136}, {\"MaterialType\": \"SOUNDREC\", \"CheckoutYear\": 2015, \"counts\": 34, \"total_checkouts\": 836}, {\"MaterialType\": \"SOUNDREC\", \"CheckoutYear\": 2016, \"counts\": 26, \"total_checkouts\": 619}, {\"MaterialType\": \"SOUNDREC\", \"CheckoutYear\": 2017, \"counts\": 13, \"total_checkouts\": 325}, {\"MaterialType\": \"SOUNDREC\", \"CheckoutYear\": 2018, \"counts\": 6, \"total_checkouts\": 131}, {\"MaterialType\": \"SOUNDREC\", \"CheckoutYear\": 2019, \"counts\": 3, \"total_checkouts\": 62}, {\"MaterialType\": \"TELEVISION\", \"CheckoutYear\": 2015, \"counts\": 7, \"total_checkouts\": 275}, {\"MaterialType\": \"TELEVISION\", \"CheckoutYear\": 2016, \"counts\": 17, \"total_checkouts\": 441}, {\"MaterialType\": \"TELEVISION\", \"CheckoutYear\": 2017, \"counts\": 5, \"total_checkouts\": 169}, {\"MaterialType\": \"TELEVISION\", \"CheckoutYear\": 2018, \"counts\": 10, \"total_checkouts\": 292}, {\"MaterialType\": \"UNSPECIFIED\", \"CheckoutYear\": 2021, \"counts\": 2, \"total_checkouts\": 42}, {\"MaterialType\": \"VIDEODISC\", \"CheckoutYear\": 2015, \"counts\": 17230, \"total_checkouts\": 884973}, {\"MaterialType\": \"VIDEODISC\", \"CheckoutYear\": 2016, \"counts\": 16755, \"total_checkouts\": 848560}, {\"MaterialType\": \"VIDEODISC\", \"CheckoutYear\": 2017, \"counts\": 16006, \"total_checkouts\": 792739}, {\"MaterialType\": \"VIDEODISC\", \"CheckoutYear\": 2018, \"counts\": 11975, \"total_checkouts\": 587043}, {\"MaterialType\": \"VIDEODISC\", \"CheckoutYear\": 2019, \"counts\": 9596, \"total_checkouts\": 465175}, {\"MaterialType\": \"VIDEODISC\", \"CheckoutYear\": 2020, \"counts\": 2253, \"total_checkouts\": 102239}, {\"MaterialType\": \"VIDEODISC\", \"CheckoutYear\": 2021, \"counts\": 658, \"total_checkouts\": 23427}, {\"MaterialType\": \"VIDEOREC\", \"CheckoutYear\": 2017, \"counts\": 2, \"total_checkouts\": 45}, {\"MaterialType\": \"VISUAL\", \"CheckoutYear\": 2015, \"counts\": 13, \"total_checkouts\": 298}, {\"MaterialType\": \"VISUAL\", \"CheckoutYear\": 2016, \"counts\": 14, \"total_checkouts\": 350}, {\"MaterialType\": \"VISUAL\", \"CheckoutYear\": 2017, \"counts\": 4, \"total_checkouts\": 124}]}}, {\"mode\": \"vega-lite\"});\n",
       "</script>"
      ],
      "text/plain": [
       "alt.HConcatChart(...)"
      ]
     },
     "execution_count": 14,
     "metadata": {},
     "output_type": "execute_result"
    }
   ],
   "source": [
    "alt.hconcat(chart, chart1).resolve_scale(color='independent')"
   ]
  },
  {
   "cell_type": "markdown",
   "id": "3d2ce9d0",
   "metadata": {},
   "source": [
    "Pretty easy actually! The `resolve_scale` helps us tell Altair that the color encodings are these two graphs are independent (you can read more about resolving scales here https://altair-viz.github.io/user_guide/scale_resolve.html).\n",
    "\n",
    "Now we could be done here but there's a few issues. First we have duplicate information with `MaterialType` in both graphs so ideally we would try and re-format our charts to have this field be the legend for both charts. Also while we're at it we could add selection to both graphs as well!"
   ]
  },
  {
   "cell_type": "code",
   "execution_count": 15,
   "id": "67768932",
   "metadata": {},
   "outputs": [
    {
     "data": {
      "text/html": [
       "\n",
       "<div id=\"altair-viz-f5ca4bd92376466b960103ef12b47160\"></div>\n",
       "<script type=\"text/javascript\">\n",
       "  (function(spec, embedOpt){\n",
       "    let outputDiv = document.currentScript.previousElementSibling;\n",
       "    if (outputDiv.id !== \"altair-viz-f5ca4bd92376466b960103ef12b47160\") {\n",
       "      outputDiv = document.getElementById(\"altair-viz-f5ca4bd92376466b960103ef12b47160\");\n",
       "    }\n",
       "    const paths = {\n",
       "      \"vega\": \"https://cdn.jsdelivr.net/npm//vega@5?noext\",\n",
       "      \"vega-lib\": \"https://cdn.jsdelivr.net/npm//vega-lib?noext\",\n",
       "      \"vega-lite\": \"https://cdn.jsdelivr.net/npm//vega-lite@4.8.1?noext\",\n",
       "      \"vega-embed\": \"https://cdn.jsdelivr.net/npm//vega-embed@6?noext\",\n",
       "    };\n",
       "\n",
       "    function loadScript(lib) {\n",
       "      return new Promise(function(resolve, reject) {\n",
       "        var s = document.createElement('script');\n",
       "        s.src = paths[lib];\n",
       "        s.async = true;\n",
       "        s.onload = () => resolve(paths[lib]);\n",
       "        s.onerror = () => reject(`Error loading script: ${paths[lib]}`);\n",
       "        document.getElementsByTagName(\"head\")[0].appendChild(s);\n",
       "      });\n",
       "    }\n",
       "\n",
       "    function showError(err) {\n",
       "      outputDiv.innerHTML = `<div class=\"error\" style=\"color:red;\">${err}</div>`;\n",
       "      throw err;\n",
       "    }\n",
       "\n",
       "    function displayChart(vegaEmbed) {\n",
       "      vegaEmbed(outputDiv, spec, embedOpt)\n",
       "        .catch(err => showError(`Javascript Error: ${err.message}<br>This usually means there's a typo in your chart specification. See the javascript console for the full traceback.`));\n",
       "    }\n",
       "\n",
       "    if(typeof define === \"function\" && define.amd) {\n",
       "      requirejs.config({paths});\n",
       "      require([\"vega-embed\"], displayChart, err => showError(`Error loading script: ${err.message}`));\n",
       "    } else if (typeof vegaEmbed === \"function\") {\n",
       "      displayChart(vegaEmbed);\n",
       "    } else {\n",
       "      loadScript(\"vega\")\n",
       "        .then(() => loadScript(\"vega-lite\"))\n",
       "        .then(() => loadScript(\"vega-embed\"))\n",
       "        .catch(showError)\n",
       "        .then(() => displayChart(vegaEmbed));\n",
       "    }\n",
       "  })({\"config\": {\"view\": {\"continuousWidth\": 400, \"continuousHeight\": 300}}, \"hconcat\": [{\"data\": {\"name\": \"data-c2dd5e1f1a5430265fd9093d1d9f1eaa\"}, \"mark\": \"bar\", \"encoding\": {\"color\": {\"type\": \"nominal\", \"field\": \"MaterialType\", \"scale\": {\"scheme\": \"tableau20\"}}, \"opacity\": {\"condition\": {\"value\": 1, \"selection\": \"selector004\"}, \"value\": 0.2}, \"tooltip\": [{\"type\": \"nominal\", \"field\": \"MaterialType\"}, {\"type\": \"quantitative\", \"field\": \"counts\"}, {\"type\": \"quantitative\", \"field\": \"CheckoutYear\"}], \"x\": {\"type\": \"nominal\", \"field\": \"CheckoutYear\"}, \"y\": {\"type\": \"quantitative\", \"field\": \"counts\"}}, \"selection\": {\"selector004\": {\"type\": \"multi\", \"fields\": [\"MaterialType\"], \"bind\": \"legend\"}}}, {\"data\": {\"name\": \"data-91288d054c8f7ace7b336f2787a4fe37\"}, \"mark\": {\"type\": \"circle\", \"size\": 100}, \"encoding\": {\"color\": {\"type\": \"nominal\", \"field\": \"MaterialType\", \"scale\": {\"scheme\": \"tableau20\"}}, \"opacity\": {\"condition\": {\"value\": 1, \"selection\": \"selector004\"}, \"value\": 0.2}, \"tooltip\": [{\"type\": \"nominal\", \"field\": \"MaterialType\"}, {\"type\": \"quantitative\", \"field\": \"counts\"}, {\"type\": \"quantitative\", \"field\": \"total_checkouts\"}, {\"type\": \"quantitative\", \"field\": \"CheckoutYear\"}], \"x\": {\"type\": \"quantitative\", \"axis\": {\"title\": \"Total Number of Checkouts by Year and MaterialType\"}, \"field\": \"total_checkouts\"}, \"y\": {\"type\": \"quantitative\", \"axis\": {\"title\": \"Total Number of MaterialTypes by Year\"}, \"field\": \"counts\"}}, \"selection\": {\"selector004\": {\"type\": \"multi\", \"fields\": [\"MaterialType\"], \"bind\": \"legend\"}}}], \"$schema\": \"https://vega.github.io/schema/vega-lite/v4.8.1.json\", \"datasets\": {\"data-c2dd5e1f1a5430265fd9093d1d9f1eaa\": [{\"MaterialType\": \"AUDIOBOOK\", \"CheckoutYear\": 2015, \"counts\": 1321}, {\"MaterialType\": \"AUDIOBOOK\", \"CheckoutYear\": 2016, \"counts\": 2163}, {\"MaterialType\": \"AUDIOBOOK\", \"CheckoutYear\": 2017, \"counts\": 3164}, {\"MaterialType\": \"AUDIOBOOK\", \"CheckoutYear\": 2018, \"counts\": 5027}, {\"MaterialType\": \"AUDIOBOOK\", \"CheckoutYear\": 2019, \"counts\": 8111}, {\"MaterialType\": \"AUDIOBOOK\", \"CheckoutYear\": 2020, \"counts\": 10050}, {\"MaterialType\": \"AUDIOBOOK\", \"CheckoutYear\": 2021, \"counts\": 4706}, {\"MaterialType\": \"BOOK\", \"CheckoutYear\": 2015, \"counts\": 19087}, {\"MaterialType\": \"BOOK\", \"CheckoutYear\": 2016, \"counts\": 18844}, {\"MaterialType\": \"BOOK\", \"CheckoutYear\": 2017, \"counts\": 20187}, {\"MaterialType\": \"BOOK\", \"CheckoutYear\": 2018, \"counts\": 19524}, {\"MaterialType\": \"BOOK\", \"CheckoutYear\": 2019, \"counts\": 18495}, {\"MaterialType\": \"BOOK\", \"CheckoutYear\": 2020, \"counts\": 4151}, {\"MaterialType\": \"BOOK\", \"CheckoutYear\": 2021, \"counts\": 1788}, {\"MaterialType\": \"COMIC\", \"CheckoutYear\": 2016, \"counts\": 1}, {\"MaterialType\": \"COMIC\", \"CheckoutYear\": 2017, \"counts\": 43}, {\"MaterialType\": \"COMIC\", \"CheckoutYear\": 2018, \"counts\": 39}, {\"MaterialType\": \"CR\", \"CheckoutYear\": 2015, \"counts\": 24}, {\"MaterialType\": \"CR\", \"CheckoutYear\": 2016, \"counts\": 25}, {\"MaterialType\": \"CR\", \"CheckoutYear\": 2017, \"counts\": 24}, {\"MaterialType\": \"CR\", \"CheckoutYear\": 2018, \"counts\": 18}, {\"MaterialType\": \"CR\", \"CheckoutYear\": 2019, \"counts\": 17}, {\"MaterialType\": \"CR\", \"CheckoutYear\": 2020, \"counts\": 4}, {\"MaterialType\": \"EBOOK\", \"CheckoutYear\": 2015, \"counts\": 4732}, {\"MaterialType\": \"EBOOK\", \"CheckoutYear\": 2016, \"counts\": 5540}, {\"MaterialType\": \"EBOOK\", \"CheckoutYear\": 2017, \"counts\": 6394}, {\"MaterialType\": \"EBOOK\", \"CheckoutYear\": 2018, \"counts\": 8607}, {\"MaterialType\": \"EBOOK\", \"CheckoutYear\": 2019, \"counts\": 10837}, {\"MaterialType\": \"EBOOK\", \"CheckoutYear\": 2020, \"counts\": 14769}, {\"MaterialType\": \"EBOOK\", \"CheckoutYear\": 2021, \"counts\": 6420}, {\"MaterialType\": \"ER\", \"CheckoutYear\": 2015, \"counts\": 8}, {\"MaterialType\": \"ER\", \"CheckoutYear\": 2016, \"counts\": 1}, {\"MaterialType\": \"ER\", \"CheckoutYear\": 2017, \"counts\": 10}, {\"MaterialType\": \"ER\", \"CheckoutYear\": 2018, \"counts\": 11}, {\"MaterialType\": \"ER\", \"CheckoutYear\": 2020, \"counts\": 2}, {\"MaterialType\": \"ER\", \"CheckoutYear\": 2021, \"counts\": 2}, {\"MaterialType\": \"ER, SOUNDDISC\", \"CheckoutYear\": 2015, \"counts\": 1}, {\"MaterialType\": \"ER, SOUNDDISC\", \"CheckoutYear\": 2016, \"counts\": 2}, {\"MaterialType\": \"ER, SOUNDDISC\", \"CheckoutYear\": 2017, \"counts\": 6}, {\"MaterialType\": \"ER, SOUNDDISC\", \"CheckoutYear\": 2018, \"counts\": 1}, {\"MaterialType\": \"ER, VIDEODISC\", \"CheckoutYear\": 2019, \"counts\": 8}, {\"MaterialType\": \"ER, VIDEODISC\", \"CheckoutYear\": 2020, \"counts\": 1}, {\"MaterialType\": \"LARGEPRINT\", \"CheckoutYear\": 2015, \"counts\": 6}, {\"MaterialType\": \"LARGEPRINT\", \"CheckoutYear\": 2017, \"counts\": 1}, {\"MaterialType\": \"LARGEPRINT\", \"CheckoutYear\": 2018, \"counts\": 9}, {\"MaterialType\": \"LARGEPRINT\", \"CheckoutYear\": 2019, \"counts\": 2}, {\"MaterialType\": \"LARGEPRINT\", \"CheckoutYear\": 2021, \"counts\": 1}, {\"MaterialType\": \"MAGAZINE\", \"CheckoutYear\": 2015, \"counts\": 1001}, {\"MaterialType\": \"MAGAZINE\", \"CheckoutYear\": 2016, \"counts\": 1033}, {\"MaterialType\": \"MAGAZINE\", \"CheckoutYear\": 2017, \"counts\": 1014}, {\"MaterialType\": \"MAGAZINE\", \"CheckoutYear\": 2018, \"counts\": 977}, {\"MaterialType\": \"MAGAZINE\", \"CheckoutYear\": 2019, \"counts\": 172}, {\"MaterialType\": \"MIXED\", \"CheckoutYear\": 2015, \"counts\": 24}, {\"MaterialType\": \"MIXED\", \"CheckoutYear\": 2016, \"counts\": 33}, {\"MaterialType\": \"MIXED\", \"CheckoutYear\": 2017, \"counts\": 32}, {\"MaterialType\": \"MIXED\", \"CheckoutYear\": 2018, \"counts\": 36}, {\"MaterialType\": \"MIXED\", \"CheckoutYear\": 2019, \"counts\": 46}, {\"MaterialType\": \"MIXED\", \"CheckoutYear\": 2020, \"counts\": 19}, {\"MaterialType\": \"MIXED\", \"CheckoutYear\": 2021, \"counts\": 5}, {\"MaterialType\": \"MOVIE\", \"CheckoutYear\": 2015, \"counts\": 143}, {\"MaterialType\": \"MOVIE\", \"CheckoutYear\": 2016, \"counts\": 172}, {\"MaterialType\": \"MOVIE\", \"CheckoutYear\": 2017, \"counts\": 198}, {\"MaterialType\": \"MOVIE\", \"CheckoutYear\": 2018, \"counts\": 83}, {\"MaterialType\": \"MUSIC\", \"CheckoutYear\": 2015, \"counts\": 105}, {\"MaterialType\": \"MUSIC\", \"CheckoutYear\": 2016, \"counts\": 97}, {\"MaterialType\": \"MUSIC\", \"CheckoutYear\": 2017, \"counts\": 125}, {\"MaterialType\": \"MUSIC\", \"CheckoutYear\": 2018, \"counts\": 54}, {\"MaterialType\": \"MUSIC\", \"CheckoutYear\": 2019, \"counts\": 1}, {\"MaterialType\": \"REGPRINT\", \"CheckoutYear\": 2015, \"counts\": 26}, {\"MaterialType\": \"REGPRINT\", \"CheckoutYear\": 2016, \"counts\": 46}, {\"MaterialType\": \"REGPRINT\", \"CheckoutYear\": 2017, \"counts\": 32}, {\"MaterialType\": \"REGPRINT\", \"CheckoutYear\": 2018, \"counts\": 114}, {\"MaterialType\": \"REGPRINT\", \"CheckoutYear\": 2019, \"counts\": 164}, {\"MaterialType\": \"REGPRINT\", \"CheckoutYear\": 2020, \"counts\": 36}, {\"MaterialType\": \"REGPRINT\", \"CheckoutYear\": 2021, \"counts\": 29}, {\"MaterialType\": \"SONG\", \"CheckoutYear\": 2015, \"counts\": 339}, {\"MaterialType\": \"SONG\", \"CheckoutYear\": 2016, \"counts\": 345}, {\"MaterialType\": \"SONG\", \"CheckoutYear\": 2017, \"counts\": 248}, {\"MaterialType\": \"SONG\", \"CheckoutYear\": 2018, \"counts\": 43}, {\"MaterialType\": \"SOUNDDISC\", \"CheckoutYear\": 2015, \"counts\": 2159}, {\"MaterialType\": \"SOUNDDISC\", \"CheckoutYear\": 2016, \"counts\": 1570}, {\"MaterialType\": \"SOUNDDISC\", \"CheckoutYear\": 2017, \"counts\": 1275}, {\"MaterialType\": \"SOUNDDISC\", \"CheckoutYear\": 2018, \"counts\": 899}, {\"MaterialType\": \"SOUNDDISC\", \"CheckoutYear\": 2019, \"counts\": 580}, {\"MaterialType\": \"SOUNDDISC\", \"CheckoutYear\": 2020, \"counts\": 98}, {\"MaterialType\": \"SOUNDDISC\", \"CheckoutYear\": 2021, \"counts\": 12}, {\"MaterialType\": \"SOUNDDISC, VIDEODISC\", \"CheckoutYear\": 2015, \"counts\": 38}, {\"MaterialType\": \"SOUNDDISC, VIDEODISC\", \"CheckoutYear\": 2016, \"counts\": 21}, {\"MaterialType\": \"SOUNDDISC, VIDEODISC\", \"CheckoutYear\": 2017, \"counts\": 24}, {\"MaterialType\": \"SOUNDDISC, VIDEODISC\", \"CheckoutYear\": 2018, \"counts\": 6}, {\"MaterialType\": \"SOUNDREC\", \"CheckoutYear\": 2015, \"counts\": 34}, {\"MaterialType\": \"SOUNDREC\", \"CheckoutYear\": 2016, \"counts\": 26}, {\"MaterialType\": \"SOUNDREC\", \"CheckoutYear\": 2017, \"counts\": 13}, {\"MaterialType\": \"SOUNDREC\", \"CheckoutYear\": 2018, \"counts\": 6}, {\"MaterialType\": \"SOUNDREC\", \"CheckoutYear\": 2019, \"counts\": 3}, {\"MaterialType\": \"TELEVISION\", \"CheckoutYear\": 2015, \"counts\": 7}, {\"MaterialType\": \"TELEVISION\", \"CheckoutYear\": 2016, \"counts\": 17}, {\"MaterialType\": \"TELEVISION\", \"CheckoutYear\": 2017, \"counts\": 5}, {\"MaterialType\": \"TELEVISION\", \"CheckoutYear\": 2018, \"counts\": 10}, {\"MaterialType\": \"UNSPECIFIED\", \"CheckoutYear\": 2021, \"counts\": 2}, {\"MaterialType\": \"VIDEODISC\", \"CheckoutYear\": 2015, \"counts\": 17230}, {\"MaterialType\": \"VIDEODISC\", \"CheckoutYear\": 2016, \"counts\": 16755}, {\"MaterialType\": \"VIDEODISC\", \"CheckoutYear\": 2017, \"counts\": 16006}, {\"MaterialType\": \"VIDEODISC\", \"CheckoutYear\": 2018, \"counts\": 11975}, {\"MaterialType\": \"VIDEODISC\", \"CheckoutYear\": 2019, \"counts\": 9596}, {\"MaterialType\": \"VIDEODISC\", \"CheckoutYear\": 2020, \"counts\": 2253}, {\"MaterialType\": \"VIDEODISC\", \"CheckoutYear\": 2021, \"counts\": 658}, {\"MaterialType\": \"VIDEOREC\", \"CheckoutYear\": 2017, \"counts\": 2}, {\"MaterialType\": \"VISUAL\", \"CheckoutYear\": 2015, \"counts\": 13}, {\"MaterialType\": \"VISUAL\", \"CheckoutYear\": 2016, \"counts\": 14}, {\"MaterialType\": \"VISUAL\", \"CheckoutYear\": 2017, \"counts\": 4}], \"data-91288d054c8f7ace7b336f2787a4fe37\": [{\"MaterialType\": \"AUDIOBOOK\", \"CheckoutYear\": 2015, \"counts\": 1321, \"total_checkouts\": 44663}, {\"MaterialType\": \"AUDIOBOOK\", \"CheckoutYear\": 2016, \"counts\": 2163, \"total_checkouts\": 74295}, {\"MaterialType\": \"AUDIOBOOK\", \"CheckoutYear\": 2017, \"counts\": 3164, \"total_checkouts\": 114625}, {\"MaterialType\": \"AUDIOBOOK\", \"CheckoutYear\": 2018, \"counts\": 5027, \"total_checkouts\": 204860}, {\"MaterialType\": \"AUDIOBOOK\", \"CheckoutYear\": 2019, \"counts\": 8111, \"total_checkouts\": 387261}, {\"MaterialType\": \"AUDIOBOOK\", \"CheckoutYear\": 2020, \"counts\": 10050, \"total_checkouts\": 518403}, {\"MaterialType\": \"AUDIOBOOK\", \"CheckoutYear\": 2021, \"counts\": 4706, \"total_checkouts\": 232019}, {\"MaterialType\": \"BOOK\", \"CheckoutYear\": 2015, \"counts\": 19087, \"total_checkouts\": 625294}, {\"MaterialType\": \"BOOK\", \"CheckoutYear\": 2016, \"counts\": 18844, \"total_checkouts\": 626790}, {\"MaterialType\": \"BOOK\", \"CheckoutYear\": 2017, \"counts\": 20187, \"total_checkouts\": 756614}, {\"MaterialType\": \"BOOK\", \"CheckoutYear\": 2018, \"counts\": 19524, \"total_checkouts\": 878787}, {\"MaterialType\": \"BOOK\", \"CheckoutYear\": 2019, \"counts\": 18495, \"total_checkouts\": 829383}, {\"MaterialType\": \"BOOK\", \"CheckoutYear\": 2020, \"counts\": 4151, \"total_checkouts\": 191953}, {\"MaterialType\": \"BOOK\", \"CheckoutYear\": 2021, \"counts\": 1788, \"total_checkouts\": 93416}, {\"MaterialType\": \"COMIC\", \"CheckoutYear\": 2016, \"counts\": 1, \"total_checkouts\": 20}, {\"MaterialType\": \"COMIC\", \"CheckoutYear\": 2017, \"counts\": 43, \"total_checkouts\": 1159}, {\"MaterialType\": \"COMIC\", \"CheckoutYear\": 2018, \"counts\": 39, \"total_checkouts\": 1184}, {\"MaterialType\": \"CR\", \"CheckoutYear\": 2015, \"counts\": 24, \"total_checkouts\": 917}, {\"MaterialType\": \"CR\", \"CheckoutYear\": 2016, \"counts\": 25, \"total_checkouts\": 1000}, {\"MaterialType\": \"CR\", \"CheckoutYear\": 2017, \"counts\": 24, \"total_checkouts\": 1122}, {\"MaterialType\": \"CR\", \"CheckoutYear\": 2018, \"counts\": 18, \"total_checkouts\": 943}, {\"MaterialType\": \"CR\", \"CheckoutYear\": 2019, \"counts\": 17, \"total_checkouts\": 701}, {\"MaterialType\": \"CR\", \"CheckoutYear\": 2020, \"counts\": 4, \"total_checkouts\": 169}, {\"MaterialType\": \"EBOOK\", \"CheckoutYear\": 2015, \"counts\": 4732, \"total_checkouts\": 205799}, {\"MaterialType\": \"EBOOK\", \"CheckoutYear\": 2016, \"counts\": 5540, \"total_checkouts\": 240077}, {\"MaterialType\": \"EBOOK\", \"CheckoutYear\": 2017, \"counts\": 6394, \"total_checkouts\": 284035}, {\"MaterialType\": \"EBOOK\", \"CheckoutYear\": 2018, \"counts\": 8607, \"total_checkouts\": 390728}, {\"MaterialType\": \"EBOOK\", \"CheckoutYear\": 2019, \"counts\": 10837, \"total_checkouts\": 516170}, {\"MaterialType\": \"EBOOK\", \"CheckoutYear\": 2020, \"counts\": 14769, \"total_checkouts\": 723980}, {\"MaterialType\": \"EBOOK\", \"CheckoutYear\": 2021, \"counts\": 6420, \"total_checkouts\": 305224}, {\"MaterialType\": \"ER\", \"CheckoutYear\": 2015, \"counts\": 8, \"total_checkouts\": 248}, {\"MaterialType\": \"ER\", \"CheckoutYear\": 2016, \"counts\": 1, \"total_checkouts\": 20}, {\"MaterialType\": \"ER\", \"CheckoutYear\": 2017, \"counts\": 10, \"total_checkouts\": 408}, {\"MaterialType\": \"ER\", \"CheckoutYear\": 2018, \"counts\": 11, \"total_checkouts\": 1227}, {\"MaterialType\": \"ER\", \"CheckoutYear\": 2020, \"counts\": 2, \"total_checkouts\": 50}, {\"MaterialType\": \"ER\", \"CheckoutYear\": 2021, \"counts\": 2, \"total_checkouts\": 46}, {\"MaterialType\": \"ER, SOUNDDISC\", \"CheckoutYear\": 2015, \"counts\": 1, \"total_checkouts\": 20}, {\"MaterialType\": \"ER, SOUNDDISC\", \"CheckoutYear\": 2016, \"counts\": 2, \"total_checkouts\": 119}, {\"MaterialType\": \"ER, SOUNDDISC\", \"CheckoutYear\": 2017, \"counts\": 6, \"total_checkouts\": 237}, {\"MaterialType\": \"ER, SOUNDDISC\", \"CheckoutYear\": 2018, \"counts\": 1, \"total_checkouts\": 21}, {\"MaterialType\": \"ER, VIDEODISC\", \"CheckoutYear\": 2019, \"counts\": 8, \"total_checkouts\": 251}, {\"MaterialType\": \"ER, VIDEODISC\", \"CheckoutYear\": 2020, \"counts\": 1, \"total_checkouts\": 24}, {\"MaterialType\": \"LARGEPRINT\", \"CheckoutYear\": 2015, \"counts\": 6, \"total_checkouts\": 209}, {\"MaterialType\": \"LARGEPRINT\", \"CheckoutYear\": 2017, \"counts\": 1, \"total_checkouts\": 24}, {\"MaterialType\": \"LARGEPRINT\", \"CheckoutYear\": 2018, \"counts\": 9, \"total_checkouts\": 229}, {\"MaterialType\": \"LARGEPRINT\", \"CheckoutYear\": 2019, \"counts\": 2, \"total_checkouts\": 45}, {\"MaterialType\": \"LARGEPRINT\", \"CheckoutYear\": 2021, \"counts\": 1, \"total_checkouts\": 23}, {\"MaterialType\": \"MAGAZINE\", \"CheckoutYear\": 2015, \"counts\": 1001, \"total_checkouts\": 61971}, {\"MaterialType\": \"MAGAZINE\", \"CheckoutYear\": 2016, \"counts\": 1033, \"total_checkouts\": 67493}, {\"MaterialType\": \"MAGAZINE\", \"CheckoutYear\": 2017, \"counts\": 1014, \"total_checkouts\": 63089}, {\"MaterialType\": \"MAGAZINE\", \"CheckoutYear\": 2018, \"counts\": 977, \"total_checkouts\": 70960}, {\"MaterialType\": \"MAGAZINE\", \"CheckoutYear\": 2019, \"counts\": 172, \"total_checkouts\": 20698}, {\"MaterialType\": \"MIXED\", \"CheckoutYear\": 2015, \"counts\": 24, \"total_checkouts\": 2950}, {\"MaterialType\": \"MIXED\", \"CheckoutYear\": 2016, \"counts\": 33, \"total_checkouts\": 9987}, {\"MaterialType\": \"MIXED\", \"CheckoutYear\": 2017, \"counts\": 32, \"total_checkouts\": 13484}, {\"MaterialType\": \"MIXED\", \"CheckoutYear\": 2018, \"counts\": 36, \"total_checkouts\": 24429}, {\"MaterialType\": \"MIXED\", \"CheckoutYear\": 2019, \"counts\": 46, \"total_checkouts\": 21592}, {\"MaterialType\": \"MIXED\", \"CheckoutYear\": 2020, \"counts\": 19, \"total_checkouts\": 8967}, {\"MaterialType\": \"MIXED\", \"CheckoutYear\": 2021, \"counts\": 5, \"total_checkouts\": 2105}, {\"MaterialType\": \"MOVIE\", \"CheckoutYear\": 2015, \"counts\": 143, \"total_checkouts\": 4591}, {\"MaterialType\": \"MOVIE\", \"CheckoutYear\": 2016, \"counts\": 172, \"total_checkouts\": 6011}, {\"MaterialType\": \"MOVIE\", \"CheckoutYear\": 2017, \"counts\": 198, \"total_checkouts\": 6375}, {\"MaterialType\": \"MOVIE\", \"CheckoutYear\": 2018, \"counts\": 83, \"total_checkouts\": 2536}, {\"MaterialType\": \"MUSIC\", \"CheckoutYear\": 2015, \"counts\": 105, \"total_checkouts\": 3683}, {\"MaterialType\": \"MUSIC\", \"CheckoutYear\": 2016, \"counts\": 97, \"total_checkouts\": 3578}, {\"MaterialType\": \"MUSIC\", \"CheckoutYear\": 2017, \"counts\": 125, \"total_checkouts\": 4595}, {\"MaterialType\": \"MUSIC\", \"CheckoutYear\": 2018, \"counts\": 54, \"total_checkouts\": 1983}, {\"MaterialType\": \"MUSIC\", \"CheckoutYear\": 2019, \"counts\": 1, \"total_checkouts\": 34}, {\"MaterialType\": \"REGPRINT\", \"CheckoutYear\": 2015, \"counts\": 26, \"total_checkouts\": 754}, {\"MaterialType\": \"REGPRINT\", \"CheckoutYear\": 2016, \"counts\": 46, \"total_checkouts\": 1390}, {\"MaterialType\": \"REGPRINT\", \"CheckoutYear\": 2017, \"counts\": 32, \"total_checkouts\": 1844}, {\"MaterialType\": \"REGPRINT\", \"CheckoutYear\": 2018, \"counts\": 114, \"total_checkouts\": 5739}, {\"MaterialType\": \"REGPRINT\", \"CheckoutYear\": 2019, \"counts\": 164, \"total_checkouts\": 7896}, {\"MaterialType\": \"REGPRINT\", \"CheckoutYear\": 2020, \"counts\": 36, \"total_checkouts\": 1977}, {\"MaterialType\": \"REGPRINT\", \"CheckoutYear\": 2021, \"counts\": 29, \"total_checkouts\": 1677}, {\"MaterialType\": \"SONG\", \"CheckoutYear\": 2015, \"counts\": 339, \"total_checkouts\": 17115}, {\"MaterialType\": \"SONG\", \"CheckoutYear\": 2016, \"counts\": 345, \"total_checkouts\": 13954}, {\"MaterialType\": \"SONG\", \"CheckoutYear\": 2017, \"counts\": 248, \"total_checkouts\": 8164}, {\"MaterialType\": \"SONG\", \"CheckoutYear\": 2018, \"counts\": 43, \"total_checkouts\": 1481}, {\"MaterialType\": \"SOUNDDISC\", \"CheckoutYear\": 2015, \"counts\": 2159, \"total_checkouts\": 70073}, {\"MaterialType\": \"SOUNDDISC\", \"CheckoutYear\": 2016, \"counts\": 1570, \"total_checkouts\": 50329}, {\"MaterialType\": \"SOUNDDISC\", \"CheckoutYear\": 2017, \"counts\": 1275, \"total_checkouts\": 39148}, {\"MaterialType\": \"SOUNDDISC\", \"CheckoutYear\": 2018, \"counts\": 899, \"total_checkouts\": 26753}, {\"MaterialType\": \"SOUNDDISC\", \"CheckoutYear\": 2019, \"counts\": 580, \"total_checkouts\": 16688}, {\"MaterialType\": \"SOUNDDISC\", \"CheckoutYear\": 2020, \"counts\": 98, \"total_checkouts\": 2783}, {\"MaterialType\": \"SOUNDDISC\", \"CheckoutYear\": 2021, \"counts\": 12, \"total_checkouts\": 348}, {\"MaterialType\": \"SOUNDDISC, VIDEODISC\", \"CheckoutYear\": 2015, \"counts\": 38, \"total_checkouts\": 1015}, {\"MaterialType\": \"SOUNDDISC, VIDEODISC\", \"CheckoutYear\": 2016, \"counts\": 21, \"total_checkouts\": 889}, {\"MaterialType\": \"SOUNDDISC, VIDEODISC\", \"CheckoutYear\": 2017, \"counts\": 24, \"total_checkouts\": 865}, {\"MaterialType\": \"SOUNDDISC, VIDEODISC\", \"CheckoutYear\": 2018, \"counts\": 6, \"total_checkouts\": 136}, {\"MaterialType\": \"SOUNDREC\", \"CheckoutYear\": 2015, \"counts\": 34, \"total_checkouts\": 836}, {\"MaterialType\": \"SOUNDREC\", \"CheckoutYear\": 2016, \"counts\": 26, \"total_checkouts\": 619}, {\"MaterialType\": \"SOUNDREC\", \"CheckoutYear\": 2017, \"counts\": 13, \"total_checkouts\": 325}, {\"MaterialType\": \"SOUNDREC\", \"CheckoutYear\": 2018, \"counts\": 6, \"total_checkouts\": 131}, {\"MaterialType\": \"SOUNDREC\", \"CheckoutYear\": 2019, \"counts\": 3, \"total_checkouts\": 62}, {\"MaterialType\": \"TELEVISION\", \"CheckoutYear\": 2015, \"counts\": 7, \"total_checkouts\": 275}, {\"MaterialType\": \"TELEVISION\", \"CheckoutYear\": 2016, \"counts\": 17, \"total_checkouts\": 441}, {\"MaterialType\": \"TELEVISION\", \"CheckoutYear\": 2017, \"counts\": 5, \"total_checkouts\": 169}, {\"MaterialType\": \"TELEVISION\", \"CheckoutYear\": 2018, \"counts\": 10, \"total_checkouts\": 292}, {\"MaterialType\": \"UNSPECIFIED\", \"CheckoutYear\": 2021, \"counts\": 2, \"total_checkouts\": 42}, {\"MaterialType\": \"VIDEODISC\", \"CheckoutYear\": 2015, \"counts\": 17230, \"total_checkouts\": 884973}, {\"MaterialType\": \"VIDEODISC\", \"CheckoutYear\": 2016, \"counts\": 16755, \"total_checkouts\": 848560}, {\"MaterialType\": \"VIDEODISC\", \"CheckoutYear\": 2017, \"counts\": 16006, \"total_checkouts\": 792739}, {\"MaterialType\": \"VIDEODISC\", \"CheckoutYear\": 2018, \"counts\": 11975, \"total_checkouts\": 587043}, {\"MaterialType\": \"VIDEODISC\", \"CheckoutYear\": 2019, \"counts\": 9596, \"total_checkouts\": 465175}, {\"MaterialType\": \"VIDEODISC\", \"CheckoutYear\": 2020, \"counts\": 2253, \"total_checkouts\": 102239}, {\"MaterialType\": \"VIDEODISC\", \"CheckoutYear\": 2021, \"counts\": 658, \"total_checkouts\": 23427}, {\"MaterialType\": \"VIDEOREC\", \"CheckoutYear\": 2017, \"counts\": 2, \"total_checkouts\": 45}, {\"MaterialType\": \"VISUAL\", \"CheckoutYear\": 2015, \"counts\": 13, \"total_checkouts\": 298}, {\"MaterialType\": \"VISUAL\", \"CheckoutYear\": 2016, \"counts\": 14, \"total_checkouts\": 350}, {\"MaterialType\": \"VISUAL\", \"CheckoutYear\": 2017, \"counts\": 4, \"total_checkouts\": 124}]}}, {\"mode\": \"vega-lite\"});\n",
       "</script>"
      ],
      "text/plain": [
       "alt.HConcatChart(...)"
      ]
     },
     "execution_count": 15,
     "metadata": {},
     "output_type": "execute_result"
    }
   ],
   "source": [
    "# For time's sake going to just post the code here but ideally we would work on this together\n",
    "selection = alt.selection_multi(fields=['MaterialType'], bind='legend')\n",
    "chart = alt.Chart(seattle_material_grouped).mark_bar().encode(\n",
    "    x=alt.X('CheckoutYear:N'),\n",
    "    y='counts',\n",
    "    color=alt.Color('MaterialType:N', scale=alt.Scale(scheme='tableau20')),\n",
    "    tooltip=['MaterialType', 'counts', 'CheckoutYear'],\n",
    "    opacity=alt.condition(selection, alt.value(1), alt.value(0.2))\n",
    ").add_selection(\n",
    "    selection\n",
    ")\n",
    "\n",
    "chart1 = alt.Chart(seattle_materials_checkouts).mark_circle(size=100).encode(\n",
    "    x=alt.X('total_checkouts', axis=alt.Axis(title='Total Number of Checkouts by Year and MaterialType')),\n",
    "    y=alt.Y('counts', axis=alt.Axis(title='Total Number of MaterialTypes by Year')),\n",
    "    color=alt.Color('MaterialType:N', scale=alt.Scale(scheme='tableau20')),\n",
    "    tooltip=['MaterialType', 'counts', 'total_checkouts', 'CheckoutYear'],\n",
    "    opacity=alt.condition(selection, alt.value(1), alt.value(0.2))\n",
    ").add_selection(\n",
    "    selection\n",
    ")\n",
    "alt.hconcat(chart, chart1)"
   ]
  },
  {
   "cell_type": "code",
   "execution_count": 16,
   "id": "7d44175a",
   "metadata": {},
   "outputs": [
    {
     "data": {
      "text/html": [
       "\n",
       "<div id=\"altair-viz-bcc6d73664d74ea6b6bfaae1b1b264ad\"></div>\n",
       "<script type=\"text/javascript\">\n",
       "  (function(spec, embedOpt){\n",
       "    let outputDiv = document.currentScript.previousElementSibling;\n",
       "    if (outputDiv.id !== \"altair-viz-bcc6d73664d74ea6b6bfaae1b1b264ad\") {\n",
       "      outputDiv = document.getElementById(\"altair-viz-bcc6d73664d74ea6b6bfaae1b1b264ad\");\n",
       "    }\n",
       "    const paths = {\n",
       "      \"vega\": \"https://cdn.jsdelivr.net/npm//vega@5?noext\",\n",
       "      \"vega-lib\": \"https://cdn.jsdelivr.net/npm//vega-lib?noext\",\n",
       "      \"vega-lite\": \"https://cdn.jsdelivr.net/npm//vega-lite@4.8.1?noext\",\n",
       "      \"vega-embed\": \"https://cdn.jsdelivr.net/npm//vega-embed@6?noext\",\n",
       "    };\n",
       "\n",
       "    function loadScript(lib) {\n",
       "      return new Promise(function(resolve, reject) {\n",
       "        var s = document.createElement('script');\n",
       "        s.src = paths[lib];\n",
       "        s.async = true;\n",
       "        s.onload = () => resolve(paths[lib]);\n",
       "        s.onerror = () => reject(`Error loading script: ${paths[lib]}`);\n",
       "        document.getElementsByTagName(\"head\")[0].appendChild(s);\n",
       "      });\n",
       "    }\n",
       "\n",
       "    function showError(err) {\n",
       "      outputDiv.innerHTML = `<div class=\"error\" style=\"color:red;\">${err}</div>`;\n",
       "      throw err;\n",
       "    }\n",
       "\n",
       "    function displayChart(vegaEmbed) {\n",
       "      vegaEmbed(outputDiv, spec, embedOpt)\n",
       "        .catch(err => showError(`Javascript Error: ${err.message}<br>This usually means there's a typo in your chart specification. See the javascript console for the full traceback.`));\n",
       "    }\n",
       "\n",
       "    if(typeof define === \"function\" && define.amd) {\n",
       "      requirejs.config({paths});\n",
       "      require([\"vega-embed\"], displayChart, err => showError(`Error loading script: ${err.message}`));\n",
       "    } else if (typeof vegaEmbed === \"function\") {\n",
       "      displayChart(vegaEmbed);\n",
       "    } else {\n",
       "      loadScript(\"vega\")\n",
       "        .then(() => loadScript(\"vega-lite\"))\n",
       "        .then(() => loadScript(\"vega-embed\"))\n",
       "        .catch(showError)\n",
       "        .then(() => displayChart(vegaEmbed));\n",
       "    }\n",
       "  })({\"config\": {\"view\": {\"continuousWidth\": 400, \"continuousHeight\": 300}}, \"hconcat\": [{\"data\": {\"name\": \"data-c2dd5e1f1a5430265fd9093d1d9f1eaa\"}, \"mark\": \"bar\", \"encoding\": {\"color\": {\"type\": \"nominal\", \"field\": \"MaterialType\", \"scale\": {\"scheme\": \"tableau20\"}}, \"opacity\": {\"condition\": {\"value\": 1, \"selection\": \"selector005\"}, \"value\": 0.2}, \"tooltip\": [{\"type\": \"nominal\", \"field\": \"MaterialType\"}, {\"type\": \"quantitative\", \"field\": \"counts\"}, {\"type\": \"quantitative\", \"field\": \"CheckoutYear\"}], \"x\": {\"type\": \"nominal\", \"field\": \"CheckoutYear\"}, \"y\": {\"type\": \"quantitative\", \"axis\": {\"title\": \"Total Number of MaterialTypes by Year\"}, \"field\": \"counts\"}}, \"selection\": {\"selector005\": {\"type\": \"multi\", \"fields\": [\"MaterialType\"], \"bind\": \"legend\"}}, \"transform\": [{\"filter\": {\"field\": \"MaterialType\", \"oneOf\": [\"AUDIOBOOK\", \"BOOK\", \"EBOOK\"]}}]}, {\"data\": {\"name\": \"data-91288d054c8f7ace7b336f2787a4fe37\"}, \"mark\": {\"type\": \"circle\", \"size\": 100}, \"encoding\": {\"color\": {\"type\": \"nominal\", \"field\": \"MaterialType\", \"scale\": {\"scheme\": \"tableau20\"}}, \"opacity\": {\"condition\": {\"value\": 1, \"selection\": \"selector005\"}, \"value\": 0.2}, \"tooltip\": [{\"type\": \"nominal\", \"field\": \"MaterialType\"}, {\"type\": \"quantitative\", \"field\": \"counts\"}, {\"type\": \"quantitative\", \"field\": \"total_checkouts\"}, {\"type\": \"quantitative\", \"field\": \"CheckoutYear\"}], \"x\": {\"type\": \"quantitative\", \"axis\": {\"title\": \"Total Number of Checkouts by Year and MaterialType\"}, \"field\": \"total_checkouts\"}, \"y\": {\"type\": \"quantitative\", \"axis\": {\"title\": \"Total Number of MaterialTypes by Year\"}, \"field\": \"counts\"}}, \"selection\": {\"selector005\": {\"type\": \"multi\", \"fields\": [\"MaterialType\"], \"bind\": \"legend\"}}, \"transform\": [{\"filter\": {\"field\": \"MaterialType\", \"oneOf\": [\"AUDIOBOOK\", \"BOOK\", \"EBOOK\"]}}]}], \"title\": \"Impact of Pandemic on Seattle Library Acquisitions and Patron Behavior\", \"$schema\": \"https://vega.github.io/schema/vega-lite/v4.8.1.json\", \"datasets\": {\"data-c2dd5e1f1a5430265fd9093d1d9f1eaa\": [{\"MaterialType\": \"AUDIOBOOK\", \"CheckoutYear\": 2015, \"counts\": 1321}, {\"MaterialType\": \"AUDIOBOOK\", \"CheckoutYear\": 2016, \"counts\": 2163}, {\"MaterialType\": \"AUDIOBOOK\", \"CheckoutYear\": 2017, \"counts\": 3164}, {\"MaterialType\": \"AUDIOBOOK\", \"CheckoutYear\": 2018, \"counts\": 5027}, {\"MaterialType\": \"AUDIOBOOK\", \"CheckoutYear\": 2019, \"counts\": 8111}, {\"MaterialType\": \"AUDIOBOOK\", \"CheckoutYear\": 2020, \"counts\": 10050}, {\"MaterialType\": \"AUDIOBOOK\", \"CheckoutYear\": 2021, \"counts\": 4706}, {\"MaterialType\": \"BOOK\", \"CheckoutYear\": 2015, \"counts\": 19087}, {\"MaterialType\": \"BOOK\", \"CheckoutYear\": 2016, \"counts\": 18844}, {\"MaterialType\": \"BOOK\", \"CheckoutYear\": 2017, \"counts\": 20187}, {\"MaterialType\": \"BOOK\", \"CheckoutYear\": 2018, \"counts\": 19524}, {\"MaterialType\": \"BOOK\", \"CheckoutYear\": 2019, \"counts\": 18495}, {\"MaterialType\": \"BOOK\", \"CheckoutYear\": 2020, \"counts\": 4151}, {\"MaterialType\": \"BOOK\", \"CheckoutYear\": 2021, \"counts\": 1788}, {\"MaterialType\": \"COMIC\", \"CheckoutYear\": 2016, \"counts\": 1}, {\"MaterialType\": \"COMIC\", \"CheckoutYear\": 2017, \"counts\": 43}, {\"MaterialType\": \"COMIC\", \"CheckoutYear\": 2018, \"counts\": 39}, {\"MaterialType\": \"CR\", \"CheckoutYear\": 2015, \"counts\": 24}, {\"MaterialType\": \"CR\", \"CheckoutYear\": 2016, \"counts\": 25}, {\"MaterialType\": \"CR\", \"CheckoutYear\": 2017, \"counts\": 24}, {\"MaterialType\": \"CR\", \"CheckoutYear\": 2018, \"counts\": 18}, {\"MaterialType\": \"CR\", \"CheckoutYear\": 2019, \"counts\": 17}, {\"MaterialType\": \"CR\", \"CheckoutYear\": 2020, \"counts\": 4}, {\"MaterialType\": \"EBOOK\", \"CheckoutYear\": 2015, \"counts\": 4732}, {\"MaterialType\": \"EBOOK\", \"CheckoutYear\": 2016, \"counts\": 5540}, {\"MaterialType\": \"EBOOK\", \"CheckoutYear\": 2017, \"counts\": 6394}, {\"MaterialType\": \"EBOOK\", \"CheckoutYear\": 2018, \"counts\": 8607}, {\"MaterialType\": \"EBOOK\", \"CheckoutYear\": 2019, \"counts\": 10837}, {\"MaterialType\": \"EBOOK\", \"CheckoutYear\": 2020, \"counts\": 14769}, {\"MaterialType\": \"EBOOK\", \"CheckoutYear\": 2021, \"counts\": 6420}, {\"MaterialType\": \"ER\", \"CheckoutYear\": 2015, \"counts\": 8}, {\"MaterialType\": \"ER\", \"CheckoutYear\": 2016, \"counts\": 1}, {\"MaterialType\": \"ER\", \"CheckoutYear\": 2017, \"counts\": 10}, {\"MaterialType\": \"ER\", \"CheckoutYear\": 2018, \"counts\": 11}, {\"MaterialType\": \"ER\", \"CheckoutYear\": 2020, \"counts\": 2}, {\"MaterialType\": \"ER\", \"CheckoutYear\": 2021, \"counts\": 2}, {\"MaterialType\": \"ER, SOUNDDISC\", \"CheckoutYear\": 2015, \"counts\": 1}, {\"MaterialType\": \"ER, SOUNDDISC\", \"CheckoutYear\": 2016, \"counts\": 2}, {\"MaterialType\": \"ER, SOUNDDISC\", \"CheckoutYear\": 2017, \"counts\": 6}, {\"MaterialType\": \"ER, SOUNDDISC\", \"CheckoutYear\": 2018, \"counts\": 1}, {\"MaterialType\": \"ER, VIDEODISC\", \"CheckoutYear\": 2019, \"counts\": 8}, {\"MaterialType\": \"ER, VIDEODISC\", \"CheckoutYear\": 2020, \"counts\": 1}, {\"MaterialType\": \"LARGEPRINT\", \"CheckoutYear\": 2015, \"counts\": 6}, {\"MaterialType\": \"LARGEPRINT\", \"CheckoutYear\": 2017, \"counts\": 1}, {\"MaterialType\": \"LARGEPRINT\", \"CheckoutYear\": 2018, \"counts\": 9}, {\"MaterialType\": \"LARGEPRINT\", \"CheckoutYear\": 2019, \"counts\": 2}, {\"MaterialType\": \"LARGEPRINT\", \"CheckoutYear\": 2021, \"counts\": 1}, {\"MaterialType\": \"MAGAZINE\", \"CheckoutYear\": 2015, \"counts\": 1001}, {\"MaterialType\": \"MAGAZINE\", \"CheckoutYear\": 2016, \"counts\": 1033}, {\"MaterialType\": \"MAGAZINE\", \"CheckoutYear\": 2017, \"counts\": 1014}, {\"MaterialType\": \"MAGAZINE\", \"CheckoutYear\": 2018, \"counts\": 977}, {\"MaterialType\": \"MAGAZINE\", \"CheckoutYear\": 2019, \"counts\": 172}, {\"MaterialType\": \"MIXED\", \"CheckoutYear\": 2015, \"counts\": 24}, {\"MaterialType\": \"MIXED\", \"CheckoutYear\": 2016, \"counts\": 33}, {\"MaterialType\": \"MIXED\", \"CheckoutYear\": 2017, \"counts\": 32}, {\"MaterialType\": \"MIXED\", \"CheckoutYear\": 2018, \"counts\": 36}, {\"MaterialType\": \"MIXED\", \"CheckoutYear\": 2019, \"counts\": 46}, {\"MaterialType\": \"MIXED\", \"CheckoutYear\": 2020, \"counts\": 19}, {\"MaterialType\": \"MIXED\", \"CheckoutYear\": 2021, \"counts\": 5}, {\"MaterialType\": \"MOVIE\", \"CheckoutYear\": 2015, \"counts\": 143}, {\"MaterialType\": \"MOVIE\", \"CheckoutYear\": 2016, \"counts\": 172}, {\"MaterialType\": \"MOVIE\", \"CheckoutYear\": 2017, \"counts\": 198}, {\"MaterialType\": \"MOVIE\", \"CheckoutYear\": 2018, \"counts\": 83}, {\"MaterialType\": \"MUSIC\", \"CheckoutYear\": 2015, \"counts\": 105}, {\"MaterialType\": \"MUSIC\", \"CheckoutYear\": 2016, \"counts\": 97}, {\"MaterialType\": \"MUSIC\", \"CheckoutYear\": 2017, \"counts\": 125}, {\"MaterialType\": \"MUSIC\", \"CheckoutYear\": 2018, \"counts\": 54}, {\"MaterialType\": \"MUSIC\", \"CheckoutYear\": 2019, \"counts\": 1}, {\"MaterialType\": \"REGPRINT\", \"CheckoutYear\": 2015, \"counts\": 26}, {\"MaterialType\": \"REGPRINT\", \"CheckoutYear\": 2016, \"counts\": 46}, {\"MaterialType\": \"REGPRINT\", \"CheckoutYear\": 2017, \"counts\": 32}, {\"MaterialType\": \"REGPRINT\", \"CheckoutYear\": 2018, \"counts\": 114}, {\"MaterialType\": \"REGPRINT\", \"CheckoutYear\": 2019, \"counts\": 164}, {\"MaterialType\": \"REGPRINT\", \"CheckoutYear\": 2020, \"counts\": 36}, {\"MaterialType\": \"REGPRINT\", \"CheckoutYear\": 2021, \"counts\": 29}, {\"MaterialType\": \"SONG\", \"CheckoutYear\": 2015, \"counts\": 339}, {\"MaterialType\": \"SONG\", \"CheckoutYear\": 2016, \"counts\": 345}, {\"MaterialType\": \"SONG\", \"CheckoutYear\": 2017, \"counts\": 248}, {\"MaterialType\": \"SONG\", \"CheckoutYear\": 2018, \"counts\": 43}, {\"MaterialType\": \"SOUNDDISC\", \"CheckoutYear\": 2015, \"counts\": 2159}, {\"MaterialType\": \"SOUNDDISC\", \"CheckoutYear\": 2016, \"counts\": 1570}, {\"MaterialType\": \"SOUNDDISC\", \"CheckoutYear\": 2017, \"counts\": 1275}, {\"MaterialType\": \"SOUNDDISC\", \"CheckoutYear\": 2018, \"counts\": 899}, {\"MaterialType\": \"SOUNDDISC\", \"CheckoutYear\": 2019, \"counts\": 580}, {\"MaterialType\": \"SOUNDDISC\", \"CheckoutYear\": 2020, \"counts\": 98}, {\"MaterialType\": \"SOUNDDISC\", \"CheckoutYear\": 2021, \"counts\": 12}, {\"MaterialType\": \"SOUNDDISC, VIDEODISC\", \"CheckoutYear\": 2015, \"counts\": 38}, {\"MaterialType\": \"SOUNDDISC, VIDEODISC\", \"CheckoutYear\": 2016, \"counts\": 21}, {\"MaterialType\": \"SOUNDDISC, VIDEODISC\", \"CheckoutYear\": 2017, \"counts\": 24}, {\"MaterialType\": \"SOUNDDISC, VIDEODISC\", \"CheckoutYear\": 2018, \"counts\": 6}, {\"MaterialType\": \"SOUNDREC\", \"CheckoutYear\": 2015, \"counts\": 34}, {\"MaterialType\": \"SOUNDREC\", \"CheckoutYear\": 2016, \"counts\": 26}, {\"MaterialType\": \"SOUNDREC\", \"CheckoutYear\": 2017, \"counts\": 13}, {\"MaterialType\": \"SOUNDREC\", \"CheckoutYear\": 2018, \"counts\": 6}, {\"MaterialType\": \"SOUNDREC\", \"CheckoutYear\": 2019, \"counts\": 3}, {\"MaterialType\": \"TELEVISION\", \"CheckoutYear\": 2015, \"counts\": 7}, {\"MaterialType\": \"TELEVISION\", \"CheckoutYear\": 2016, \"counts\": 17}, {\"MaterialType\": \"TELEVISION\", \"CheckoutYear\": 2017, \"counts\": 5}, {\"MaterialType\": \"TELEVISION\", \"CheckoutYear\": 2018, \"counts\": 10}, {\"MaterialType\": \"UNSPECIFIED\", \"CheckoutYear\": 2021, \"counts\": 2}, {\"MaterialType\": \"VIDEODISC\", \"CheckoutYear\": 2015, \"counts\": 17230}, {\"MaterialType\": \"VIDEODISC\", \"CheckoutYear\": 2016, \"counts\": 16755}, {\"MaterialType\": \"VIDEODISC\", \"CheckoutYear\": 2017, \"counts\": 16006}, {\"MaterialType\": \"VIDEODISC\", \"CheckoutYear\": 2018, \"counts\": 11975}, {\"MaterialType\": \"VIDEODISC\", \"CheckoutYear\": 2019, \"counts\": 9596}, {\"MaterialType\": \"VIDEODISC\", \"CheckoutYear\": 2020, \"counts\": 2253}, {\"MaterialType\": \"VIDEODISC\", \"CheckoutYear\": 2021, \"counts\": 658}, {\"MaterialType\": \"VIDEOREC\", \"CheckoutYear\": 2017, \"counts\": 2}, {\"MaterialType\": \"VISUAL\", \"CheckoutYear\": 2015, \"counts\": 13}, {\"MaterialType\": \"VISUAL\", \"CheckoutYear\": 2016, \"counts\": 14}, {\"MaterialType\": \"VISUAL\", \"CheckoutYear\": 2017, \"counts\": 4}], \"data-91288d054c8f7ace7b336f2787a4fe37\": [{\"MaterialType\": \"AUDIOBOOK\", \"CheckoutYear\": 2015, \"counts\": 1321, \"total_checkouts\": 44663}, {\"MaterialType\": \"AUDIOBOOK\", \"CheckoutYear\": 2016, \"counts\": 2163, \"total_checkouts\": 74295}, {\"MaterialType\": \"AUDIOBOOK\", \"CheckoutYear\": 2017, \"counts\": 3164, \"total_checkouts\": 114625}, {\"MaterialType\": \"AUDIOBOOK\", \"CheckoutYear\": 2018, \"counts\": 5027, \"total_checkouts\": 204860}, {\"MaterialType\": \"AUDIOBOOK\", \"CheckoutYear\": 2019, \"counts\": 8111, \"total_checkouts\": 387261}, {\"MaterialType\": \"AUDIOBOOK\", \"CheckoutYear\": 2020, \"counts\": 10050, \"total_checkouts\": 518403}, {\"MaterialType\": \"AUDIOBOOK\", \"CheckoutYear\": 2021, \"counts\": 4706, \"total_checkouts\": 232019}, {\"MaterialType\": \"BOOK\", \"CheckoutYear\": 2015, \"counts\": 19087, \"total_checkouts\": 625294}, {\"MaterialType\": \"BOOK\", \"CheckoutYear\": 2016, \"counts\": 18844, \"total_checkouts\": 626790}, {\"MaterialType\": \"BOOK\", \"CheckoutYear\": 2017, \"counts\": 20187, \"total_checkouts\": 756614}, {\"MaterialType\": \"BOOK\", \"CheckoutYear\": 2018, \"counts\": 19524, \"total_checkouts\": 878787}, {\"MaterialType\": \"BOOK\", \"CheckoutYear\": 2019, \"counts\": 18495, \"total_checkouts\": 829383}, {\"MaterialType\": \"BOOK\", \"CheckoutYear\": 2020, \"counts\": 4151, \"total_checkouts\": 191953}, {\"MaterialType\": \"BOOK\", \"CheckoutYear\": 2021, \"counts\": 1788, \"total_checkouts\": 93416}, {\"MaterialType\": \"COMIC\", \"CheckoutYear\": 2016, \"counts\": 1, \"total_checkouts\": 20}, {\"MaterialType\": \"COMIC\", \"CheckoutYear\": 2017, \"counts\": 43, \"total_checkouts\": 1159}, {\"MaterialType\": \"COMIC\", \"CheckoutYear\": 2018, \"counts\": 39, \"total_checkouts\": 1184}, {\"MaterialType\": \"CR\", \"CheckoutYear\": 2015, \"counts\": 24, \"total_checkouts\": 917}, {\"MaterialType\": \"CR\", \"CheckoutYear\": 2016, \"counts\": 25, \"total_checkouts\": 1000}, {\"MaterialType\": \"CR\", \"CheckoutYear\": 2017, \"counts\": 24, \"total_checkouts\": 1122}, {\"MaterialType\": \"CR\", \"CheckoutYear\": 2018, \"counts\": 18, \"total_checkouts\": 943}, {\"MaterialType\": \"CR\", \"CheckoutYear\": 2019, \"counts\": 17, \"total_checkouts\": 701}, {\"MaterialType\": \"CR\", \"CheckoutYear\": 2020, \"counts\": 4, \"total_checkouts\": 169}, {\"MaterialType\": \"EBOOK\", \"CheckoutYear\": 2015, \"counts\": 4732, \"total_checkouts\": 205799}, {\"MaterialType\": \"EBOOK\", \"CheckoutYear\": 2016, \"counts\": 5540, \"total_checkouts\": 240077}, {\"MaterialType\": \"EBOOK\", \"CheckoutYear\": 2017, \"counts\": 6394, \"total_checkouts\": 284035}, {\"MaterialType\": \"EBOOK\", \"CheckoutYear\": 2018, \"counts\": 8607, \"total_checkouts\": 390728}, {\"MaterialType\": \"EBOOK\", \"CheckoutYear\": 2019, \"counts\": 10837, \"total_checkouts\": 516170}, {\"MaterialType\": \"EBOOK\", \"CheckoutYear\": 2020, \"counts\": 14769, \"total_checkouts\": 723980}, {\"MaterialType\": \"EBOOK\", \"CheckoutYear\": 2021, \"counts\": 6420, \"total_checkouts\": 305224}, {\"MaterialType\": \"ER\", \"CheckoutYear\": 2015, \"counts\": 8, \"total_checkouts\": 248}, {\"MaterialType\": \"ER\", \"CheckoutYear\": 2016, \"counts\": 1, \"total_checkouts\": 20}, {\"MaterialType\": \"ER\", \"CheckoutYear\": 2017, \"counts\": 10, \"total_checkouts\": 408}, {\"MaterialType\": \"ER\", \"CheckoutYear\": 2018, \"counts\": 11, \"total_checkouts\": 1227}, {\"MaterialType\": \"ER\", \"CheckoutYear\": 2020, \"counts\": 2, \"total_checkouts\": 50}, {\"MaterialType\": \"ER\", \"CheckoutYear\": 2021, \"counts\": 2, \"total_checkouts\": 46}, {\"MaterialType\": \"ER, SOUNDDISC\", \"CheckoutYear\": 2015, \"counts\": 1, \"total_checkouts\": 20}, {\"MaterialType\": \"ER, SOUNDDISC\", \"CheckoutYear\": 2016, \"counts\": 2, \"total_checkouts\": 119}, {\"MaterialType\": \"ER, SOUNDDISC\", \"CheckoutYear\": 2017, \"counts\": 6, \"total_checkouts\": 237}, {\"MaterialType\": \"ER, SOUNDDISC\", \"CheckoutYear\": 2018, \"counts\": 1, \"total_checkouts\": 21}, {\"MaterialType\": \"ER, VIDEODISC\", \"CheckoutYear\": 2019, \"counts\": 8, \"total_checkouts\": 251}, {\"MaterialType\": \"ER, VIDEODISC\", \"CheckoutYear\": 2020, \"counts\": 1, \"total_checkouts\": 24}, {\"MaterialType\": \"LARGEPRINT\", \"CheckoutYear\": 2015, \"counts\": 6, \"total_checkouts\": 209}, {\"MaterialType\": \"LARGEPRINT\", \"CheckoutYear\": 2017, \"counts\": 1, \"total_checkouts\": 24}, {\"MaterialType\": \"LARGEPRINT\", \"CheckoutYear\": 2018, \"counts\": 9, \"total_checkouts\": 229}, {\"MaterialType\": \"LARGEPRINT\", \"CheckoutYear\": 2019, \"counts\": 2, \"total_checkouts\": 45}, {\"MaterialType\": \"LARGEPRINT\", \"CheckoutYear\": 2021, \"counts\": 1, \"total_checkouts\": 23}, {\"MaterialType\": \"MAGAZINE\", \"CheckoutYear\": 2015, \"counts\": 1001, \"total_checkouts\": 61971}, {\"MaterialType\": \"MAGAZINE\", \"CheckoutYear\": 2016, \"counts\": 1033, \"total_checkouts\": 67493}, {\"MaterialType\": \"MAGAZINE\", \"CheckoutYear\": 2017, \"counts\": 1014, \"total_checkouts\": 63089}, {\"MaterialType\": \"MAGAZINE\", \"CheckoutYear\": 2018, \"counts\": 977, \"total_checkouts\": 70960}, {\"MaterialType\": \"MAGAZINE\", \"CheckoutYear\": 2019, \"counts\": 172, \"total_checkouts\": 20698}, {\"MaterialType\": \"MIXED\", \"CheckoutYear\": 2015, \"counts\": 24, \"total_checkouts\": 2950}, {\"MaterialType\": \"MIXED\", \"CheckoutYear\": 2016, \"counts\": 33, \"total_checkouts\": 9987}, {\"MaterialType\": \"MIXED\", \"CheckoutYear\": 2017, \"counts\": 32, \"total_checkouts\": 13484}, {\"MaterialType\": \"MIXED\", \"CheckoutYear\": 2018, \"counts\": 36, \"total_checkouts\": 24429}, {\"MaterialType\": \"MIXED\", \"CheckoutYear\": 2019, \"counts\": 46, \"total_checkouts\": 21592}, {\"MaterialType\": \"MIXED\", \"CheckoutYear\": 2020, \"counts\": 19, \"total_checkouts\": 8967}, {\"MaterialType\": \"MIXED\", \"CheckoutYear\": 2021, \"counts\": 5, \"total_checkouts\": 2105}, {\"MaterialType\": \"MOVIE\", \"CheckoutYear\": 2015, \"counts\": 143, \"total_checkouts\": 4591}, {\"MaterialType\": \"MOVIE\", \"CheckoutYear\": 2016, \"counts\": 172, \"total_checkouts\": 6011}, {\"MaterialType\": \"MOVIE\", \"CheckoutYear\": 2017, \"counts\": 198, \"total_checkouts\": 6375}, {\"MaterialType\": \"MOVIE\", \"CheckoutYear\": 2018, \"counts\": 83, \"total_checkouts\": 2536}, {\"MaterialType\": \"MUSIC\", \"CheckoutYear\": 2015, \"counts\": 105, \"total_checkouts\": 3683}, {\"MaterialType\": \"MUSIC\", \"CheckoutYear\": 2016, \"counts\": 97, \"total_checkouts\": 3578}, {\"MaterialType\": \"MUSIC\", \"CheckoutYear\": 2017, \"counts\": 125, \"total_checkouts\": 4595}, {\"MaterialType\": \"MUSIC\", \"CheckoutYear\": 2018, \"counts\": 54, \"total_checkouts\": 1983}, {\"MaterialType\": \"MUSIC\", \"CheckoutYear\": 2019, \"counts\": 1, \"total_checkouts\": 34}, {\"MaterialType\": \"REGPRINT\", \"CheckoutYear\": 2015, \"counts\": 26, \"total_checkouts\": 754}, {\"MaterialType\": \"REGPRINT\", \"CheckoutYear\": 2016, \"counts\": 46, \"total_checkouts\": 1390}, {\"MaterialType\": \"REGPRINT\", \"CheckoutYear\": 2017, \"counts\": 32, \"total_checkouts\": 1844}, {\"MaterialType\": \"REGPRINT\", \"CheckoutYear\": 2018, \"counts\": 114, \"total_checkouts\": 5739}, {\"MaterialType\": \"REGPRINT\", \"CheckoutYear\": 2019, \"counts\": 164, \"total_checkouts\": 7896}, {\"MaterialType\": \"REGPRINT\", \"CheckoutYear\": 2020, \"counts\": 36, \"total_checkouts\": 1977}, {\"MaterialType\": \"REGPRINT\", \"CheckoutYear\": 2021, \"counts\": 29, \"total_checkouts\": 1677}, {\"MaterialType\": \"SONG\", \"CheckoutYear\": 2015, \"counts\": 339, \"total_checkouts\": 17115}, {\"MaterialType\": \"SONG\", \"CheckoutYear\": 2016, \"counts\": 345, \"total_checkouts\": 13954}, {\"MaterialType\": \"SONG\", \"CheckoutYear\": 2017, \"counts\": 248, \"total_checkouts\": 8164}, {\"MaterialType\": \"SONG\", \"CheckoutYear\": 2018, \"counts\": 43, \"total_checkouts\": 1481}, {\"MaterialType\": \"SOUNDDISC\", \"CheckoutYear\": 2015, \"counts\": 2159, \"total_checkouts\": 70073}, {\"MaterialType\": \"SOUNDDISC\", \"CheckoutYear\": 2016, \"counts\": 1570, \"total_checkouts\": 50329}, {\"MaterialType\": \"SOUNDDISC\", \"CheckoutYear\": 2017, \"counts\": 1275, \"total_checkouts\": 39148}, {\"MaterialType\": \"SOUNDDISC\", \"CheckoutYear\": 2018, \"counts\": 899, \"total_checkouts\": 26753}, {\"MaterialType\": \"SOUNDDISC\", \"CheckoutYear\": 2019, \"counts\": 580, \"total_checkouts\": 16688}, {\"MaterialType\": \"SOUNDDISC\", \"CheckoutYear\": 2020, \"counts\": 98, \"total_checkouts\": 2783}, {\"MaterialType\": \"SOUNDDISC\", \"CheckoutYear\": 2021, \"counts\": 12, \"total_checkouts\": 348}, {\"MaterialType\": \"SOUNDDISC, VIDEODISC\", \"CheckoutYear\": 2015, \"counts\": 38, \"total_checkouts\": 1015}, {\"MaterialType\": \"SOUNDDISC, VIDEODISC\", \"CheckoutYear\": 2016, \"counts\": 21, \"total_checkouts\": 889}, {\"MaterialType\": \"SOUNDDISC, VIDEODISC\", \"CheckoutYear\": 2017, \"counts\": 24, \"total_checkouts\": 865}, {\"MaterialType\": \"SOUNDDISC, VIDEODISC\", \"CheckoutYear\": 2018, \"counts\": 6, \"total_checkouts\": 136}, {\"MaterialType\": \"SOUNDREC\", \"CheckoutYear\": 2015, \"counts\": 34, \"total_checkouts\": 836}, {\"MaterialType\": \"SOUNDREC\", \"CheckoutYear\": 2016, \"counts\": 26, \"total_checkouts\": 619}, {\"MaterialType\": \"SOUNDREC\", \"CheckoutYear\": 2017, \"counts\": 13, \"total_checkouts\": 325}, {\"MaterialType\": \"SOUNDREC\", \"CheckoutYear\": 2018, \"counts\": 6, \"total_checkouts\": 131}, {\"MaterialType\": \"SOUNDREC\", \"CheckoutYear\": 2019, \"counts\": 3, \"total_checkouts\": 62}, {\"MaterialType\": \"TELEVISION\", \"CheckoutYear\": 2015, \"counts\": 7, \"total_checkouts\": 275}, {\"MaterialType\": \"TELEVISION\", \"CheckoutYear\": 2016, \"counts\": 17, \"total_checkouts\": 441}, {\"MaterialType\": \"TELEVISION\", \"CheckoutYear\": 2017, \"counts\": 5, \"total_checkouts\": 169}, {\"MaterialType\": \"TELEVISION\", \"CheckoutYear\": 2018, \"counts\": 10, \"total_checkouts\": 292}, {\"MaterialType\": \"UNSPECIFIED\", \"CheckoutYear\": 2021, \"counts\": 2, \"total_checkouts\": 42}, {\"MaterialType\": \"VIDEODISC\", \"CheckoutYear\": 2015, \"counts\": 17230, \"total_checkouts\": 884973}, {\"MaterialType\": \"VIDEODISC\", \"CheckoutYear\": 2016, \"counts\": 16755, \"total_checkouts\": 848560}, {\"MaterialType\": \"VIDEODISC\", \"CheckoutYear\": 2017, \"counts\": 16006, \"total_checkouts\": 792739}, {\"MaterialType\": \"VIDEODISC\", \"CheckoutYear\": 2018, \"counts\": 11975, \"total_checkouts\": 587043}, {\"MaterialType\": \"VIDEODISC\", \"CheckoutYear\": 2019, \"counts\": 9596, \"total_checkouts\": 465175}, {\"MaterialType\": \"VIDEODISC\", \"CheckoutYear\": 2020, \"counts\": 2253, \"total_checkouts\": 102239}, {\"MaterialType\": \"VIDEODISC\", \"CheckoutYear\": 2021, \"counts\": 658, \"total_checkouts\": 23427}, {\"MaterialType\": \"VIDEOREC\", \"CheckoutYear\": 2017, \"counts\": 2, \"total_checkouts\": 45}, {\"MaterialType\": \"VISUAL\", \"CheckoutYear\": 2015, \"counts\": 13, \"total_checkouts\": 298}, {\"MaterialType\": \"VISUAL\", \"CheckoutYear\": 2016, \"counts\": 14, \"total_checkouts\": 350}, {\"MaterialType\": \"VISUAL\", \"CheckoutYear\": 2017, \"counts\": 4, \"total_checkouts\": 124}]}}, {\"mode\": \"vega-lite\"});\n",
       "</script>"
      ],
      "text/plain": [
       "alt.HConcatChart(...)"
      ]
     },
     "execution_count": 16,
     "metadata": {},
     "output_type": "execute_result"
    }
   ],
   "source": [
    "selection = alt.selection_multi(fields=['MaterialType'], bind='legend')\n",
    "chart = alt.Chart(seattle_material_grouped).mark_bar().encode(\n",
    "    x=alt.X('CheckoutYear:N'),\n",
    "    y=alt.Y('counts', axis=alt.Axis(title='Total Number of MaterialTypes by Year')),\n",
    "    color=alt.Color('MaterialType:N', scale=alt.Scale(scheme='tableau20')),\n",
    "    tooltip=['MaterialType', 'counts', 'CheckoutYear'],\n",
    "    opacity=alt.condition(selection, alt.value(1), alt.value(0.2))\n",
    ").add_selection(\n",
    "    selection\n",
    ").transform_filter(\n",
    "    alt.FieldOneOfPredicate(field='MaterialType', oneOf=['AUDIOBOOK', 'BOOK', 'EBOOK'])\n",
    ")\n",
    "\n",
    "chart1 = alt.Chart(seattle_materials_checkouts).mark_circle(size=100).encode(\n",
    "    x=alt.X('total_checkouts', axis=alt.Axis(title='Total Number of Checkouts by Year and MaterialType')),\n",
    "    y=alt.Y('counts', axis=alt.Axis(title='Total Number of MaterialTypes by Year')),\n",
    "    color=alt.Color('MaterialType:N', scale=alt.Scale(scheme='tableau20')),\n",
    "    tooltip=['MaterialType', 'counts', 'total_checkouts', 'CheckoutYear'],\n",
    "    opacity=alt.condition(selection, alt.value(1), alt.value(0.2))\n",
    ").add_selection(\n",
    "    selection\n",
    ").transform_filter(\n",
    "    alt.FieldOneOfPredicate(field='MaterialType', oneOf=['AUDIOBOOK', 'BOOK', 'EBOOK'])\n",
    ")\n",
    "alt.hconcat(chart, chart1).properties(title='Impact of Pandemic on Seattle Library Acquisitions and Patron Behavior')"
   ]
  },
  {
   "cell_type": "markdown",
   "id": "33d26e11",
   "metadata": {},
   "source": [
    "Our charts look pretty great now! But this was also a lot of material and tweaks made very quickly let's break it down a bit. "
   ]
  },
  {
   "cell_type": "markdown",
   "id": "1fbd4285",
   "metadata": {},
   "source": [
    "Time for some slides (https://docs.google.com/presentation/d/199J--Rv-1Y_J-2lu4aESluQ-OHVfoxgbtHaQLpmTa3k/edit?usp=sharing) and then a quick break\n",
    "\n",
    "***"
   ]
  },
  {
   "cell_type": "markdown",
   "id": "d46abdb7",
   "metadata": {},
   "source": [
    "### Group Work Time: Intro to Text Analysis and Working with Textual Data"
   ]
  },
  {
   "cell_type": "markdown",
   "id": "9970276a",
   "metadata": {},
   "source": [
    "We the exception of dates and facets we have know covered the majority of Altair's functionality 🥳! While those final two things are tricky, the remainder of our session is going to be devoted to getting you comfortable testing out Altair and reading it's documentation, along with some discussion of the basics of text analysis.\n",
    "\n",
    "Because we are such a large group and with some many levels of comfort with Python, today we're going to split into two groups (though you're welcome to bounce between them as well!)."
   ]
  },
  {
   "cell_type": "markdown",
   "id": "19ce0d8d",
   "metadata": {},
   "source": [
    "Both groups are going to focus for the remainder of our session on one of the most simple but powerful tools for text analysis - word counts! I know it sounds basic and it is, but it is also one the best ways to try out different ways of applying the Grammar of Graphics to composing charts.\n",
    "\n",
    "So both the homework exercise and the rest of today (unless we all magically fly through this) is going to be a dedicated to a chance to get your hands dirty.\n",
    "\n",
    "For the two groups:\n",
    "\n",
    "Group A is going to be doing a light introduction to text analysis foundations and then some code along examples with me of how we can use Altair to visualize word counts.\n",
    "\n",
    "Group B is going to be doing the same thing but at their own pace. So they'll be using either the datasets I've provided or ones they've found (feel free to bring in your own data too!) and then trying to load in the data, and start doing some word counts. \n",
    "\n",
    "The homework exercise is to load in at least one dataset and then create at least one \"good\" and one \"bad\" data visualization based on data from word counts. Remember good and bad are subjective here, but ideally you should be trying to communicate some argument with your visualization, so explain to us why one graph does it better than the other."
   ]
  },
  {
   "cell_type": "markdown",
   "id": "4bba5c84",
   "metadata": {},
   "source": [
    "BREAKOUT ROOM TIME (again feel free to float between rooms, but ideally you should be coding which ever room you are in!)\n",
    "\n",
    "***"
   ]
  },
  {
   "cell_type": "markdown",
   "id": "cf316f20",
   "metadata": {},
   "source": [
    "### Intro to Text Analysis and Working with Textual Data"
   ]
  },
  {
   "cell_type": "markdown",
   "id": "ab55e9e8",
   "metadata": {},
   "source": [
    "For the remainder of our session we are going to be working with a dataset I use with my students when teaching web-scraping and the history of DH.\n",
    "\n",
    "You can look at the code for web scraping in the `Pandas Web Scraping Humanist` notebook and find links to the exact webpages there as well.\n",
    "\n",
    "I realize Humanist has problems as listserv, but I like using it in Intro to DH courses because it's both not totally impossible to web scrape and full of messy text."
   ]
  },
  {
   "cell_type": "code",
   "execution_count": 418,
   "id": "b824ee47",
   "metadata": {},
   "outputs": [],
   "source": [
    "humanist_vols = pd.read_csv('web_scraped_humanist_listserv.csv')"
   ]
  },
  {
   "cell_type": "code",
   "execution_count": 419,
   "id": "661a0920",
   "metadata": {},
   "outputs": [],
   "source": [
    "### Let's inspect our dataframe"
   ]
  },
  {
   "cell_type": "markdown",
   "id": "d4256c92",
   "metadata": {},
   "source": [
    "##### Text Analysis with Python\n",
    "\n",
    "\n",
    "In Python, there exists a few libraries specifically designed to work with text data.\n",
    "\n",
    "- NLTK [https://www.nltk.org/](https://www.nltk.org/)\n",
    "\n",
    "- SPACY [https://spacy.io/](https://spacy.io/)\n",
    "\n",
    "- SCIKIT-LEARN [https://scikit-learn.org/stable/](https://scikit-learn.org/stable/)\n",
    "\n",
    "Each of these libraries has its own history, and some of what they provide overlaps. Here's a helpful chart outlining some of their pros and cons.\n",
    "\n",
    "![comparison](https://activewizards.com/content/blog/Comparison_of_Python_NLP_libraries/nlp-librares-python-prs-and-cons01.png)\n",
    "\n",
    "Ultimately, which library you choose to use depends on what you want to do with your data, but there's some general principles for text analysis that you should consider regardless of method."
   ]
  },
  {
   "cell_type": "markdown",
   "id": "663b9d7a",
   "metadata": {},
   "source": [
    "##### Word Counts and Zipf's Law\n",
    "\n",
    "The library NLTK has a helpful built in Class called `FreqDist` that takes a list of words and outputs their frequency in a corpus [http://www.nltk.org/api/nltk.html?highlight=freqdist](http://www.nltk.org/api/nltk.html?highlight=freqdist)\n",
    "\n",
    "Let's try it out with a subset of our data.\n",
    "\n",
    "```python\n",
    "from nltk import word_tokenize\n",
    "from nltk import FreqDist\n",
    "\n",
    "tokens = FreqDist(sum(humanist_vols[0:2]['text'].map(word_tokenize), []))\n",
    "tokens.plot(30)\n",
    "```"
   ]
  },
  {
   "cell_type": "code",
   "execution_count": 420,
   "id": "bd883412",
   "metadata": {},
   "outputs": [],
   "source": [
    "### Copy code here"
   ]
  },
  {
   "cell_type": "markdown",
   "id": "14b67558",
   "metadata": {},
   "source": [
    "We should get a graph that looks like this:\n",
    "![counts](images/counts.png).\n",
    "\n",
    "In this graph, if we had used all the words we would see this trend continue, like in the graph below.\n",
    "\n",
    "![zipf](https://miro.medium.com/max/6072/1*GTpckiHyFLe04pUMeYDYOg.png)\n",
    "\n",
    "This is “Zipf’s law:” the phenomenon means that the most common word is twice as common as the second most common word, three times as common as the third most common word, four times as common as the fourth most common word, and so forth.\n",
    "\n",
    "It is named after the linguist George Zipf, who first found the phenomenon while laboriously counting occurrences of individual words in Joyce’s Ulysses in 1935.\n",
    "\n",
    "This is a core textual phenomenon, and one you must constantly keep in mind: common words are very common indeed, and logarithmic scales are more often appropriate for plotting than linear ones. This pattern results from many dynamic systems where the “rich get richer,” which characterizes all sorts of systems in the humanities.\n",
    "\n",
    "[https://tedunderwood.com/2013/02/20/wordcounts-are-amazing/](https://tedunderwood.com/2013/02/20/wordcounts-are-amazing/)\n"
   ]
  },
  {
   "cell_type": "code",
   "execution_count": 422,
   "id": "1a7296f0",
   "metadata": {},
   "outputs": [],
   "source": [
    "# Let's try doing some word counting with the humanist listerv dataset"
   ]
  },
  {
   "cell_type": "code",
   "execution_count": 423,
   "id": "8ad9cddd",
   "metadata": {},
   "outputs": [
    {
     "data": {
      "text/plain": [
       "<AxesSubplot:>"
      ]
     },
     "execution_count": 423,
     "metadata": {},
     "output_type": "execute_result"
    },
    {
     "data": {
      "image/png": "[encoded data removed]",
      "text/plain": [
       "<Figure size 432x288 with 1 Axes>"
      ]
     },
     "metadata": {
      "needs_background": "light"
     },
     "output_type": "display_data"
    }
   ],
   "source": [
    "humanist_vols['humanities_computing_counts'] = humanist_vols.text.apply(lambda x: x.count('humanities computing'))\n",
    "humanist_vols['digital_humanities_counts'] = humanist_vols.text.apply(lambda x: x.count('digital humanities'))\n",
    "counts = humanist_vols[['digital_humanities_counts', 'humanities_computing_counts']]\n",
    "counts.plot()"
   ]
  },
  {
   "cell_type": "markdown",
   "id": "1134c02d",
   "metadata": {},
   "source": [
    "*What are some of the problems with this graph?*\n",
    "\n",
    "Let's try rebuilding it in Altair, what we want to represent on our `x` and `y` axis?\n",
    "\n",
    "Almost immediately you'll realize that we need to reshape our data to be able to show both counts.\n",
    "\n",
    "In data analysis, you will often need to transform your dataset from `wide to long` and `long to wide` (that is adding more rows vs more columns). Pandas has a number of ways to do that, and you can read more about it here [https://pandas.pydata.org/docs/user_guide/reshaping.html#reshaping-by-melt](https://pandas.pydata.org/docs/user_guide/reshaping.html#reshaping-by-melt).\n",
    "\n",
    "Today we're going to try melting our dataset to turn our `digital_humanities_counts` and `humanities_computing_counts` into rows.\n",
    "![https://pandas.pydata.org/docs/_images/reshaping_melt.png](https://pandas.pydata.org/docs/_images/reshaping_melt.png)\n",
    "\n",
    "So looking at the syntax, first we need to decide what our `id_vars` will be. Which raises the question of what else might we want to display in the graph? (*hint* think about time!)"
   ]
  },
  {
   "cell_type": "code",
   "execution_count": 424,
   "id": "2b9875a0",
   "metadata": {},
   "outputs": [],
   "source": [
    "# counts_melted = pd.melt(counts, id_vars=['dates'])"
   ]
  },
  {
   "cell_type": "markdown",
   "id": "a42f8426",
   "metadata": {},
   "source": [
    "Now in `counts_melted` we should have columns for `dates`, `variable`, and `value`, which contains our transformed columns.\n",
    "\n",
    "So let's try making our chart:"
   ]
  },
  {
   "cell_type": "code",
   "execution_count": 425,
   "id": "b2974a85",
   "metadata": {},
   "outputs": [],
   "source": [
    "# alt.Chart(counts_melted).mark_line().encode(\n",
    "#     x='dates',\n",
    "#     y='value',\n",
    "# )"
   ]
  },
  {
   "cell_type": "markdown",
   "id": "7079dd8f",
   "metadata": {},
   "source": [
    "This produces the following graph:\n",
    "\n",
    "![first](images/first_pass.png)\n",
    "\n",
    "*What do we need to add to our graph?* hint look below!\n",
    "\n",
    "![color](images/color.png)\n",
    "\n",
    "Let's try specifying the data types for Altair [https://altair-viz.github.io/user_guide/encoding.html#encoding-data-types](https://altair-viz.github.io/user_guide/encoding.html#encoding-data-types), which one would we use for each of our fields?"
   ]
  },
  {
   "cell_type": "markdown",
   "id": "4b32e394",
   "metadata": {},
   "source": [
    "*What happens if we try using the temporal encoding on dates?*\n",
    "\n",
    "One of the trickiest areas for data analysis is working with dates and times (think timezones and formatting!).\n",
    "\n",
    "Pandas has built-in functionality to handle dates so we're going to try and add a column to our dataframe that holds the year. Take a look at the docs [https://pandas.pydata.org/pandas-docs/stable/reference/api/pandas.to_datetime.html](https://pandas.pydata.org/pandas-docs/stable/reference/api/pandas.to_datetime.html)\n",
    "\n",
    "*How could we get the year for each of our rows?*"
   ]
  },
  {
   "cell_type": "code",
   "execution_count": 427,
   "id": "93ba743d",
   "metadata": {},
   "outputs": [],
   "source": [
    "# counts['year'] = counts.dates.str.split('-').str[0]\n",
    "# counts['year'] = pd.to_datetime(counts.year, format='%Y', errors='ignore')"
   ]
  },
  {
   "cell_type": "markdown",
   "id": "89e05c48",
   "metadata": {},
   "source": [
    "Now let's try rerunning our graph but using `year`.\n",
    "\n",
    "![final](images/final.png)\n",
    "\n",
    "Woot! We officially have recreated this graph and added more information that would be useful to a reader.\n",
    "\n",
    "There's a few more things we could add like click events or tooltip hovers, but for now let's try and get you started on the homework exercise!\n"
   ]
  },
  {
   "cell_type": "code",
   "execution_count": null,
   "id": "9696f279",
   "metadata": {},
   "outputs": [],
   "source": []
  }
 ],
 "metadata": {
  "kernelspec": {
   "display_name": "viz_hum_data_env",
   "language": "python",
   "name": "viz_hum_data_env"
  },
  "language_info": {
   "codemirror_mode": {
    "name": "ipython",
    "version": 3
   },
   "file_extension": ".py",
   "mimetype": "text/x-python",
   "name": "python",
   "nbconvert_exporter": "python",
   "pygments_lexer": "ipython3",
   "version": "3.9.5"
  }
 },
 "nbformat": 4,
 "nbformat_minor": 5
}
